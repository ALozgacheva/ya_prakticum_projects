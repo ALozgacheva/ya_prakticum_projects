{
 "cells": [
  {
   "cell_type": "markdown",
   "id": "9b4869df",
   "metadata": {
    "toc": true
   },
   "source": [
    "<h1>Содержание<span class=\"tocSkip\"></span></h1>\n",
    "<div class=\"toc\"><ul class=\"toc-item\"><li><span><a href=\"#Описание-исследования-и-цель-исследования\" data-toc-modified-id=\"Описание-исследования-и-цель-исследования-1\"><span class=\"toc-item-num\">1&nbsp;&nbsp;</span>Описание исследования и цель исследования</a></span></li><li><span><a href=\"#Изучение-данных-из-файлов\" data-toc-modified-id=\"Изучение-данных-из-файлов-2\"><span class=\"toc-item-num\">2&nbsp;&nbsp;</span>Изучение данных из файлов</a></span><ul class=\"toc-item\"><li><span><a href=\"#Вывод\" data-toc-modified-id=\"Вывод-2.1\"><span class=\"toc-item-num\">2.1&nbsp;&nbsp;</span>Вывод</a></span></li></ul></li><li><span><a href=\"#Предобработка-данных\" data-toc-modified-id=\"Предобработка-данных-3\"><span class=\"toc-item-num\">3&nbsp;&nbsp;</span>Предобработка данных</a></span><ul class=\"toc-item\"><li><span><a href=\"#Вывод\" data-toc-modified-id=\"Вывод-3.1\"><span class=\"toc-item-num\">3.1&nbsp;&nbsp;</span>Вывод</a></span></li></ul></li><li><span><a href=\"#Исследовательский-анализ-данных\" data-toc-modified-id=\"Исследовательский-анализ-данных-4\"><span class=\"toc-item-num\">4&nbsp;&nbsp;</span>Исследовательский анализ данных</a></span><ul class=\"toc-item\"><li><span><a href=\"#Распределение-по-годам-выпуска-игр\" data-toc-modified-id=\"Распределение-по-годам-выпуска-игр-4.1\"><span class=\"toc-item-num\">4.1&nbsp;&nbsp;</span>Распределение по годам выпуска игр</a></span></li><li><span><a href=\"#Распределение-продаж-по-платформам\" data-toc-modified-id=\"Распределение-продаж-по-платформам-4.2\"><span class=\"toc-item-num\">4.2&nbsp;&nbsp;</span>Распределение продаж по платформам</a></span></li><li><span><a href=\"#Ящик-с-усами-по-глобальным-продажам-игр\" data-toc-modified-id=\"Ящик-с-усами-по-глобальным-продажам-игр-4.3\"><span class=\"toc-item-num\">4.3&nbsp;&nbsp;</span>Ящик с усами по глобальным продажам игр</a></span></li><li><span><a href=\"#Влияние-на-продажи-отзывов-от-пользователей-и-критиков\" data-toc-modified-id=\"Влияние-на-продажи-отзывов-от-пользователей-и-критиков-4.4\"><span class=\"toc-item-num\">4.4&nbsp;&nbsp;</span>Влияние на продажи отзывов от пользователей и критиков</a></span></li><li><span><a href=\"#Общее-распределение-игр-по-жанрам\" data-toc-modified-id=\"Общее-распределение-игр-по-жанрам-4.5\"><span class=\"toc-item-num\">4.5&nbsp;&nbsp;</span>Общее распределение игр по жанрам</a></span></li><li><span><a href=\"#Вывод\" data-toc-modified-id=\"Вывод-4.6\"><span class=\"toc-item-num\">4.6&nbsp;&nbsp;</span>Вывод</a></span></li></ul></li><li><span><a href=\"#Портрет-пользователя-для-каждого-региона\" data-toc-modified-id=\"Портрет-пользователя-для-каждого-региона-5\"><span class=\"toc-item-num\">5&nbsp;&nbsp;</span>Портрет пользователя для каждого региона</a></span><ul class=\"toc-item\"><li><span><a href=\"#Портрет-пользователя-Северной-Америки\" data-toc-modified-id=\"Портрет-пользователя-Северной-Америки-5.1\"><span class=\"toc-item-num\">5.1&nbsp;&nbsp;</span>Портрет пользователя Северной Америки</a></span></li><li><span><a href=\"#Портрет-пользователя-Европы\" data-toc-modified-id=\"Портрет-пользователя-Европы-5.2\"><span class=\"toc-item-num\">5.2&nbsp;&nbsp;</span>Портрет пользователя Европы</a></span></li><li><span><a href=\"#Портрет-пользователя-из-Японии\" data-toc-modified-id=\"Портрет-пользователя-из-Японии-5.3\"><span class=\"toc-item-num\">5.3&nbsp;&nbsp;</span>Портрет пользователя из Японии</a></span></li><li><span><a href=\"#Вывод\" data-toc-modified-id=\"Вывод-5.4\"><span class=\"toc-item-num\">5.4&nbsp;&nbsp;</span>Вывод</a></span></li></ul></li><li><span><a href=\"#Проверка-гипотез\" data-toc-modified-id=\"Проверка-гипотез-6\"><span class=\"toc-item-num\">6&nbsp;&nbsp;</span>Проверка гипотез</a></span><ul class=\"toc-item\"><li><span><a href=\"#Средние-пользовательские-рейтинги-платформ-Xbox-One-и-PC-одинаковые\" data-toc-modified-id=\"Средние-пользовательские-рейтинги-платформ-Xbox-One-и-PC-одинаковые-6.1\"><span class=\"toc-item-num\">6.1&nbsp;&nbsp;</span>Средние пользовательские рейтинги платформ Xbox One и PC одинаковые</a></span></li><li><span><a href=\"#Средний-пользовательский-рейтинг-жанров-Action-и-Sports-различается\" data-toc-modified-id=\"Средний-пользовательский-рейтинг-жанров-Action-и-Sports-различается-6.2\"><span class=\"toc-item-num\">6.2&nbsp;&nbsp;</span>Средний пользовательский рейтинг жанров Action и Sports различается</a></span></li><li><span><a href=\"#Вывод\" data-toc-modified-id=\"Вывод-6.3\"><span class=\"toc-item-num\">6.3&nbsp;&nbsp;</span>Вывод</a></span></li></ul></li><li><span><a href=\"#Общий-вывод\" data-toc-modified-id=\"Общий-вывод-7\"><span class=\"toc-item-num\">7&nbsp;&nbsp;</span>Общий вывод</a></span></li></ul></div>"
   ]
  },
  {
   "cell_type": "markdown",
   "id": "1ad9e120",
   "metadata": {},
   "source": [
    "<h1>Анализ интернет-магазина компьютерных игр<span class=\"tocSkip\"></span></h1>\n",
    "<div class=\"toc\"><ul class=\"toc-item\"></ul></div>"
   ]
  },
  {
   "cell_type": "markdown",
   "id": "bf38e10b",
   "metadata": {},
   "source": [
    "## Описание исследования и цель исследования"
   ]
  },
  {
   "cell_type": "markdown",
   "id": "ee75a65a",
   "metadata": {},
   "source": [
    "Из открытых источников доступны исторические данные о продажах игр, оценки пользователей и экспертов, жанры и платформы (например, Xbox или PlayStation). \n",
    "\n",
    "Перед нами данные до 2016 года. Представим, что сейчас декабрь 2016 г., и мы планируем кампанию на 2017-й. Нужно отработать принцип работы с данными. Неважно, прогнозируем ли мы продажи на 2017 год по данным 2016-го или же 2027-й — по данным 2026 года.\n",
    "\n",
    "В наборе данных попадается аббревиатура ESRB (Entertainment Software Rating Board) — это ассоциация, определяющая возрастной рейтинг компьютерных игр. ESRB оценивает игровой контент и присваивает ему подходящую возрастную категорию, например, «Для взрослых», «Для детей младшего возраста» или «Для подростков».\n",
    "\n",
    "**Цель исследования** - выявить определяющие успешность игры закономерности. Это позволит сделать ставку на потенциально популярный продукт и спланировать рекламные кампании.\n",
    "\n",
    "**Ход исследования** - Данные получаем из файла `games.csv`. О качестве данных ничего не известно. Поэтому для начала понадобится обзор данных."
   ]
  },
  {
   "cell_type": "markdown",
   "id": "57172c28",
   "metadata": {},
   "source": [
    "## Изучение данных из файлов"
   ]
  },
  {
   "cell_type": "markdown",
   "id": "db65f887",
   "metadata": {},
   "source": [
    "Импортируем библиотеки:"
   ]
  },
  {
   "cell_type": "code",
   "execution_count": 1,
   "id": "ea9eba1e",
   "metadata": {},
   "outputs": [],
   "source": [
    "import pandas as pd\n",
    "import numpy as np\n",
    "import matplotlib.pyplot as plt\n",
    "import seaborn as sns\n",
    "import datetime as dt\n",
    "from scipy import stats as st\n",
    "import warnings\n",
    "warnings.filterwarnings(\"ignore\")"
   ]
  },
  {
   "cell_type": "markdown",
   "id": "712d240a",
   "metadata": {},
   "source": [
    "Читаем файл `games.csv`:"
   ]
  },
  {
   "cell_type": "code",
   "execution_count": 2,
   "id": "fab5cfd7",
   "metadata": {},
   "outputs": [],
   "source": [
    "try:\n",
    "    df = pd.read_csv('/datasets/games.csv') \n",
    "except:\n",
    "    df = pd.read_csv('/Users/i_am_redhead/Downloads/Yandex_Practicum/Projects/project_of_the_1_module/games.csv')"
   ]
  },
  {
   "cell_type": "markdown",
   "id": "af89d19f",
   "metadata": {},
   "source": [
    "Смотрим информацию о датафрейме, первые 5 строк, название столбцов, пропуски, основные статистические характеристики с помощью обзорной функции `info`, которая в виде аргумента принимает `df`: "
   ]
  },
  {
   "cell_type": "code",
   "execution_count": 3,
   "id": "765885e4",
   "metadata": {},
   "outputs": [
    {
     "name": "stdout",
     "output_type": "stream",
     "text": [
      "<class 'pandas.core.frame.DataFrame'>\n",
      "RangeIndex: 16715 entries, 0 to 16714\n",
      "Data columns (total 11 columns):\n",
      " #   Column           Non-Null Count  Dtype  \n",
      "---  ------           --------------  -----  \n",
      " 0   Name             16713 non-null  object \n",
      " 1   Platform         16715 non-null  object \n",
      " 2   Year_of_Release  16446 non-null  float64\n",
      " 3   Genre            16713 non-null  object \n",
      " 4   NA_sales         16715 non-null  float64\n",
      " 5   EU_sales         16715 non-null  float64\n",
      " 6   JP_sales         16715 non-null  float64\n",
      " 7   Other_sales      16715 non-null  float64\n",
      " 8   Critic_Score     8137 non-null   float64\n",
      " 9   User_Score       10014 non-null  object \n",
      " 10  Rating           9949 non-null   object \n",
      "dtypes: float64(6), object(5)\n",
      "memory usage: 1.4+ MB\n"
     ]
    },
    {
     "data": {
      "text/html": [
       "<div>\n",
       "<style scoped>\n",
       "    .dataframe tbody tr th:only-of-type {\n",
       "        vertical-align: middle;\n",
       "    }\n",
       "\n",
       "    .dataframe tbody tr th {\n",
       "        vertical-align: top;\n",
       "    }\n",
       "\n",
       "    .dataframe thead th {\n",
       "        text-align: right;\n",
       "    }\n",
       "</style>\n",
       "<table border=\"1\" class=\"dataframe\">\n",
       "  <thead>\n",
       "    <tr style=\"text-align: right;\">\n",
       "      <th></th>\n",
       "      <th>Name</th>\n",
       "      <th>Platform</th>\n",
       "      <th>Year_of_Release</th>\n",
       "      <th>Genre</th>\n",
       "      <th>NA_sales</th>\n",
       "      <th>EU_sales</th>\n",
       "      <th>JP_sales</th>\n",
       "      <th>Other_sales</th>\n",
       "      <th>Critic_Score</th>\n",
       "      <th>User_Score</th>\n",
       "      <th>Rating</th>\n",
       "    </tr>\n",
       "  </thead>\n",
       "  <tbody>\n",
       "    <tr>\n",
       "      <th>0</th>\n",
       "      <td>Wii Sports</td>\n",
       "      <td>Wii</td>\n",
       "      <td>2006.0</td>\n",
       "      <td>Sports</td>\n",
       "      <td>41.36</td>\n",
       "      <td>28.96</td>\n",
       "      <td>3.77</td>\n",
       "      <td>8.45</td>\n",
       "      <td>76.0</td>\n",
       "      <td>8</td>\n",
       "      <td>E</td>\n",
       "    </tr>\n",
       "    <tr>\n",
       "      <th>1</th>\n",
       "      <td>Super Mario Bros.</td>\n",
       "      <td>NES</td>\n",
       "      <td>1985.0</td>\n",
       "      <td>Platform</td>\n",
       "      <td>29.08</td>\n",
       "      <td>3.58</td>\n",
       "      <td>6.81</td>\n",
       "      <td>0.77</td>\n",
       "      <td>NaN</td>\n",
       "      <td>NaN</td>\n",
       "      <td>NaN</td>\n",
       "    </tr>\n",
       "    <tr>\n",
       "      <th>2</th>\n",
       "      <td>Mario Kart Wii</td>\n",
       "      <td>Wii</td>\n",
       "      <td>2008.0</td>\n",
       "      <td>Racing</td>\n",
       "      <td>15.68</td>\n",
       "      <td>12.76</td>\n",
       "      <td>3.79</td>\n",
       "      <td>3.29</td>\n",
       "      <td>82.0</td>\n",
       "      <td>8.3</td>\n",
       "      <td>E</td>\n",
       "    </tr>\n",
       "    <tr>\n",
       "      <th>3</th>\n",
       "      <td>Wii Sports Resort</td>\n",
       "      <td>Wii</td>\n",
       "      <td>2009.0</td>\n",
       "      <td>Sports</td>\n",
       "      <td>15.61</td>\n",
       "      <td>10.93</td>\n",
       "      <td>3.28</td>\n",
       "      <td>2.95</td>\n",
       "      <td>80.0</td>\n",
       "      <td>8</td>\n",
       "      <td>E</td>\n",
       "    </tr>\n",
       "    <tr>\n",
       "      <th>4</th>\n",
       "      <td>Pokemon Red/Pokemon Blue</td>\n",
       "      <td>GB</td>\n",
       "      <td>1996.0</td>\n",
       "      <td>Role-Playing</td>\n",
       "      <td>11.27</td>\n",
       "      <td>8.89</td>\n",
       "      <td>10.22</td>\n",
       "      <td>1.00</td>\n",
       "      <td>NaN</td>\n",
       "      <td>NaN</td>\n",
       "      <td>NaN</td>\n",
       "    </tr>\n",
       "  </tbody>\n",
       "</table>\n",
       "</div>"
      ],
      "text/plain": [
       "                       Name Platform  Year_of_Release         Genre  NA_sales  \\\n",
       "0                Wii Sports      Wii           2006.0        Sports     41.36   \n",
       "1         Super Mario Bros.      NES           1985.0      Platform     29.08   \n",
       "2            Mario Kart Wii      Wii           2008.0        Racing     15.68   \n",
       "3         Wii Sports Resort      Wii           2009.0        Sports     15.61   \n",
       "4  Pokemon Red/Pokemon Blue       GB           1996.0  Role-Playing     11.27   \n",
       "\n",
       "   EU_sales  JP_sales  Other_sales  Critic_Score User_Score Rating  \n",
       "0     28.96      3.77         8.45          76.0          8      E  \n",
       "1      3.58      6.81         0.77           NaN        NaN    NaN  \n",
       "2     12.76      3.79         3.29          82.0        8.3      E  \n",
       "3     10.93      3.28         2.95          80.0          8      E  \n",
       "4      8.89     10.22         1.00           NaN        NaN    NaN  "
      ]
     },
     "metadata": {},
     "output_type": "display_data"
    },
    {
     "name": "stdout",
     "output_type": "stream",
     "text": [
      "Index(['Name', 'Platform', 'Year_of_Release', 'Genre', 'NA_sales', 'EU_sales',\n",
      "       'JP_sales', 'Other_sales', 'Critic_Score', 'User_Score', 'Rating'],\n",
      "      dtype='object')\n"
     ]
    },
    {
     "data": {
      "text/html": [
       "<div>\n",
       "<style scoped>\n",
       "    .dataframe tbody tr th:only-of-type {\n",
       "        vertical-align: middle;\n",
       "    }\n",
       "\n",
       "    .dataframe tbody tr th {\n",
       "        vertical-align: top;\n",
       "    }\n",
       "\n",
       "    .dataframe thead th {\n",
       "        text-align: right;\n",
       "    }\n",
       "</style>\n",
       "<table border=\"1\" class=\"dataframe\">\n",
       "  <thead>\n",
       "    <tr style=\"text-align: right;\">\n",
       "      <th></th>\n",
       "      <th>Year_of_Release</th>\n",
       "      <th>NA_sales</th>\n",
       "      <th>EU_sales</th>\n",
       "      <th>JP_sales</th>\n",
       "      <th>Other_sales</th>\n",
       "      <th>Critic_Score</th>\n",
       "    </tr>\n",
       "  </thead>\n",
       "  <tbody>\n",
       "    <tr>\n",
       "      <th>count</th>\n",
       "      <td>16446.000000</td>\n",
       "      <td>16715.000000</td>\n",
       "      <td>16715.000000</td>\n",
       "      <td>16715.000000</td>\n",
       "      <td>16715.000000</td>\n",
       "      <td>8137.000000</td>\n",
       "    </tr>\n",
       "    <tr>\n",
       "      <th>mean</th>\n",
       "      <td>2006.484616</td>\n",
       "      <td>0.263377</td>\n",
       "      <td>0.145060</td>\n",
       "      <td>0.077617</td>\n",
       "      <td>0.047342</td>\n",
       "      <td>68.967679</td>\n",
       "    </tr>\n",
       "    <tr>\n",
       "      <th>std</th>\n",
       "      <td>5.877050</td>\n",
       "      <td>0.813604</td>\n",
       "      <td>0.503339</td>\n",
       "      <td>0.308853</td>\n",
       "      <td>0.186731</td>\n",
       "      <td>13.938165</td>\n",
       "    </tr>\n",
       "    <tr>\n",
       "      <th>min</th>\n",
       "      <td>1980.000000</td>\n",
       "      <td>0.000000</td>\n",
       "      <td>0.000000</td>\n",
       "      <td>0.000000</td>\n",
       "      <td>0.000000</td>\n",
       "      <td>13.000000</td>\n",
       "    </tr>\n",
       "    <tr>\n",
       "      <th>25%</th>\n",
       "      <td>2003.000000</td>\n",
       "      <td>0.000000</td>\n",
       "      <td>0.000000</td>\n",
       "      <td>0.000000</td>\n",
       "      <td>0.000000</td>\n",
       "      <td>60.000000</td>\n",
       "    </tr>\n",
       "    <tr>\n",
       "      <th>50%</th>\n",
       "      <td>2007.000000</td>\n",
       "      <td>0.080000</td>\n",
       "      <td>0.020000</td>\n",
       "      <td>0.000000</td>\n",
       "      <td>0.010000</td>\n",
       "      <td>71.000000</td>\n",
       "    </tr>\n",
       "    <tr>\n",
       "      <th>75%</th>\n",
       "      <td>2010.000000</td>\n",
       "      <td>0.240000</td>\n",
       "      <td>0.110000</td>\n",
       "      <td>0.040000</td>\n",
       "      <td>0.030000</td>\n",
       "      <td>79.000000</td>\n",
       "    </tr>\n",
       "    <tr>\n",
       "      <th>max</th>\n",
       "      <td>2016.000000</td>\n",
       "      <td>41.360000</td>\n",
       "      <td>28.960000</td>\n",
       "      <td>10.220000</td>\n",
       "      <td>10.570000</td>\n",
       "      <td>98.000000</td>\n",
       "    </tr>\n",
       "  </tbody>\n",
       "</table>\n",
       "</div>"
      ],
      "text/plain": [
       "       Year_of_Release      NA_sales      EU_sales      JP_sales  \\\n",
       "count     16446.000000  16715.000000  16715.000000  16715.000000   \n",
       "mean       2006.484616      0.263377      0.145060      0.077617   \n",
       "std           5.877050      0.813604      0.503339      0.308853   \n",
       "min        1980.000000      0.000000      0.000000      0.000000   \n",
       "25%        2003.000000      0.000000      0.000000      0.000000   \n",
       "50%        2007.000000      0.080000      0.020000      0.000000   \n",
       "75%        2010.000000      0.240000      0.110000      0.040000   \n",
       "max        2016.000000     41.360000     28.960000     10.220000   \n",
       "\n",
       "        Other_sales  Critic_Score  \n",
       "count  16715.000000   8137.000000  \n",
       "mean       0.047342     68.967679  \n",
       "std        0.186731     13.938165  \n",
       "min        0.000000     13.000000  \n",
       "25%        0.000000     60.000000  \n",
       "50%        0.010000     71.000000  \n",
       "75%        0.030000     79.000000  \n",
       "max       10.570000     98.000000  "
      ]
     },
     "metadata": {},
     "output_type": "display_data"
    },
    {
     "data": {
      "text/html": [
       "<style type=\"text/css\">\n",
       "</style>\n",
       "<table id=\"T_acb22_\">\n",
       "  <thead>\n",
       "    <tr>\n",
       "      <th class=\"blank level0\" >&nbsp;</th>\n",
       "      <th class=\"col_heading level0 col0\" >NaNs,%</th>\n",
       "    </tr>\n",
       "  </thead>\n",
       "  <tbody>\n",
       "    <tr>\n",
       "      <th id=\"T_acb22_level0_row0\" class=\"row_heading level0 row0\" >Name</th>\n",
       "      <td id=\"T_acb22_row0_col0\" class=\"data row0 col0\" >0.01</td>\n",
       "    </tr>\n",
       "    <tr>\n",
       "      <th id=\"T_acb22_level0_row1\" class=\"row_heading level0 row1\" >Platform</th>\n",
       "      <td id=\"T_acb22_row1_col0\" class=\"data row1 col0\" >0.00</td>\n",
       "    </tr>\n",
       "    <tr>\n",
       "      <th id=\"T_acb22_level0_row2\" class=\"row_heading level0 row2\" >Year_of_Release</th>\n",
       "      <td id=\"T_acb22_row2_col0\" class=\"data row2 col0\" >1.61</td>\n",
       "    </tr>\n",
       "    <tr>\n",
       "      <th id=\"T_acb22_level0_row3\" class=\"row_heading level0 row3\" >Genre</th>\n",
       "      <td id=\"T_acb22_row3_col0\" class=\"data row3 col0\" >0.01</td>\n",
       "    </tr>\n",
       "    <tr>\n",
       "      <th id=\"T_acb22_level0_row4\" class=\"row_heading level0 row4\" >NA_sales</th>\n",
       "      <td id=\"T_acb22_row4_col0\" class=\"data row4 col0\" >0.00</td>\n",
       "    </tr>\n",
       "    <tr>\n",
       "      <th id=\"T_acb22_level0_row5\" class=\"row_heading level0 row5\" >EU_sales</th>\n",
       "      <td id=\"T_acb22_row5_col0\" class=\"data row5 col0\" >0.00</td>\n",
       "    </tr>\n",
       "    <tr>\n",
       "      <th id=\"T_acb22_level0_row6\" class=\"row_heading level0 row6\" >JP_sales</th>\n",
       "      <td id=\"T_acb22_row6_col0\" class=\"data row6 col0\" >0.00</td>\n",
       "    </tr>\n",
       "    <tr>\n",
       "      <th id=\"T_acb22_level0_row7\" class=\"row_heading level0 row7\" >Other_sales</th>\n",
       "      <td id=\"T_acb22_row7_col0\" class=\"data row7 col0\" >0.00</td>\n",
       "    </tr>\n",
       "    <tr>\n",
       "      <th id=\"T_acb22_level0_row8\" class=\"row_heading level0 row8\" >Critic_Score</th>\n",
       "      <td id=\"T_acb22_row8_col0\" class=\"data row8 col0\" >51.32</td>\n",
       "    </tr>\n",
       "    <tr>\n",
       "      <th id=\"T_acb22_level0_row9\" class=\"row_heading level0 row9\" >User_Score</th>\n",
       "      <td id=\"T_acb22_row9_col0\" class=\"data row9 col0\" >40.09</td>\n",
       "    </tr>\n",
       "    <tr>\n",
       "      <th id=\"T_acb22_level0_row10\" class=\"row_heading level0 row10\" >Rating</th>\n",
       "      <td id=\"T_acb22_row10_col0\" class=\"data row10 col0\" >40.48</td>\n",
       "    </tr>\n",
       "  </tbody>\n",
       "</table>\n"
      ],
      "text/plain": [
       "<pandas.io.formats.style.Styler at 0x7fb87ede3f40>"
      ]
     },
     "metadata": {},
     "output_type": "display_data"
    },
    {
     "name": "stdout",
     "output_type": "stream",
     "text": [
      "None\n"
     ]
    }
   ],
   "source": [
    "def info(df):\n",
    "    df.info()\n",
    "    display(df.head())\n",
    "    print(df.columns)\n",
    "    display(df.describe())\n",
    "    display(pd.DataFrame(round((df.isna().mean()*100), 2), columns=['NaNs,%']).style.format('{:.2f}'))\n",
    "print(info(df))"
   ]
  },
  {
   "cell_type": "markdown",
   "id": "5ce33587",
   "metadata": {},
   "source": [
    "Итак, информация, доступная из датафрейма `df`:\n",
    "\n",
    "* `Name` — название игры\n",
    "* `Platform` — платформа\n",
    "* `Year_of_Release` — год выпуска\n",
    "* `Genre` — жанр игры\n",
    "* `NA_sales` — продажи в Северной Америке (миллионы проданных копий)\n",
    "* `EU_sales\t` — продажи в Европе (миллионы проданных копий)\n",
    "* `JP_sales` — продажи в Японии (миллионы проданных копий)\n",
    "* `Other_players` — продажи в других странах (миллионы проданных копий)\n",
    "* `Critic_Score` — оценка критиков (максимум 100)\n",
    "* `User_Score` — оценка пользователей (максимум 10)\n",
    "* `Rating` — рейтинг от организации ESRB"
   ]
  },
  {
   "cell_type": "markdown",
   "id": "f981ba89",
   "metadata": {},
   "source": [
    "Датафрейм хранит `16715` строк и `11` колонок, тип данных - `float64(6 столбцов)`, `object(5 столбцов)`.\n",
    "\n",
    "По обзору данных видно, что в них есть ошибки, пропуски. Составим приблизителный план действий по каждому столбцу:\n",
    "\n",
    "- Все названия столбцов нужно привести к нижнему регистру\n",
    "- `Name`: 0,01% пропусков (значение `NaN` в 2 строках) \n",
    "- `Year_of_Release`: тип данных `float` заменить на `int`, есть 1,61% пропусков\n",
    "- `Genre` - 0,01% пропусков\n",
    "- `Critic_Score` - 51,31% пропусков\n",
    "- `User_Score` - 40,09% пропусков\n",
    "- `Rating` - 40,48% пропусков"
   ]
  },
  {
   "cell_type": "markdown",
   "id": "bd049ec9",
   "metadata": {},
   "source": [
    "### Вывод"
   ]
  },
  {
   "cell_type": "markdown",
   "id": "46197034",
   "metadata": {},
   "source": [
    "<div style=\"border:solid orange 2px; padding: 20px\">\n",
    "\n",
    "Итак, мы имеем датафрейм `df`, который хранит данные о продажах игр, оценки пользователей и экспертов, жанры игр, платформы.\n",
    "\n",
    "В предобработке данных следует привести названия столбцов к нижнему регистру, поработать с пропусками, посмотреть дубликаты и аномалии."
   ]
  },
  {
   "cell_type": "markdown",
   "id": "5aa1f131",
   "metadata": {},
   "source": [
    "## Предобработка данных"
   ]
  },
  {
   "cell_type": "markdown",
   "id": "93b737e7",
   "metadata": {},
   "source": [
    "Начнем с приведению названий столбцов к нижнему регистру: воспользуемся методом `str.lower()`"
   ]
  },
  {
   "cell_type": "code",
   "execution_count": 4,
   "id": "12926685",
   "metadata": {},
   "outputs": [],
   "source": [
    "df.columns = df.columns.str.lower()"
   ]
  },
  {
   "cell_type": "markdown",
   "id": "7b748321",
   "metadata": {},
   "source": [
    "Посмотрим на **явные дубликаты** в датафрейме:"
   ]
  },
  {
   "cell_type": "code",
   "execution_count": 5,
   "id": "3fe6a698",
   "metadata": {},
   "outputs": [
    {
     "data": {
      "text/plain": [
       "0"
      ]
     },
     "execution_count": 5,
     "metadata": {},
     "output_type": "execute_result"
    }
   ],
   "source": [
    "df.duplicated().sum()"
   ]
  },
  {
   "cell_type": "markdown",
   "id": "fa60487f",
   "metadata": {},
   "source": [
    "Явных дубликатов нет. Начинаем работу с проблемными столбцами. Смотрим на пропуски в столбце `name`:"
   ]
  },
  {
   "cell_type": "code",
   "execution_count": 6,
   "id": "100f7647",
   "metadata": {},
   "outputs": [
    {
     "data": {
      "text/html": [
       "<div>\n",
       "<style scoped>\n",
       "    .dataframe tbody tr th:only-of-type {\n",
       "        vertical-align: middle;\n",
       "    }\n",
       "\n",
       "    .dataframe tbody tr th {\n",
       "        vertical-align: top;\n",
       "    }\n",
       "\n",
       "    .dataframe thead th {\n",
       "        text-align: right;\n",
       "    }\n",
       "</style>\n",
       "<table border=\"1\" class=\"dataframe\">\n",
       "  <thead>\n",
       "    <tr style=\"text-align: right;\">\n",
       "      <th></th>\n",
       "      <th>name</th>\n",
       "      <th>platform</th>\n",
       "      <th>year_of_release</th>\n",
       "      <th>genre</th>\n",
       "      <th>na_sales</th>\n",
       "      <th>eu_sales</th>\n",
       "      <th>jp_sales</th>\n",
       "      <th>other_sales</th>\n",
       "      <th>critic_score</th>\n",
       "      <th>user_score</th>\n",
       "      <th>rating</th>\n",
       "    </tr>\n",
       "  </thead>\n",
       "  <tbody>\n",
       "    <tr>\n",
       "      <th>659</th>\n",
       "      <td>NaN</td>\n",
       "      <td>GEN</td>\n",
       "      <td>1993.0</td>\n",
       "      <td>NaN</td>\n",
       "      <td>1.78</td>\n",
       "      <td>0.53</td>\n",
       "      <td>0.00</td>\n",
       "      <td>0.08</td>\n",
       "      <td>NaN</td>\n",
       "      <td>NaN</td>\n",
       "      <td>NaN</td>\n",
       "    </tr>\n",
       "    <tr>\n",
       "      <th>14244</th>\n",
       "      <td>NaN</td>\n",
       "      <td>GEN</td>\n",
       "      <td>1993.0</td>\n",
       "      <td>NaN</td>\n",
       "      <td>0.00</td>\n",
       "      <td>0.00</td>\n",
       "      <td>0.03</td>\n",
       "      <td>0.00</td>\n",
       "      <td>NaN</td>\n",
       "      <td>NaN</td>\n",
       "      <td>NaN</td>\n",
       "    </tr>\n",
       "  </tbody>\n",
       "</table>\n",
       "</div>"
      ],
      "text/plain": [
       "      name platform  year_of_release genre  na_sales  eu_sales  jp_sales  \\\n",
       "659    NaN      GEN           1993.0   NaN      1.78      0.53      0.00   \n",
       "14244  NaN      GEN           1993.0   NaN      0.00      0.00      0.03   \n",
       "\n",
       "       other_sales  critic_score user_score rating  \n",
       "659           0.08           NaN        NaN    NaN  \n",
       "14244         0.00           NaN        NaN    NaN  "
      ]
     },
     "execution_count": 6,
     "metadata": {},
     "output_type": "execute_result"
    }
   ],
   "source": [
    "df[df['name'].isna()]"
   ]
  },
  {
   "cell_type": "markdown",
   "id": "4deb290b",
   "metadata": {},
   "source": [
    "Удалим эти строки (заменить их мы не сможем) - сразу избавимся от 0,01% пропусков в столбце `genre`(т.к. пропуски совпадают):"
   ]
  },
  {
   "cell_type": "code",
   "execution_count": 7,
   "id": "42e34242",
   "metadata": {},
   "outputs": [],
   "source": [
    "df.dropna(subset=['name'], inplace=True)"
   ]
  },
  {
   "cell_type": "code",
   "execution_count": 8,
   "id": "95eb0878",
   "metadata": {},
   "outputs": [
    {
     "data": {
      "text/html": [
       "<div>\n",
       "<style scoped>\n",
       "    .dataframe tbody tr th:only-of-type {\n",
       "        vertical-align: middle;\n",
       "    }\n",
       "\n",
       "    .dataframe tbody tr th {\n",
       "        vertical-align: top;\n",
       "    }\n",
       "\n",
       "    .dataframe thead th {\n",
       "        text-align: right;\n",
       "    }\n",
       "</style>\n",
       "<table border=\"1\" class=\"dataframe\">\n",
       "  <thead>\n",
       "    <tr style=\"text-align: right;\">\n",
       "      <th></th>\n",
       "      <th>name</th>\n",
       "      <th>platform</th>\n",
       "      <th>year_of_release</th>\n",
       "      <th>genre</th>\n",
       "      <th>na_sales</th>\n",
       "      <th>eu_sales</th>\n",
       "      <th>jp_sales</th>\n",
       "      <th>other_sales</th>\n",
       "      <th>critic_score</th>\n",
       "      <th>user_score</th>\n",
       "      <th>rating</th>\n",
       "    </tr>\n",
       "  </thead>\n",
       "  <tbody>\n",
       "  </tbody>\n",
       "</table>\n",
       "</div>"
      ],
      "text/plain": [
       "Empty DataFrame\n",
       "Columns: [name, platform, year_of_release, genre, na_sales, eu_sales, jp_sales, other_sales, critic_score, user_score, rating]\n",
       "Index: []"
      ]
     },
     "execution_count": 8,
     "metadata": {},
     "output_type": "execute_result"
    }
   ],
   "source": [
    "df[df['name'].isna()]\n",
    "#проверка"
   ]
  },
  {
   "cell_type": "markdown",
   "id": "85412ab4",
   "metadata": {},
   "source": [
    "Столбец `year_of_release`: удалим пропуски в данных (их всего 1,61%, на исследование не повлияет, а заменить на среднее/медиану не можем), далее переведем данные столбца в int:  \n",
    "**перевод данных в тип `datetime`не делаем, поскольку при таком переводе данные будут иметь вид `2006-01-01`, а при извлечении года тип данных станет `int`, поэтому сразу переводим в `int`*"
   ]
  },
  {
   "cell_type": "code",
   "execution_count": 9,
   "id": "48ec87ee",
   "metadata": {},
   "outputs": [],
   "source": [
    "df.dropna(subset=['year_of_release'], inplace=True)\n",
    "#удаление строк с NaN\n",
    "df['year_of_release'] = df['year_of_release'].astype('int')\n",
    "#изменение типа данных"
   ]
  },
  {
   "cell_type": "markdown",
   "id": "6000fd82",
   "metadata": {},
   "source": [
    "Пропуски в столбцах `name`, `genre` и `year_of_release` можно объяснить потерей данных при работе с данными.  \n",
    "\n",
    "Переходим к пропускам в столбцах `critic_score`, `user_score` и `rating`. Чтобы решить проблему с заменой пропусков, посмотрим на уникальные значения этих столбцов методом `unique`"
   ]
  },
  {
   "cell_type": "code",
   "execution_count": 10,
   "id": "369e0233",
   "metadata": {},
   "outputs": [
    {
     "data": {
      "text/plain": [
       "array(['8', nan, '8.3', '8.5', '6.6', '8.4', '8.6', '7.7', '6.3', '7.4',\n",
       "       '8.2', '9', '7.9', '8.1', '8.7', '7.1', '3.4', '5.3', '4.8', '3.2',\n",
       "       '8.9', '6.4', '7.8', '7.5', '2.6', '7.2', '9.2', '7', '7.3', '4.3',\n",
       "       '7.6', '5.7', '5', '9.1', '6.5', 'tbd', '8.8', '6.9', '9.4', '6.8',\n",
       "       '6.1', '6.7', '5.4', '4', '4.9', '4.5', '9.3', '6.2', '4.2', '6',\n",
       "       '3.7', '4.1', '5.8', '5.6', '5.5', '4.4', '4.6', '5.9', '3.9',\n",
       "       '3.1', '2.9', '5.2', '3.3', '4.7', '5.1', '3.5', '2.5', '1.9', '3',\n",
       "       '2.7', '2.2', '2', '9.5', '2.1', '3.6', '2.8', '1.8', '3.8', '0',\n",
       "       '1.6', '9.6', '2.4', '1.7', '1.1', '0.3', '1.5', '0.7', '1.2',\n",
       "       '2.3', '0.5', '1.3', '0.2', '0.6', '1.4', '0.9', '1', '9.7'],\n",
       "      dtype=object)"
      ]
     },
     "execution_count": 10,
     "metadata": {},
     "output_type": "execute_result"
    }
   ],
   "source": [
    "df['user_score'].unique()\n",
    "#смотрим уникальные значения столбца user_score"
   ]
  },
  {
   "cell_type": "markdown",
   "id": "2c9eb047",
   "metadata": {},
   "source": [
    "Видим непонятное значение`tbd`. Интернет сообщает, что `TBD-это аббревиатура для определения, обычно описывающая то, что еще не помечено, не решено.` То есть по сути - это отсутствие значения на данный момент. Посмотрим сколько строк с таким значением `tbd` есть в столбце `user_score`:"
   ]
  },
  {
   "cell_type": "code",
   "execution_count": 11,
   "id": "d80326bb",
   "metadata": {},
   "outputs": [
    {
     "data": {
      "text/plain": [
       "2376"
      ]
     },
     "execution_count": 11,
     "metadata": {},
     "output_type": "execute_result"
    }
   ],
   "source": [
    "df[df['user_score'] == 'tbd']['user_score'].count()"
   ]
  },
  {
   "cell_type": "code",
   "execution_count": 12,
   "id": "337cb224",
   "metadata": {},
   "outputs": [
    {
     "data": {
      "text/plain": [
       "count     9839\n",
       "unique      96\n",
       "top        tbd\n",
       "freq      2376\n",
       "Name: user_score, dtype: object"
      ]
     },
     "execution_count": 12,
     "metadata": {},
     "output_type": "execute_result"
    }
   ],
   "source": [
    "df['user_score'].describe()"
   ]
  },
  {
   "cell_type": "markdown",
   "id": "e1c88ac8",
   "metadata": {},
   "source": [
    "`tbd` самое часто встречающееся значение в столбце! Отрезать не можем. На 0 заменить тоже, потому что \"0\" - встречается среди значений, как оценка от пользователей (замена на 0 исказит картину). Заменяем `tbd` на `NaN`, чтобы опотом их заменить на общий \"маркер\" для `critic_score`, `user_score` и `rating`."
   ]
  },
  {
   "cell_type": "code",
   "execution_count": 13,
   "id": "be7fc431",
   "metadata": {},
   "outputs": [
    {
     "data": {
      "text/plain": [
       "0"
      ]
     },
     "execution_count": 13,
     "metadata": {},
     "output_type": "execute_result"
    }
   ],
   "source": [
    "df['user_score'] = df['user_score'].replace('tbd', np.nan)\n",
    "#заменяем все tbd на NaN\n",
    "df[df['user_score'] == 'tbd']['user_score'].count()\n",
    "#проверяем, что в столбце не осталось значения tbd"
   ]
  },
  {
   "cell_type": "markdown",
   "id": "f1ea8039",
   "metadata": {},
   "source": [
    "Теперь вернемся к уникальным значениям столбцов critic_score и rating:"
   ]
  },
  {
   "cell_type": "code",
   "execution_count": 14,
   "id": "7cba39a4",
   "metadata": {},
   "outputs": [
    {
     "data": {
      "text/plain": [
       "array([76., nan, 82., 80., 89., 58., 87., 91., 61., 97., 95., 77., 88.,\n",
       "       83., 94., 93., 85., 86., 98., 96., 90., 84., 73., 74., 78., 92.,\n",
       "       71., 72., 68., 62., 49., 67., 81., 66., 56., 79., 70., 59., 64.,\n",
       "       75., 60., 63., 69., 50., 25., 42., 44., 55., 48., 57., 29., 47.,\n",
       "       65., 54., 20., 53., 37., 38., 33., 52., 30., 32., 43., 45., 51.,\n",
       "       40., 46., 39., 34., 41., 36., 31., 27., 35., 26., 19., 28., 23.,\n",
       "       24., 21., 17., 13.])"
      ]
     },
     "execution_count": 14,
     "metadata": {},
     "output_type": "execute_result"
    }
   ],
   "source": [
    "df['critic_score'].unique()"
   ]
  },
  {
   "cell_type": "markdown",
   "id": "5810016b",
   "metadata": {},
   "source": [
    "Значения в этом столбце можно перевести в `int`. Сделаем это, когда будем заполнять пропуски."
   ]
  },
  {
   "cell_type": "code",
   "execution_count": 15,
   "id": "bce79e27",
   "metadata": {},
   "outputs": [
    {
     "data": {
      "text/plain": [
       "array(['E', nan, 'M', 'T', 'E10+', 'K-A', 'AO', 'EC', 'RP'], dtype=object)"
      ]
     },
     "execution_count": 15,
     "metadata": {},
     "output_type": "execute_result"
    }
   ],
   "source": [
    "df['rating'].unique()"
   ]
  },
  {
   "cell_type": "markdown",
   "id": "a3a4aebc",
   "metadata": {},
   "source": [
    "В рассматриваемых столбцах много пропусков. Появление их не особо понятно, но можно предположить, что не все пользователи дают оценку игре или дают оценку только в том случае, если игра понравилась или нет, критики также не могут давать оценку всем играм или не дают оценку неуспешным играм. Пропуски в `rating`- опять точную причину сложно установить, это может быть и потеря данных при форматировании, может быть человеческий фактор: просто не стали заполнять эту графу из-за незнания.  \n",
    "Заполнение пропусков средним или медианой рейтинга по играм может исказить данные, ведь хороший рейтинг на одной платформе совсем не означает хорошей рейтинг на другой. Поэтому заполним пропуски маркером `777`(а в дальнейшем исследовании будем \"отрезать строки с этим значением\"), изменим тип значений столбца `critic_score` на `int`, а `user_score` на `float`:"
   ]
  },
  {
   "cell_type": "code",
   "execution_count": 16,
   "id": "253aa1b5",
   "metadata": {},
   "outputs": [],
   "source": [
    "df['critic_score'] = df['critic_score'].fillna(777).astype('int')\n",
    "df['user_score'] = df['user_score'].fillna(777).astype('float')\n",
    "df['rating'] = df['rating'].fillna(777)"
   ]
  },
  {
   "cell_type": "code",
   "execution_count": 17,
   "id": "ac6c3c26",
   "metadata": {},
   "outputs": [
    {
     "data": {
      "text/html": [
       "<div>\n",
       "<style scoped>\n",
       "    .dataframe tbody tr th:only-of-type {\n",
       "        vertical-align: middle;\n",
       "    }\n",
       "\n",
       "    .dataframe tbody tr th {\n",
       "        vertical-align: top;\n",
       "    }\n",
       "\n",
       "    .dataframe thead th {\n",
       "        text-align: right;\n",
       "    }\n",
       "</style>\n",
       "<table border=\"1\" class=\"dataframe\">\n",
       "  <thead>\n",
       "    <tr style=\"text-align: right;\">\n",
       "      <th></th>\n",
       "      <th>name</th>\n",
       "      <th>platform</th>\n",
       "      <th>year_of_release</th>\n",
       "      <th>genre</th>\n",
       "      <th>na_sales</th>\n",
       "      <th>eu_sales</th>\n",
       "      <th>jp_sales</th>\n",
       "      <th>other_sales</th>\n",
       "      <th>critic_score</th>\n",
       "      <th>user_score</th>\n",
       "      <th>rating</th>\n",
       "    </tr>\n",
       "  </thead>\n",
       "  <tbody>\n",
       "    <tr>\n",
       "      <th>0</th>\n",
       "      <td>Wii Sports</td>\n",
       "      <td>Wii</td>\n",
       "      <td>2006</td>\n",
       "      <td>Sports</td>\n",
       "      <td>41.36</td>\n",
       "      <td>28.96</td>\n",
       "      <td>3.77</td>\n",
       "      <td>8.45</td>\n",
       "      <td>76</td>\n",
       "      <td>8.0</td>\n",
       "      <td>E</td>\n",
       "    </tr>\n",
       "    <tr>\n",
       "      <th>1</th>\n",
       "      <td>Super Mario Bros.</td>\n",
       "      <td>NES</td>\n",
       "      <td>1985</td>\n",
       "      <td>Platform</td>\n",
       "      <td>29.08</td>\n",
       "      <td>3.58</td>\n",
       "      <td>6.81</td>\n",
       "      <td>0.77</td>\n",
       "      <td>777</td>\n",
       "      <td>777.0</td>\n",
       "      <td>777</td>\n",
       "    </tr>\n",
       "    <tr>\n",
       "      <th>2</th>\n",
       "      <td>Mario Kart Wii</td>\n",
       "      <td>Wii</td>\n",
       "      <td>2008</td>\n",
       "      <td>Racing</td>\n",
       "      <td>15.68</td>\n",
       "      <td>12.76</td>\n",
       "      <td>3.79</td>\n",
       "      <td>3.29</td>\n",
       "      <td>82</td>\n",
       "      <td>8.3</td>\n",
       "      <td>E</td>\n",
       "    </tr>\n",
       "    <tr>\n",
       "      <th>3</th>\n",
       "      <td>Wii Sports Resort</td>\n",
       "      <td>Wii</td>\n",
       "      <td>2009</td>\n",
       "      <td>Sports</td>\n",
       "      <td>15.61</td>\n",
       "      <td>10.93</td>\n",
       "      <td>3.28</td>\n",
       "      <td>2.95</td>\n",
       "      <td>80</td>\n",
       "      <td>8.0</td>\n",
       "      <td>E</td>\n",
       "    </tr>\n",
       "    <tr>\n",
       "      <th>4</th>\n",
       "      <td>Pokemon Red/Pokemon Blue</td>\n",
       "      <td>GB</td>\n",
       "      <td>1996</td>\n",
       "      <td>Role-Playing</td>\n",
       "      <td>11.27</td>\n",
       "      <td>8.89</td>\n",
       "      <td>10.22</td>\n",
       "      <td>1.00</td>\n",
       "      <td>777</td>\n",
       "      <td>777.0</td>\n",
       "      <td>777</td>\n",
       "    </tr>\n",
       "  </tbody>\n",
       "</table>\n",
       "</div>"
      ],
      "text/plain": [
       "                       name platform  year_of_release         genre  na_sales  \\\n",
       "0                Wii Sports      Wii             2006        Sports     41.36   \n",
       "1         Super Mario Bros.      NES             1985      Platform     29.08   \n",
       "2            Mario Kart Wii      Wii             2008        Racing     15.68   \n",
       "3         Wii Sports Resort      Wii             2009        Sports     15.61   \n",
       "4  Pokemon Red/Pokemon Blue       GB             1996  Role-Playing     11.27   \n",
       "\n",
       "   eu_sales  jp_sales  other_sales  critic_score  user_score rating  \n",
       "0     28.96      3.77         8.45            76         8.0      E  \n",
       "1      3.58      6.81         0.77           777       777.0    777  \n",
       "2     12.76      3.79         3.29            82         8.3      E  \n",
       "3     10.93      3.28         2.95            80         8.0      E  \n",
       "4      8.89     10.22         1.00           777       777.0    777  "
      ]
     },
     "execution_count": 17,
     "metadata": {},
     "output_type": "execute_result"
    }
   ],
   "source": [
    "df.head()\n",
    "#выводим для проверки первые 5 строк датафрейма"
   ]
  },
  {
   "cell_type": "code",
   "execution_count": 18,
   "id": "61ec00a5",
   "metadata": {},
   "outputs": [
    {
     "name": "stdout",
     "output_type": "stream",
     "text": [
      "<class 'pandas.core.frame.DataFrame'>\n",
      "Int64Index: 16444 entries, 0 to 16714\n",
      "Data columns (total 11 columns):\n",
      " #   Column           Non-Null Count  Dtype  \n",
      "---  ------           --------------  -----  \n",
      " 0   name             16444 non-null  object \n",
      " 1   platform         16444 non-null  object \n",
      " 2   year_of_release  16444 non-null  int64  \n",
      " 3   genre            16444 non-null  object \n",
      " 4   na_sales         16444 non-null  float64\n",
      " 5   eu_sales         16444 non-null  float64\n",
      " 6   jp_sales         16444 non-null  float64\n",
      " 7   other_sales      16444 non-null  float64\n",
      " 8   critic_score     16444 non-null  int64  \n",
      " 9   user_score       16444 non-null  float64\n",
      " 10  rating           16444 non-null  object \n",
      "dtypes: float64(5), int64(2), object(4)\n",
      "memory usage: 1.5+ MB\n"
     ]
    }
   ],
   "source": [
    "df.info()"
   ]
  },
  {
   "cell_type": "markdown",
   "id": "52c895d1",
   "metadata": {},
   "source": [
    "Теперь пропусков нет, все данные приведены к нужным типам.  \n",
    "Посчитаем количество продаж во всех регионах и запишем в столбец `sum_sales`:"
   ]
  },
  {
   "cell_type": "code",
   "execution_count": 19,
   "id": "2a143b52",
   "metadata": {},
   "outputs": [
    {
     "data": {
      "text/html": [
       "<div>\n",
       "<style scoped>\n",
       "    .dataframe tbody tr th:only-of-type {\n",
       "        vertical-align: middle;\n",
       "    }\n",
       "\n",
       "    .dataframe tbody tr th {\n",
       "        vertical-align: top;\n",
       "    }\n",
       "\n",
       "    .dataframe thead th {\n",
       "        text-align: right;\n",
       "    }\n",
       "</style>\n",
       "<table border=\"1\" class=\"dataframe\">\n",
       "  <thead>\n",
       "    <tr style=\"text-align: right;\">\n",
       "      <th></th>\n",
       "      <th>name</th>\n",
       "      <th>platform</th>\n",
       "      <th>year_of_release</th>\n",
       "      <th>genre</th>\n",
       "      <th>na_sales</th>\n",
       "      <th>eu_sales</th>\n",
       "      <th>jp_sales</th>\n",
       "      <th>other_sales</th>\n",
       "      <th>critic_score</th>\n",
       "      <th>user_score</th>\n",
       "      <th>rating</th>\n",
       "      <th>sum_sales</th>\n",
       "    </tr>\n",
       "  </thead>\n",
       "  <tbody>\n",
       "    <tr>\n",
       "      <th>4603</th>\n",
       "      <td>Jikkyou Powerful Pro Yakyuu 6</td>\n",
       "      <td>N64</td>\n",
       "      <td>1999</td>\n",
       "      <td>Sports</td>\n",
       "      <td>0.0</td>\n",
       "      <td>0.0</td>\n",
       "      <td>0.39</td>\n",
       "      <td>0.03</td>\n",
       "      <td>777</td>\n",
       "      <td>777.0</td>\n",
       "      <td>777</td>\n",
       "      <td>0.42</td>\n",
       "    </tr>\n",
       "  </tbody>\n",
       "</table>\n",
       "</div>"
      ],
      "text/plain": [
       "                               name platform  year_of_release   genre  \\\n",
       "4603  Jikkyou Powerful Pro Yakyuu 6      N64             1999  Sports   \n",
       "\n",
       "      na_sales  eu_sales  jp_sales  other_sales  critic_score  user_score  \\\n",
       "4603       0.0       0.0      0.39         0.03           777       777.0   \n",
       "\n",
       "     rating  sum_sales  \n",
       "4603    777       0.42  "
      ]
     },
     "execution_count": 19,
     "metadata": {},
     "output_type": "execute_result"
    }
   ],
   "source": [
    "df['sum_sales'] = df['na_sales'] + df['eu_sales'] + df['jp_sales'] + df['other_sales']\n",
    "df.sample()\n",
    "#выводим произвольную строку датафрейма"
   ]
  },
  {
   "cell_type": "markdown",
   "id": "63a9367e",
   "metadata": {},
   "source": [
    "Посмотрим еще на суммарные продажи по каждому региону:"
   ]
  },
  {
   "cell_type": "code",
   "execution_count": 20,
   "id": "c503fe79",
   "metadata": {},
   "outputs": [
    {
     "name": "stdout",
     "output_type": "stream",
     "text": [
      "Продажи в NA - 4341.42 , 0.49 от общих продаж\n",
      "Продажи в EU - 2399.68 , 0.27 от общих продаж\n",
      "Продажи в JP - 1290.64 , 0.15 от общих продаж\n",
      "Продажи в других регионах - 782.63 , 0.09 от общих продаж\n"
     ]
    }
   ],
   "source": [
    "na_sum_sales = df['na_sales'].sum()\n",
    "print(\"Продажи в NA -\", na_sum_sales, \",\",(\n",
    "    na_sum_sales/df['sum_sales'].sum()).round(2), \"от общих продаж\")\n",
    "eu_sum_sales = (df['eu_sales'].sum()).round(2)\n",
    "print(\"Продажи в EU -\", eu_sum_sales, \",\",(\n",
    "    eu_sum_sales/df['sum_sales'].sum()).round(2), \"от общих продаж\")\n",
    "jp_sum_sales = (df['jp_sales'].sum()).round(2)\n",
    "print(\"Продажи в JP -\", jp_sum_sales, \",\",(\n",
    "    jp_sum_sales/df['sum_sales'].sum()).round(2), \"от общих продаж\")\n",
    "other_sum_sales = (df['other_sales'].sum()).round(2)\n",
    "print(\"Продажи в других регионах -\", other_sum_sales, \",\",(\n",
    "    other_sum_sales/df['sum_sales'].sum()).round(2), \"от общих продаж\")"
   ]
  },
  {
   "cell_type": "markdown",
   "id": "7f4e4ee5",
   "metadata": {},
   "source": [
    "Северная Америка - основной потребитель компьютерных игр, почти половина от всех продаж принадлежит ей, далее Европа и Япония."
   ]
  },
  {
   "cell_type": "markdown",
   "id": "34518b99",
   "metadata": {},
   "source": [
    "### Вывод"
   ]
  },
  {
   "cell_type": "markdown",
   "id": "7619af01",
   "metadata": {},
   "source": [
    "<div style=\"border:solid orange 2px; padding: 20px\">\n",
    "Провели предобработку данных: заменили все пропуски, убедились, что нет явных дубликатов, изменили типы данных столбцов там, где это требовалось. Создали столбец `sum_sales`, в котором посчитали количество продаж каждой игры во всех регионах. Выяснили, что почти половина проданных игр приходится на Северную Америку."
   ]
  },
  {
   "cell_type": "markdown",
   "id": "b6d815ac",
   "metadata": {},
   "source": [
    "## Исследовательский анализ данных"
   ]
  },
  {
   "cell_type": "markdown",
   "id": "9d4954d9",
   "metadata": {},
   "source": [
    "### Распределение по годам выпуска игр"
   ]
  },
  {
   "cell_type": "markdown",
   "id": "5e2aa275",
   "metadata": {},
   "source": [
    "Построим гистограмму распределения по столбцу `year_of_release`:"
   ]
  },
  {
   "cell_type": "code",
   "execution_count": 21,
   "id": "00f1a395",
   "metadata": {},
   "outputs": [
    {
     "data": {
      "image/png": "[encoded data removed]",
      "text/plain": [
       "<Figure size 432x288 with 1 Axes>"
      ]
     },
     "metadata": {
      "needs_background": "light"
     },
     "output_type": "display_data"
    }
   ],
   "source": [
    "df['year_of_release'].plot(kind='hist', bins=45).legend()\n",
    "plt.xlabel(\"Год релиза игры\")\n",
    "plt.ylabel(\"Частота\")\n",
    "plt.title(\"Распределение по годам релиза игр\");"
   ]
  },
  {
   "cell_type": "markdown",
   "id": "11f09b74",
   "metadata": {},
   "source": [
    "С развитием компьютерных технологий развивались и видео-игры: компьютеры становились мощнее, игры становились более похожими на сегодняшние - не 16 цветов, а 256 и тд. Это и видим на графике распределения: после 93его года начался рост и развитие мира компьютерных игр. Пик приходится на 2008-2010 год, когда выпуск игр был максимальным."
   ]
  },
  {
   "cell_type": "markdown",
   "id": "c39cb209",
   "metadata": {},
   "source": [
    "### Распределение продаж по платформам"
   ]
  },
  {
   "cell_type": "markdown",
   "id": "0608c744",
   "metadata": {},
   "source": [
    "Чтобы оценить как менялись продажы по платформам, сколько в среднем актуальна платформа, создадим сводную таблицу с помощью `pivot_table`, будем смотреть на года после 2000:"
   ]
  },
  {
   "cell_type": "code",
   "execution_count": 22,
   "id": "f5e1dbff",
   "metadata": {},
   "outputs": [
    {
     "data": {
      "text/html": [
       "<div>\n",
       "<style scoped>\n",
       "    .dataframe tbody tr th:only-of-type {\n",
       "        vertical-align: middle;\n",
       "    }\n",
       "\n",
       "    .dataframe tbody tr th {\n",
       "        vertical-align: top;\n",
       "    }\n",
       "\n",
       "    .dataframe thead th {\n",
       "        text-align: right;\n",
       "    }\n",
       "</style>\n",
       "<table border=\"1\" class=\"dataframe\">\n",
       "  <thead>\n",
       "    <tr style=\"text-align: right;\">\n",
       "      <th>year_of_release</th>\n",
       "      <th>platform</th>\n",
       "      <th>2000</th>\n",
       "      <th>2001</th>\n",
       "      <th>2002</th>\n",
       "      <th>2003</th>\n",
       "      <th>2004</th>\n",
       "      <th>2005</th>\n",
       "      <th>2006</th>\n",
       "      <th>2007</th>\n",
       "      <th>2008</th>\n",
       "      <th>2009</th>\n",
       "      <th>2010</th>\n",
       "      <th>2011</th>\n",
       "      <th>2012</th>\n",
       "      <th>2013</th>\n",
       "      <th>2014</th>\n",
       "      <th>2015</th>\n",
       "      <th>2016</th>\n",
       "    </tr>\n",
       "  </thead>\n",
       "  <tbody>\n",
       "    <tr>\n",
       "      <th>0</th>\n",
       "      <td>3DS</td>\n",
       "      <td>NaN</td>\n",
       "      <td>NaN</td>\n",
       "      <td>NaN</td>\n",
       "      <td>NaN</td>\n",
       "      <td>NaN</td>\n",
       "      <td>NaN</td>\n",
       "      <td>NaN</td>\n",
       "      <td>NaN</td>\n",
       "      <td>NaN</td>\n",
       "      <td>NaN</td>\n",
       "      <td>NaN</td>\n",
       "      <td>63.20</td>\n",
       "      <td>51.36</td>\n",
       "      <td>56.57</td>\n",
       "      <td>43.76</td>\n",
       "      <td>27.78</td>\n",
       "      <td>15.14</td>\n",
       "    </tr>\n",
       "    <tr>\n",
       "      <th>1</th>\n",
       "      <td>DC</td>\n",
       "      <td>5.99</td>\n",
       "      <td>1.07</td>\n",
       "      <td>0.29</td>\n",
       "      <td>NaN</td>\n",
       "      <td>NaN</td>\n",
       "      <td>NaN</td>\n",
       "      <td>NaN</td>\n",
       "      <td>0.02</td>\n",
       "      <td>0.04</td>\n",
       "      <td>NaN</td>\n",
       "      <td>NaN</td>\n",
       "      <td>NaN</td>\n",
       "      <td>NaN</td>\n",
       "      <td>NaN</td>\n",
       "      <td>NaN</td>\n",
       "      <td>NaN</td>\n",
       "      <td>NaN</td>\n",
       "    </tr>\n",
       "    <tr>\n",
       "      <th>2</th>\n",
       "      <td>DS</td>\n",
       "      <td>NaN</td>\n",
       "      <td>NaN</td>\n",
       "      <td>NaN</td>\n",
       "      <td>NaN</td>\n",
       "      <td>17.27</td>\n",
       "      <td>130.14</td>\n",
       "      <td>119.81</td>\n",
       "      <td>146.94</td>\n",
       "      <td>145.31</td>\n",
       "      <td>119.54</td>\n",
       "      <td>85.02</td>\n",
       "      <td>26.18</td>\n",
       "      <td>11.01</td>\n",
       "      <td>1.54</td>\n",
       "      <td>NaN</td>\n",
       "      <td>NaN</td>\n",
       "      <td>NaN</td>\n",
       "    </tr>\n",
       "    <tr>\n",
       "      <th>3</th>\n",
       "      <td>GB</td>\n",
       "      <td>19.76</td>\n",
       "      <td>9.24</td>\n",
       "      <td>NaN</td>\n",
       "      <td>NaN</td>\n",
       "      <td>NaN</td>\n",
       "      <td>NaN</td>\n",
       "      <td>NaN</td>\n",
       "      <td>NaN</td>\n",
       "      <td>NaN</td>\n",
       "      <td>NaN</td>\n",
       "      <td>NaN</td>\n",
       "      <td>NaN</td>\n",
       "      <td>NaN</td>\n",
       "      <td>NaN</td>\n",
       "      <td>NaN</td>\n",
       "      <td>NaN</td>\n",
       "      <td>NaN</td>\n",
       "    </tr>\n",
       "    <tr>\n",
       "      <th>4</th>\n",
       "      <td>GBA</td>\n",
       "      <td>0.07</td>\n",
       "      <td>61.53</td>\n",
       "      <td>74.16</td>\n",
       "      <td>56.67</td>\n",
       "      <td>77.91</td>\n",
       "      <td>33.86</td>\n",
       "      <td>5.28</td>\n",
       "      <td>3.40</td>\n",
       "      <td>NaN</td>\n",
       "      <td>NaN</td>\n",
       "      <td>NaN</td>\n",
       "      <td>NaN</td>\n",
       "      <td>NaN</td>\n",
       "      <td>NaN</td>\n",
       "      <td>NaN</td>\n",
       "      <td>NaN</td>\n",
       "      <td>NaN</td>\n",
       "    </tr>\n",
       "    <tr>\n",
       "      <th>5</th>\n",
       "      <td>GC</td>\n",
       "      <td>NaN</td>\n",
       "      <td>26.34</td>\n",
       "      <td>51.81</td>\n",
       "      <td>50.61</td>\n",
       "      <td>28.82</td>\n",
       "      <td>27.62</td>\n",
       "      <td>11.26</td>\n",
       "      <td>0.27</td>\n",
       "      <td>NaN</td>\n",
       "      <td>NaN</td>\n",
       "      <td>NaN</td>\n",
       "      <td>NaN</td>\n",
       "      <td>NaN</td>\n",
       "      <td>NaN</td>\n",
       "      <td>NaN</td>\n",
       "      <td>NaN</td>\n",
       "      <td>NaN</td>\n",
       "    </tr>\n",
       "    <tr>\n",
       "      <th>6</th>\n",
       "      <td>N64</td>\n",
       "      <td>33.97</td>\n",
       "      <td>3.25</td>\n",
       "      <td>0.08</td>\n",
       "      <td>NaN</td>\n",
       "      <td>NaN</td>\n",
       "      <td>NaN</td>\n",
       "      <td>NaN</td>\n",
       "      <td>NaN</td>\n",
       "      <td>NaN</td>\n",
       "      <td>NaN</td>\n",
       "      <td>NaN</td>\n",
       "      <td>NaN</td>\n",
       "      <td>NaN</td>\n",
       "      <td>NaN</td>\n",
       "      <td>NaN</td>\n",
       "      <td>NaN</td>\n",
       "      <td>NaN</td>\n",
       "    </tr>\n",
       "    <tr>\n",
       "      <th>7</th>\n",
       "      <td>PC</td>\n",
       "      <td>4.66</td>\n",
       "      <td>5.47</td>\n",
       "      <td>8.57</td>\n",
       "      <td>8.84</td>\n",
       "      <td>10.39</td>\n",
       "      <td>4.37</td>\n",
       "      <td>2.85</td>\n",
       "      <td>9.28</td>\n",
       "      <td>12.42</td>\n",
       "      <td>16.91</td>\n",
       "      <td>24.28</td>\n",
       "      <td>35.03</td>\n",
       "      <td>23.22</td>\n",
       "      <td>12.38</td>\n",
       "      <td>13.28</td>\n",
       "      <td>8.52</td>\n",
       "      <td>5.25</td>\n",
       "    </tr>\n",
       "    <tr>\n",
       "      <th>8</th>\n",
       "      <td>PS</td>\n",
       "      <td>96.37</td>\n",
       "      <td>35.59</td>\n",
       "      <td>6.67</td>\n",
       "      <td>2.07</td>\n",
       "      <td>NaN</td>\n",
       "      <td>NaN</td>\n",
       "      <td>NaN</td>\n",
       "      <td>NaN</td>\n",
       "      <td>NaN</td>\n",
       "      <td>NaN</td>\n",
       "      <td>NaN</td>\n",
       "      <td>NaN</td>\n",
       "      <td>NaN</td>\n",
       "      <td>NaN</td>\n",
       "      <td>NaN</td>\n",
       "      <td>NaN</td>\n",
       "      <td>NaN</td>\n",
       "    </tr>\n",
       "    <tr>\n",
       "      <th>9</th>\n",
       "      <td>PS2</td>\n",
       "      <td>39.17</td>\n",
       "      <td>166.43</td>\n",
       "      <td>205.38</td>\n",
       "      <td>184.31</td>\n",
       "      <td>211.81</td>\n",
       "      <td>160.66</td>\n",
       "      <td>103.42</td>\n",
       "      <td>75.99</td>\n",
       "      <td>53.90</td>\n",
       "      <td>26.40</td>\n",
       "      <td>5.64</td>\n",
       "      <td>0.45</td>\n",
       "      <td>NaN</td>\n",
       "      <td>NaN</td>\n",
       "      <td>NaN</td>\n",
       "      <td>NaN</td>\n",
       "      <td>NaN</td>\n",
       "    </tr>\n",
       "    <tr>\n",
       "      <th>10</th>\n",
       "      <td>PS3</td>\n",
       "      <td>NaN</td>\n",
       "      <td>NaN</td>\n",
       "      <td>NaN</td>\n",
       "      <td>NaN</td>\n",
       "      <td>NaN</td>\n",
       "      <td>NaN</td>\n",
       "      <td>20.96</td>\n",
       "      <td>73.19</td>\n",
       "      <td>118.52</td>\n",
       "      <td>130.93</td>\n",
       "      <td>142.17</td>\n",
       "      <td>156.78</td>\n",
       "      <td>107.36</td>\n",
       "      <td>113.25</td>\n",
       "      <td>47.76</td>\n",
       "      <td>16.82</td>\n",
       "      <td>3.60</td>\n",
       "    </tr>\n",
       "    <tr>\n",
       "      <th>11</th>\n",
       "      <td>PS4</td>\n",
       "      <td>NaN</td>\n",
       "      <td>NaN</td>\n",
       "      <td>NaN</td>\n",
       "      <td>NaN</td>\n",
       "      <td>NaN</td>\n",
       "      <td>NaN</td>\n",
       "      <td>NaN</td>\n",
       "      <td>NaN</td>\n",
       "      <td>NaN</td>\n",
       "      <td>NaN</td>\n",
       "      <td>NaN</td>\n",
       "      <td>NaN</td>\n",
       "      <td>NaN</td>\n",
       "      <td>25.99</td>\n",
       "      <td>100.00</td>\n",
       "      <td>118.90</td>\n",
       "      <td>69.25</td>\n",
       "    </tr>\n",
       "    <tr>\n",
       "      <th>12</th>\n",
       "      <td>PSP</td>\n",
       "      <td>NaN</td>\n",
       "      <td>NaN</td>\n",
       "      <td>NaN</td>\n",
       "      <td>NaN</td>\n",
       "      <td>7.06</td>\n",
       "      <td>43.84</td>\n",
       "      <td>55.32</td>\n",
       "      <td>46.93</td>\n",
       "      <td>34.55</td>\n",
       "      <td>37.78</td>\n",
       "      <td>35.04</td>\n",
       "      <td>17.82</td>\n",
       "      <td>7.69</td>\n",
       "      <td>3.14</td>\n",
       "      <td>0.24</td>\n",
       "      <td>0.12</td>\n",
       "      <td>NaN</td>\n",
       "    </tr>\n",
       "    <tr>\n",
       "      <th>13</th>\n",
       "      <td>PSV</td>\n",
       "      <td>NaN</td>\n",
       "      <td>NaN</td>\n",
       "      <td>NaN</td>\n",
       "      <td>NaN</td>\n",
       "      <td>NaN</td>\n",
       "      <td>NaN</td>\n",
       "      <td>NaN</td>\n",
       "      <td>NaN</td>\n",
       "      <td>NaN</td>\n",
       "      <td>NaN</td>\n",
       "      <td>NaN</td>\n",
       "      <td>4.63</td>\n",
       "      <td>16.19</td>\n",
       "      <td>10.59</td>\n",
       "      <td>11.90</td>\n",
       "      <td>6.25</td>\n",
       "      <td>4.25</td>\n",
       "    </tr>\n",
       "    <tr>\n",
       "      <th>14</th>\n",
       "      <td>WS</td>\n",
       "      <td>0.68</td>\n",
       "      <td>0.28</td>\n",
       "      <td>NaN</td>\n",
       "      <td>NaN</td>\n",
       "      <td>NaN</td>\n",
       "      <td>NaN</td>\n",
       "      <td>NaN</td>\n",
       "      <td>NaN</td>\n",
       "      <td>NaN</td>\n",
       "      <td>NaN</td>\n",
       "      <td>NaN</td>\n",
       "      <td>NaN</td>\n",
       "      <td>NaN</td>\n",
       "      <td>NaN</td>\n",
       "      <td>NaN</td>\n",
       "      <td>NaN</td>\n",
       "      <td>NaN</td>\n",
       "    </tr>\n",
       "    <tr>\n",
       "      <th>15</th>\n",
       "      <td>Wii</td>\n",
       "      <td>NaN</td>\n",
       "      <td>NaN</td>\n",
       "      <td>NaN</td>\n",
       "      <td>NaN</td>\n",
       "      <td>NaN</td>\n",
       "      <td>NaN</td>\n",
       "      <td>137.15</td>\n",
       "      <td>152.77</td>\n",
       "      <td>171.32</td>\n",
       "      <td>206.97</td>\n",
       "      <td>127.95</td>\n",
       "      <td>59.65</td>\n",
       "      <td>21.71</td>\n",
       "      <td>8.59</td>\n",
       "      <td>3.75</td>\n",
       "      <td>1.14</td>\n",
       "      <td>0.18</td>\n",
       "    </tr>\n",
       "    <tr>\n",
       "      <th>16</th>\n",
       "      <td>WiiU</td>\n",
       "      <td>NaN</td>\n",
       "      <td>NaN</td>\n",
       "      <td>NaN</td>\n",
       "      <td>NaN</td>\n",
       "      <td>NaN</td>\n",
       "      <td>NaN</td>\n",
       "      <td>NaN</td>\n",
       "      <td>NaN</td>\n",
       "      <td>NaN</td>\n",
       "      <td>NaN</td>\n",
       "      <td>NaN</td>\n",
       "      <td>NaN</td>\n",
       "      <td>17.56</td>\n",
       "      <td>21.65</td>\n",
       "      <td>22.03</td>\n",
       "      <td>16.35</td>\n",
       "      <td>4.60</td>\n",
       "    </tr>\n",
       "    <tr>\n",
       "      <th>17</th>\n",
       "      <td>X360</td>\n",
       "      <td>NaN</td>\n",
       "      <td>NaN</td>\n",
       "      <td>NaN</td>\n",
       "      <td>NaN</td>\n",
       "      <td>NaN</td>\n",
       "      <td>8.25</td>\n",
       "      <td>51.62</td>\n",
       "      <td>95.41</td>\n",
       "      <td>135.26</td>\n",
       "      <td>120.29</td>\n",
       "      <td>170.03</td>\n",
       "      <td>143.84</td>\n",
       "      <td>99.74</td>\n",
       "      <td>88.58</td>\n",
       "      <td>34.74</td>\n",
       "      <td>11.96</td>\n",
       "      <td>1.52</td>\n",
       "    </tr>\n",
       "    <tr>\n",
       "      <th>18</th>\n",
       "      <td>XB</td>\n",
       "      <td>0.99</td>\n",
       "      <td>22.26</td>\n",
       "      <td>48.01</td>\n",
       "      <td>55.04</td>\n",
       "      <td>65.42</td>\n",
       "      <td>49.08</td>\n",
       "      <td>10.04</td>\n",
       "      <td>0.55</td>\n",
       "      <td>0.18</td>\n",
       "      <td>NaN</td>\n",
       "      <td>NaN</td>\n",
       "      <td>NaN</td>\n",
       "      <td>NaN</td>\n",
       "      <td>NaN</td>\n",
       "      <td>NaN</td>\n",
       "      <td>NaN</td>\n",
       "      <td>NaN</td>\n",
       "    </tr>\n",
       "    <tr>\n",
       "      <th>19</th>\n",
       "      <td>XOne</td>\n",
       "      <td>NaN</td>\n",
       "      <td>NaN</td>\n",
       "      <td>NaN</td>\n",
       "      <td>NaN</td>\n",
       "      <td>NaN</td>\n",
       "      <td>NaN</td>\n",
       "      <td>NaN</td>\n",
       "      <td>NaN</td>\n",
       "      <td>NaN</td>\n",
       "      <td>NaN</td>\n",
       "      <td>NaN</td>\n",
       "      <td>NaN</td>\n",
       "      <td>NaN</td>\n",
       "      <td>18.96</td>\n",
       "      <td>54.07</td>\n",
       "      <td>60.14</td>\n",
       "      <td>26.15</td>\n",
       "    </tr>\n",
       "  </tbody>\n",
       "</table>\n",
       "</div>"
      ],
      "text/plain": [
       "year_of_release platform   2000    2001    2002    2003    2004    2005  \\\n",
       "0                    3DS    NaN     NaN     NaN     NaN     NaN     NaN   \n",
       "1                     DC   5.99    1.07    0.29     NaN     NaN     NaN   \n",
       "2                     DS    NaN     NaN     NaN     NaN   17.27  130.14   \n",
       "3                     GB  19.76    9.24     NaN     NaN     NaN     NaN   \n",
       "4                    GBA   0.07   61.53   74.16   56.67   77.91   33.86   \n",
       "5                     GC    NaN   26.34   51.81   50.61   28.82   27.62   \n",
       "6                    N64  33.97    3.25    0.08     NaN     NaN     NaN   \n",
       "7                     PC   4.66    5.47    8.57    8.84   10.39    4.37   \n",
       "8                     PS  96.37   35.59    6.67    2.07     NaN     NaN   \n",
       "9                    PS2  39.17  166.43  205.38  184.31  211.81  160.66   \n",
       "10                   PS3    NaN     NaN     NaN     NaN     NaN     NaN   \n",
       "11                   PS4    NaN     NaN     NaN     NaN     NaN     NaN   \n",
       "12                   PSP    NaN     NaN     NaN     NaN    7.06   43.84   \n",
       "13                   PSV    NaN     NaN     NaN     NaN     NaN     NaN   \n",
       "14                    WS   0.68    0.28     NaN     NaN     NaN     NaN   \n",
       "15                   Wii    NaN     NaN     NaN     NaN     NaN     NaN   \n",
       "16                  WiiU    NaN     NaN     NaN     NaN     NaN     NaN   \n",
       "17                  X360    NaN     NaN     NaN     NaN     NaN    8.25   \n",
       "18                    XB   0.99   22.26   48.01   55.04   65.42   49.08   \n",
       "19                  XOne    NaN     NaN     NaN     NaN     NaN     NaN   \n",
       "\n",
       "year_of_release    2006    2007    2008    2009    2010    2011    2012  \\\n",
       "0                   NaN     NaN     NaN     NaN     NaN   63.20   51.36   \n",
       "1                   NaN    0.02    0.04     NaN     NaN     NaN     NaN   \n",
       "2                119.81  146.94  145.31  119.54   85.02   26.18   11.01   \n",
       "3                   NaN     NaN     NaN     NaN     NaN     NaN     NaN   \n",
       "4                  5.28    3.40     NaN     NaN     NaN     NaN     NaN   \n",
       "5                 11.26    0.27     NaN     NaN     NaN     NaN     NaN   \n",
       "6                   NaN     NaN     NaN     NaN     NaN     NaN     NaN   \n",
       "7                  2.85    9.28   12.42   16.91   24.28   35.03   23.22   \n",
       "8                   NaN     NaN     NaN     NaN     NaN     NaN     NaN   \n",
       "9                103.42   75.99   53.90   26.40    5.64    0.45     NaN   \n",
       "10                20.96   73.19  118.52  130.93  142.17  156.78  107.36   \n",
       "11                  NaN     NaN     NaN     NaN     NaN     NaN     NaN   \n",
       "12                55.32   46.93   34.55   37.78   35.04   17.82    7.69   \n",
       "13                  NaN     NaN     NaN     NaN     NaN    4.63   16.19   \n",
       "14                  NaN     NaN     NaN     NaN     NaN     NaN     NaN   \n",
       "15               137.15  152.77  171.32  206.97  127.95   59.65   21.71   \n",
       "16                  NaN     NaN     NaN     NaN     NaN     NaN   17.56   \n",
       "17                51.62   95.41  135.26  120.29  170.03  143.84   99.74   \n",
       "18                10.04    0.55    0.18     NaN     NaN     NaN     NaN   \n",
       "19                  NaN     NaN     NaN     NaN     NaN     NaN     NaN   \n",
       "\n",
       "year_of_release    2013    2014    2015   2016  \n",
       "0                 56.57   43.76   27.78  15.14  \n",
       "1                   NaN     NaN     NaN    NaN  \n",
       "2                  1.54     NaN     NaN    NaN  \n",
       "3                   NaN     NaN     NaN    NaN  \n",
       "4                   NaN     NaN     NaN    NaN  \n",
       "5                   NaN     NaN     NaN    NaN  \n",
       "6                   NaN     NaN     NaN    NaN  \n",
       "7                 12.38   13.28    8.52   5.25  \n",
       "8                   NaN     NaN     NaN    NaN  \n",
       "9                   NaN     NaN     NaN    NaN  \n",
       "10               113.25   47.76   16.82   3.60  \n",
       "11                25.99  100.00  118.90  69.25  \n",
       "12                 3.14    0.24    0.12    NaN  \n",
       "13                10.59   11.90    6.25   4.25  \n",
       "14                  NaN     NaN     NaN    NaN  \n",
       "15                 8.59    3.75    1.14   0.18  \n",
       "16                21.65   22.03   16.35   4.60  \n",
       "17                88.58   34.74   11.96   1.52  \n",
       "18                  NaN     NaN     NaN    NaN  \n",
       "19                18.96   54.07   60.14  26.15  "
      ]
     },
     "metadata": {},
     "output_type": "display_data"
    }
   ],
   "source": [
    "platform_pivot = df.query('year_of_release>=2000').pivot_table(\n",
    "    index='platform', columns='year_of_release', \n",
    "               values='sum_sales', aggfunc='sum').reset_index()\n",
    "display(platform_pivot)\n",
    "#создаем сводную таблицу по активным платформам с 2000 года и выводим ее на экран"
   ]
  },
  {
   "cell_type": "markdown",
   "id": "52568946",
   "metadata": {},
   "source": [
    "Такая сводная таблица показывает в какие года с 2000 года какие платформы были \"активны\". С помощью `describe` можно посмотреть сколько платформ было на рынке в каждом году:"
   ]
  },
  {
   "cell_type": "code",
   "execution_count": 23,
   "id": "5815a0d4",
   "metadata": {},
   "outputs": [
    {
     "data": {
      "text/html": [
       "<div>\n",
       "<style scoped>\n",
       "    .dataframe tbody tr th:only-of-type {\n",
       "        vertical-align: middle;\n",
       "    }\n",
       "\n",
       "    .dataframe tbody tr th {\n",
       "        vertical-align: top;\n",
       "    }\n",
       "\n",
       "    .dataframe thead th {\n",
       "        text-align: right;\n",
       "    }\n",
       "</style>\n",
       "<table border=\"1\" class=\"dataframe\">\n",
       "  <thead>\n",
       "    <tr style=\"text-align: right;\">\n",
       "      <th>year_of_release</th>\n",
       "      <th>2000</th>\n",
       "      <th>2001</th>\n",
       "      <th>2002</th>\n",
       "      <th>2003</th>\n",
       "      <th>2004</th>\n",
       "      <th>2005</th>\n",
       "      <th>2006</th>\n",
       "      <th>2007</th>\n",
       "      <th>2008</th>\n",
       "      <th>2009</th>\n",
       "      <th>2010</th>\n",
       "      <th>2011</th>\n",
       "      <th>2012</th>\n",
       "      <th>2013</th>\n",
       "      <th>2014</th>\n",
       "      <th>2015</th>\n",
       "      <th>2016</th>\n",
       "    </tr>\n",
       "  </thead>\n",
       "  <tbody>\n",
       "    <tr>\n",
       "      <th>count</th>\n",
       "      <td>9.000000</td>\n",
       "      <td>10.000000</td>\n",
       "      <td>8.000000</td>\n",
       "      <td>6.000000</td>\n",
       "      <td>7.000000</td>\n",
       "      <td>8.00000</td>\n",
       "      <td>10.000000</td>\n",
       "      <td>11.000000</td>\n",
       "      <td>9.000000</td>\n",
       "      <td>7.000000</td>\n",
       "      <td>7.000000</td>\n",
       "      <td>9.000000</td>\n",
       "      <td>9.000000</td>\n",
       "      <td>11.000000</td>\n",
       "      <td>10.000000</td>\n",
       "      <td>10.000000</td>\n",
       "      <td>9.000000</td>\n",
       "    </tr>\n",
       "    <tr>\n",
       "      <th>mean</th>\n",
       "      <td>22.406667</td>\n",
       "      <td>33.146000</td>\n",
       "      <td>49.371250</td>\n",
       "      <td>59.590000</td>\n",
       "      <td>59.811429</td>\n",
       "      <td>57.22750</td>\n",
       "      <td>51.771000</td>\n",
       "      <td>54.977273</td>\n",
       "      <td>74.611111</td>\n",
       "      <td>94.117143</td>\n",
       "      <td>84.304286</td>\n",
       "      <td>56.397778</td>\n",
       "      <td>39.537778</td>\n",
       "      <td>32.840000</td>\n",
       "      <td>33.153000</td>\n",
       "      <td>26.798000</td>\n",
       "      <td>14.437778</td>\n",
       "    </tr>\n",
       "    <tr>\n",
       "      <th>std</th>\n",
       "      <td>31.437237</td>\n",
       "      <td>50.641823</td>\n",
       "      <td>68.959354</td>\n",
       "      <td>65.649159</td>\n",
       "      <td>72.408578</td>\n",
       "      <td>57.16577</td>\n",
       "      <td>51.083515</td>\n",
       "      <td>58.495585</td>\n",
       "      <td>67.970249</td>\n",
       "      <td>69.693044</td>\n",
       "      <td>64.317901</td>\n",
       "      <td>57.497367</td>\n",
       "      <td>38.412697</td>\n",
       "      <td>37.234578</td>\n",
       "      <td>30.097218</td>\n",
       "      <td>36.743364</td>\n",
       "      <td>22.120826</td>\n",
       "    </tr>\n",
       "    <tr>\n",
       "      <th>min</th>\n",
       "      <td>0.070000</td>\n",
       "      <td>0.280000</td>\n",
       "      <td>0.080000</td>\n",
       "      <td>2.070000</td>\n",
       "      <td>7.060000</td>\n",
       "      <td>4.37000</td>\n",
       "      <td>2.850000</td>\n",
       "      <td>0.020000</td>\n",
       "      <td>0.040000</td>\n",
       "      <td>16.910000</td>\n",
       "      <td>5.640000</td>\n",
       "      <td>0.450000</td>\n",
       "      <td>7.690000</td>\n",
       "      <td>1.540000</td>\n",
       "      <td>0.240000</td>\n",
       "      <td>0.120000</td>\n",
       "      <td>0.180000</td>\n",
       "    </tr>\n",
       "    <tr>\n",
       "      <th>25%</th>\n",
       "      <td>0.990000</td>\n",
       "      <td>3.805000</td>\n",
       "      <td>5.075000</td>\n",
       "      <td>19.282500</td>\n",
       "      <td>13.830000</td>\n",
       "      <td>22.77750</td>\n",
       "      <td>10.345000</td>\n",
       "      <td>1.975000</td>\n",
       "      <td>12.420000</td>\n",
       "      <td>32.090000</td>\n",
       "      <td>29.660000</td>\n",
       "      <td>17.820000</td>\n",
       "      <td>16.190000</td>\n",
       "      <td>9.590000</td>\n",
       "      <td>12.245000</td>\n",
       "      <td>6.817500</td>\n",
       "      <td>3.600000</td>\n",
       "    </tr>\n",
       "    <tr>\n",
       "      <th>50%</th>\n",
       "      <td>5.990000</td>\n",
       "      <td>15.750000</td>\n",
       "      <td>28.290000</td>\n",
       "      <td>52.825000</td>\n",
       "      <td>28.820000</td>\n",
       "      <td>38.85000</td>\n",
       "      <td>36.290000</td>\n",
       "      <td>46.930000</td>\n",
       "      <td>53.900000</td>\n",
       "      <td>119.540000</td>\n",
       "      <td>85.020000</td>\n",
       "      <td>35.030000</td>\n",
       "      <td>21.710000</td>\n",
       "      <td>18.960000</td>\n",
       "      <td>28.385000</td>\n",
       "      <td>14.155000</td>\n",
       "      <td>4.600000</td>\n",
       "    </tr>\n",
       "    <tr>\n",
       "      <th>75%</th>\n",
       "      <td>33.970000</td>\n",
       "      <td>33.277500</td>\n",
       "      <td>57.397500</td>\n",
       "      <td>56.262500</td>\n",
       "      <td>71.665000</td>\n",
       "      <td>69.34500</td>\n",
       "      <td>91.395000</td>\n",
       "      <td>85.700000</td>\n",
       "      <td>135.260000</td>\n",
       "      <td>125.610000</td>\n",
       "      <td>135.060000</td>\n",
       "      <td>63.200000</td>\n",
       "      <td>51.360000</td>\n",
       "      <td>41.280000</td>\n",
       "      <td>46.760000</td>\n",
       "      <td>25.040000</td>\n",
       "      <td>15.140000</td>\n",
       "    </tr>\n",
       "    <tr>\n",
       "      <th>max</th>\n",
       "      <td>96.370000</td>\n",
       "      <td>166.430000</td>\n",
       "      <td>205.380000</td>\n",
       "      <td>184.310000</td>\n",
       "      <td>211.810000</td>\n",
       "      <td>160.66000</td>\n",
       "      <td>137.150000</td>\n",
       "      <td>152.770000</td>\n",
       "      <td>171.320000</td>\n",
       "      <td>206.970000</td>\n",
       "      <td>170.030000</td>\n",
       "      <td>156.780000</td>\n",
       "      <td>107.360000</td>\n",
       "      <td>113.250000</td>\n",
       "      <td>100.000000</td>\n",
       "      <td>118.900000</td>\n",
       "      <td>69.250000</td>\n",
       "    </tr>\n",
       "  </tbody>\n",
       "</table>\n",
       "</div>"
      ],
      "text/plain": [
       "year_of_release       2000        2001        2002        2003        2004  \\\n",
       "count             9.000000   10.000000    8.000000    6.000000    7.000000   \n",
       "mean             22.406667   33.146000   49.371250   59.590000   59.811429   \n",
       "std              31.437237   50.641823   68.959354   65.649159   72.408578   \n",
       "min               0.070000    0.280000    0.080000    2.070000    7.060000   \n",
       "25%               0.990000    3.805000    5.075000   19.282500   13.830000   \n",
       "50%               5.990000   15.750000   28.290000   52.825000   28.820000   \n",
       "75%              33.970000   33.277500   57.397500   56.262500   71.665000   \n",
       "max              96.370000  166.430000  205.380000  184.310000  211.810000   \n",
       "\n",
       "year_of_release       2005        2006        2007        2008        2009  \\\n",
       "count              8.00000   10.000000   11.000000    9.000000    7.000000   \n",
       "mean              57.22750   51.771000   54.977273   74.611111   94.117143   \n",
       "std               57.16577   51.083515   58.495585   67.970249   69.693044   \n",
       "min                4.37000    2.850000    0.020000    0.040000   16.910000   \n",
       "25%               22.77750   10.345000    1.975000   12.420000   32.090000   \n",
       "50%               38.85000   36.290000   46.930000   53.900000  119.540000   \n",
       "75%               69.34500   91.395000   85.700000  135.260000  125.610000   \n",
       "max              160.66000  137.150000  152.770000  171.320000  206.970000   \n",
       "\n",
       "year_of_release        2010        2011        2012        2013        2014  \\\n",
       "count              7.000000    9.000000    9.000000   11.000000   10.000000   \n",
       "mean              84.304286   56.397778   39.537778   32.840000   33.153000   \n",
       "std               64.317901   57.497367   38.412697   37.234578   30.097218   \n",
       "min                5.640000    0.450000    7.690000    1.540000    0.240000   \n",
       "25%               29.660000   17.820000   16.190000    9.590000   12.245000   \n",
       "50%               85.020000   35.030000   21.710000   18.960000   28.385000   \n",
       "75%              135.060000   63.200000   51.360000   41.280000   46.760000   \n",
       "max              170.030000  156.780000  107.360000  113.250000  100.000000   \n",
       "\n",
       "year_of_release        2015       2016  \n",
       "count             10.000000   9.000000  \n",
       "mean              26.798000  14.437778  \n",
       "std               36.743364  22.120826  \n",
       "min                0.120000   0.180000  \n",
       "25%                6.817500   3.600000  \n",
       "50%               14.155000   4.600000  \n",
       "75%               25.040000  15.140000  \n",
       "max              118.900000  69.250000  "
      ]
     },
     "execution_count": 23,
     "metadata": {},
     "output_type": "execute_result"
    }
   ],
   "source": [
    "platform_pivot.describe()"
   ]
  },
  {
   "cell_type": "markdown",
   "id": "0fd3811f",
   "metadata": {},
   "source": [
    "Строка `count` показывает количество платформ в 2000, 2001 и тд годах. Их количество то увеличивается, то умньшается, то есть какие-то платформы появляются, какие-то становятся не актуальными и покидают рынок. По этим данным можно сказать, что платформа в среднем живет 8-9 лет, пик популярности приходится на середину этого периода."
   ]
  },
  {
   "cell_type": "markdown",
   "id": "6bf02044",
   "metadata": {},
   "source": [
    "Теперь найдем платформы с наибольшими суммарными продажами: снова создадим сводную таблицу, но уже с продажами не по годам, а суммарными продажами по платформе, далее отсортируем в порядке убывания столбца `sum_sales` и строим столбчатую диаграмму по первым 5 самым большим продажам:"
   ]
  },
  {
   "cell_type": "code",
   "execution_count": 24,
   "id": "ecb80bd5",
   "metadata": {},
   "outputs": [
    {
     "data": {
      "image/png": "[encoded data removed]",
      "text/plain": [
       "<Figure size 432x288 with 1 Axes>"
      ]
     },
     "metadata": {
      "needs_background": "light"
     },
     "output_type": "display_data"
    }
   ],
   "source": [
    "df.pivot_table(index=['platform'], values='sum_sales', \n",
    "               aggfunc='sum').sort_values(by='sum_sales', ascending=False).head().plot(kind='bar');\n",
    "#строим гистограмму распределеий продаж по первым 5 лидирующим платформам"
   ]
  },
  {
   "cell_type": "markdown",
   "id": "0356331d",
   "metadata": {},
   "source": [
    "Итак, платформы с наибольшими суммарными продажами:  \n",
    "`PS2`, `X360`, `PS3`, `Wii`, `DS`.   \n",
    "\n",
    "Посмотрим общее распределение продаж по годам:"
   ]
  },
  {
   "cell_type": "code",
   "execution_count": 25,
   "id": "b8eeb2a5",
   "metadata": {},
   "outputs": [
    {
     "data": {
      "text/html": [
       "<div>\n",
       "<style scoped>\n",
       "    .dataframe tbody tr th:only-of-type {\n",
       "        vertical-align: middle;\n",
       "    }\n",
       "\n",
       "    .dataframe tbody tr th {\n",
       "        vertical-align: top;\n",
       "    }\n",
       "\n",
       "    .dataframe thead th {\n",
       "        text-align: right;\n",
       "    }\n",
       "</style>\n",
       "<table border=\"1\" class=\"dataframe\">\n",
       "  <thead>\n",
       "    <tr style=\"text-align: right;\">\n",
       "      <th></th>\n",
       "      <th>year_of_release</th>\n",
       "      <th>sum_sales</th>\n",
       "    </tr>\n",
       "  </thead>\n",
       "  <tbody>\n",
       "    <tr>\n",
       "      <th>0</th>\n",
       "      <td>1980</td>\n",
       "      <td>11.38</td>\n",
       "    </tr>\n",
       "    <tr>\n",
       "      <th>1</th>\n",
       "      <td>1981</td>\n",
       "      <td>35.68</td>\n",
       "    </tr>\n",
       "    <tr>\n",
       "      <th>2</th>\n",
       "      <td>1982</td>\n",
       "      <td>28.88</td>\n",
       "    </tr>\n",
       "    <tr>\n",
       "      <th>3</th>\n",
       "      <td>1983</td>\n",
       "      <td>16.80</td>\n",
       "    </tr>\n",
       "    <tr>\n",
       "      <th>4</th>\n",
       "      <td>1984</td>\n",
       "      <td>50.35</td>\n",
       "    </tr>\n",
       "  </tbody>\n",
       "</table>\n",
       "</div>"
      ],
      "text/plain": [
       "   year_of_release  sum_sales\n",
       "0             1980      11.38\n",
       "1             1981      35.68\n",
       "2             1982      28.88\n",
       "3             1983      16.80\n",
       "4             1984      50.35"
      ]
     },
     "metadata": {},
     "output_type": "display_data"
    }
   ],
   "source": [
    "sales_pivot = df.pivot_table(index='year_of_release', values='sum_sales', aggfunc='sum').reset_index()\n",
    "display(sales_pivot.head())\n",
    "#создаем сводную таблицу продаж sales_pivot по годам и выводим на экран первые 5 ее строчек"
   ]
  },
  {
   "cell_type": "markdown",
   "id": "95a4d679",
   "metadata": {},
   "source": [
    "Теперь строим график по получившейся таблице:"
   ]
  },
  {
   "cell_type": "code",
   "execution_count": 26,
   "id": "e7e07be3",
   "metadata": {},
   "outputs": [
    {
     "data": {
      "image/png": "[encoded data removed]",
      "text/plain": [
       "<Figure size 432x288 with 1 Axes>"
      ]
     },
     "metadata": {
      "needs_background": "light"
     },
     "output_type": "display_data"
    }
   ],
   "source": [
    "plt.plot(sales_pivot['year_of_release'],sales_pivot['sum_sales'])\n",
    "plt.xlabel(\"Год выпуска игры\")\n",
    "plt.ylabel(\"Продажи за год\")\n",
    "plt.title(\"График продаж по годам\")\n",
    "plt.show()"
   ]
  },
  {
   "cell_type": "markdown",
   "id": "7b30783e",
   "metadata": {},
   "source": [
    "Начиная с 2008-2009 года продажи падают. Компьютерные игры становятся менее популярны?\n",
    "\n",
    "Посмотрим, как изменяется количество платформ с годами:"
   ]
  },
  {
   "cell_type": "code",
   "execution_count": 27,
   "id": "6b5e8a3a",
   "metadata": {},
   "outputs": [
    {
     "data": {
      "image/png": "[encoded data removed]",
      "text/plain": [
       "<Figure size 432x288 with 1 Axes>"
      ]
     },
     "metadata": {
      "needs_background": "light"
     },
     "output_type": "display_data"
    }
   ],
   "source": [
    "df.pivot_table(index='year_of_release', values='platform', aggfunc='count').plot(kind='bar');\n",
    "#создаем сводную таблицу количества платформ на рынке с 2008 по 2015 год\n",
    "#строим гистограмму распределения"
   ]
  },
  {
   "cell_type": "markdown",
   "id": "5da5f69e",
   "metadata": {},
   "source": [
    "Получается, что в 2008-2009 годах на рынке компьютерных игр было зарегистрировано максимальное количество платформ: до этого времени их количество постепенно увеличивалось, а после, видимо, многие платформы утратили свою популярность, потому что пользователи стали отдавать свое предпочтение другим платформам. Поэтому и суммарные продажи на предыдущем графике начали падать: платформ стало меньше, общий доход упал.  \n",
    "Исходя из графиков по платформам и суммарного дохода,понимаем, что индустрия компьютерных игр - это динамично меняющаяся индустрия, поэтому для исследования `актуальным периодом для построения прогноза на 2017 год будем считать период, начиная с 2014 года по 2016`. Создаем датафрейм с этим условием:"
   ]
  },
  {
   "cell_type": "code",
   "execution_count": 28,
   "id": "44ab5a9e",
   "metadata": {},
   "outputs": [],
   "source": [
    "actual_df = df.query('year_of_release>=2014')\n",
    "#создаем новый датафрейм с данными за 2014-2016г"
   ]
  },
  {
   "cell_type": "markdown",
   "id": "031d4a66",
   "metadata": {},
   "source": [
    "Посмотрим, какие платформы находятся в лидерах, начиная с 2008 года:"
   ]
  },
  {
   "cell_type": "code",
   "execution_count": 29,
   "id": "c253fa57",
   "metadata": {},
   "outputs": [
    {
     "data": {
      "text/html": [
       "<div>\n",
       "<style scoped>\n",
       "    .dataframe tbody tr th:only-of-type {\n",
       "        vertical-align: middle;\n",
       "    }\n",
       "\n",
       "    .dataframe tbody tr th {\n",
       "        vertical-align: top;\n",
       "    }\n",
       "\n",
       "    .dataframe thead th {\n",
       "        text-align: right;\n",
       "    }\n",
       "</style>\n",
       "<table border=\"1\" class=\"dataframe\">\n",
       "  <thead>\n",
       "    <tr style=\"text-align: right;\">\n",
       "      <th></th>\n",
       "      <th>sum_sales</th>\n",
       "    </tr>\n",
       "    <tr>\n",
       "      <th>platform</th>\n",
       "      <th></th>\n",
       "    </tr>\n",
       "  </thead>\n",
       "  <tbody>\n",
       "    <tr>\n",
       "      <th>PS4</th>\n",
       "      <td>288.15</td>\n",
       "    </tr>\n",
       "    <tr>\n",
       "      <th>XOne</th>\n",
       "      <td>140.36</td>\n",
       "    </tr>\n",
       "    <tr>\n",
       "      <th>3DS</th>\n",
       "      <td>86.68</td>\n",
       "    </tr>\n",
       "    <tr>\n",
       "      <th>PS3</th>\n",
       "      <td>68.18</td>\n",
       "    </tr>\n",
       "    <tr>\n",
       "      <th>X360</th>\n",
       "      <td>48.22</td>\n",
       "    </tr>\n",
       "    <tr>\n",
       "      <th>WiiU</th>\n",
       "      <td>42.98</td>\n",
       "    </tr>\n",
       "    <tr>\n",
       "      <th>PC</th>\n",
       "      <td>27.05</td>\n",
       "    </tr>\n",
       "    <tr>\n",
       "      <th>PSV</th>\n",
       "      <td>22.40</td>\n",
       "    </tr>\n",
       "    <tr>\n",
       "      <th>Wii</th>\n",
       "      <td>5.07</td>\n",
       "    </tr>\n",
       "    <tr>\n",
       "      <th>PSP</th>\n",
       "      <td>0.36</td>\n",
       "    </tr>\n",
       "  </tbody>\n",
       "</table>\n",
       "</div>"
      ],
      "text/plain": [
       "          sum_sales\n",
       "platform           \n",
       "PS4          288.15\n",
       "XOne         140.36\n",
       "3DS           86.68\n",
       "PS3           68.18\n",
       "X360          48.22\n",
       "WiiU          42.98\n",
       "PC            27.05\n",
       "PSV           22.40\n",
       "Wii            5.07\n",
       "PSP            0.36"
      ]
     },
     "execution_count": 29,
     "metadata": {},
     "output_type": "execute_result"
    }
   ],
   "source": [
    "actual_df.pivot_table(index=['platform'], values='sum_sales', \n",
    "                      aggfunc='sum').sort_values(by='sum_sales', ascending=False)\n",
    "#создаем сводную таблицу по продажам каждой платформы, отсортированную в порядке убывания"
   ]
  },
  {
   "cell_type": "markdown",
   "id": "18b6a4cd",
   "metadata": {},
   "source": [
    "Смотрим, как ведет себя прибыль по годам у этих платформ:"
   ]
  },
  {
   "cell_type": "code",
   "execution_count": 30,
   "id": "efadb2c2",
   "metadata": {},
   "outputs": [
    {
     "data": {
      "image/png": "[encoded data removed]",
      "text/plain": [
       "<Figure size 1440x1440 with 1 Axes>"
      ]
     },
     "metadata": {
      "needs_background": "light"
     },
     "output_type": "display_data"
    }
   ],
   "source": [
    "actual_df.pivot_table(index=\"platform\",columns='year_of_release',\n",
    "               values='sum_sales',aggfunc='sum').plot(kind='bar',figsize=(20,20),\n",
    "                                                      title='Выручка каждой платформы по годам');\n",
    "#создаем сводную таблицу по ежегодным продажам по каждой платформе\n",
    "#строим график распределения выручки каждой платформы по годам"
   ]
  },
  {
   "cell_type": "markdown",
   "id": "66a45df8",
   "metadata": {},
   "source": [
    "**Получается, что продажи растут только у `PS4` и `XOne`, а `PS3`, `3DS`, `X360` становятся неактуальными.**"
   ]
  },
  {
   "cell_type": "markdown",
   "id": "d90890d5",
   "metadata": {},
   "source": [
    "### Ящик с усами по глобальным продажам игр"
   ]
  },
  {
   "cell_type": "markdown",
   "id": "c5f0dbcf",
   "metadata": {},
   "source": [
    "Построим ящик с усами по глобальным продажам игр в разбивке по платформам."
   ]
  },
  {
   "cell_type": "code",
   "execution_count": 31,
   "id": "c2536f02",
   "metadata": {},
   "outputs": [
    {
     "data": {
      "image/png": "[encoded data removed]",
      "text/plain": [
       "<Figure size 1080x720 with 1 Axes>"
      ]
     },
     "metadata": {
      "needs_background": "light"
     },
     "output_type": "display_data"
    }
   ],
   "source": [
    "plt.figure(figsize=(15,10))\n",
    "plt.ylim(0,3)\n",
    "sns.boxplot(x='platform',y='sum_sales',data=actual_df);"
   ]
  },
  {
   "cell_type": "markdown",
   "id": "7502f108",
   "metadata": {},
   "source": [
    "Все распределения платформ скошены вправо.  \n",
    "Медианное значение примерно одинаковое у платформ `PS4`, `XOne`, `WiiU`, `X360`, `Wii`,  и (0.3 млн).\n",
    "Межквартальный размах очень похож у платфором `X360` и `WiiU`, `PS4`, `XOne` и `Wii`. "
   ]
  },
  {
   "cell_type": "markdown",
   "id": "288185cd",
   "metadata": {},
   "source": [
    "### Влияние на продажи отзывов от пользователей и критиков"
   ]
  },
  {
   "cell_type": "markdown",
   "id": "1cb984de",
   "metadata": {},
   "source": [
    "Посмотрим, как влияют на продажи внутри одной популярной платформы отзывы пользователей и критиков. Построим диаграмму рассеяния и посчитаем корреляцию между отзывами и продажами."
   ]
  },
  {
   "cell_type": "markdown",
   "id": "55a1d1f2",
   "metadata": {},
   "source": [
    "Для данного пункта исследования возьмем платформу `XOne`. Оставим в датафрейме `df_actual` данные только об этой платформе с помощью `query()`, далее строим диаграммы рассеяния зависимости продаж `XOne` от отзывов критиков и пользователей. "
   ]
  },
  {
   "cell_type": "code",
   "execution_count": 32,
   "id": "420b525d",
   "metadata": {},
   "outputs": [
    {
     "data": {
      "image/png": "[encoded data removed]",
      "text/plain": [
       "<Figure size 432x288 with 1 Axes>"
      ]
     },
     "metadata": {
      "needs_background": "light"
     },
     "output_type": "display_data"
    }
   ],
   "source": [
    "actual_df.query('platform==\"XOne\" and user_score!=777').plot(\n",
    "    kind='scatter',x='user_score',y='sum_sales');\n",
    "#диаграмма рассеяния зависимости продаж PS4 от отзывов пользователей"
   ]
  },
  {
   "cell_type": "code",
   "execution_count": 33,
   "id": "50582b7a",
   "metadata": {},
   "outputs": [
    {
     "data": {
      "text/plain": [
       "-0.0703839280647581"
      ]
     },
     "execution_count": 33,
     "metadata": {},
     "output_type": "execute_result"
    }
   ],
   "source": [
    "actual_df.query('platform==\"XOne\" and user_score!=777')['sum_sales'].corr(\n",
    "    actual_df.query('platform==\"XOne\" and user_score!=777')['user_score'])\n",
    "#корреляция продаж и отзывов пользователей"
   ]
  },
  {
   "cell_type": "markdown",
   "id": "0f2e7bbf",
   "metadata": {},
   "source": [
    "Получается, что для этой платформы отзывы пользователей и продажи почти не коррелируют между собой, т.к. коэффициент корреляции стремится к 0. При этом коэффициент еще и отрицательный, т.е. существует очень слабая обратная связь.\n",
    "Посмотрим, что там с критиками:"
   ]
  },
  {
   "cell_type": "code",
   "execution_count": 34,
   "id": "882cd702",
   "metadata": {},
   "outputs": [
    {
     "data": {
      "image/png": "[encoded data removed]",
      "text/plain": [
       "<Figure size 432x288 with 1 Axes>"
      ]
     },
     "metadata": {
      "needs_background": "light"
     },
     "output_type": "display_data"
    }
   ],
   "source": [
    "actual_df.query('platform==\"XOne\" and critic_score!=777').plot(\n",
    "    kind='scatter',x='critic_score',y='sum_sales');\n",
    "#диаграмма рассеяния зависимости продаж PS4 от отзывов критиков"
   ]
  },
  {
   "cell_type": "markdown",
   "id": "31bcbd08",
   "metadata": {},
   "source": [
    "С оценкой критиков уже более точно можно сказать еще по диаграмме рассеяния, что чем выше оценка критика, тем больше продажи. Смотрим корреляцию:"
   ]
  },
  {
   "cell_type": "code",
   "execution_count": 35,
   "id": "f6528544",
   "metadata": {},
   "outputs": [
    {
     "data": {
      "text/plain": [
       "0.42867694370333226"
      ]
     },
     "execution_count": 35,
     "metadata": {},
     "output_type": "execute_result"
    }
   ],
   "source": [
    "actual_df.query('platform==\"XOne\" and critic_score!=777')['sum_sales'].corr(\n",
    "    actual_df.query('platform==\"XOne\" and critic_score!=777')['critic_score'])\n",
    "#корреляция продаж и отзывов критиков"
   ]
  },
  {
   "cell_type": "markdown",
   "id": "0c2479c7",
   "metadata": {},
   "source": [
    "И корреляцию тут сильнее, чем с пользовательскими оценками: то есть всё же продажи `XOne` зависят от оценок критиков. Посмотрим еще взаимосвязь между собой оценки критиков и пользователей:"
   ]
  },
  {
   "cell_type": "code",
   "execution_count": 36,
   "id": "1840140a",
   "metadata": {},
   "outputs": [
    {
     "data": {
      "text/plain": [
       "0.44097734837644115"
      ]
     },
     "execution_count": 36,
     "metadata": {},
     "output_type": "execute_result"
    }
   ],
   "source": [
    "actual_df.query('platform==\"XOne\" and critic_score!=777 and user_score!=777')['user_score'].corr(\n",
    "    actual_df.query('platform==\"XOne\" and critic_score!=777 and user_score!=777')['critic_score'])\n",
    "#корреляция оценок критиков и пользователей"
   ]
  },
  {
   "cell_type": "markdown",
   "id": "58a7c6f4",
   "metadata": {},
   "source": [
    "А вот связь между оценки критиков и пользователей чуть нижереднего, то есть с увеличением оценки критиков, растет и оценка пользователей (и наоборот).\n",
    "\n",
    "Посмотрим корреляцию по общему датафрейму `actual_df`:"
   ]
  },
  {
   "cell_type": "code",
   "execution_count": 37,
   "id": "7376ffd9",
   "metadata": {},
   "outputs": [
    {
     "data": {
      "text/plain": [
       "0.3281050869663632"
      ]
     },
     "execution_count": 37,
     "metadata": {},
     "output_type": "execute_result"
    }
   ],
   "source": [
    "actual_df.query('critic_score!=777')['sum_sales'].corr(\n",
    "    actual_df.query('critic_score!=777')['critic_score'])\n",
    "#корреляция продаж и оценкой критиков"
   ]
  },
  {
   "cell_type": "code",
   "execution_count": 38,
   "id": "39c663a6",
   "metadata": {},
   "outputs": [
    {
     "data": {
      "text/plain": [
       "-0.01307030500248456"
      ]
     },
     "execution_count": 38,
     "metadata": {},
     "output_type": "execute_result"
    }
   ],
   "source": [
    "actual_df.query('user_score!=777')['sum_sales'].corr(\n",
    "    actual_df.query('user_score!=777')['user_score'])\n",
    "#корреляция продаж и оценкой пользователей"
   ]
  },
  {
   "cell_type": "code",
   "execution_count": 39,
   "id": "2588a0f3",
   "metadata": {},
   "outputs": [
    {
     "data": {
      "text/plain": [
       "0.5044604031800755"
      ]
     },
     "execution_count": 39,
     "metadata": {},
     "output_type": "execute_result"
    }
   ],
   "source": [
    "actual_df.query('critic_score!=777 and user_score!=777')['user_score'].corr(\n",
    "    actual_df.query('critic_score!=777 and user_score!=777')['critic_score'])\n",
    "#корреляция оценок критиков и пользователей"
   ]
  },
  {
   "cell_type": "markdown",
   "id": "6d2dc792",
   "metadata": {},
   "source": [
    "По общему датафрейму `actual_df` картина примерно такая же, как и у `XOne`: средняя прямая взаимосвязь между продажами и оценкой критиков, а также между оценкой критиков и оценкой пользователей, а вот оценка пользователей не особо влияет на продажи."
   ]
  },
  {
   "cell_type": "markdown",
   "id": "7ca15cb5",
   "metadata": {},
   "source": [
    "### Общее распределение игр по жанрам"
   ]
  },
  {
   "cell_type": "markdown",
   "id": "024d7bc3",
   "metadata": {},
   "source": [
    "Создадим сводную таблицу, в которой посмотрим какие жанры самые популярные и какие продажи у жанров:"
   ]
  },
  {
   "cell_type": "code",
   "execution_count": 40,
   "id": "063a4920",
   "metadata": {},
   "outputs": [
    {
     "data": {
      "text/html": [
       "<div>\n",
       "<style scoped>\n",
       "    .dataframe tbody tr th:only-of-type {\n",
       "        vertical-align: middle;\n",
       "    }\n",
       "\n",
       "    .dataframe tbody tr th {\n",
       "        vertical-align: top;\n",
       "    }\n",
       "\n",
       "    .dataframe thead tr th {\n",
       "        text-align: left;\n",
       "    }\n",
       "\n",
       "    .dataframe thead tr:last-of-type th {\n",
       "        text-align: right;\n",
       "    }\n",
       "</style>\n",
       "<table border=\"1\" class=\"dataframe\">\n",
       "  <thead>\n",
       "    <tr>\n",
       "      <th></th>\n",
       "      <th>count</th>\n",
       "      <th>sum</th>\n",
       "    </tr>\n",
       "    <tr>\n",
       "      <th>genre</th>\n",
       "      <th></th>\n",
       "      <th></th>\n",
       "    </tr>\n",
       "  </thead>\n",
       "  <tbody>\n",
       "    <tr>\n",
       "      <th>Action</th>\n",
       "      <td>619</td>\n",
       "      <td>199.36</td>\n",
       "    </tr>\n",
       "    <tr>\n",
       "      <th>Adventure</th>\n",
       "      <td>185</td>\n",
       "      <td>17.55</td>\n",
       "    </tr>\n",
       "    <tr>\n",
       "      <th>Fighting</th>\n",
       "      <td>60</td>\n",
       "      <td>28.22</td>\n",
       "    </tr>\n",
       "    <tr>\n",
       "      <th>Misc</th>\n",
       "      <td>113</td>\n",
       "      <td>37.55</td>\n",
       "    </tr>\n",
       "    <tr>\n",
       "      <th>Platform</th>\n",
       "      <td>38</td>\n",
       "      <td>18.09</td>\n",
       "    </tr>\n",
       "    <tr>\n",
       "      <th>Puzzle</th>\n",
       "      <td>14</td>\n",
       "      <td>2.21</td>\n",
       "    </tr>\n",
       "    <tr>\n",
       "      <th>Racing</th>\n",
       "      <td>69</td>\n",
       "      <td>27.52</td>\n",
       "    </tr>\n",
       "    <tr>\n",
       "      <th>Role-Playing</th>\n",
       "      <td>221</td>\n",
       "      <td>101.44</td>\n",
       "    </tr>\n",
       "    <tr>\n",
       "      <th>Shooter</th>\n",
       "      <td>128</td>\n",
       "      <td>170.94</td>\n",
       "    </tr>\n",
       "    <tr>\n",
       "      <th>Simulation</th>\n",
       "      <td>44</td>\n",
       "      <td>13.13</td>\n",
       "    </tr>\n",
       "    <tr>\n",
       "      <th>Sports</th>\n",
       "      <td>161</td>\n",
       "      <td>109.48</td>\n",
       "    </tr>\n",
       "    <tr>\n",
       "      <th>Strategy</th>\n",
       "      <td>37</td>\n",
       "      <td>3.96</td>\n",
       "    </tr>\n",
       "  </tbody>\n",
       "</table>\n",
       "</div>"
      ],
      "text/plain": [
       "             count     sum\n",
       "genre                     \n",
       "Action         619  199.36\n",
       "Adventure      185   17.55\n",
       "Fighting        60   28.22\n",
       "Misc           113   37.55\n",
       "Platform        38   18.09\n",
       "Puzzle          14    2.21\n",
       "Racing          69   27.52\n",
       "Role-Playing   221  101.44\n",
       "Shooter        128  170.94\n",
       "Simulation      44   13.13\n",
       "Sports         161  109.48\n",
       "Strategy        37    3.96"
      ]
     },
     "metadata": {},
     "output_type": "display_data"
    }
   ],
   "source": [
    "genre_pivot = actual_df.pivot_table(index='genre', values=['sum_sales'], \n",
    "                                    aggfunc=['count', 'sum'])\n",
    "#создание сводной таблицы\n",
    "genre_pivot.columns=[['count', 'sum']]\n",
    "#переименуем столбцы\n",
    "display(genre_pivot)\n",
    "#вывод на экран сводной таблицы"
   ]
  },
  {
   "cell_type": "markdown",
   "id": "3bfcaaa5",
   "metadata": {},
   "source": [
    "Посмотрим гистограмму по сводной таблице:"
   ]
  },
  {
   "cell_type": "code",
   "execution_count": 41,
   "id": "60e7adb9",
   "metadata": {},
   "outputs": [
    {
     "data": {
      "image/png": "[encoded data removed]",
      "text/plain": [
       "<Figure size 720x720 with 1 Axes>"
      ]
     },
     "metadata": {
      "needs_background": "light"
     },
     "output_type": "display_data"
    }
   ],
   "source": [
    "genre_pivot.plot(kind='bar',figsize=(10,10),title='Выручка каждой платформы по годам');"
   ]
  },
  {
   "cell_type": "markdown",
   "id": "295e623c",
   "metadata": {},
   "source": [
    "`Action` вырывается вперед и по популярности и по продажам. Также популярны `Adventure`, `Misc`, `Role-Playing`, `Sports`, `Shooter`. Хотя `Shooter` по популярности немного уступает остальным жанрам, но по продажам их превосходит. Жанр `Adventure` популярен, но с низкими продажами. "
   ]
  },
  {
   "cell_type": "markdown",
   "id": "4fcdabce",
   "metadata": {},
   "source": [
    "### Вывод"
   ]
  },
  {
   "cell_type": "markdown",
   "id": "b650855b",
   "metadata": {},
   "source": [
    "<div style=\"border:solid orange 2px; padding: 20px\">\n",
    "В ходе исследовательского анализа данных выяснили следующее:\n",
    "    \n",
    "- пик выпуска компьютерных игр приходится на 2009-2010 год\n",
    "- платформы с наибольшими продажами за все года - `PS2`, `X360`, `PS3`, `Wii`, `DS`\n",
    "- в 2008-2009 годах на рынке компьютерных игр было наибольшее количество платформ, в 2011 количество платформ уменьшается примерно в 2 раза, общие продажи соответственно падают\n",
    "- на момент 2015 года продажи растут только у `PS4` и `XOne`, а `PS3`, `DS`, `X360` становятся неактуальными\n",
    "- на продажи влияют отзывы критиков, а вот отзывы пользователей очень слабо коррелируют с продажами\n",
    "- самым популярным и самым продаваемым является жанр `Action` "
   ]
  },
  {
   "cell_type": "markdown",
   "id": "80b3230e",
   "metadata": {},
   "source": [
    "## Портрет пользователя для каждого региона"
   ]
  },
  {
   "cell_type": "markdown",
   "id": "ca61d702",
   "metadata": {},
   "source": [
    "### Портрет пользователя Северной Америки"
   ]
  },
  {
   "cell_type": "markdown",
   "id": "5ffc796e",
   "metadata": {},
   "source": [
    "Чтобы составить портрет пользователя, нужно определить:\n",
    "\n",
    "1 - Самые популярные платформы (топ-5)  \n",
    "2 - Самые популярные жанры (топ-5)  \n",
    "3 - Влияет ли рейтинг ESRB на продажи в отдельном регионе\n",
    "\n",
    "Посмотрим топ-5 предпочтительных жанров для пользователей из Северной Америки:"
   ]
  },
  {
   "cell_type": "markdown",
   "id": "1f6ac834",
   "metadata": {},
   "source": [
    "Логика расчета такая: чем больше потратили денег на игру какого-то жанра, тем он более популярен. \n",
    "Создаем сводную таблицу, по которой строим столбчатую диаграмму:"
   ]
  },
  {
   "cell_type": "code",
   "execution_count": 42,
   "id": "76b3fd7a",
   "metadata": {},
   "outputs": [
    {
     "data": {
      "image/png": "[encoded data removed]",
      "text/plain": [
       "<Figure size 432x288 with 1 Axes>"
      ]
     },
     "metadata": {
      "needs_background": "light"
     },
     "output_type": "display_data"
    }
   ],
   "source": [
    "actual_df.pivot_table(index='genre', values='na_sales', \n",
    "                     aggfunc='sum').sort_values(by='na_sales', \n",
    "                                                  ascending=False).head().plot(kind='bar');"
   ]
  },
  {
   "cell_type": "markdown",
   "id": "2ed58a36",
   "metadata": {},
   "source": [
    "Доли продаж каждого жанра от общих продаж  в Северной Америке:"
   ]
  },
  {
   "cell_type": "code",
   "execution_count": 43,
   "id": "fd02620d",
   "metadata": {},
   "outputs": [
    {
     "name": "stdout",
     "output_type": "stream",
     "text": [
      "Доля продаж жанра Shooter 0.28\n",
      "Доля продаж жанра Action 0.26\n",
      "Доля продаж жанра Sports 0.16\n",
      "Доля продаж жанра Role-Playing 0.12\n",
      "Доля продаж жанра Misc 0.05\n"
     ]
    }
   ],
   "source": [
    "shooter = actual_df.query('genre==\"Shooter\"')['na_sales'].sum()/actual_df['na_sales'].sum()\n",
    "print(\"Доля продаж жанра Shooter\", shooter.round(2))\n",
    "action = actual_df.query('genre==\"Action\"')['na_sales'].sum()/actual_df['na_sales'].sum()\n",
    "print(\"Доля продаж жанра Action\", action.round(2))\n",
    "sports = actual_df.query('genre==\"Sports\"')['na_sales'].sum()/actual_df['na_sales'].sum()\n",
    "print(\"Доля продаж жанра Sports\", sports.round(2))\n",
    "role_playing = actual_df.query('genre==\"Role-Playing\"')['na_sales'].sum()/actual_df['na_sales'].sum()\n",
    "print(\"Доля продаж жанра Role-Playing\", role_playing.round(2))\n",
    "misc = actual_df.query('genre==\"Misc\"')['na_sales'].sum()/actual_df['na_sales'].sum()\n",
    "print(\"Доля продаж жанра Misc\", misc.round(2))"
   ]
  },
  {
   "cell_type": "markdown",
   "id": "66753452",
   "metadata": {},
   "source": [
    "Смотрим топ-5 предпочтительных платформ для пользователей Северной Америки:"
   ]
  },
  {
   "cell_type": "code",
   "execution_count": 44,
   "id": "a372950b",
   "metadata": {},
   "outputs": [
    {
     "data": {
      "image/png": "[encoded data removed]",
      "text/plain": [
       "<Figure size 432x288 with 1 Axes>"
      ]
     },
     "metadata": {
      "needs_background": "light"
     },
     "output_type": "display_data"
    }
   ],
   "source": [
    "actual_df.pivot_table(index='platform', values='na_sales', \n",
    "                     aggfunc='sum').sort_values(by='na_sales', \n",
    "                                                ascending=False).head().plot(kind='bar');"
   ]
  },
  {
   "cell_type": "markdown",
   "id": "269e82c0",
   "metadata": {},
   "source": [
    "Узнаем влияет ли рейтинг ESRB на продажи в NA: делаем сводную таблицу, которая покажет продажи, соответствующие каждому рейтингу:"
   ]
  },
  {
   "cell_type": "code",
   "execution_count": 45,
   "id": "40da5044",
   "metadata": {},
   "outputs": [
    {
     "data": {
      "text/html": [
       "<div>\n",
       "<style scoped>\n",
       "    .dataframe tbody tr th:only-of-type {\n",
       "        vertical-align: middle;\n",
       "    }\n",
       "\n",
       "    .dataframe tbody tr th {\n",
       "        vertical-align: top;\n",
       "    }\n",
       "\n",
       "    .dataframe thead th {\n",
       "        text-align: right;\n",
       "    }\n",
       "</style>\n",
       "<table border=\"1\" class=\"dataframe\">\n",
       "  <thead>\n",
       "    <tr style=\"text-align: right;\">\n",
       "      <th></th>\n",
       "      <th>na_sales</th>\n",
       "    </tr>\n",
       "    <tr>\n",
       "      <th>rating</th>\n",
       "      <th></th>\n",
       "    </tr>\n",
       "  </thead>\n",
       "  <tbody>\n",
       "    <tr>\n",
       "      <th>M</th>\n",
       "      <td>96.42</td>\n",
       "    </tr>\n",
       "    <tr>\n",
       "      <th>E</th>\n",
       "      <td>50.74</td>\n",
       "    </tr>\n",
       "    <tr>\n",
       "      <th>T</th>\n",
       "      <td>38.95</td>\n",
       "    </tr>\n",
       "    <tr>\n",
       "      <th>E10+</th>\n",
       "      <td>33.23</td>\n",
       "    </tr>\n",
       "  </tbody>\n",
       "</table>\n",
       "</div>"
      ],
      "text/plain": [
       "        na_sales\n",
       "rating          \n",
       "M          96.42\n",
       "E          50.74\n",
       "T          38.95\n",
       "E10+       33.23"
      ]
     },
     "execution_count": 45,
     "metadata": {},
     "output_type": "execute_result"
    }
   ],
   "source": [
    "actual_df.query('rating!=777').pivot_table(index='rating',values='na_sales',aggfunc='sum').sort_values(by='na_sales', \n",
    "                                                ascending=False)"
   ]
  },
  {
   "cell_type": "markdown",
   "id": "3b19b739",
   "metadata": {},
   "source": [
    "Конечно рейтинг по возрастной категории влияет на продажи. `M` - `для взрослых` лидируют в NA, далее `E` - игры категории `для всех`, `T` - `для подростков`, `E10+` - `для всех от 10 лет и старше`"
   ]
  },
  {
   "cell_type": "markdown",
   "id": "669c81dd",
   "metadata": {},
   "source": [
    "Итого по пользователям Северной Америки:\n",
    "- предпочтительные жанры: \n",
    "  * Shooter\n",
    "  * Action \n",
    "  * Sports \n",
    "  * Role-Playing \n",
    "  * Misc \n",
    "  \n",
    "- топ-5 платформ:\n",
    "  * PS4\n",
    "  * XOne\n",
    "  * X360\n",
    "  * 3DS\n",
    "  * PS3\n",
    "  \n",
    "- популярные категории рейтинга ESRB: `M`, `E`, `T`, `E10+`"
   ]
  },
  {
   "cell_type": "markdown",
   "id": "c8a7a0be",
   "metadata": {},
   "source": [
    "### Портрет пользователя Европы"
   ]
  },
  {
   "cell_type": "markdown",
   "id": "db23952b",
   "metadata": {},
   "source": [
    "Шаги исследования такие же, как в исследовании пользователя Северной Америки.  \n",
    "Жанры:"
   ]
  },
  {
   "cell_type": "code",
   "execution_count": 46,
   "id": "00144baf",
   "metadata": {},
   "outputs": [
    {
     "data": {
      "image/png": "[encoded data removed]",
      "text/plain": [
       "<Figure size 432x288 with 1 Axes>"
      ]
     },
     "metadata": {
      "needs_background": "light"
     },
     "output_type": "display_data"
    }
   ],
   "source": [
    "actual_df.pivot_table(index='genre', values='eu_sales', \n",
    "                     aggfunc='sum').sort_values(by='eu_sales', \n",
    "                                                  ascending=False).head().plot(kind='bar');"
   ]
  },
  {
   "cell_type": "code",
   "execution_count": 47,
   "id": "31e4d62f",
   "metadata": {},
   "outputs": [
    {
     "name": "stdout",
     "output_type": "stream",
     "text": [
      "Доля продаж жанра Action 0.28\n",
      "Доля продаж жанра Shooter 0.24\n",
      "Доля продаж жанра Sports 0.17\n",
      "Доля продаж жанра Role-Playing 0.1\n",
      "Доля продаж жанра Racing 0.05\n"
     ]
    }
   ],
   "source": [
    "action = actual_df.query('genre==\"Action\"')['eu_sales'].sum()/actual_df['eu_sales'].sum()\n",
    "print(\"Доля продаж жанра Action\", action.round(2))\n",
    "shooter = actual_df.query('genre==\"Shooter\"')['eu_sales'].sum()/actual_df['eu_sales'].sum()\n",
    "print(\"Доля продаж жанра Shooter\", shooter.round(2))\n",
    "sports = actual_df.query('genre==\"Sports\"')['eu_sales'].sum()/actual_df['eu_sales'].sum()\n",
    "print(\"Доля продаж жанра Sports\", sports.round(2))\n",
    "role_playing = actual_df.query('genre==\"Role-Playing\"')['eu_sales'].sum()/actual_df['eu_sales'].sum()\n",
    "print(\"Доля продаж жанра Role-Playing\", role_playing.round(2))\n",
    "racing = actual_df.query('genre==\"Racing\"')['eu_sales'].sum()/actual_df['eu_sales'].sum()\n",
    "print(\"Доля продаж жанра Racing\", racing.round(2))"
   ]
  },
  {
   "cell_type": "markdown",
   "id": "c8d0af08",
   "metadata": {},
   "source": [
    "Много повторений в предпочтительных жанрах игр с Северной Америкой.  \n",
    "Смотрим платформы:"
   ]
  },
  {
   "cell_type": "code",
   "execution_count": 48,
   "id": "959656ee",
   "metadata": {},
   "outputs": [
    {
     "data": {
      "image/png": "[encoded data removed]",
      "text/plain": [
       "<Figure size 432x288 with 1 Axes>"
      ]
     },
     "metadata": {
      "needs_background": "light"
     },
     "output_type": "display_data"
    }
   ],
   "source": [
    "actual_df.pivot_table(index='platform', values='eu_sales', \n",
    "                     aggfunc='sum').sort_values(by='eu_sales', \n",
    "                                                ascending=False).head().plot(kind='bar');"
   ]
  },
  {
   "cell_type": "markdown",
   "id": "bb267d92",
   "metadata": {},
   "source": [
    "Снова много пересечений с Северной Америкой. \n",
    "Рейтинг ESRB:"
   ]
  },
  {
   "cell_type": "code",
   "execution_count": 49,
   "id": "94ced7eb",
   "metadata": {},
   "outputs": [
    {
     "data": {
      "text/html": [
       "<div>\n",
       "<style scoped>\n",
       "    .dataframe tbody tr th:only-of-type {\n",
       "        vertical-align: middle;\n",
       "    }\n",
       "\n",
       "    .dataframe tbody tr th {\n",
       "        vertical-align: top;\n",
       "    }\n",
       "\n",
       "    .dataframe thead th {\n",
       "        text-align: right;\n",
       "    }\n",
       "</style>\n",
       "<table border=\"1\" class=\"dataframe\">\n",
       "  <thead>\n",
       "    <tr style=\"text-align: right;\">\n",
       "      <th></th>\n",
       "      <th>eu_sales</th>\n",
       "    </tr>\n",
       "    <tr>\n",
       "      <th>rating</th>\n",
       "      <th></th>\n",
       "    </tr>\n",
       "  </thead>\n",
       "  <tbody>\n",
       "    <tr>\n",
       "      <th>M</th>\n",
       "      <td>93.44</td>\n",
       "    </tr>\n",
       "    <tr>\n",
       "      <th>E</th>\n",
       "      <td>58.06</td>\n",
       "    </tr>\n",
       "    <tr>\n",
       "      <th>T</th>\n",
       "      <td>34.07</td>\n",
       "    </tr>\n",
       "    <tr>\n",
       "      <th>E10+</th>\n",
       "      <td>26.16</td>\n",
       "    </tr>\n",
       "  </tbody>\n",
       "</table>\n",
       "</div>"
      ],
      "text/plain": [
       "        eu_sales\n",
       "rating          \n",
       "M          93.44\n",
       "E          58.06\n",
       "T          34.07\n",
       "E10+       26.16"
      ]
     },
     "execution_count": 49,
     "metadata": {},
     "output_type": "execute_result"
    }
   ],
   "source": [
    "actual_df.query('rating!=777').pivot_table(index='rating',values='eu_sales',aggfunc='sum').sort_values(by='eu_sales', \n",
    "                                                ascending=False)"
   ]
  },
  {
   "cell_type": "markdown",
   "id": "43eed486",
   "metadata": {},
   "source": [
    "Пользователь `Европы`:\n",
    "- жанры игр: `Action` `Shooter`  `Sports` `Role-Playing` `Racing`\n",
    "- платформы: `PS4` `XOne` `PS3` `PC` `3DS`\n",
    "- игры категорий рейтинга ESRB: `M` `E`  `T` `E10+` (полное совпадение с Северной Америкой)"
   ]
  },
  {
   "cell_type": "markdown",
   "id": "993e8895",
   "metadata": {},
   "source": [
    "### Портрет пользователя из Японии"
   ]
  },
  {
   "cell_type": "markdown",
   "id": "ba906695",
   "metadata": {},
   "source": [
    "Жанры игр:"
   ]
  },
  {
   "cell_type": "code",
   "execution_count": 50,
   "id": "cd0096b6",
   "metadata": {},
   "outputs": [
    {
     "data": {
      "image/png": "[encoded data removed]",
      "text/plain": [
       "<Figure size 432x288 with 1 Axes>"
      ]
     },
     "metadata": {
      "needs_background": "light"
     },
     "output_type": "display_data"
    }
   ],
   "source": [
    "actual_df.pivot_table(index='genre', values='jp_sales', \n",
    "                     aggfunc='sum').sort_values(by='jp_sales', \n",
    "                                                  ascending=False).head().plot(kind='bar');"
   ]
  },
  {
   "cell_type": "code",
   "execution_count": 51,
   "id": "c490d98d",
   "metadata": {},
   "outputs": [
    {
     "name": "stdout",
     "output_type": "stream",
     "text": [
      "Доля продаж жанра Role-Playing 0.33\n",
      "Доля продаж жанра Action 0.32\n",
      "Доля продаж жанра Fighting 0.07\n",
      "Доля продаж жанра Misc 0.06\n",
      "Доля продаж жанра Shooter 0.05\n"
     ]
    }
   ],
   "source": [
    "role_playing = actual_df.query('genre==\"Role-Playing\"')['jp_sales'].sum()/actual_df['jp_sales'].sum()\n",
    "print(\"Доля продаж жанра Role-Playing\", role_playing.round(2))\n",
    "action = actual_df.query('genre==\"Action\"')['jp_sales'].sum()/actual_df['jp_sales'].sum()\n",
    "print(\"Доля продаж жанра Action\", action.round(2))\n",
    "fighting = actual_df.query('genre==\"Fighting\"')['jp_sales'].sum()/actual_df['jp_sales'].sum()\n",
    "print(\"Доля продаж жанра Fighting\", fighting.round(2))\n",
    "misc = actual_df.query('genre==\"Misc\"')['jp_sales'].sum()/actual_df['jp_sales'].sum()\n",
    "print(\"Доля продаж жанра Misc\", misc.round(2))\n",
    "shooter = actual_df.query('genre==\"Shooter\"')['jp_sales'].sum()/actual_df['jp_sales'].sum()\n",
    "print(\"Доля продаж жанра Shooter\", shooter.round(2))"
   ]
  },
  {
   "cell_type": "markdown",
   "id": "bd4522d4",
   "metadata": {},
   "source": [
    "Есть пересечения с европейцами и американцами в жанрах, но Япония на 1 место по популярности поставила жанр `Role-Playing`, хотя `Action` практически с ним наровне.  \n",
    "Смотрим на предпочтение в платформах:"
   ]
  },
  {
   "cell_type": "code",
   "execution_count": 52,
   "id": "17a96bd8",
   "metadata": {},
   "outputs": [
    {
     "data": {
      "image/png": "[encoded data removed]",
      "text/plain": [
       "<Figure size 432x288 with 1 Axes>"
      ]
     },
     "metadata": {
      "needs_background": "light"
     },
     "output_type": "display_data"
    }
   ],
   "source": [
    "actual_df.pivot_table(index='platform', values='jp_sales', \n",
    "                     aggfunc='sum').sort_values(by='jp_sales', \n",
    "                                                ascending=False).head().plot(kind='bar');"
   ]
  },
  {
   "cell_type": "markdown",
   "id": "a139d23d",
   "metadata": {},
   "source": [
    "Узнаем влияет ли рейтинг ESRB на продажи:"
   ]
  },
  {
   "cell_type": "code",
   "execution_count": 53,
   "id": "5cc2cdde",
   "metadata": {},
   "outputs": [
    {
     "data": {
      "text/html": [
       "<div>\n",
       "<style scoped>\n",
       "    .dataframe tbody tr th:only-of-type {\n",
       "        vertical-align: middle;\n",
       "    }\n",
       "\n",
       "    .dataframe tbody tr th {\n",
       "        vertical-align: top;\n",
       "    }\n",
       "\n",
       "    .dataframe thead th {\n",
       "        text-align: right;\n",
       "    }\n",
       "</style>\n",
       "<table border=\"1\" class=\"dataframe\">\n",
       "  <thead>\n",
       "    <tr style=\"text-align: right;\">\n",
       "      <th></th>\n",
       "      <th>jp_sales</th>\n",
       "    </tr>\n",
       "    <tr>\n",
       "      <th>rating</th>\n",
       "      <th></th>\n",
       "    </tr>\n",
       "  </thead>\n",
       "  <tbody>\n",
       "    <tr>\n",
       "      <th>777</th>\n",
       "      <td>56.90</td>\n",
       "    </tr>\n",
       "    <tr>\n",
       "      <th>T</th>\n",
       "      <td>14.78</td>\n",
       "    </tr>\n",
       "    <tr>\n",
       "      <th>E</th>\n",
       "      <td>8.94</td>\n",
       "    </tr>\n",
       "    <tr>\n",
       "      <th>M</th>\n",
       "      <td>8.01</td>\n",
       "    </tr>\n",
       "    <tr>\n",
       "      <th>E10+</th>\n",
       "      <td>4.46</td>\n",
       "    </tr>\n",
       "  </tbody>\n",
       "</table>\n",
       "</div>"
      ],
      "text/plain": [
       "        jp_sales\n",
       "rating          \n",
       "777        56.90\n",
       "T          14.78\n",
       "E           8.94\n",
       "M           8.01\n",
       "E10+        4.46"
      ]
     },
     "execution_count": 53,
     "metadata": {},
     "output_type": "execute_result"
    }
   ],
   "source": [
    "actual_df.pivot_table(index='rating',values='jp_sales',\n",
    "                                           aggfunc='sum').sort_values(by='jp_sales', \n",
    "                                                ascending=False)"
   ]
  },
  {
   "cell_type": "markdown",
   "id": "8ae77227",
   "metadata": {},
   "source": [
    "Получается, что самые популярные категории в Японии скрыты в пропущенных значениях. Гуглим и узнаем, что в Японии свой рейтинг - `CERO`, поэтому здесь сложно судить о популярных категориях рейтинга `ESRB`, хотя японцы всё же играют в категории `T`, `E`, `M` и `E10+`."
   ]
  },
  {
   "cell_type": "markdown",
   "id": "e7e544d6",
   "metadata": {},
   "source": [
    "### Вывод"
   ]
  },
  {
   "cell_type": "markdown",
   "id": "4dd0ceb4",
   "metadata": {},
   "source": [
    "<div style=\"border:solid orange 2px; padding: 20px\">\n",
    "    У всех пользователей популярны жанры `Action` (самый популярный в Европе), `Shooter`(самый популярный в СА) и `Role-Playing`(самый популярный в Японии), среди жителей Европы и Северной Америки популярен жанр `Sports`, японцы же предпочитают жанр `Fighting`(не входит в топ-5 Европы и Северной Америки). Также японские и американские пользователи играют в игры жанра `Misc`. Пресечений по жанрам много.  \n",
    "    \n",
    "По платформам у Европы и Северной Америки много пересечений: `PS4`(самая популярная платформа в СА и Европе), `XOne`, `PS3`, `3DS`, японцы здесь солидарны  по `PS4`,`PS3`и `3DS`(самая популярная платформа в Японии), `PSV` и `WiiU`  попадают в топ-5 только у японцев. Европейский топ-5 включает `PC`, а Американский - `X360`.  \n",
    "    \n",
    "А вот в рейтинге ESRB СА и Европа полностью одинаковы: выбирают предпочтительно игры `М`, `Е`, `T` и `E10+`. По рейтингу ESRB сложно судить Японию: у них существует свой рейтинг `CERO`, поэтому на 1 строчке маркер пропущенных значений \"777\"."
   ]
  },
  {
   "cell_type": "markdown",
   "id": "9aa75a3a",
   "metadata": {},
   "source": [
    "## Проверка гипотез"
   ]
  },
  {
   "cell_type": "markdown",
   "id": "29eeb993",
   "metadata": {},
   "source": [
    "Формулируем `нулевую` и `альтернативную` гипотезы, далее используем `ttest_ind`: предполагаем, что среднее значение совокупностей по нулевой гипотезе равны, сравниваем вероятность получить одинаковое среднее значение двух генеральных выборок со статистической значимостью `alpha=0.05`. Альтернативная гипотеза наоборот будет утверждать, что средние значения не равны. "
   ]
  },
  {
   "cell_type": "markdown",
   "id": "1ec4fa11",
   "metadata": {},
   "source": [
    "### Средние пользовательские рейтинги платформ Xbox One и PC одинаковые"
   ]
  },
  {
   "cell_type": "markdown",
   "id": "58e838aa",
   "metadata": {},
   "source": [
    "Пусть нулевая гипотеза `H0 = средний пользовательский рейтинг платформ Xbox One и PC  одинаковый`, тогда альтернативная гипотеза `H1 = средний пользовательский рейтинг платформ Xbox One и PC не одинаковый`"
   ]
  },
  {
   "cell_type": "markdown",
   "id": "98276878",
   "metadata": {},
   "source": [
    "Вычислим значения дисперсий:"
   ]
  },
  {
   "cell_type": "code",
   "execution_count": 54,
   "id": "dc12f2aa",
   "metadata": {},
   "outputs": [
    {
     "name": "stdout",
     "output_type": "stream",
     "text": [
      "Дисперсия Xbox One 1.8910066518846989\n"
     ]
    }
   ],
   "source": [
    "variance_xone=np.var(actual_df.query('platform==\"XOne\" and user_score!=777')['user_score'],ddof=1)\n",
    "print('Дисперсия Xbox One',variance_xone)"
   ]
  },
  {
   "cell_type": "code",
   "execution_count": 55,
   "id": "6fb6b46c",
   "metadata": {},
   "outputs": [
    {
     "name": "stdout",
     "output_type": "stream",
     "text": [
      "Дисперсия PC 1.8910066518846989\n"
     ]
    }
   ],
   "source": [
    "variance_pc=np.var(actual_df.query('platform==\"PC\" and user_score!=777')['user_score'],ddof=1)\n",
    "print('Дисперсия PC',variance_xone)"
   ]
  },
  {
   "cell_type": "markdown",
   "id": "883cdd8d",
   "metadata": {},
   "source": [
    "Дисперсии равны, поэтому в `t-test`не указываем параметр `equal_var` (по умолчанию будет True) "
   ]
  },
  {
   "cell_type": "code",
   "execution_count": 56,
   "id": "cdebe3a4",
   "metadata": {},
   "outputs": [
    {
     "name": "stdout",
     "output_type": "stream",
     "text": [
      "p-значение: 0.10450507919348415\n",
      "Не получилось отвергнуть нулевую гипотезу\n"
     ]
    }
   ],
   "source": [
    "# критический уровень статистической значимости\n",
    "# если p-value окажется меньше него - отвергнем гипотезу\n",
    "alpha = 0.05\n",
    "\n",
    "results = st.ttest_ind(actual_df.query('platform==\"XOne\" and user_score!=777')['user_score'],\n",
    "                       actual_df.query('platform==\"PC\" and user_score!=777')['user_score'])\n",
    "\n",
    "print('p-значение:', results.pvalue)\n",
    "\n",
    "if results.pvalue < alpha:\n",
    "    print('Отвергаем нулевую гипотезу')\n",
    "else:\n",
    "    print('Не получилось отвергнуть нулевую гипотезу') "
   ]
  },
  {
   "cell_type": "markdown",
   "id": "6a7619a9",
   "metadata": {},
   "source": [
    "Полученное значение `p-value` говорит о том, что вероятность получить случайно равенство средних оценок от пользователей высока, поэтому нулевую гипотезу отвергнуть не удалось.  \n",
    "Вычислим средние значения пользовательской оценки для `PC` и `XOne`:"
   ]
  },
  {
   "cell_type": "code",
   "execution_count": 57,
   "id": "06870c3e",
   "metadata": {},
   "outputs": [
    {
     "name": "stdout",
     "output_type": "stream",
     "text": [
      "6.298360655737703\n",
      "6.594545454545453\n"
     ]
    }
   ],
   "source": [
    "print(actual_df.query('platform==\"PC\" and user_score!=777')['user_score'].mean())\n",
    "print(actual_df.query('platform==\"XOne\" and user_score!=777')['user_score'].mean())"
   ]
  },
  {
   "cell_type": "markdown",
   "id": "f041c67b",
   "metadata": {},
   "source": [
    "### Средний пользовательский рейтинг жанров Action и Sports различается"
   ]
  },
  {
   "cell_type": "markdown",
   "id": "e69b06af",
   "metadata": {},
   "source": [
    "Обозначим нулевую гипотезу так: `H0 = средний пользовательский рейтинг жанров Action и Sports одинаковый`, тогда альтернативная гипотеза `H1 = средний пользовательский рейтинг жанров Action и Sports не одинаковый` "
   ]
  },
  {
   "cell_type": "markdown",
   "id": "47b7ae8c",
   "metadata": {},
   "source": [
    "Вычисляем дисперсии:"
   ]
  },
  {
   "cell_type": "code",
   "execution_count": 58,
   "id": "31c2429c",
   "metadata": {},
   "outputs": [
    {
     "name": "stdout",
     "output_type": "stream",
     "text": [
      "Дисперсия Action 1.898476658476659\n"
     ]
    }
   ],
   "source": [
    "variance_action=np.var(actual_df.query('genre==\"Action\" and user_score!=777')['user_score'],ddof=1)\n",
    "print('Дисперсия Action',variance_action)"
   ]
  },
  {
   "cell_type": "code",
   "execution_count": 59,
   "id": "f70bfeb3",
   "metadata": {},
   "outputs": [
    {
     "name": "stdout",
     "output_type": "stream",
     "text": [
      "Дисперсия Sports 3.4469791276090476\n"
     ]
    }
   ],
   "source": [
    "variance_sports=np.var(actual_df.query('genre==\"Sports\" and user_score!=777')['user_score'],ddof=1)\n",
    "print('Дисперсия Sports',variance_sports)"
   ]
  },
  {
   "cell_type": "markdown",
   "id": "715d5b17",
   "metadata": {},
   "source": [
    "Дисперсии разные, в `t-test` указываем параметр `equal_var=False`:"
   ]
  },
  {
   "cell_type": "code",
   "execution_count": 60,
   "id": "975c6059",
   "metadata": {},
   "outputs": [
    {
     "name": "stdout",
     "output_type": "stream",
     "text": [
      "p-значение: 1.1825550382644557e-14\n",
      "Отвергаем нулевую гипотезу\n"
     ]
    }
   ],
   "source": [
    "# критический уровень статистической значимости\n",
    "# если p-value окажется меньше него - отвергнем гипотезу\n",
    "alpha = 0.05\n",
    "\n",
    "results = st.ttest_ind(actual_df.query('genre==\"Action\" and user_score!=777')['user_score'],\n",
    "                       actual_df.query('genre==\"Sports\" and user_score!=777')['user_score'],\n",
    "                      equal_var=False)\n",
    "\n",
    "print('p-значение:', results.pvalue)\n",
    "\n",
    "if results.pvalue < alpha:\n",
    "    print('Отвергаем нулевую гипотезу')\n",
    "else:\n",
    "    print('Не получилось отвергнуть нулевую гипотезу') "
   ]
  },
  {
   "cell_type": "markdown",
   "id": "477f3fa3",
   "metadata": {},
   "source": [
    "Маленькая вероятность `p-value` получить одинаковое среднее по оценкам пользователей жанров `Action` и `Sports`."
   ]
  },
  {
   "cell_type": "markdown",
   "id": "8b649217",
   "metadata": {},
   "source": [
    "Вычисляем средние оценки пользователей по жанрам:"
   ]
  },
  {
   "cell_type": "code",
   "execution_count": 61,
   "id": "61b3f15f",
   "metadata": {},
   "outputs": [
    {
     "name": "stdout",
     "output_type": "stream",
     "text": [
      "6.760606060606054\n",
      "5.225196850393697\n"
     ]
    }
   ],
   "source": [
    "print(actual_df.query('genre==\"Action\" and user_score!=777')['user_score'].mean())\n",
    "print(actual_df.query('genre==\"Sports\" and user_score!=777')['user_score'].mean())"
   ]
  },
  {
   "cell_type": "markdown",
   "id": "e1232a04",
   "metadata": {},
   "source": [
    "### Вывод"
   ]
  },
  {
   "cell_type": "markdown",
   "id": "76b943d7",
   "metadata": {},
   "source": [
    "<div style=\"border:solid orange 2px; padding: 20px\">\n",
    "    Проверили 2 гипотезы:\n",
    "    \n",
    "- средний пользовательский рейтинг платформ Xbox One и PC одинаковый(вероятность получить случайно равенство средних оценок от пользователей высока)\n",
    "- средний пользовательский рейтинг жанров Action и Sports различается(вероятность получить случайным образом одинаковый рейтинг от пользователей мала)"
   ]
  },
  {
   "cell_type": "markdown",
   "id": "40114583",
   "metadata": {},
   "source": [
    "## Общий вывод"
   ]
  },
  {
   "cell_type": "markdown",
   "id": "ee2c268f",
   "metadata": {},
   "source": [
    "<div style=\"border:solid orange 2px; padding: 20px\">\n",
    "Важные моменты исследования:  \n",
    "    \n",
    "- пик выпуска компьютерных игр был в 2008-2010 годах, при этом, начиная с 2010 года количество платформ на рынке сокращается, общие продажи падают\n",
    "- за период с 80х по 2016 год самыми прибыльными платформами являются: `PS2`, `X360`, `PS3`, `Wii`, `DS`, при этом на данный момент актуальны платформы `PS4` и `Xbox One`. Платформа в среднем \"живет\" 8 лет, пик популярности и продаж приходится на 3-5 год\n",
    "- самые популярные жанры - `Action`(1 строчка в Европе), `Shooter` (1 строчка в Европе), `Sports`, `Role-Playing`(самый популярный жанр в Японии)\n",
    "- в рейтинге ESRB пользователи выбирают предпочтительно игры категорий E (для всех), M (для взрослых), T (для подростков) и E10+ (для всех от 10 лет)\n",
    "- на продажи игр влияет отзыв от критиков \n",
    "- Северная Америка занимает лидирующую позицию по продажам компьютерных игр, далее - Европа и Япония, другие страны. \n",
    "    \n",
    "Итого: стоит обратить внимание на платформы `PS4` и `XOne`, жанр `Action`, `Shooter`, `Role-Playing`, игры категорий `для всех`, `для взрослых`, `для подростков` по рейтигну ESRB, учесть влияние отзывов критиков на продажи - возможно, выделение бюджета.  "
   ]
  }
 ],
 "metadata": {
  "ExecuteTimeLog": [
   {
    "duration": 1243,
    "start_time": "2022-06-02T09:53:14.235Z"
   },
   {
    "duration": 63,
    "start_time": "2022-06-02T09:53:15.480Z"
   },
   {
    "duration": 131,
    "start_time": "2022-06-02T09:53:15.546Z"
   },
   {
    "duration": 5,
    "start_time": "2022-06-02T09:53:15.679Z"
   },
   {
    "duration": 49,
    "start_time": "2022-06-02T09:53:15.685Z"
   },
   {
    "duration": 40,
    "start_time": "2022-06-02T09:53:15.735Z"
   },
   {
    "duration": 27,
    "start_time": "2022-06-02T09:53:15.777Z"
   },
   {
    "duration": 27,
    "start_time": "2022-06-02T09:53:15.806Z"
   },
   {
    "duration": 53,
    "start_time": "2022-06-02T09:53:15.836Z"
   },
   {
    "duration": 25,
    "start_time": "2022-06-02T09:53:15.892Z"
   },
   {
    "duration": 48,
    "start_time": "2022-06-02T09:53:15.918Z"
   },
   {
    "duration": 32,
    "start_time": "2022-06-02T09:53:15.968Z"
   },
   {
    "duration": 20,
    "start_time": "2022-06-02T09:53:16.002Z"
   },
   {
    "duration": 40,
    "start_time": "2022-06-02T09:53:16.024Z"
   },
   {
    "duration": 36,
    "start_time": "2022-06-02T09:53:16.066Z"
   },
   {
    "duration": 25,
    "start_time": "2022-06-02T09:53:16.103Z"
   },
   {
    "duration": 42,
    "start_time": "2022-06-02T09:53:16.130Z"
   },
   {
    "duration": 33,
    "start_time": "2022-06-02T09:53:16.174Z"
   },
   {
    "duration": 29,
    "start_time": "2022-06-02T09:53:16.209Z"
   },
   {
    "duration": 35,
    "start_time": "2022-06-02T09:53:16.240Z"
   },
   {
    "duration": 351,
    "start_time": "2022-06-02T09:53:16.277Z"
   },
   {
    "duration": 62,
    "start_time": "2022-06-02T09:53:16.629Z"
   },
   {
    "duration": 66,
    "start_time": "2022-06-02T09:53:16.693Z"
   },
   {
    "duration": 138,
    "start_time": "2022-06-02T09:53:16.764Z"
   },
   {
    "duration": 14,
    "start_time": "2022-06-02T09:53:16.904Z"
   },
   {
    "duration": 166,
    "start_time": "2022-06-02T09:53:16.920Z"
   },
   {
    "duration": 328,
    "start_time": "2022-06-02T09:53:17.089Z"
   },
   {
    "duration": 6,
    "start_time": "2022-06-02T09:53:17.421Z"
   },
   {
    "duration": 40,
    "start_time": "2022-06-02T09:53:17.429Z"
   },
   {
    "duration": 586,
    "start_time": "2022-06-02T09:53:17.471Z"
   },
   {
    "duration": 348,
    "start_time": "2022-06-02T09:53:18.059Z"
   },
   {
    "duration": 203,
    "start_time": "2022-06-02T09:53:18.410Z"
   },
   {
    "duration": 13,
    "start_time": "2022-06-02T09:53:18.615Z"
   },
   {
    "duration": 201,
    "start_time": "2022-06-02T09:53:18.630Z"
   },
   {
    "duration": 19,
    "start_time": "2022-06-02T09:53:18.833Z"
   },
   {
    "duration": 43,
    "start_time": "2022-06-02T09:53:18.854Z"
   },
   {
    "duration": 12,
    "start_time": "2022-06-02T09:53:18.899Z"
   },
   {
    "duration": 17,
    "start_time": "2022-06-02T09:53:18.913Z"
   },
   {
    "duration": 43,
    "start_time": "2022-06-02T09:53:18.932Z"
   },
   {
    "duration": 43,
    "start_time": "2022-06-02T09:53:18.977Z"
   },
   {
    "duration": 364,
    "start_time": "2022-06-02T09:53:19.022Z"
   },
   {
    "duration": 154,
    "start_time": "2022-06-02T09:53:19.388Z"
   },
   {
    "duration": 32,
    "start_time": "2022-06-02T09:53:19.543Z"
   },
   {
    "duration": 136,
    "start_time": "2022-06-02T09:53:19.577Z"
   },
   {
    "duration": 15,
    "start_time": "2022-06-02T09:53:19.715Z"
   },
   {
    "duration": 155,
    "start_time": "2022-06-02T09:53:19.732Z"
   },
   {
    "duration": 27,
    "start_time": "2022-06-02T09:53:19.889Z"
   },
   {
    "duration": 171,
    "start_time": "2022-06-02T09:53:19.918Z"
   },
   {
    "duration": 22,
    "start_time": "2022-06-02T09:53:20.090Z"
   },
   {
    "duration": 165,
    "start_time": "2022-06-02T09:53:20.114Z"
   },
   {
    "duration": 22,
    "start_time": "2022-06-02T09:53:20.281Z"
   },
   {
    "duration": 164,
    "start_time": "2022-06-02T09:53:20.306Z"
   },
   {
    "duration": 18,
    "start_time": "2022-06-02T09:53:20.472Z"
   },
   {
    "duration": 6,
    "start_time": "2022-06-02T09:53:20.492Z"
   },
   {
    "duration": 137,
    "start_time": "2022-06-02T09:53:20.500Z"
   },
   {
    "duration": 0,
    "start_time": "2022-06-02T09:53:20.639Z"
   },
   {
    "duration": 0,
    "start_time": "2022-06-02T09:53:20.640Z"
   },
   {
    "duration": 0,
    "start_time": "2022-06-02T09:53:20.645Z"
   },
   {
    "duration": 0,
    "start_time": "2022-06-02T09:53:20.647Z"
   },
   {
    "duration": 0,
    "start_time": "2022-06-02T09:53:20.648Z"
   },
   {
    "duration": 0,
    "start_time": "2022-06-02T09:53:20.650Z"
   },
   {
    "duration": 7,
    "start_time": "2022-06-02T09:53:49.135Z"
   },
   {
    "duration": 17,
    "start_time": "2022-06-02T09:53:50.278Z"
   },
   {
    "duration": 9,
    "start_time": "2022-06-02T09:53:50.766Z"
   },
   {
    "duration": 10,
    "start_time": "2022-06-02T09:53:51.510Z"
   },
   {
    "duration": 10,
    "start_time": "2022-06-02T09:53:51.671Z"
   },
   {
    "duration": 20,
    "start_time": "2022-06-02T09:53:52.102Z"
   },
   {
    "duration": 11,
    "start_time": "2022-06-02T09:53:53.182Z"
   },
   {
    "duration": 152,
    "start_time": "2022-06-02T09:56:33.042Z"
   },
   {
    "duration": 38241,
    "start_time": "2022-06-02T09:56:41.052Z"
   },
   {
    "duration": 217,
    "start_time": "2022-06-02T09:57:20.689Z"
   }
  ],
  "kernelspec": {
   "display_name": "Python 3 (ipykernel)",
   "language": "python",
   "name": "python3"
  },
  "language_info": {
   "codemirror_mode": {
    "name": "ipython",
    "version": 3
   },
   "file_extension": ".py",
   "mimetype": "text/x-python",
   "name": "python",
   "nbconvert_exporter": "python",
   "pygments_lexer": "ipython3",
   "version": "3.9.12"
  },
  "toc": {
   "base_numbering": 1,
   "nav_menu": {},
   "number_sections": true,
   "sideBar": true,
   "skip_h1_title": true,
   "title_cell": "Содержание",
   "title_sidebar": "Contents",
   "toc_cell": true,
   "toc_position": {
    "height": "calc(100% - 180px)",
    "left": "10px",
    "top": "150px",
    "width": "256px"
   },
   "toc_section_display": true,
   "toc_window_display": true
  }
 },
 "nbformat": 4,
 "nbformat_minor": 5
}
