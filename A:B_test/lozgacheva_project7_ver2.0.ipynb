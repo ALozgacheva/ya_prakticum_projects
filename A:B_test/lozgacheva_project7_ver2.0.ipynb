{
 "cells": [
  {
   "cell_type": "markdown",
   "id": "f27db493",
   "metadata": {
    "toc": true
   },
   "source": [
    "<h1>Содержание<span class=\"tocSkip\"></span></h1>\n",
    "<div class=\"toc\"><ul class=\"toc-item\"><li><span><a href=\"#Описание-исследования-и-цель-исследования\" data-toc-modified-id=\"Описание-исследования-и-цель-исследования-1\"><span class=\"toc-item-num\">1&nbsp;&nbsp;</span>Описание исследования и цель исследования</a></span></li><li><span><a href=\"#Изучение-данных-из-файлов\" data-toc-modified-id=\"Изучение-данных-из-файлов-2\"><span class=\"toc-item-num\">2&nbsp;&nbsp;</span>Изучение данных из файлов</a></span><ul class=\"toc-item\"><li><span><a href=\"#Вывод\" data-toc-modified-id=\"Вывод-2.1\"><span class=\"toc-item-num\">2.1&nbsp;&nbsp;</span>Вывод</a></span></li></ul></li><li><span><a href=\"#Приоритизация-гипотез\" data-toc-modified-id=\"Приоритизация-гипотез-3\"><span class=\"toc-item-num\">3&nbsp;&nbsp;</span>Приоритизация гипотез</a></span><ul class=\"toc-item\"><li><span><a href=\"#Вывод\" data-toc-modified-id=\"Вывод-3.1\"><span class=\"toc-item-num\">3.1&nbsp;&nbsp;</span>Вывод</a></span></li></ul></li><li><span><a href=\"#Анализ-A/B-теста\" data-toc-modified-id=\"Анализ-A/B-теста-4\"><span class=\"toc-item-num\">4&nbsp;&nbsp;</span>Анализ A/B теста</a></span><ul class=\"toc-item\"><li><span><a href=\"#График-кумулятивной-выручки-по-группам\" data-toc-modified-id=\"График-кумулятивной-выручки-по-группам-4.1\"><span class=\"toc-item-num\">4.1&nbsp;&nbsp;</span>График кумулятивной выручки по группам</a></span></li><li><span><a href=\"#График-кумулятивного-среднего-чека-по-группам\" data-toc-modified-id=\"График-кумулятивного-среднего-чека-по-группам-4.2\"><span class=\"toc-item-num\">4.2&nbsp;&nbsp;</span>График кумулятивного среднего чека по группам</a></span></li><li><span><a href=\"#График-относительного-изменения-кумулятивного-среднего-чека-группы-B-к-группе-A\" data-toc-modified-id=\"График-относительного-изменения-кумулятивного-среднего-чека-группы-B-к-группе-A-4.3\"><span class=\"toc-item-num\">4.3&nbsp;&nbsp;</span>График относительного изменения кумулятивного среднего чека группы B к группе A</a></span></li><li><span><a href=\"#График-кумулятивной-конверсии-по-группам\" data-toc-modified-id=\"График-кумулятивной-конверсии-по-группам-4.4\"><span class=\"toc-item-num\">4.4&nbsp;&nbsp;</span>График кумулятивной конверсии по группам</a></span></li><li><span><a href=\"#График-относительного-изменения-кумулятивной-конверсии-группы-B-к-группе-A\" data-toc-modified-id=\"График-относительного-изменения-кумулятивной-конверсии-группы-B-к-группе-A-4.5\"><span class=\"toc-item-num\">4.5&nbsp;&nbsp;</span>График относительного изменения кумулятивной конверсии группы B к группе A</a></span></li><li><span><a href=\"#Точечный-график-количества-заказов-по-пользователям\" data-toc-modified-id=\"Точечный-график-количества-заказов-по-пользователям-4.6\"><span class=\"toc-item-num\">4.6&nbsp;&nbsp;</span>Точечный график количества заказов по пользователям</a></span></li><li><span><a href=\"#95-й-и-99-й-перцентилей-количества-заказов-на-пользователя\" data-toc-modified-id=\"95-й-и-99-й-перцентилей-количества-заказов-на-пользователя-4.7\"><span class=\"toc-item-num\">4.7&nbsp;&nbsp;</span>95-й и 99-й перцентилей количества заказов на пользователя</a></span></li><li><span><a href=\"#Точечный-график-стоимостей-заказов\" data-toc-modified-id=\"Точечный-график-стоимостей-заказов-4.8\"><span class=\"toc-item-num\">4.8&nbsp;&nbsp;</span>Точечный график стоимостей заказов</a></span></li><li><span><a href=\"#95-й-и-99-й-перцентили-стоимости-заказов\" data-toc-modified-id=\"95-й-и-99-й-перцентили-стоимости-заказов-4.9\"><span class=\"toc-item-num\">4.9&nbsp;&nbsp;</span>95-й и 99-й перцентили стоимости заказов</a></span></li><li><span><a href=\"#Статистическая-значимость-различий-в-конверсии-между-группами-по-«сырым»-данным\" data-toc-modified-id=\"Статистическая-значимость-различий-в-конверсии-между-группами-по-«сырым»-данным-4.10\"><span class=\"toc-item-num\">4.10&nbsp;&nbsp;</span>Статистическая значимость различий в конверсии между группами по «сырым» данным</a></span></li><li><span><a href=\"#Статистическая-значимость-различий-в-среднем-чеке-заказа-между-группами-по-«сырым»-данным\" data-toc-modified-id=\"Статистическая-значимость-различий-в-среднем-чеке-заказа-между-группами-по-«сырым»-данным-4.11\"><span class=\"toc-item-num\">4.11&nbsp;&nbsp;</span>Статистическая значимость различий в среднем чеке заказа между группами по «сырым» данным</a></span></li><li><span><a href=\"#Cтатистическую-значимость-различий-в-конверсии-между-группами-по-«очищенным»-данным\" data-toc-modified-id=\"Cтатистическую-значимость-различий-в-конверсии-между-группами-по-«очищенным»-данным-4.12\"><span class=\"toc-item-num\">4.12&nbsp;&nbsp;</span>Cтатистическую значимость различий в конверсии между группами по «очищенным» данным</a></span></li><li><span><a href=\"#Статистическая-значимость-различий-в-среднем-чеке-заказа-между-группами-по-«очищенным»-данным\" data-toc-modified-id=\"Статистическая-значимость-различий-в-среднем-чеке-заказа-между-группами-по-«очищенным»-данным-4.13\"><span class=\"toc-item-num\">4.13&nbsp;&nbsp;</span>Статистическая значимость различий в среднем чеке заказа между группами по «очищенным» данным</a></span></li></ul></li><li><span><a href=\"#Вывод\" data-toc-modified-id=\"Вывод-5\"><span class=\"toc-item-num\">5&nbsp;&nbsp;</span>Вывод</a></span></li></ul></div>"
   ]
  },
  {
   "cell_type": "markdown",
   "id": "1f888937",
   "metadata": {},
   "source": [
    "<div style=\"border:solid pink 7px; padding: 20px\">\n",
    "<h1>Увеличение выручки интернет-магазина, А/В тест<span class=\"tocSkip\"></span></h1>\n",
    "<div class=\"toc\"><ul class=\"toc-item\"></ul></div>"
   ]
  },
  {
   "cell_type": "markdown",
   "id": "f8327607",
   "metadata": {},
   "source": [
    "## Описание исследования и цель исследования"
   ]
  },
  {
   "cell_type": "markdown",
   "id": "69c23f2d",
   "metadata": {},
   "source": [
    "Аналитик крупного интернет-магазина вместе с отделом маркетинга подготовили список гипотез для увеличения выручки.\n",
    "В ходе исследования предстоит приоритизировать гипотезы, запустить A/B-тест и проанализировать результаты.\n",
    "\n",
    "В нашем распоряжении 3 датафрейма: `hypothesis`, `orders`, `visitors`. "
   ]
  },
  {
   "cell_type": "markdown",
   "id": "cde4f87b",
   "metadata": {},
   "source": [
    "## Изучение данных из файлов"
   ]
  },
  {
   "cell_type": "markdown",
   "id": "8a5dc7c3",
   "metadata": {},
   "source": [
    "Импортируем библиотеки:"
   ]
  },
  {
   "cell_type": "code",
   "execution_count": 1,
   "id": "7c1d80e5",
   "metadata": {},
   "outputs": [],
   "source": [
    "import pandas as pd\n",
    "import matplotlib.pyplot as plt\n",
    "import seaborn as sns\n",
    "sns.set(rc={'figure.figsize':(10, 8)})\n",
    "import scipy.stats as stats\n",
    "from scipy import stats as st\n",
    "import math\n",
    "import numpy as np   "
   ]
  },
  {
   "cell_type": "markdown",
   "id": "ecf108a4",
   "metadata": {},
   "source": [
    "Читаем файлы `hypothesis.csv`, `orders.csv`, `visitors.csv`:"
   ]
  },
  {
   "cell_type": "code",
   "execution_count": 2,
   "id": "635cecb3",
   "metadata": {},
   "outputs": [],
   "source": [
    "try:\n",
    "    hypothesis= pd.read_csv('/datasets/hypothesis.csv')\n",
    "except:\n",
    "    hypothesis = pd.read_csv('/Users/i_am_redhead/Downloads/Yandex_Practicum/Projects/project_A:Btest_7/hypothesis.csv')\n",
    "\n",
    "try:\n",
    "    orders= pd.read_csv('/datasets/orders.csv')\n",
    "except:\n",
    "    orders = pd.read_csv('/Users/i_am_redhead/Downloads/Yandex_Practicum/Projects/project_A:Btest_7/orders.csv')\n",
    "    \n",
    "try:\n",
    "    visitors= pd.read_csv('/datasets/visitors.csv')\n",
    "except:\n",
    "    visitors = pd.read_csv('/Users/i_am_redhead/Downloads/Yandex_Practicum/Projects/project_A:Btest_7/visitors.csv')"
   ]
  },
  {
   "cell_type": "markdown",
   "id": "8d091a6e",
   "metadata": {},
   "source": [
    "Смотрим информацию о датафрейме `hypothesis`, первые 5 строк, название столбцов, пропуски с помощью обзорной функции `info`, которая в виде аргумента принимает `hypothesis`:"
   ]
  },
  {
   "cell_type": "code",
   "execution_count": 3,
   "id": "7bee2b18",
   "metadata": {},
   "outputs": [
    {
     "name": "stdout",
     "output_type": "stream",
     "text": [
      "<class 'pandas.core.frame.DataFrame'>\n",
      "RangeIndex: 9 entries, 0 to 8\n",
      "Data columns (total 5 columns):\n",
      " #   Column      Non-Null Count  Dtype \n",
      "---  ------      --------------  ----- \n",
      " 0   Hypothesis  9 non-null      object\n",
      " 1   Reach       9 non-null      int64 \n",
      " 2   Impact      9 non-null      int64 \n",
      " 3   Confidence  9 non-null      int64 \n",
      " 4   Efforts     9 non-null      int64 \n",
      "dtypes: int64(4), object(1)\n",
      "memory usage: 488.0+ bytes\n"
     ]
    },
    {
     "data": {
      "text/html": [
       "<div>\n",
       "<style scoped>\n",
       "    .dataframe tbody tr th:only-of-type {\n",
       "        vertical-align: middle;\n",
       "    }\n",
       "\n",
       "    .dataframe tbody tr th {\n",
       "        vertical-align: top;\n",
       "    }\n",
       "\n",
       "    .dataframe thead th {\n",
       "        text-align: right;\n",
       "    }\n",
       "</style>\n",
       "<table border=\"1\" class=\"dataframe\">\n",
       "  <thead>\n",
       "    <tr style=\"text-align: right;\">\n",
       "      <th></th>\n",
       "      <th>Hypothesis</th>\n",
       "      <th>Reach</th>\n",
       "      <th>Impact</th>\n",
       "      <th>Confidence</th>\n",
       "      <th>Efforts</th>\n",
       "    </tr>\n",
       "  </thead>\n",
       "  <tbody>\n",
       "    <tr>\n",
       "      <th>0</th>\n",
       "      <td>Добавить два новых канала привлечения трафика,...</td>\n",
       "      <td>3</td>\n",
       "      <td>10</td>\n",
       "      <td>8</td>\n",
       "      <td>6</td>\n",
       "    </tr>\n",
       "    <tr>\n",
       "      <th>1</th>\n",
       "      <td>Запустить собственную службу доставки, что сок...</td>\n",
       "      <td>2</td>\n",
       "      <td>5</td>\n",
       "      <td>4</td>\n",
       "      <td>10</td>\n",
       "    </tr>\n",
       "    <tr>\n",
       "      <th>2</th>\n",
       "      <td>Добавить блоки рекомендаций товаров на сайт ин...</td>\n",
       "      <td>8</td>\n",
       "      <td>3</td>\n",
       "      <td>7</td>\n",
       "      <td>3</td>\n",
       "    </tr>\n",
       "    <tr>\n",
       "      <th>3</th>\n",
       "      <td>Изменить структура категорий, что увеличит кон...</td>\n",
       "      <td>8</td>\n",
       "      <td>3</td>\n",
       "      <td>3</td>\n",
       "      <td>8</td>\n",
       "    </tr>\n",
       "    <tr>\n",
       "      <th>4</th>\n",
       "      <td>Изменить цвет фона главной страницы, чтобы уве...</td>\n",
       "      <td>3</td>\n",
       "      <td>1</td>\n",
       "      <td>1</td>\n",
       "      <td>1</td>\n",
       "    </tr>\n",
       "  </tbody>\n",
       "</table>\n",
       "</div>"
      ],
      "text/plain": [
       "                                          Hypothesis  Reach  Impact  \\\n",
       "0  Добавить два новых канала привлечения трафика,...      3      10   \n",
       "1  Запустить собственную службу доставки, что сок...      2       5   \n",
       "2  Добавить блоки рекомендаций товаров на сайт ин...      8       3   \n",
       "3  Изменить структура категорий, что увеличит кон...      8       3   \n",
       "4  Изменить цвет фона главной страницы, чтобы уве...      3       1   \n",
       "\n",
       "   Confidence  Efforts  \n",
       "0           8        6  \n",
       "1           4       10  \n",
       "2           7        3  \n",
       "3           3        8  \n",
       "4           1        1  "
      ]
     },
     "metadata": {},
     "output_type": "display_data"
    },
    {
     "name": "stdout",
     "output_type": "stream",
     "text": [
      "Index(['Hypothesis', 'Reach', 'Impact', 'Confidence', 'Efforts'], dtype='object')\n"
     ]
    },
    {
     "data": {
      "text/html": [
       "<style type=\"text/css\">\n",
       "</style>\n",
       "<table id=\"T_e1974_\">\n",
       "  <thead>\n",
       "    <tr>\n",
       "      <th class=\"blank level0\" >&nbsp;</th>\n",
       "      <th class=\"col_heading level0 col0\" >NaNs,%</th>\n",
       "    </tr>\n",
       "  </thead>\n",
       "  <tbody>\n",
       "    <tr>\n",
       "      <th id=\"T_e1974_level0_row0\" class=\"row_heading level0 row0\" >Hypothesis</th>\n",
       "      <td id=\"T_e1974_row0_col0\" class=\"data row0 col0\" >0.00</td>\n",
       "    </tr>\n",
       "    <tr>\n",
       "      <th id=\"T_e1974_level0_row1\" class=\"row_heading level0 row1\" >Reach</th>\n",
       "      <td id=\"T_e1974_row1_col0\" class=\"data row1 col0\" >0.00</td>\n",
       "    </tr>\n",
       "    <tr>\n",
       "      <th id=\"T_e1974_level0_row2\" class=\"row_heading level0 row2\" >Impact</th>\n",
       "      <td id=\"T_e1974_row2_col0\" class=\"data row2 col0\" >0.00</td>\n",
       "    </tr>\n",
       "    <tr>\n",
       "      <th id=\"T_e1974_level0_row3\" class=\"row_heading level0 row3\" >Confidence</th>\n",
       "      <td id=\"T_e1974_row3_col0\" class=\"data row3 col0\" >0.00</td>\n",
       "    </tr>\n",
       "    <tr>\n",
       "      <th id=\"T_e1974_level0_row4\" class=\"row_heading level0 row4\" >Efforts</th>\n",
       "      <td id=\"T_e1974_row4_col0\" class=\"data row4 col0\" >0.00</td>\n",
       "    </tr>\n",
       "  </tbody>\n",
       "</table>\n"
      ],
      "text/plain": [
       "<pandas.io.formats.style.Styler at 0x7f98a4750c70>"
      ]
     },
     "metadata": {},
     "output_type": "display_data"
    },
    {
     "name": "stdout",
     "output_type": "stream",
     "text": [
      "None\n"
     ]
    }
   ],
   "source": [
    "def info(hypothesis):\n",
    "    hypothesis.info()\n",
    "    display(hypothesis.head())\n",
    "    print(hypothesis.columns)\n",
    "    display(pd.DataFrame(round((hypothesis.isna().mean()*100), 2), columns=['NaNs,%']).style.format('{:.2f}'))\n",
    "print(info(hypothesis))"
   ]
  },
  {
   "cell_type": "markdown",
   "id": "75f85828",
   "metadata": {},
   "source": [
    "Датафрейм `hypothesis` состоит из 5 столбцов:\n",
    "\n",
    "- `Hypothesis` — краткое описание гипотезы;\n",
    "- `Reach` — охват пользователей по 10-балльной шкале;\n",
    "- `Impact` — влияние на пользователей по 10-балльной шкале;\n",
    "- `Confidence` — уверенность в гипотезе по 10-балльной шкале;\n",
    "- `Efforts` — затраты ресурсов на проверку гипотезы по 10-балльной шкале. Чем больше значение Efforts, тем дороже проверка гипотезы.\n"
   ]
  },
  {
   "cell_type": "markdown",
   "id": "4a51c8e6",
   "metadata": {},
   "source": [
    "Смотрим информацию о датафрейме `orders`, первые 5 строк, название столбцов, пропуски с помощью обзорной функции `info`, которая в виде аргумента принимает `orders`:"
   ]
  },
  {
   "cell_type": "code",
   "execution_count": 4,
   "id": "b94fba0a",
   "metadata": {},
   "outputs": [
    {
     "name": "stdout",
     "output_type": "stream",
     "text": [
      "<class 'pandas.core.frame.DataFrame'>\n",
      "RangeIndex: 1197 entries, 0 to 1196\n",
      "Data columns (total 5 columns):\n",
      " #   Column         Non-Null Count  Dtype \n",
      "---  ------         --------------  ----- \n",
      " 0   transactionId  1197 non-null   int64 \n",
      " 1   visitorId      1197 non-null   int64 \n",
      " 2   date           1197 non-null   object\n",
      " 3   revenue        1197 non-null   int64 \n",
      " 4   group          1197 non-null   object\n",
      "dtypes: int64(3), object(2)\n",
      "memory usage: 46.9+ KB\n"
     ]
    },
    {
     "data": {
      "text/html": [
       "<div>\n",
       "<style scoped>\n",
       "    .dataframe tbody tr th:only-of-type {\n",
       "        vertical-align: middle;\n",
       "    }\n",
       "\n",
       "    .dataframe tbody tr th {\n",
       "        vertical-align: top;\n",
       "    }\n",
       "\n",
       "    .dataframe thead th {\n",
       "        text-align: right;\n",
       "    }\n",
       "</style>\n",
       "<table border=\"1\" class=\"dataframe\">\n",
       "  <thead>\n",
       "    <tr style=\"text-align: right;\">\n",
       "      <th></th>\n",
       "      <th>transactionId</th>\n",
       "      <th>visitorId</th>\n",
       "      <th>date</th>\n",
       "      <th>revenue</th>\n",
       "      <th>group</th>\n",
       "    </tr>\n",
       "  </thead>\n",
       "  <tbody>\n",
       "    <tr>\n",
       "      <th>0</th>\n",
       "      <td>3667963787</td>\n",
       "      <td>3312258926</td>\n",
       "      <td>2019-08-15</td>\n",
       "      <td>1650</td>\n",
       "      <td>B</td>\n",
       "    </tr>\n",
       "    <tr>\n",
       "      <th>1</th>\n",
       "      <td>2804400009</td>\n",
       "      <td>3642806036</td>\n",
       "      <td>2019-08-15</td>\n",
       "      <td>730</td>\n",
       "      <td>B</td>\n",
       "    </tr>\n",
       "    <tr>\n",
       "      <th>2</th>\n",
       "      <td>2961555356</td>\n",
       "      <td>4069496402</td>\n",
       "      <td>2019-08-15</td>\n",
       "      <td>400</td>\n",
       "      <td>A</td>\n",
       "    </tr>\n",
       "    <tr>\n",
       "      <th>3</th>\n",
       "      <td>3797467345</td>\n",
       "      <td>1196621759</td>\n",
       "      <td>2019-08-15</td>\n",
       "      <td>9759</td>\n",
       "      <td>B</td>\n",
       "    </tr>\n",
       "    <tr>\n",
       "      <th>4</th>\n",
       "      <td>2282983706</td>\n",
       "      <td>2322279887</td>\n",
       "      <td>2019-08-15</td>\n",
       "      <td>2308</td>\n",
       "      <td>B</td>\n",
       "    </tr>\n",
       "  </tbody>\n",
       "</table>\n",
       "</div>"
      ],
      "text/plain": [
       "   transactionId   visitorId        date  revenue group\n",
       "0     3667963787  3312258926  2019-08-15     1650     B\n",
       "1     2804400009  3642806036  2019-08-15      730     B\n",
       "2     2961555356  4069496402  2019-08-15      400     A\n",
       "3     3797467345  1196621759  2019-08-15     9759     B\n",
       "4     2282983706  2322279887  2019-08-15     2308     B"
      ]
     },
     "metadata": {},
     "output_type": "display_data"
    },
    {
     "name": "stdout",
     "output_type": "stream",
     "text": [
      "Index(['transactionId', 'visitorId', 'date', 'revenue', 'group'], dtype='object')\n"
     ]
    },
    {
     "data": {
      "text/html": [
       "<style type=\"text/css\">\n",
       "</style>\n",
       "<table id=\"T_eb6f4_\">\n",
       "  <thead>\n",
       "    <tr>\n",
       "      <th class=\"blank level0\" >&nbsp;</th>\n",
       "      <th class=\"col_heading level0 col0\" >NaNs,%</th>\n",
       "    </tr>\n",
       "  </thead>\n",
       "  <tbody>\n",
       "    <tr>\n",
       "      <th id=\"T_eb6f4_level0_row0\" class=\"row_heading level0 row0\" >transactionId</th>\n",
       "      <td id=\"T_eb6f4_row0_col0\" class=\"data row0 col0\" >0.00</td>\n",
       "    </tr>\n",
       "    <tr>\n",
       "      <th id=\"T_eb6f4_level0_row1\" class=\"row_heading level0 row1\" >visitorId</th>\n",
       "      <td id=\"T_eb6f4_row1_col0\" class=\"data row1 col0\" >0.00</td>\n",
       "    </tr>\n",
       "    <tr>\n",
       "      <th id=\"T_eb6f4_level0_row2\" class=\"row_heading level0 row2\" >date</th>\n",
       "      <td id=\"T_eb6f4_row2_col0\" class=\"data row2 col0\" >0.00</td>\n",
       "    </tr>\n",
       "    <tr>\n",
       "      <th id=\"T_eb6f4_level0_row3\" class=\"row_heading level0 row3\" >revenue</th>\n",
       "      <td id=\"T_eb6f4_row3_col0\" class=\"data row3 col0\" >0.00</td>\n",
       "    </tr>\n",
       "    <tr>\n",
       "      <th id=\"T_eb6f4_level0_row4\" class=\"row_heading level0 row4\" >group</th>\n",
       "      <td id=\"T_eb6f4_row4_col0\" class=\"data row4 col0\" >0.00</td>\n",
       "    </tr>\n",
       "  </tbody>\n",
       "</table>\n"
      ],
      "text/plain": [
       "<pandas.io.formats.style.Styler at 0x7f98a808cd60>"
      ]
     },
     "metadata": {},
     "output_type": "display_data"
    },
    {
     "name": "stdout",
     "output_type": "stream",
     "text": [
      "None\n"
     ]
    }
   ],
   "source": [
    "def info(orders):\n",
    "    orders.info()\n",
    "    display(orders.head())\n",
    "    print(orders.columns)\n",
    "    display(pd.DataFrame(round((orders.isna().mean()*100), 2), columns=['NaNs,%']).style.format('{:.2f}'))\n",
    "print(info(orders))"
   ]
  },
  {
   "cell_type": "markdown",
   "id": "97f72d8f",
   "metadata": {},
   "source": [
    "Датафрейм `orders` состоит из 5 столбцов:\n",
    "\n",
    "- `transactionId` — идентификатор заказа;\n",
    "- `visitorId` — идентификатор пользователя, совершившего заказ;\n",
    "- `date` — дата, когда был совершён заказ;\n",
    "- `revenue` — выручка заказа;\n",
    "- `group` — группа A/B-теста, в которую попал заказ."
   ]
  },
  {
   "cell_type": "markdown",
   "id": "d0855cab",
   "metadata": {},
   "source": [
    "Смотрим информацию о датафрейме `visitors`, первые 5 строк, название столбцов, пропуски с помощью обзорной функции `info`, которая в виде аргумента принимает `visitors`:"
   ]
  },
  {
   "cell_type": "code",
   "execution_count": 5,
   "id": "73e9cf35",
   "metadata": {},
   "outputs": [
    {
     "name": "stdout",
     "output_type": "stream",
     "text": [
      "<class 'pandas.core.frame.DataFrame'>\n",
      "RangeIndex: 62 entries, 0 to 61\n",
      "Data columns (total 3 columns):\n",
      " #   Column    Non-Null Count  Dtype \n",
      "---  ------    --------------  ----- \n",
      " 0   date      62 non-null     object\n",
      " 1   group     62 non-null     object\n",
      " 2   visitors  62 non-null     int64 \n",
      "dtypes: int64(1), object(2)\n",
      "memory usage: 1.6+ KB\n"
     ]
    },
    {
     "data": {
      "text/html": [
       "<div>\n",
       "<style scoped>\n",
       "    .dataframe tbody tr th:only-of-type {\n",
       "        vertical-align: middle;\n",
       "    }\n",
       "\n",
       "    .dataframe tbody tr th {\n",
       "        vertical-align: top;\n",
       "    }\n",
       "\n",
       "    .dataframe thead th {\n",
       "        text-align: right;\n",
       "    }\n",
       "</style>\n",
       "<table border=\"1\" class=\"dataframe\">\n",
       "  <thead>\n",
       "    <tr style=\"text-align: right;\">\n",
       "      <th></th>\n",
       "      <th>date</th>\n",
       "      <th>group</th>\n",
       "      <th>visitors</th>\n",
       "    </tr>\n",
       "  </thead>\n",
       "  <tbody>\n",
       "    <tr>\n",
       "      <th>0</th>\n",
       "      <td>2019-08-01</td>\n",
       "      <td>A</td>\n",
       "      <td>719</td>\n",
       "    </tr>\n",
       "    <tr>\n",
       "      <th>1</th>\n",
       "      <td>2019-08-02</td>\n",
       "      <td>A</td>\n",
       "      <td>619</td>\n",
       "    </tr>\n",
       "    <tr>\n",
       "      <th>2</th>\n",
       "      <td>2019-08-03</td>\n",
       "      <td>A</td>\n",
       "      <td>507</td>\n",
       "    </tr>\n",
       "    <tr>\n",
       "      <th>3</th>\n",
       "      <td>2019-08-04</td>\n",
       "      <td>A</td>\n",
       "      <td>717</td>\n",
       "    </tr>\n",
       "    <tr>\n",
       "      <th>4</th>\n",
       "      <td>2019-08-05</td>\n",
       "      <td>A</td>\n",
       "      <td>756</td>\n",
       "    </tr>\n",
       "  </tbody>\n",
       "</table>\n",
       "</div>"
      ],
      "text/plain": [
       "         date group  visitors\n",
       "0  2019-08-01     A       719\n",
       "1  2019-08-02     A       619\n",
       "2  2019-08-03     A       507\n",
       "3  2019-08-04     A       717\n",
       "4  2019-08-05     A       756"
      ]
     },
     "metadata": {},
     "output_type": "display_data"
    },
    {
     "name": "stdout",
     "output_type": "stream",
     "text": [
      "Index(['date', 'group', 'visitors'], dtype='object')\n"
     ]
    },
    {
     "data": {
      "text/html": [
       "<style type=\"text/css\">\n",
       "</style>\n",
       "<table id=\"T_88ecb_\">\n",
       "  <thead>\n",
       "    <tr>\n",
       "      <th class=\"blank level0\" >&nbsp;</th>\n",
       "      <th class=\"col_heading level0 col0\" >NaNs,%</th>\n",
       "    </tr>\n",
       "  </thead>\n",
       "  <tbody>\n",
       "    <tr>\n",
       "      <th id=\"T_88ecb_level0_row0\" class=\"row_heading level0 row0\" >date</th>\n",
       "      <td id=\"T_88ecb_row0_col0\" class=\"data row0 col0\" >0.00</td>\n",
       "    </tr>\n",
       "    <tr>\n",
       "      <th id=\"T_88ecb_level0_row1\" class=\"row_heading level0 row1\" >group</th>\n",
       "      <td id=\"T_88ecb_row1_col0\" class=\"data row1 col0\" >0.00</td>\n",
       "    </tr>\n",
       "    <tr>\n",
       "      <th id=\"T_88ecb_level0_row2\" class=\"row_heading level0 row2\" >visitors</th>\n",
       "      <td id=\"T_88ecb_row2_col0\" class=\"data row2 col0\" >0.00</td>\n",
       "    </tr>\n",
       "  </tbody>\n",
       "</table>\n"
      ],
      "text/plain": [
       "<pandas.io.formats.style.Styler at 0x7f98a8034d60>"
      ]
     },
     "metadata": {},
     "output_type": "display_data"
    },
    {
     "name": "stdout",
     "output_type": "stream",
     "text": [
      "None\n"
     ]
    }
   ],
   "source": [
    "def info(visitors):\n",
    "    visitors.info()\n",
    "    display(visitors.head())\n",
    "    print(visitors.columns)\n",
    "    display(pd.DataFrame(round((visitors.isna().mean()*100), 2), columns=['NaNs,%']).style.format('{:.2f}'))\n",
    "print(info(visitors))"
   ]
  },
  {
   "cell_type": "markdown",
   "id": "6c504185",
   "metadata": {},
   "source": [
    "Датафрейм `visitors` состоит из 3 столбцов:\n",
    "- `date` — дата;\n",
    "- `group` — группа A/B-теста;\n",
    "- `visitors` — количество пользователей в указанную дату в указанной группе A/B-теста"
   ]
  },
  {
   "cell_type": "markdown",
   "id": "f779a743",
   "metadata": {},
   "source": [
    "Приведем к нижнем регистру названия столбцов датафрейма `hypothesis`:"
   ]
  },
  {
   "cell_type": "code",
   "execution_count": 6,
   "id": "e7b54876",
   "metadata": {},
   "outputs": [
    {
     "data": {
      "text/html": [
       "<div>\n",
       "<style scoped>\n",
       "    .dataframe tbody tr th:only-of-type {\n",
       "        vertical-align: middle;\n",
       "    }\n",
       "\n",
       "    .dataframe tbody tr th {\n",
       "        vertical-align: top;\n",
       "    }\n",
       "\n",
       "    .dataframe thead th {\n",
       "        text-align: right;\n",
       "    }\n",
       "</style>\n",
       "<table border=\"1\" class=\"dataframe\">\n",
       "  <thead>\n",
       "    <tr style=\"text-align: right;\">\n",
       "      <th></th>\n",
       "      <th>hypothesis</th>\n",
       "      <th>reach</th>\n",
       "      <th>impact</th>\n",
       "      <th>confidence</th>\n",
       "      <th>efforts</th>\n",
       "    </tr>\n",
       "  </thead>\n",
       "  <tbody>\n",
       "    <tr>\n",
       "      <th>0</th>\n",
       "      <td>Добавить два новых канала привлечения трафика,...</td>\n",
       "      <td>3</td>\n",
       "      <td>10</td>\n",
       "      <td>8</td>\n",
       "      <td>6</td>\n",
       "    </tr>\n",
       "    <tr>\n",
       "      <th>1</th>\n",
       "      <td>Запустить собственную службу доставки, что сок...</td>\n",
       "      <td>2</td>\n",
       "      <td>5</td>\n",
       "      <td>4</td>\n",
       "      <td>10</td>\n",
       "    </tr>\n",
       "    <tr>\n",
       "      <th>2</th>\n",
       "      <td>Добавить блоки рекомендаций товаров на сайт ин...</td>\n",
       "      <td>8</td>\n",
       "      <td>3</td>\n",
       "      <td>7</td>\n",
       "      <td>3</td>\n",
       "    </tr>\n",
       "    <tr>\n",
       "      <th>3</th>\n",
       "      <td>Изменить структура категорий, что увеличит кон...</td>\n",
       "      <td>8</td>\n",
       "      <td>3</td>\n",
       "      <td>3</td>\n",
       "      <td>8</td>\n",
       "    </tr>\n",
       "    <tr>\n",
       "      <th>4</th>\n",
       "      <td>Изменить цвет фона главной страницы, чтобы уве...</td>\n",
       "      <td>3</td>\n",
       "      <td>1</td>\n",
       "      <td>1</td>\n",
       "      <td>1</td>\n",
       "    </tr>\n",
       "  </tbody>\n",
       "</table>\n",
       "</div>"
      ],
      "text/plain": [
       "                                          hypothesis  reach  impact  \\\n",
       "0  Добавить два новых канала привлечения трафика,...      3      10   \n",
       "1  Запустить собственную службу доставки, что сок...      2       5   \n",
       "2  Добавить блоки рекомендаций товаров на сайт ин...      8       3   \n",
       "3  Изменить структура категорий, что увеличит кон...      8       3   \n",
       "4  Изменить цвет фона главной страницы, чтобы уве...      3       1   \n",
       "\n",
       "   confidence  efforts  \n",
       "0           8        6  \n",
       "1           4       10  \n",
       "2           7        3  \n",
       "3           3        8  \n",
       "4           1        1  "
      ]
     },
     "execution_count": 6,
     "metadata": {},
     "output_type": "execute_result"
    }
   ],
   "source": [
    "hypothesis.columns = hypothesis.columns.str.lower()\n",
    "hypothesis.head()"
   ]
  },
  {
   "cell_type": "markdown",
   "id": "7ee88d10",
   "metadata": {},
   "source": [
    "В датафрейме `orders` приведем названия столбцов к \"змеиному_языку\":"
   ]
  },
  {
   "cell_type": "code",
   "execution_count": 7,
   "id": "220fb1b3",
   "metadata": {},
   "outputs": [
    {
     "data": {
      "text/plain": [
       "Index(['transactionId', 'visitorId', 'date', 'revenue', 'group'], dtype='object')"
      ]
     },
     "execution_count": 7,
     "metadata": {},
     "output_type": "execute_result"
    }
   ],
   "source": [
    "orders.columns"
   ]
  },
  {
   "cell_type": "code",
   "execution_count": 8,
   "id": "6815d96a",
   "metadata": {},
   "outputs": [],
   "source": [
    "orders.columns=['transaction_id', 'visitor_id', 'date', 'revenue', 'group']"
   ]
  },
  {
   "cell_type": "code",
   "execution_count": 9,
   "id": "b6473433",
   "metadata": {},
   "outputs": [
    {
     "data": {
      "text/html": [
       "<div>\n",
       "<style scoped>\n",
       "    .dataframe tbody tr th:only-of-type {\n",
       "        vertical-align: middle;\n",
       "    }\n",
       "\n",
       "    .dataframe tbody tr th {\n",
       "        vertical-align: top;\n",
       "    }\n",
       "\n",
       "    .dataframe thead th {\n",
       "        text-align: right;\n",
       "    }\n",
       "</style>\n",
       "<table border=\"1\" class=\"dataframe\">\n",
       "  <thead>\n",
       "    <tr style=\"text-align: right;\">\n",
       "      <th></th>\n",
       "      <th>transaction_id</th>\n",
       "      <th>visitor_id</th>\n",
       "      <th>date</th>\n",
       "      <th>revenue</th>\n",
       "      <th>group</th>\n",
       "    </tr>\n",
       "  </thead>\n",
       "  <tbody>\n",
       "    <tr>\n",
       "      <th>867</th>\n",
       "      <td>1538887006</td>\n",
       "      <td>3372131337</td>\n",
       "      <td>2019-08-30</td>\n",
       "      <td>35890</td>\n",
       "      <td>B</td>\n",
       "    </tr>\n",
       "  </tbody>\n",
       "</table>\n",
       "</div>"
      ],
      "text/plain": [
       "     transaction_id  visitor_id        date  revenue group\n",
       "867      1538887006  3372131337  2019-08-30    35890     B"
      ]
     },
     "execution_count": 9,
     "metadata": {},
     "output_type": "execute_result"
    }
   ],
   "source": [
    "orders.sample()"
   ]
  },
  {
   "cell_type": "markdown",
   "id": "32e246c7",
   "metadata": {},
   "source": [
    "Пропусков в датафреймах нет, проверим на дубликаты:"
   ]
  },
  {
   "cell_type": "code",
   "execution_count": 10,
   "id": "a4f677a1",
   "metadata": {},
   "outputs": [
    {
     "name": "stdout",
     "output_type": "stream",
     "text": [
      "0\n",
      "0\n",
      "0\n"
     ]
    }
   ],
   "source": [
    "print(hypothesis.duplicated().sum())\n",
    "print(orders.duplicated().sum())\n",
    "print(visitors.duplicated().sum())"
   ]
  },
  {
   "cell_type": "markdown",
   "id": "32d4dfc7",
   "metadata": {},
   "source": [
    "Столбцы с датами приведем к нужному типу `datetime` в датафреймах `orders`, `visitors`:"
   ]
  },
  {
   "cell_type": "code",
   "execution_count": 11,
   "id": "f2a6e2c5",
   "metadata": {},
   "outputs": [],
   "source": [
    "orders['date'] = pd.to_datetime(orders['date'])\n",
    "visitors['date'] = pd.to_datetime(visitors['date'])"
   ]
  },
  {
   "cell_type": "markdown",
   "id": "da848f32",
   "metadata": {},
   "source": [
    "### Вывод"
   ]
  },
  {
   "cell_type": "markdown",
   "id": "bf9a898a",
   "metadata": {},
   "source": [
    "<div style=\"border:solid pink 5px; padding: 20px\">\n",
    "    \n",
    "Изучили данные в датафреймах. Пропусков нет, дубликаты отсутствуют. Данные приведены к нужному типу, наименвания стобцов датафрейма `hypothesis` к нижнему регистру, а `orders` - к \"змеиному_языку\". Можно переходить к исследованию."
   ]
  },
  {
   "cell_type": "markdown",
   "id": "03efffe9",
   "metadata": {},
   "source": [
    "## Приоритизация гипотез"
   ]
  },
  {
   "cell_type": "markdown",
   "id": "21da9493",
   "metadata": {},
   "source": [
    "Применим фреймворк `ICE` для приоритизации гипотез. Отсортируем их по убыванию приоритета и выведем первые 5 строчек:"
   ]
  },
  {
   "cell_type": "code",
   "execution_count": 12,
   "id": "30688898",
   "metadata": {},
   "outputs": [],
   "source": [
    "hypothesis['ICE'] = hypothesis['impact'] * hypothesis['confidence'] / hypothesis['efforts']"
   ]
  },
  {
   "cell_type": "code",
   "execution_count": 13,
   "id": "c5f0acdf",
   "metadata": {},
   "outputs": [
    {
     "data": {
      "text/html": [
       "<div>\n",
       "<style scoped>\n",
       "    .dataframe tbody tr th:only-of-type {\n",
       "        vertical-align: middle;\n",
       "    }\n",
       "\n",
       "    .dataframe tbody tr th {\n",
       "        vertical-align: top;\n",
       "    }\n",
       "\n",
       "    .dataframe thead th {\n",
       "        text-align: right;\n",
       "    }\n",
       "</style>\n",
       "<table border=\"1\" class=\"dataframe\">\n",
       "  <thead>\n",
       "    <tr style=\"text-align: right;\">\n",
       "      <th></th>\n",
       "      <th>hypothesis</th>\n",
       "      <th>reach</th>\n",
       "      <th>impact</th>\n",
       "      <th>confidence</th>\n",
       "      <th>efforts</th>\n",
       "      <th>ICE</th>\n",
       "    </tr>\n",
       "  </thead>\n",
       "  <tbody>\n",
       "    <tr>\n",
       "      <th>8</th>\n",
       "      <td>Запустить акцию, дающую скидку на товар в день рождения</td>\n",
       "      <td>1</td>\n",
       "      <td>9</td>\n",
       "      <td>9</td>\n",
       "      <td>5</td>\n",
       "      <td>16.200000</td>\n",
       "    </tr>\n",
       "    <tr>\n",
       "      <th>0</th>\n",
       "      <td>Добавить два новых канала привлечения трафика, что позволит привлекать на 30% больше пользователей</td>\n",
       "      <td>3</td>\n",
       "      <td>10</td>\n",
       "      <td>8</td>\n",
       "      <td>6</td>\n",
       "      <td>13.333333</td>\n",
       "    </tr>\n",
       "    <tr>\n",
       "      <th>7</th>\n",
       "      <td>Добавить форму подписки на все основные страницы, чтобы собрать базу клиентов для email-рассылок</td>\n",
       "      <td>10</td>\n",
       "      <td>7</td>\n",
       "      <td>8</td>\n",
       "      <td>5</td>\n",
       "      <td>11.200000</td>\n",
       "    </tr>\n",
       "    <tr>\n",
       "      <th>6</th>\n",
       "      <td>Показать на главной странице баннеры с актуальными акциями и распродажами, чтобы увеличить конверсию</td>\n",
       "      <td>5</td>\n",
       "      <td>3</td>\n",
       "      <td>8</td>\n",
       "      <td>3</td>\n",
       "      <td>8.000000</td>\n",
       "    </tr>\n",
       "    <tr>\n",
       "      <th>2</th>\n",
       "      <td>Добавить блоки рекомендаций товаров на сайт интернет магазина, чтобы повысить конверсию и средний чек заказа</td>\n",
       "      <td>8</td>\n",
       "      <td>3</td>\n",
       "      <td>7</td>\n",
       "      <td>3</td>\n",
       "      <td>7.000000</td>\n",
       "    </tr>\n",
       "    <tr>\n",
       "      <th>1</th>\n",
       "      <td>Запустить собственную службу доставки, что сократит срок доставки заказов</td>\n",
       "      <td>2</td>\n",
       "      <td>5</td>\n",
       "      <td>4</td>\n",
       "      <td>10</td>\n",
       "      <td>2.000000</td>\n",
       "    </tr>\n",
       "    <tr>\n",
       "      <th>5</th>\n",
       "      <td>Добавить страницу отзывов клиентов о магазине, что позволит увеличить количество заказов</td>\n",
       "      <td>3</td>\n",
       "      <td>2</td>\n",
       "      <td>2</td>\n",
       "      <td>3</td>\n",
       "      <td>1.333333</td>\n",
       "    </tr>\n",
       "    <tr>\n",
       "      <th>3</th>\n",
       "      <td>Изменить структура категорий, что увеличит конверсию, т.к. пользователи быстрее найдут нужный товар</td>\n",
       "      <td>8</td>\n",
       "      <td>3</td>\n",
       "      <td>3</td>\n",
       "      <td>8</td>\n",
       "      <td>1.125000</td>\n",
       "    </tr>\n",
       "    <tr>\n",
       "      <th>4</th>\n",
       "      <td>Изменить цвет фона главной страницы, чтобы увеличить вовлеченность пользователей</td>\n",
       "      <td>3</td>\n",
       "      <td>1</td>\n",
       "      <td>1</td>\n",
       "      <td>1</td>\n",
       "      <td>1.000000</td>\n",
       "    </tr>\n",
       "  </tbody>\n",
       "</table>\n",
       "</div>"
      ],
      "text/plain": [
       "                                                                                                     hypothesis  \\\n",
       "8                                                       Запустить акцию, дающую скидку на товар в день рождения   \n",
       "0            Добавить два новых канала привлечения трафика, что позволит привлекать на 30% больше пользователей   \n",
       "7              Добавить форму подписки на все основные страницы, чтобы собрать базу клиентов для email-рассылок   \n",
       "6          Показать на главной странице баннеры с актуальными акциями и распродажами, чтобы увеличить конверсию   \n",
       "2  Добавить блоки рекомендаций товаров на сайт интернет магазина, чтобы повысить конверсию и средний чек заказа   \n",
       "1                                     Запустить собственную службу доставки, что сократит срок доставки заказов   \n",
       "5                      Добавить страницу отзывов клиентов о магазине, что позволит увеличить количество заказов   \n",
       "3           Изменить структура категорий, что увеличит конверсию, т.к. пользователи быстрее найдут нужный товар   \n",
       "4                              Изменить цвет фона главной страницы, чтобы увеличить вовлеченность пользователей   \n",
       "\n",
       "   reach  impact  confidence  efforts        ICE  \n",
       "8      1       9           9        5  16.200000  \n",
       "0      3      10           8        6  13.333333  \n",
       "7     10       7           8        5  11.200000  \n",
       "6      5       3           8        3   8.000000  \n",
       "2      8       3           7        3   7.000000  \n",
       "1      2       5           4       10   2.000000  \n",
       "5      3       2           2        3   1.333333  \n",
       "3      8       3           3        8   1.125000  \n",
       "4      3       1           1        1   1.000000  "
      ]
     },
     "execution_count": 13,
     "metadata": {},
     "output_type": "execute_result"
    }
   ],
   "source": [
    "hypothesis = hypothesis.sort_values('ICE', ascending=False)\n",
    "pd.options.display.max_colwidth = 210\n",
    "hypothesis"
   ]
  },
  {
   "cell_type": "markdown",
   "id": "c4a88a91",
   "metadata": {},
   "source": [
    "Применим фреймворк `RICE` для приоритизации гипотез, отсортируем их по убыванию приоритета."
   ]
  },
  {
   "cell_type": "code",
   "execution_count": 14,
   "id": "18eb0ef5",
   "metadata": {},
   "outputs": [
    {
     "data": {
      "text/html": [
       "<div>\n",
       "<style scoped>\n",
       "    .dataframe tbody tr th:only-of-type {\n",
       "        vertical-align: middle;\n",
       "    }\n",
       "\n",
       "    .dataframe tbody tr th {\n",
       "        vertical-align: top;\n",
       "    }\n",
       "\n",
       "    .dataframe thead th {\n",
       "        text-align: right;\n",
       "    }\n",
       "</style>\n",
       "<table border=\"1\" class=\"dataframe\">\n",
       "  <thead>\n",
       "    <tr style=\"text-align: right;\">\n",
       "      <th></th>\n",
       "      <th>hypothesis</th>\n",
       "      <th>reach</th>\n",
       "      <th>impact</th>\n",
       "      <th>confidence</th>\n",
       "      <th>efforts</th>\n",
       "      <th>ICE</th>\n",
       "      <th>RICE</th>\n",
       "    </tr>\n",
       "  </thead>\n",
       "  <tbody>\n",
       "    <tr>\n",
       "      <th>7</th>\n",
       "      <td>Добавить форму подписки на все основные страницы, чтобы собрать базу клиентов для email-рассылок</td>\n",
       "      <td>10</td>\n",
       "      <td>7</td>\n",
       "      <td>8</td>\n",
       "      <td>5</td>\n",
       "      <td>11.200000</td>\n",
       "      <td>112.0</td>\n",
       "    </tr>\n",
       "    <tr>\n",
       "      <th>2</th>\n",
       "      <td>Добавить блоки рекомендаций товаров на сайт интернет магазина, чтобы повысить конверсию и средний чек заказа</td>\n",
       "      <td>8</td>\n",
       "      <td>3</td>\n",
       "      <td>7</td>\n",
       "      <td>3</td>\n",
       "      <td>7.000000</td>\n",
       "      <td>56.0</td>\n",
       "    </tr>\n",
       "    <tr>\n",
       "      <th>0</th>\n",
       "      <td>Добавить два новых канала привлечения трафика, что позволит привлекать на 30% больше пользователей</td>\n",
       "      <td>3</td>\n",
       "      <td>10</td>\n",
       "      <td>8</td>\n",
       "      <td>6</td>\n",
       "      <td>13.333333</td>\n",
       "      <td>40.0</td>\n",
       "    </tr>\n",
       "    <tr>\n",
       "      <th>6</th>\n",
       "      <td>Показать на главной странице баннеры с актуальными акциями и распродажами, чтобы увеличить конверсию</td>\n",
       "      <td>5</td>\n",
       "      <td>3</td>\n",
       "      <td>8</td>\n",
       "      <td>3</td>\n",
       "      <td>8.000000</td>\n",
       "      <td>40.0</td>\n",
       "    </tr>\n",
       "    <tr>\n",
       "      <th>8</th>\n",
       "      <td>Запустить акцию, дающую скидку на товар в день рождения</td>\n",
       "      <td>1</td>\n",
       "      <td>9</td>\n",
       "      <td>9</td>\n",
       "      <td>5</td>\n",
       "      <td>16.200000</td>\n",
       "      <td>16.2</td>\n",
       "    </tr>\n",
       "    <tr>\n",
       "      <th>3</th>\n",
       "      <td>Изменить структура категорий, что увеличит конверсию, т.к. пользователи быстрее найдут нужный товар</td>\n",
       "      <td>8</td>\n",
       "      <td>3</td>\n",
       "      <td>3</td>\n",
       "      <td>8</td>\n",
       "      <td>1.125000</td>\n",
       "      <td>9.0</td>\n",
       "    </tr>\n",
       "    <tr>\n",
       "      <th>1</th>\n",
       "      <td>Запустить собственную службу доставки, что сократит срок доставки заказов</td>\n",
       "      <td>2</td>\n",
       "      <td>5</td>\n",
       "      <td>4</td>\n",
       "      <td>10</td>\n",
       "      <td>2.000000</td>\n",
       "      <td>4.0</td>\n",
       "    </tr>\n",
       "    <tr>\n",
       "      <th>5</th>\n",
       "      <td>Добавить страницу отзывов клиентов о магазине, что позволит увеличить количество заказов</td>\n",
       "      <td>3</td>\n",
       "      <td>2</td>\n",
       "      <td>2</td>\n",
       "      <td>3</td>\n",
       "      <td>1.333333</td>\n",
       "      <td>4.0</td>\n",
       "    </tr>\n",
       "    <tr>\n",
       "      <th>4</th>\n",
       "      <td>Изменить цвет фона главной страницы, чтобы увеличить вовлеченность пользователей</td>\n",
       "      <td>3</td>\n",
       "      <td>1</td>\n",
       "      <td>1</td>\n",
       "      <td>1</td>\n",
       "      <td>1.000000</td>\n",
       "      <td>3.0</td>\n",
       "    </tr>\n",
       "  </tbody>\n",
       "</table>\n",
       "</div>"
      ],
      "text/plain": [
       "                                                                                                     hypothesis  \\\n",
       "7              Добавить форму подписки на все основные страницы, чтобы собрать базу клиентов для email-рассылок   \n",
       "2  Добавить блоки рекомендаций товаров на сайт интернет магазина, чтобы повысить конверсию и средний чек заказа   \n",
       "0            Добавить два новых канала привлечения трафика, что позволит привлекать на 30% больше пользователей   \n",
       "6          Показать на главной странице баннеры с актуальными акциями и распродажами, чтобы увеличить конверсию   \n",
       "8                                                       Запустить акцию, дающую скидку на товар в день рождения   \n",
       "3           Изменить структура категорий, что увеличит конверсию, т.к. пользователи быстрее найдут нужный товар   \n",
       "1                                     Запустить собственную службу доставки, что сократит срок доставки заказов   \n",
       "5                      Добавить страницу отзывов клиентов о магазине, что позволит увеличить количество заказов   \n",
       "4                              Изменить цвет фона главной страницы, чтобы увеличить вовлеченность пользователей   \n",
       "\n",
       "   reach  impact  confidence  efforts        ICE   RICE  \n",
       "7     10       7           8        5  11.200000  112.0  \n",
       "2      8       3           7        3   7.000000   56.0  \n",
       "0      3      10           8        6  13.333333   40.0  \n",
       "6      5       3           8        3   8.000000   40.0  \n",
       "8      1       9           9        5  16.200000   16.2  \n",
       "3      8       3           3        8   1.125000    9.0  \n",
       "1      2       5           4       10   2.000000    4.0  \n",
       "5      3       2           2        3   1.333333    4.0  \n",
       "4      3       1           1        1   1.000000    3.0  "
      ]
     },
     "execution_count": 14,
     "metadata": {},
     "output_type": "execute_result"
    }
   ],
   "source": [
    "hypothesis['RICE'] = hypothesis['reach'] * hypothesis['impact'] * hypothesis['confidence'] / hypothesis['efforts']\n",
    "hypothesis = hypothesis.sort_values('RICE', ascending=False)\n",
    "hypothesis"
   ]
  },
  {
   "cell_type": "markdown",
   "id": "cc8ab686",
   "metadata": {},
   "source": [
    "### Вывод"
   ]
  },
  {
   "cell_type": "markdown",
   "id": "802f88f7",
   "metadata": {},
   "source": [
    "<div style=\"border:solid pink 5px; padding: 20px\">\n",
    "    \n",
    "Если смотреть по `ICE`, то приоритетными являются гипотезы `8`, `0`, `7`, по `RICE` - `7`, `2`, `0`.  \n",
    "    \n",
    "`8` гипотеза по `RICE` опустилась до 5 строчки, на что влияет показатель `reach` (охват), который равен 1, а `7` гипотеза оказалась на 1 строчке в результате большого охвата."
   ]
  },
  {
   "cell_type": "markdown",
   "id": "e57d0131",
   "metadata": {},
   "source": [
    "## Анализ A/B теста"
   ]
  },
  {
   "cell_type": "markdown",
   "id": "60055652",
   "metadata": {},
   "source": [
    "Перед построением графиков проверим данные не попали ли пользователи сразу в обе группы. Для начала изучим датафрейм `visitors`: посмотрим, сколько пользователей попало в каждую группу:"
   ]
  },
  {
   "cell_type": "code",
   "execution_count": 15,
   "id": "68c19368",
   "metadata": {},
   "outputs": [
    {
     "name": "stdout",
     "output_type": "stream",
     "text": [
      "18736\n"
     ]
    }
   ],
   "source": [
    "#сколько пользователей в группе А\n",
    "visitors_A = visitors.query('group==\"A\"')['visitors'].sum()\n",
    "print(visitors_A)"
   ]
  },
  {
   "cell_type": "code",
   "execution_count": 16,
   "id": "ac49151b",
   "metadata": {},
   "outputs": [
    {
     "name": "stdout",
     "output_type": "stream",
     "text": [
      "18916\n"
     ]
    }
   ],
   "source": [
    "#сколько пользователей в группе В\n",
    "visitors_B = visitors.query('group==\"B\"')['visitors'].sum()\n",
    "print(visitors_B)"
   ]
  },
  {
   "cell_type": "code",
   "execution_count": 17,
   "id": "dcd812ed",
   "metadata": {},
   "outputs": [
    {
     "name": "stdout",
     "output_type": "stream",
     "text": [
      "Разница между группами составляет 180 человек\n",
      "Разница численности в процентах равна 0.009607173356105893\n"
     ]
    }
   ],
   "source": [
    "print(\"Разница между группами составляет\", visitors_B - visitors_A, \"человек\")\n",
    "print(\"Разница численности в процентах равна\", (visitors_B - visitors_A)/visitors_A)"
   ]
  },
  {
   "cell_type": "markdown",
   "id": "072d3f47",
   "metadata": {},
   "source": [
    "Теперь посмотрим \"попадание\" пользователей в разные группы: отделим пользователей (точнее их `visitor_id`) групп А и В в датафрейме `orders`, назовем списки с этими пользователями соответственно `orders_A` и `orders_B`. Далее создадим список `orders_AB` пользователей, чьи `visitor_id` есть и в `orders_A` и в `orders_B`. Выведем количество таких пользователей, применив `len()` к `orders_AB`:"
   ]
  },
  {
   "cell_type": "code",
   "execution_count": 18,
   "id": "cf89ca4c",
   "metadata": {},
   "outputs": [
    {
     "name": "stdout",
     "output_type": "stream",
     "text": [
      "58\n"
     ]
    }
   ],
   "source": [
    "orders_A = orders[orders['group']=='A']['visitor_id']\n",
    "orders_B = orders[orders['group']=='B']['visitor_id']\n",
    "orders_AB = orders.loc[orders['visitor_id'].isin(orders_A)& orders['visitor_id'].isin(\n",
    "    orders_B),'visitor_id'].unique()\n",
    "print(len(orders_AB))"
   ]
  },
  {
   "cell_type": "markdown",
   "id": "5ebe5ba9",
   "metadata": {},
   "source": [
    "<div style=\"border:solid pink 5px; padding: 20px\">\n",
    "На данном этапе можно сделать вывод, что АА-тест проведен некачественно, раз сразу 58 пользователей попали и в группу А, и в группу В."
   ]
  },
  {
   "cell_type": "markdown",
   "id": "1d1aa1ab",
   "metadata": {},
   "source": [
    "Считаем количество уникальных пользователей в общем:"
   ]
  },
  {
   "cell_type": "code",
   "execution_count": 19,
   "id": "1610aa9d",
   "metadata": {},
   "outputs": [
    {
     "data": {
      "text/plain": [
       "1031"
      ]
     },
     "execution_count": 19,
     "metadata": {},
     "output_type": "execute_result"
    }
   ],
   "source": [
    "len(orders['visitor_id'].unique())"
   ]
  },
  {
   "cell_type": "markdown",
   "id": "d069045c",
   "metadata": {},
   "source": [
    "Исключаем из `orders` пользователей, которые попали в 2 группы сразу:"
   ]
  },
  {
   "cell_type": "code",
   "execution_count": 20,
   "id": "50a83986",
   "metadata": {},
   "outputs": [],
   "source": [
    "orders = orders.loc[~orders['visitor_id'].isin(orders_AB)]"
   ]
  },
  {
   "cell_type": "markdown",
   "id": "8011fa8f",
   "metadata": {},
   "source": [
    "Считаем оставшееся количество уникальных пользователей:"
   ]
  },
  {
   "cell_type": "code",
   "execution_count": 21,
   "id": "8911c107",
   "metadata": {},
   "outputs": [
    {
     "data": {
      "text/plain": [
       "973"
      ]
     },
     "execution_count": 21,
     "metadata": {},
     "output_type": "execute_result"
    }
   ],
   "source": [
    "len(orders['visitor_id'].unique())"
   ]
  },
  {
   "cell_type": "code",
   "execution_count": 22,
   "id": "2bea855e",
   "metadata": {},
   "outputs": [
    {
     "name": "stdout",
     "output_type": "stream",
     "text": [
      "Пользователей в группе А 468\n",
      "Пользователей в группе В 548\n",
      "Разница между группами составляет 80 человек\n"
     ]
    }
   ],
   "source": [
    "group_A = orders.query('group==\"A\"')['visitor_id'].count()\n",
    "print(\"Пользователей в группе А\",group_A)\n",
    "group_B = orders.query('group==\"B\"')['visitor_id'].count()\n",
    "print(\"Пользователей в группе В\",group_B)\n",
    "print(\"Разница между группами составляет\", group_B - group_A, \"человек\")"
   ]
  },
  {
   "cell_type": "markdown",
   "id": "5d439409",
   "metadata": {},
   "source": [
    "### График кумулятивной выручки по группам"
   ]
  },
  {
   "cell_type": "markdown",
   "id": "dd59e561",
   "metadata": {},
   "source": [
    "Создадим датафрейм `datesGroups` с уникальными парами значений `date` и `group`, таблицы `orders`, с помощью `drop_duplicates()` избавляемся от дубликатов."
   ]
  },
  {
   "cell_type": "code",
   "execution_count": 23,
   "id": "a4048c4e",
   "metadata": {},
   "outputs": [],
   "source": [
    "datesGroups = orders[['date','group']].drop_duplicates() "
   ]
  },
  {
   "cell_type": "markdown",
   "id": "fe156d27",
   "metadata": {},
   "source": [
    "Создаем переменную `ordersAggregated`, содержащую:\n",
    "- дату;\n",
    "- группу A/B-теста;\n",
    "- число уникальных заказов в группе теста по указанную дату включительно;\n",
    "- число уникальных пользователей, совершивших хотя бы 1 заказ в группе теста по указанную дату включительно;\n",
    "- суммарную выручку заказов в группе теста по указанную дату включительно."
   ]
  },
  {
   "cell_type": "code",
   "execution_count": 24,
   "id": "bde6295a",
   "metadata": {},
   "outputs": [],
   "source": [
    "ordersAggregated = (datesGroups\n",
    "                    .apply(lambda x: orders[np.logical_and(orders['date'] <= x['date'], \n",
    "                                                           orders['group'] == x['group'])]\n",
    "                    .agg({'date' : 'max', \n",
    "                          'group' : 'max', \n",
    "                          'transaction_id' : 'nunique', \n",
    "                          'visitor_id' : 'nunique', \n",
    "                          'revenue' : 'sum'}), axis=1)\n",
    "                    .sort_values(by=['date','group']))"
   ]
  },
  {
   "cell_type": "markdown",
   "id": "21f192c0",
   "metadata": {},
   "source": [
    "Создаем переменную `visitorsAggregated`, содержащую:\n",
    "- дату;\n",
    "- группу A/B-теста;\n",
    "- количество уникальных посетителей в группе теста по указанную дату включительно."
   ]
  },
  {
   "cell_type": "code",
   "execution_count": 25,
   "id": "83e345ff",
   "metadata": {},
   "outputs": [],
   "source": [
    "visitorsAggregated = (datesGroups\n",
    "                      .apply(lambda x: visitors[np.logical_and(visitors['date'] <= x['date'], \n",
    "                                                               visitors['group'] == x['group'])]\n",
    "                      .agg({'date' : 'max', \n",
    "                            'group' : 'max', \n",
    "                            'visitors' : 'sum'}), axis=1)\n",
    "                      .sort_values(by=['date','group']))"
   ]
  },
  {
   "cell_type": "markdown",
   "id": "9b9551ef",
   "metadata": {},
   "source": [
    "Создадим переменную `cumulativeData`, объединив `ordersAggregated` и `visitorsAggregated` по колонкам `date`, `group` методом `merge()`, присвоим столбцам `cumulativeData` названия `['date', 'group', 'orders', 'buyers', 'revenue', 'visitors']`:"
   ]
  },
  {
   "cell_type": "code",
   "execution_count": 26,
   "id": "0628d657",
   "metadata": {},
   "outputs": [],
   "source": [
    "cumulativeData = ordersAggregated.merge(visitorsAggregated, \n",
    "                                        left_on=['date', 'group'], right_on=['date', 'group'])\n",
    "cumulativeData.columns = ['date', 'group', 'orders', 'buyers', 'revenue', 'visitors']"
   ]
  },
  {
   "cell_type": "markdown",
   "id": "a7967d63",
   "metadata": {},
   "source": [
    "Создаем переменные `cumulativeRevenueA` и `cumulativeRevenueB`, в которых сохраним данные о датах, выручке и числе заказов в группах A и B."
   ]
  },
  {
   "cell_type": "code",
   "execution_count": 27,
   "id": "b692ca4a",
   "metadata": {},
   "outputs": [],
   "source": [
    "cumulativeRevenueA = cumulativeData[cumulativeData['group']=='A'][['date','revenue', 'orders']]\n",
    "cumulativeRevenueB = cumulativeData[cumulativeData['group']=='B'][['date','revenue', 'orders']]"
   ]
  },
  {
   "cell_type": "markdown",
   "id": "0e7e78a1",
   "metadata": {},
   "source": [
    "Построим графики кумулятивной выручки по дням по группам."
   ]
  },
  {
   "cell_type": "code",
   "execution_count": 28,
   "id": "b2e6fef2",
   "metadata": {},
   "outputs": [
    {
     "data": {
      "image/png": "[encoded data removed]",
      "text/plain": [
       "<Figure size 720x576 with 1 Axes>"
      ]
     },
     "metadata": {},
     "output_type": "display_data"
    }
   ],
   "source": [
    "plt.plot(cumulativeRevenueA['date'], cumulativeRevenueA['revenue'], label='A')\n",
    "plt.plot(cumulativeRevenueB['date'], cumulativeRevenueB['revenue'], label='B')\n",
    "plt.title('График кумулятивной выручки по группам')\n",
    "plt.ylabel(\"Выручка\")\n",
    "plt.xticks(rotation=45)\n",
    "plt.legend();"
   ]
  },
  {
   "cell_type": "markdown",
   "id": "46378e78",
   "metadata": {},
   "source": [
    "<div style=\"border:solid pink 5px; padding: 20px\">\n",
    "Первые 5 дней выручка у обоих групп находится \"рядом\", далее видим резкий рост у группы В после 18/08/2019, в то время как группа А растет постепенно. Резкий скачок вверх у группы В можно связать с резким увеличением количества заказов после 18/08/2019 или же с аномально высокой стоимостью заказов."
   ]
  },
  {
   "cell_type": "markdown",
   "id": "825fcaec",
   "metadata": {},
   "source": [
    "### График кумулятивного среднего чека по группам"
   ]
  },
  {
   "cell_type": "markdown",
   "id": "495c13a7",
   "metadata": {},
   "source": [
    "Строим график кумулятивного среднего чека по группам:"
   ]
  },
  {
   "cell_type": "code",
   "execution_count": 29,
   "id": "afd36400",
   "metadata": {},
   "outputs": [
    {
     "data": {
      "image/png": "[encoded data removed]",
      "text/plain": [
       "<Figure size 720x576 with 1 Axes>"
      ]
     },
     "metadata": {},
     "output_type": "display_data"
    }
   ],
   "source": [
    "plt.plot(cumulativeRevenueA['date'], cumulativeRevenueA['revenue']/cumulativeRevenueA['orders'], label='A')\n",
    "plt.plot(cumulativeRevenueB['date'], cumulativeRevenueB['revenue']/cumulativeRevenueB['orders'], label='B')\n",
    "plt.title('График кумулятивного среднего чека по группам')\n",
    "plt.ylabel(\"Выручка\")\n",
    "plt.xticks(rotation=45)\n",
    "plt.legend();"
   ]
  },
  {
   "cell_type": "markdown",
   "id": "413e0119",
   "metadata": {},
   "source": [
    "<div style=\"border:solid pink 5px; padding: 20px\">\n",
    "Для группы В видим снова резкий скачок вверх после 18/08/2019, что соответствует скачку в графике кумулятивной выручки по группам, но после средний чек начинает снижаться. То есть в этот день была совершена \"дорогая\" покупка."
   ]
  },
  {
   "cell_type": "markdown",
   "id": "60bec40d",
   "metadata": {},
   "source": [
    "### График относительного изменения кумулятивного среднего чека группы B к группе A"
   ]
  },
  {
   "cell_type": "markdown",
   "id": "14124807",
   "metadata": {},
   "source": [
    "Объединим таблицы `cumulativeRevenueA` и `cumulativeRevenueB` методом `merge()` так, чтобы тоговая таблица содержала столбцы: `'date', 'revenueA', 'revenueB', 'ordersA', 'ordersB'`. Сохраним результат в переменной `mergedCumulativeRevenue`:"
   ]
  },
  {
   "cell_type": "code",
   "execution_count": 30,
   "id": "cdf80c2e",
   "metadata": {},
   "outputs": [],
   "source": [
    "mergedCumulativeRevenue = cumulativeRevenueA.merge(cumulativeRevenueB, \n",
    "                                                   left_on='date', right_on='date', \n",
    "                                                   how='left', suffixes=['A', 'B'])"
   ]
  },
  {
   "cell_type": "markdown",
   "id": "2b1e85cc",
   "metadata": {},
   "source": [
    "Теперь строим график относительного изменения кумулятивного среднего чека группы B к группе A"
   ]
  },
  {
   "cell_type": "code",
   "execution_count": 31,
   "id": "0723a238",
   "metadata": {},
   "outputs": [
    {
     "data": {
      "image/png": "[encoded data removed]",
      "text/plain": [
       "<Figure size 720x576 with 1 Axes>"
      ]
     },
     "metadata": {},
     "output_type": "display_data"
    }
   ],
   "source": [
    "# cтроим отношение средних чеков\n",
    "plt.plot(mergedCumulativeRevenue['date'], (mergedCumulativeRevenue['revenueB']/mergedCumulativeRevenue['ordersB'])/(mergedCumulativeRevenue['revenueA']/mergedCumulativeRevenue['ordersA'])-1)\n",
    "# добавляем ось X\n",
    "plt.axhline(y=0, color='black', linestyle='--')\n",
    "plt.title('График относительного изменения кумулятивного среднего чека группы B к группе A')\n",
    "plt.xticks(rotation=45);"
   ]
  },
  {
   "cell_type": "markdown",
   "id": "a51f6e25",
   "metadata": {},
   "source": [
    "<div style=\"border:solid pink 5px; padding: 20px\">\n",
    "График подтверждает предыдущие: 18/08/2019 был дорогостоящий заказ. Хотя на этом графике можно увидет пик и в районе 6-8/08/2019."
   ]
  },
  {
   "cell_type": "markdown",
   "id": "ea268fe5",
   "metadata": {},
   "source": [
    "### График кумулятивной конверсии по группам"
   ]
  },
  {
   "cell_type": "markdown",
   "id": "2bb53b4a",
   "metadata": {},
   "source": [
    "Добавим в `cumulativeData` столбец `conversion` c отношением числа заказов к количеству пользователей в указанной группе в указанный день.\n",
    "Создадим переменные `cumulativeDataA` и `cumulativeDataB`, в которых сохраним данные о заказах в сегментах A и B соответственно."
   ]
  },
  {
   "cell_type": "code",
   "execution_count": 32,
   "id": "75f9f781",
   "metadata": {},
   "outputs": [],
   "source": [
    "# считаем кумулятивную конверсию\n",
    "cumulativeData['conversion'] = cumulativeData['orders']/cumulativeData['visitors']\n",
    "# отделяем данные по группе A\n",
    "cumulativeDataA = cumulativeData[cumulativeData['group']=='A']\n",
    "# отделяем данные по группе B\n",
    "cumulativeDataB = cumulativeData[cumulativeData['group']=='B']"
   ]
  },
  {
   "cell_type": "markdown",
   "id": "a4c30013",
   "metadata": {},
   "source": [
    "Строим график кумулятивной конверсии по группам"
   ]
  },
  {
   "cell_type": "code",
   "execution_count": 33,
   "id": "7388ca87",
   "metadata": {},
   "outputs": [
    {
     "data": {
      "image/png": "[encoded data removed]",
      "text/plain": [
       "<Figure size 720x576 with 1 Axes>"
      ]
     },
     "metadata": {},
     "output_type": "display_data"
    }
   ],
   "source": [
    "# строим графики\n",
    "plt.plot(cumulativeDataA['date'], cumulativeDataA['conversion'], label='A')\n",
    "plt.plot(cumulativeDataB['date'], cumulativeDataB['conversion'], label='B')\n",
    "plt.xticks(rotation=45)\n",
    "plt.title('Кумулятивная конверсия по группам')\n",
    "plt.legend()\n",
    "# задаем масштаб осей\n",
    "plt.axis(xmin=cumulativeDataA['date'].min(), \n",
    "         xmax=cumulativeDataA['date'].max(), ymin=.020, ymax=0.04);"
   ]
  },
  {
   "cell_type": "markdown",
   "id": "26310700",
   "metadata": {},
   "source": [
    "<div style=\"border:solid pink 5px; padding: 20px\">\n",
    "В начале видим скачки конверсий для обоих групп, далее они выравниваются и конверсия В превосходит конверсию группы А. Конвесия А 0,0265, в то время как В на уровне 0,03 в среднем."
   ]
  },
  {
   "cell_type": "markdown",
   "id": "8876b381",
   "metadata": {},
   "source": [
    "### График относительного изменения кумулятивной конверсии группы B к группе A"
   ]
  },
  {
   "cell_type": "markdown",
   "id": "2f954d04",
   "metadata": {},
   "source": [
    "Объединим таблицы `cumulativeDataA` и `cumulativeDataB` методом `merge()` так, чтобы полученная таблица содержала столбцы: `'date', 'conversionA', 'conversionB'`. Сохраним результат в переменной `mergedCumulativeConversions`."
   ]
  },
  {
   "cell_type": "code",
   "execution_count": 34,
   "id": "b8305e12",
   "metadata": {},
   "outputs": [],
   "source": [
    "mergedCumulativeConversions = cumulativeDataA[['date','conversion']].merge(\n",
    "    cumulativeDataB[['date','conversion']], left_on='date', right_on='date', \n",
    "    how='left', suffixes=['A', 'B'])"
   ]
  },
  {
   "cell_type": "markdown",
   "id": "c28d1fe3",
   "metadata": {},
   "source": [
    "Строим график:"
   ]
  },
  {
   "cell_type": "code",
   "execution_count": 35,
   "id": "e1394f4c",
   "metadata": {},
   "outputs": [
    {
     "data": {
      "image/png": "[encoded data removed]",
      "text/plain": [
       "<Figure size 720x576 with 1 Axes>"
      ]
     },
     "metadata": {},
     "output_type": "display_data"
    }
   ],
   "source": [
    "plt.plot(mergedCumulativeConversions['date'], \n",
    "         mergedCumulativeConversions['conversionB']/mergedCumulativeConversions['conversionA']-1, label=\"Относительный прирост конверсии группы B относительно группы A\")\n",
    "plt.legend()\n",
    "plt.xticks(rotation=45)\n",
    "plt.title('График относительного изменения кумулятивной конверсии группы В к группе A ')\n",
    "plt.axhline(y=0, color='black', linestyle='--')\n",
    "plt.axhline(y=0.2, color='grey', linestyle='--')\n",
    "plt.axis(xmin=mergedCumulativeConversions['date'].min(), \n",
    "         xmax=mergedCumulativeConversions['date'].max(), ymin=-0.30, ymax=0.3);"
   ]
  },
  {
   "cell_type": "markdown",
   "id": "a179599a",
   "metadata": {},
   "source": [
    "<div style=\"border:solid pink 5px; padding: 20px\">\n",
    "Получается, что в среднем относительный прирост кумулятивной конверсией группы B к группе A составляет после 09/08/2019 10%. "
   ]
  },
  {
   "cell_type": "markdown",
   "id": "5efbe541",
   "metadata": {},
   "source": [
    "### Точечный график количества заказов по пользователям"
   ]
  },
  {
   "cell_type": "markdown",
   "id": "537e4622",
   "metadata": {},
   "source": [
    "Найдем число заказов по пользователям — создаем датафрейм c двумя столбцами: `'visitor_id', 'orders'`. Назовем датафрейм `ordersByUsers`."
   ]
  },
  {
   "cell_type": "code",
   "execution_count": 36,
   "id": "345400a1",
   "metadata": {},
   "outputs": [
    {
     "data": {
      "text/html": [
       "<div>\n",
       "<style scoped>\n",
       "    .dataframe tbody tr th:only-of-type {\n",
       "        vertical-align: middle;\n",
       "    }\n",
       "\n",
       "    .dataframe tbody tr th {\n",
       "        vertical-align: top;\n",
       "    }\n",
       "\n",
       "    .dataframe thead th {\n",
       "        text-align: right;\n",
       "    }\n",
       "</style>\n",
       "<table border=\"1\" class=\"dataframe\">\n",
       "  <thead>\n",
       "    <tr style=\"text-align: right;\">\n",
       "      <th></th>\n",
       "      <th>visitor_id</th>\n",
       "      <th>orders</th>\n",
       "    </tr>\n",
       "  </thead>\n",
       "  <tbody>\n",
       "    <tr>\n",
       "      <th>908</th>\n",
       "      <td>3967698036</td>\n",
       "      <td>3</td>\n",
       "    </tr>\n",
       "    <tr>\n",
       "      <th>55</th>\n",
       "      <td>249864742</td>\n",
       "      <td>3</td>\n",
       "    </tr>\n",
       "    <tr>\n",
       "      <th>478</th>\n",
       "      <td>2108163459</td>\n",
       "      <td>3</td>\n",
       "    </tr>\n",
       "    <tr>\n",
       "      <th>687</th>\n",
       "      <td>2988190573</td>\n",
       "      <td>3</td>\n",
       "    </tr>\n",
       "    <tr>\n",
       "      <th>890</th>\n",
       "      <td>3908431265</td>\n",
       "      <td>3</td>\n",
       "    </tr>\n",
       "    <tr>\n",
       "      <th>138</th>\n",
       "      <td>611059232</td>\n",
       "      <td>3</td>\n",
       "    </tr>\n",
       "    <tr>\n",
       "      <th>632</th>\n",
       "      <td>2742574263</td>\n",
       "      <td>3</td>\n",
       "    </tr>\n",
       "    <tr>\n",
       "      <th>157</th>\n",
       "      <td>678354126</td>\n",
       "      <td>2</td>\n",
       "    </tr>\n",
       "    <tr>\n",
       "      <th>323</th>\n",
       "      <td>1404560065</td>\n",
       "      <td>2</td>\n",
       "    </tr>\n",
       "    <tr>\n",
       "      <th>452</th>\n",
       "      <td>1985475298</td>\n",
       "      <td>2</td>\n",
       "    </tr>\n",
       "  </tbody>\n",
       "</table>\n",
       "</div>"
      ],
      "text/plain": [
       "     visitor_id  orders\n",
       "908  3967698036       3\n",
       "55    249864742       3\n",
       "478  2108163459       3\n",
       "687  2988190573       3\n",
       "890  3908431265       3\n",
       "138   611059232       3\n",
       "632  2742574263       3\n",
       "157   678354126       2\n",
       "323  1404560065       2\n",
       "452  1985475298       2"
      ]
     },
     "execution_count": 36,
     "metadata": {},
     "output_type": "execute_result"
    }
   ],
   "source": [
    "ordersByUsers = (\n",
    "    orders.groupby('visitor_id', as_index=False)\n",
    "    .agg({'transaction_id': 'nunique'})\n",
    ")\n",
    "ordersByUsers.columns = ['visitor_id', 'orders']\n",
    "ordersByUsers.sort_values(by='orders',ascending=False).head(10)"
   ]
  },
  {
   "cell_type": "markdown",
   "id": "77bbd119",
   "metadata": {},
   "source": [
    "Строим точечный график количества заказов по пользователям"
   ]
  },
  {
   "cell_type": "code",
   "execution_count": 37,
   "id": "256c588c",
   "metadata": {},
   "outputs": [
    {
     "data": {
      "image/png": "[encoded data removed]",
      "text/plain": [
       "<Figure size 720x576 with 1 Axes>"
      ]
     },
     "metadata": {},
     "output_type": "display_data"
    }
   ],
   "source": [
    "x_values = pd.Series(range(0,len(ordersByUsers['orders'])))\n",
    "plt.scatter(x_values, ordersByUsers['orders'])\n",
    "plt.xticks(rotation=45)\n",
    "plt.title('Точечный график количества заказов по пользователям ')\n",
    "plt.show()"
   ]
  },
  {
   "cell_type": "markdown",
   "id": "2d42cf18",
   "metadata": {},
   "source": [
    "<div style=\"border:solid pink 5px; padding: 20px\">\n",
    "Преобладают пользователи с 1 заказом, но присутствуют также и с 2-3."
   ]
  },
  {
   "cell_type": "markdown",
   "id": "92525264",
   "metadata": {},
   "source": [
    "### 95-й и 99-й перцентилей количества заказов на пользователя"
   ]
  },
  {
   "cell_type": "code",
   "execution_count": 38,
   "id": "a6910d5a",
   "metadata": {},
   "outputs": [
    {
     "name": "stdout",
     "output_type": "stream",
     "text": [
      "95 перцентиль: 1.00\n",
      "99 перцентиль: 2.00\n"
     ]
    }
   ],
   "source": [
    "print('95 перцентиль: %.2f' % (np.percentile(ordersByUsers['orders'], [95])))\n",
    "print('99 перцентиль: %.2f' % (np.percentile(ordersByUsers['orders'], [99])))"
   ]
  },
  {
   "cell_type": "markdown",
   "id": "d3328f66",
   "metadata": {},
   "source": [
    "<div style=\"border:solid pink 5px; padding: 20px\">\n",
    "Получается, что не более 5% совершали больше 1 заказа, не более 1% больше 2 заказов. "
   ]
  },
  {
   "cell_type": "markdown",
   "id": "df7ef896",
   "metadata": {},
   "source": [
    "###  Точечный график стоимостей заказов"
   ]
  },
  {
   "cell_type": "markdown",
   "id": "e81c30c5",
   "metadata": {},
   "source": [
    "Строим график: в переменной `x_values` — сгенерированные номера наблюдений. Значения для вертикальной берем из столбца `revenue` датафрейма  `orders`:"
   ]
  },
  {
   "cell_type": "code",
   "execution_count": 39,
   "id": "74335856",
   "metadata": {},
   "outputs": [
    {
     "data": {
      "image/png": "[encoded data removed]",
      "text/plain": [
       "<Figure size 720x576 with 1 Axes>"
      ]
     },
     "metadata": {},
     "output_type": "display_data"
    }
   ],
   "source": [
    "x_values = pd.Series(range(0,len(orders['revenue'])))\n",
    "plt.scatter(x_values, orders['revenue'])\n",
    "plt.xticks(rotation=45)\n",
    "plt.title('Точечный график стоимостей заказов')\n",
    "plt.show();"
   ]
  },
  {
   "cell_type": "markdown",
   "id": "0210ab57",
   "metadata": {},
   "source": [
    "На графике четко видим 2 выброса.  \n",
    "Стоит посмотреть, что это за выбросы и в какую группу они попали. Как мы помним из графиков, в группе В были резкие скачки в выручке и в среднем чеке. Есть вероятность, что это именно эти заказы:"
   ]
  },
  {
   "cell_type": "code",
   "execution_count": 40,
   "id": "0e3d5288",
   "metadata": {},
   "outputs": [
    {
     "data": {
      "text/html": [
       "<div>\n",
       "<style scoped>\n",
       "    .dataframe tbody tr th:only-of-type {\n",
       "        vertical-align: middle;\n",
       "    }\n",
       "\n",
       "    .dataframe tbody tr th {\n",
       "        vertical-align: top;\n",
       "    }\n",
       "\n",
       "    .dataframe thead th {\n",
       "        text-align: right;\n",
       "    }\n",
       "</style>\n",
       "<table border=\"1\" class=\"dataframe\">\n",
       "  <thead>\n",
       "    <tr style=\"text-align: right;\">\n",
       "      <th></th>\n",
       "      <th>transaction_id</th>\n",
       "      <th>visitor_id</th>\n",
       "      <th>date</th>\n",
       "      <th>revenue</th>\n",
       "      <th>group</th>\n",
       "    </tr>\n",
       "  </thead>\n",
       "  <tbody>\n",
       "    <tr>\n",
       "      <th>425</th>\n",
       "      <td>590470918</td>\n",
       "      <td>1920142716</td>\n",
       "      <td>2019-08-19</td>\n",
       "      <td>1294500</td>\n",
       "      <td>B</td>\n",
       "    </tr>\n",
       "    <tr>\n",
       "      <th>1196</th>\n",
       "      <td>3936777065</td>\n",
       "      <td>2108080724</td>\n",
       "      <td>2019-08-15</td>\n",
       "      <td>202740</td>\n",
       "      <td>B</td>\n",
       "    </tr>\n",
       "    <tr>\n",
       "      <th>1136</th>\n",
       "      <td>666610489</td>\n",
       "      <td>1307669133</td>\n",
       "      <td>2019-08-13</td>\n",
       "      <td>92550</td>\n",
       "      <td>A</td>\n",
       "    </tr>\n",
       "    <tr>\n",
       "      <th>744</th>\n",
       "      <td>3668308183</td>\n",
       "      <td>888512513</td>\n",
       "      <td>2019-08-27</td>\n",
       "      <td>86620</td>\n",
       "      <td>B</td>\n",
       "    </tr>\n",
       "    <tr>\n",
       "      <th>743</th>\n",
       "      <td>3603576309</td>\n",
       "      <td>4133034833</td>\n",
       "      <td>2019-08-09</td>\n",
       "      <td>67990</td>\n",
       "      <td>A</td>\n",
       "    </tr>\n",
       "  </tbody>\n",
       "</table>\n",
       "</div>"
      ],
      "text/plain": [
       "      transaction_id  visitor_id       date  revenue group\n",
       "425        590470918  1920142716 2019-08-19  1294500     B\n",
       "1196      3936777065  2108080724 2019-08-15   202740     B\n",
       "1136       666610489  1307669133 2019-08-13    92550     A\n",
       "744       3668308183   888512513 2019-08-27    86620     B\n",
       "743       3603576309  4133034833 2019-08-09    67990     A"
      ]
     },
     "execution_count": 40,
     "metadata": {},
     "output_type": "execute_result"
    }
   ],
   "source": [
    "orders.sort_values(by='revenue', ascending=False).head()"
   ]
  },
  {
   "cell_type": "markdown",
   "id": "de5c6199",
   "metadata": {},
   "source": [
    "Всё верно: 2 самых крупных заказа принадлежат группе В - это и есть причина скачков графиков."
   ]
  },
  {
   "cell_type": "markdown",
   "id": "667d7171",
   "metadata": {},
   "source": [
    "### 95-й и 99-й перцентили стоимости заказов"
   ]
  },
  {
   "cell_type": "code",
   "execution_count": 41,
   "id": "4bcc6f95",
   "metadata": {},
   "outputs": [
    {
     "name": "stdout",
     "output_type": "stream",
     "text": [
      "95 перцентиль: 26785.00\n",
      "99 перцентиль: 53904.00\n"
     ]
    }
   ],
   "source": [
    "print('95 перцентиль: %.2f' % (np.percentile(orders['revenue'], [95])))\n",
    "print('99 перцентиль: %.2f' % (np.percentile(orders['revenue'], [99])))"
   ]
  },
  {
   "cell_type": "markdown",
   "id": "4c54853d",
   "metadata": {},
   "source": [
    "Получается, что не более 5% заказов стоимотью более 26785.00, не более 1% больше 53904.00."
   ]
  },
  {
   "cell_type": "markdown",
   "id": "36b4dc9a",
   "metadata": {},
   "source": [
    "<div style=\"border:solid pink 5px; padding: 20px\">\n",
    "\n",
    "Итого по `4.6 - 4.9`: верхней границей для \"нормального\" количетва заказов будем считать `2 заказа`, по стоимости - верхняя граница `26785` условных единиц. Данные, выходящие за эти границы будем резать."
   ]
  },
  {
   "cell_type": "markdown",
   "id": "274b67d4",
   "metadata": {},
   "source": [
    "### Статистическая значимость различий в конверсии между группами по «сырым» данным"
   ]
  },
  {
   "cell_type": "markdown",
   "id": "a7519f48",
   "metadata": {},
   "source": [
    "Чтобы начать работу со статистической значимостью, соберем данные в общую таблицу `data`, которая будет состоять из следующих столбцов:\n",
    "\n",
    "- `date` — дата;\n",
    "- `ordersPerDateA` — количество заказов в выбранную дату в группе A;\n",
    "- `revenuePerDateA` — суммарная выручка в выбранную дату в группе A;\n",
    "- `ordersPerDateB` — количество заказов в выбранную дату в группе B;\n",
    "- `revenuePerDateB` — суммарная выручка в выбранную дату в группе B;\n",
    "- `ordersCummulativeA` — суммарное число заказов до выбранной даты включительно в группе A;\n",
    "- `revenueCummulativeA` — суммарная выручка до выбранной даты включительно в группе A;\n",
    "- `ordersCummulativeB` — суммарное количество заказов до выбранной даты включительно в группе B;\n",
    "- `revenueCummulativeB` — суммарная выручка до выбранной даты включительно в группе B;\n",
    "- `visitorsPerDateA` — количество пользователей в выбранную дату в группе A;\n",
    "- `visitorsPerDateB` — количество пользователей в выбранную дату в группе B;\n",
    "- `visitorsCummulativeA` — количество пользователей до выбранной даты включительно в группе A;\n",
    "- `visitorsCummulativeB` — количество пользователей до выбранной даты включительно в группе B."
   ]
  },
  {
   "cell_type": "code",
   "execution_count": 42,
   "id": "6df57dd3",
   "metadata": {},
   "outputs": [
    {
     "data": {
      "text/html": [
       "<div>\n",
       "<style scoped>\n",
       "    .dataframe tbody tr th:only-of-type {\n",
       "        vertical-align: middle;\n",
       "    }\n",
       "\n",
       "    .dataframe tbody tr th {\n",
       "        vertical-align: top;\n",
       "    }\n",
       "\n",
       "    .dataframe thead th {\n",
       "        text-align: right;\n",
       "    }\n",
       "</style>\n",
       "<table border=\"1\" class=\"dataframe\">\n",
       "  <thead>\n",
       "    <tr style=\"text-align: right;\">\n",
       "      <th></th>\n",
       "      <th>date</th>\n",
       "      <th>ordersPerDateA</th>\n",
       "      <th>revenuePerDateA</th>\n",
       "      <th>ordersPerDateB</th>\n",
       "      <th>revenuePerDateB</th>\n",
       "      <th>ordersCummulativeA</th>\n",
       "      <th>revenueCummulativeA</th>\n",
       "      <th>ordersCummulativeB</th>\n",
       "      <th>revenueCummulativeB</th>\n",
       "      <th>visitorsPerDateA</th>\n",
       "      <th>visitorsPerDateB</th>\n",
       "      <th>visitorsCummulativeA</th>\n",
       "      <th>visitorsCummulativeB</th>\n",
       "    </tr>\n",
       "  </thead>\n",
       "  <tbody>\n",
       "    <tr>\n",
       "      <th>0</th>\n",
       "      <td>2019-08-01</td>\n",
       "      <td>23</td>\n",
       "      <td>142779</td>\n",
       "      <td>17</td>\n",
       "      <td>59758</td>\n",
       "      <td>23</td>\n",
       "      <td>142779</td>\n",
       "      <td>17</td>\n",
       "      <td>59758</td>\n",
       "      <td>719</td>\n",
       "      <td>713</td>\n",
       "      <td>719</td>\n",
       "      <td>713</td>\n",
       "    </tr>\n",
       "    <tr>\n",
       "      <th>1</th>\n",
       "      <td>2019-08-02</td>\n",
       "      <td>19</td>\n",
       "      <td>91602</td>\n",
       "      <td>23</td>\n",
       "      <td>162043</td>\n",
       "      <td>42</td>\n",
       "      <td>234381</td>\n",
       "      <td>40</td>\n",
       "      <td>221801</td>\n",
       "      <td>619</td>\n",
       "      <td>581</td>\n",
       "      <td>1338</td>\n",
       "      <td>1294</td>\n",
       "    </tr>\n",
       "    <tr>\n",
       "      <th>2</th>\n",
       "      <td>2019-08-03</td>\n",
       "      <td>24</td>\n",
       "      <td>112473</td>\n",
       "      <td>14</td>\n",
       "      <td>67049</td>\n",
       "      <td>66</td>\n",
       "      <td>346854</td>\n",
       "      <td>54</td>\n",
       "      <td>288850</td>\n",
       "      <td>507</td>\n",
       "      <td>509</td>\n",
       "      <td>1845</td>\n",
       "      <td>1803</td>\n",
       "    </tr>\n",
       "    <tr>\n",
       "      <th>3</th>\n",
       "      <td>2019-08-04</td>\n",
       "      <td>11</td>\n",
       "      <td>41176</td>\n",
       "      <td>14</td>\n",
       "      <td>96890</td>\n",
       "      <td>77</td>\n",
       "      <td>388030</td>\n",
       "      <td>68</td>\n",
       "      <td>385740</td>\n",
       "      <td>717</td>\n",
       "      <td>770</td>\n",
       "      <td>2562</td>\n",
       "      <td>2573</td>\n",
       "    </tr>\n",
       "    <tr>\n",
       "      <th>4</th>\n",
       "      <td>2019-08-05</td>\n",
       "      <td>22</td>\n",
       "      <td>86383</td>\n",
       "      <td>21</td>\n",
       "      <td>89908</td>\n",
       "      <td>99</td>\n",
       "      <td>474413</td>\n",
       "      <td>89</td>\n",
       "      <td>475648</td>\n",
       "      <td>756</td>\n",
       "      <td>707</td>\n",
       "      <td>3318</td>\n",
       "      <td>3280</td>\n",
       "    </tr>\n",
       "  </tbody>\n",
       "</table>\n",
       "</div>"
      ],
      "text/plain": [
       "        date  ordersPerDateA  revenuePerDateA  ordersPerDateB  \\\n",
       "0 2019-08-01              23           142779              17   \n",
       "1 2019-08-02              19            91602              23   \n",
       "2 2019-08-03              24           112473              14   \n",
       "3 2019-08-04              11            41176              14   \n",
       "4 2019-08-05              22            86383              21   \n",
       "\n",
       "   revenuePerDateB  ordersCummulativeA  revenueCummulativeA  \\\n",
       "0            59758                  23               142779   \n",
       "1           162043                  42               234381   \n",
       "2            67049                  66               346854   \n",
       "3            96890                  77               388030   \n",
       "4            89908                  99               474413   \n",
       "\n",
       "   ordersCummulativeB  revenueCummulativeB  visitorsPerDateA  \\\n",
       "0                  17                59758               719   \n",
       "1                  40               221801               619   \n",
       "2                  54               288850               507   \n",
       "3                  68               385740               717   \n",
       "4                  89               475648               756   \n",
       "\n",
       "   visitorsPerDateB  visitorsCummulativeA  visitorsCummulativeB  \n",
       "0               713                   719                   713  \n",
       "1               581                  1338                  1294  \n",
       "2               509                  1845                  1803  \n",
       "3               770                  2562                  2573  \n",
       "4               707                  3318                  3280  "
      ]
     },
     "metadata": {},
     "output_type": "display_data"
    }
   ],
   "source": [
    "# количество посетителей по дням группы А\n",
    "visitorsADaily = visitors[visitors['group'] == 'A'][['date', 'visitors']]\n",
    "visitorsADaily.columns = ['date', 'visitorsPerDateA']\n",
    "\n",
    "# накопленное количество посетителей по дням группы А\n",
    "visitorsACummulative = visitorsADaily.apply(\n",
    "    lambda x: visitorsADaily[visitorsADaily['date'] <= x['date']].agg(\n",
    "        {'date': 'max', 'visitorsPerDateA': 'sum'}\n",
    "    ),\n",
    "    axis=1,\n",
    ")\n",
    "visitorsACummulative.columns = ['date', 'visitorsCummulativeA']\n",
    "\n",
    "# количество посетителей по дням группы В\n",
    "visitorsBDaily = visitors[visitors['group'] == 'B'][['date', 'visitors']]\n",
    "visitorsBDaily.columns = ['date', 'visitorsPerDateB']\n",
    "\n",
    "# накопленное количество посетителей по дням группы В\n",
    "visitorsBCummulative = visitorsBDaily.apply(\n",
    "    lambda x: visitorsBDaily[visitorsBDaily['date'] <= x['date']].agg(\n",
    "        {'date': 'max', 'visitorsPerDateB': 'sum'}\n",
    "    ),\n",
    "    axis=1,\n",
    ")\n",
    "visitorsBCummulative.columns = ['date', 'visitorsCummulativeB']\n",
    "\n",
    "# количество заказов по дням группы А\n",
    "ordersADaily = (\n",
    "    orders[orders['group'] == 'A'][['date', 'transaction_id', 'visitor_id', 'revenue']]\n",
    "    .groupby('date', as_index=False)\n",
    "    .agg({'transaction_id': pd.Series.nunique, 'revenue': 'sum'})\n",
    ")\n",
    "ordersADaily.columns = ['date', 'ordersPerDateA', 'revenuePerDateA']\n",
    "\n",
    "# накопленное количество заказов по дням группы А\n",
    "ordersACummulative = ordersADaily.apply(\n",
    "    lambda x: ordersADaily[ordersADaily['date'] <= x['date']].agg(\n",
    "        {'date': 'max', 'ordersPerDateA': 'sum', 'revenuePerDateA': 'sum'}\n",
    "    ),\n",
    "    axis=1,\n",
    ").sort_values(by=['date'])\n",
    "ordersACummulative.columns = [\n",
    "    'date',\n",
    "    'ordersCummulativeA',\n",
    "    'revenueCummulativeA',\n",
    "]\n",
    "\n",
    "# количество заказов по дням группы В\n",
    "ordersBDaily = (\n",
    "    orders[orders['group'] == 'B'][['date', 'transaction_id', 'visitor_id', 'revenue']]\n",
    "    .groupby('date', as_index=False)\n",
    "    .agg({'transaction_id': pd.Series.nunique, 'revenue': 'sum'})\n",
    ")\n",
    "ordersBDaily.columns = ['date', 'ordersPerDateB', 'revenuePerDateB']\n",
    "\n",
    "# накопленное количество заказов по дням группы В\n",
    "ordersBCummulative = ordersBDaily.apply(\n",
    "    lambda x: ordersBDaily[ordersBDaily['date'] <= x['date']].agg(\n",
    "        {'date': 'max', 'ordersPerDateB': 'sum', 'revenuePerDateB': 'sum'}\n",
    "    ),\n",
    "    axis=1,\n",
    ").sort_values(by=['date'])\n",
    "ordersBCummulative.columns = [\n",
    "    'date',\n",
    "    'ordersCummulativeB',\n",
    "    'revenueCummulativeB',\n",
    "]\n",
    "\n",
    "#создание таблицы data\n",
    "data = (\n",
    "    ordersADaily.merge(\n",
    "        ordersBDaily, left_on='date', right_on='date', how='left'\n",
    "    )\n",
    "    .merge(ordersACummulative, left_on='date', right_on='date', how='left')\n",
    "    .merge(ordersBCummulative, left_on='date', right_on='date', how='left')\n",
    "    .merge(visitorsADaily, left_on='date', right_on='date', how='left')\n",
    "    .merge(visitorsBDaily, left_on='date', right_on='date', how='left')\n",
    "    .merge(visitorsACummulative, left_on='date', right_on='date', how='left')\n",
    "    .merge(visitorsBCummulative, left_on='date', right_on='date', how='left')\n",
    ")\n",
    "display(data.head(5))"
   ]
  },
  {
   "cell_type": "markdown",
   "id": "42f0ed95",
   "metadata": {},
   "source": [
    "Создадим переменные `ordersByUsersA` и `ordersByUsersB` со столбцами `user_id`, `orders`, где для пользователей, совершивших хотя бы 1 заказ, будет указано число заказов.\n",
    "Создадим переменные `sampleA` и `sampleB`, в которых пользователям с заказами будет соответствовать число заказов пользователя. А пользователям без заказов — нули. "
   ]
  },
  {
   "cell_type": "code",
   "execution_count": 43,
   "id": "0bef6db3",
   "metadata": {},
   "outputs": [],
   "source": [
    "ordersByUsersA = (orders[orders['group']=='A']\n",
    "                  .groupby('visitor_id', as_index=False)\n",
    "                  .agg({'transaction_id' : 'nunique'}))\n",
    "ordersByUsersA.columns = ['user_id', 'orders']\n",
    "\n",
    "ordersByUsersB = (orders[orders['group']=='B']\n",
    "                  .groupby('visitor_id', as_index=False)\n",
    "                  .agg({'transaction_id' : 'nunique'}))\n",
    "ordersByUsersB.columns = ['user_id', 'orders']\n",
    "\n",
    "sampleA = pd.concat([ordersByUsersA['orders'],pd.Series(0, index=np.arange(\n",
    "    data['visitorsPerDateA'].sum() - len(ordersByUsersA['orders'])), name='orders')],axis=0)\n",
    "\n",
    "sampleB = pd.concat([ordersByUsersB['orders'],pd.Series(0, index=np.arange(\n",
    "    data['visitorsPerDateB'].sum() - len(ordersByUsersB['orders'])), name='orders')],axis=0)"
   ]
  },
  {
   "cell_type": "markdown",
   "id": "550747d5",
   "metadata": {},
   "source": [
    "Считаем статистическую значимость, прменив тест Манна-Уитни."
   ]
  },
  {
   "cell_type": "markdown",
   "id": "adcc54a2",
   "metadata": {},
   "source": [
    "Обозначаем Ho= конверсии групп А и В равны, тогда альтернативная гипотеза Н1 = конверсии не равны."
   ]
  },
  {
   "cell_type": "code",
   "execution_count": 44,
   "id": "f6a0f498",
   "metadata": {},
   "outputs": [
    {
     "name": "stdout",
     "output_type": "stream",
     "text": [
      "p-value:0.01102\n",
      "Относительное различие в среднем между группами:0.160\n"
     ]
    }
   ],
   "source": [
    "print(\"p-value:{0:.5f}\".format(stats.mannwhitneyu(sampleA, sampleB)[1]))\n",
    "\n",
    "print(\"Относительное различие в среднем между группами:{0:.3f}\".format((data['ordersPerDateB'].sum()/data['visitorsPerDateB'].sum())/(\n",
    "    data['ordersPerDateA'].sum()/data['visitorsPerDateA'].sum())-1))"
   ]
  },
  {
   "cell_type": "markdown",
   "id": "22056a8c",
   "metadata": {},
   "source": [
    "<div style=\"border:solid pink 5px; padding: 20px\">\n",
    "p-value < 0,05, а это значит, что нулевую гипотезу (равенство конверсий) можно отвергнуть. То есть конверсии не равны и превосходство конверсии В над А не случайное. Относительный прирост В к А составил 15.98%."
   ]
  },
  {
   "cell_type": "markdown",
   "id": "b95ea0e3",
   "metadata": {},
   "source": [
    "### Статистическая значимость различий в среднем чеке заказа между группами по «сырым» данным"
   ]
  },
  {
   "cell_type": "markdown",
   "id": "4ce59838",
   "metadata": {},
   "source": [
    "Считаем статистическую значимость различий в среднем чеке заказа между группами по «сырым» данным. Нулевую гипотезу H0 = равенство средних чеков группы А и В, тогда альтернативная гипотеза H1= средние чеки не раны."
   ]
  },
  {
   "cell_type": "code",
   "execution_count": 45,
   "id": "61d7e2a9",
   "metadata": {},
   "outputs": [
    {
     "name": "stdout",
     "output_type": "stream",
     "text": [
      "p-value: 0.829\n",
      "Относительный прирост среднего чека группы B: 28.66%\n"
     ]
    }
   ],
   "source": [
    "print(\"p-value: {0:.3f}\".format(stats.mannwhitneyu(orders[orders['group']=='A']['revenue'], \n",
    "                                          orders[orders['group']=='B']['revenue'])[1]))\n",
    "print(\"Относительный прирост среднего чека группы B: {0:.2%}\".format(orders[orders['group']=='B']['revenue'].mean()/orders[orders['group']=='A']['revenue'].mean()-1))"
   ]
  },
  {
   "cell_type": "markdown",
   "id": "a85d79c3",
   "metadata": {},
   "source": [
    "Средний чек группы А по сырым данным:"
   ]
  },
  {
   "cell_type": "code",
   "execution_count": 46,
   "id": "1fc1af33",
   "metadata": {},
   "outputs": [
    {
     "data": {
      "text/plain": [
       "7189.4358974358975"
      ]
     },
     "execution_count": 46,
     "metadata": {},
     "output_type": "execute_result"
    }
   ],
   "source": [
    "orders[orders['group']=='A']['revenue'].mean()"
   ]
  },
  {
   "cell_type": "markdown",
   "id": "e3474aca",
   "metadata": {},
   "source": [
    "Средний чек группы В по сырым данным:"
   ]
  },
  {
   "cell_type": "code",
   "execution_count": 47,
   "id": "9a68fda8",
   "metadata": {},
   "outputs": [
    {
     "data": {
      "text/plain": [
       "9249.94890510949"
      ]
     },
     "execution_count": 47,
     "metadata": {},
     "output_type": "execute_result"
    }
   ],
   "source": [
    "orders[orders['group']=='B']['revenue'].mean()"
   ]
  },
  {
   "cell_type": "markdown",
   "id": "f16a2af8",
   "metadata": {},
   "source": [
    "<div style=\"border:solid pink 5px; padding: 20px\">\n",
    "По полученному p-value (больше 0,05) можем сделать вывод о том, что различий в средних чеках нет, нулевую гипотезу отвергнуть не удалось. Относительный прирост среднего чека группы B: 28.66%"
   ]
  },
  {
   "cell_type": "markdown",
   "id": "9ae8da8b",
   "metadata": {},
   "source": [
    "### Cтатистическую значимость различий в конверсии между группами по «очищенным» данным"
   ]
  },
  {
   "cell_type": "markdown",
   "id": "be4a983c",
   "metadata": {},
   "source": [
    "Прежде чем перейти к подсчету статистической значимости необходимо данные очистить от выбросов. В конце пункта 4.9 установлено, что нормальное количество заказов принимаем равное 2, а граница по стоимости - 26785. Соответственно делаем по этим условиям \"чистку\" данных:"
   ]
  },
  {
   "cell_type": "markdown",
   "id": "f5188b0d",
   "metadata": {},
   "source": [
    "Сделаем срезы пользователей с числом заказов больше 2 — `usersWithManyOrders` и пользователей, совершивших заказы дороже 26785 — `usersWithExpensiveOrders`. Объединим их в таблице `abnormalUsers`, удалим дубликаты, отсортируем по возрастанию."
   ]
  },
  {
   "cell_type": "code",
   "execution_count": 48,
   "id": "cfe99bf1",
   "metadata": {},
   "outputs": [],
   "source": [
    "#задаем переменные, в которых указываем границы нормального количества заказов\n",
    "# и предела стоимости заказа\n",
    "number_of_orders = 2\n",
    "cost_of_orders = 26785\n",
    "usersWithManyOrders = pd.concat(\n",
    "    [\n",
    "        ordersByUsersA[ordersByUsersA['orders'] > number_of_orders]['user_id'],\n",
    "        ordersByUsersB[ordersByUsersB['orders'] > number_of_orders]['user_id'],\n",
    "    ],\n",
    "    axis=0,\n",
    ")\n",
    "usersWithExpensiveOrders = orders[orders['revenue'] > cost_of_orders]['visitor_id']\n",
    "abnormalUsers = (\n",
    "    pd.concat([usersWithManyOrders, usersWithExpensiveOrders], axis=0)\n",
    "    .drop_duplicates()\n",
    "    .sort_values()\n",
    ")"
   ]
  },
  {
   "cell_type": "markdown",
   "id": "4d5a0f5c",
   "metadata": {},
   "source": [
    "Смотрим на первые 5 строк `abnormalUsers`:"
   ]
  },
  {
   "cell_type": "code",
   "execution_count": 49,
   "id": "7850db61",
   "metadata": {},
   "outputs": [
    {
     "data": {
      "text/plain": [
       "568     113298937\n",
       "1099    148427295\n",
       "928     204675465\n",
       "33      249864742\n",
       "684     358944393\n",
       "dtype: int64"
      ]
     },
     "execution_count": 49,
     "metadata": {},
     "output_type": "execute_result"
    }
   ],
   "source": [
    "abnormalUsers.head()"
   ]
  },
  {
   "cell_type": "markdown",
   "id": "c8518556",
   "metadata": {},
   "source": [
    "Чистим данные:"
   ]
  },
  {
   "cell_type": "code",
   "execution_count": 50,
   "id": "fff670a5",
   "metadata": {},
   "outputs": [],
   "source": [
    "sampleAFiltered = pd.concat(\n",
    "    [\n",
    "        ordersByUsersA[\n",
    "            np.logical_not(ordersByUsersA['user_id'].isin(abnormalUsers))\n",
    "        ]['orders'],\n",
    "        pd.Series(\n",
    "            0,\n",
    "            index=np.arange(\n",
    "                data['visitorsPerDateA'].sum() - len(ordersByUsersA['orders'])\n",
    "            ),\n",
    "            name='orders',\n",
    "        ),\n",
    "    ],\n",
    "    axis=0,\n",
    ")\n",
    "\n",
    "sampleBFiltered = pd.concat(\n",
    "    [\n",
    "        ordersByUsersB[\n",
    "            np.logical_not(ordersByUsersB['user_id'].isin(abnormalUsers))\n",
    "        ]['orders'],\n",
    "        pd.Series(\n",
    "            0,\n",
    "            index=np.arange(\n",
    "                data['visitorsPerDateB'].sum() - len(ordersByUsersB['orders'])\n",
    "            ),\n",
    "            name='orders',\n",
    "        ),\n",
    "    ],\n",
    "    axis=0,\n",
    ")"
   ]
  },
  {
   "cell_type": "markdown",
   "id": "8bf6d102",
   "metadata": {},
   "source": [
    "Считаем статистическую значимость различий в конверсии между группами по «очищенным» данным:"
   ]
  },
  {
   "cell_type": "code",
   "execution_count": 51,
   "id": "221f20a9",
   "metadata": {},
   "outputs": [
    {
     "name": "stdout",
     "output_type": "stream",
     "text": [
      "p-value по \"очищенным\" данным 0.01235\n",
      "Относительный прирост среднего очищенной группы B 0.182\n"
     ]
    }
   ],
   "source": [
    "print('p-value по \"очищенным\" данным {0:.5f}'.format(stats.mannwhitneyu(sampleAFiltered, sampleBFiltered)[1]))\n",
    "print('Относительный прирост среднего очищенной группы B {0:.3f}'.format(sampleBFiltered.mean()/sampleAFiltered.mean()-1))"
   ]
  },
  {
   "cell_type": "markdown",
   "id": "5d6076b8",
   "metadata": {},
   "source": [
    "<div style=\"border:solid pink 5px; padding: 20px\">\n",
    "Нулевую гипотезу о равенстве конверсий снова можно отвергнуть. Относительный прирост среднего очищенной группы B составляет 0.182."
   ]
  },
  {
   "cell_type": "markdown",
   "id": "82e0f5ac",
   "metadata": {},
   "source": [
    "### Статистическая значимость различий в среднем чеке заказа между группами по «очищенным» данным"
   ]
  },
  {
   "cell_type": "code",
   "execution_count": 52,
   "id": "882507b3",
   "metadata": {},
   "outputs": [
    {
     "name": "stdout",
     "output_type": "stream",
     "text": [
      "p-value 0.646\n",
      "Относительный прирост среднего чека группы B -4.85%\n"
     ]
    }
   ],
   "source": [
    "print(\"p-value {0:.3f}\".format(stats.mannwhitneyu(\n",
    "    orders[np.logical_and(\n",
    "        orders['group']=='A',\n",
    "        np.logical_not(orders['visitor_id'].isin(abnormalUsers)))]['revenue'],\n",
    "    orders[np.logical_and(\n",
    "        orders['group']=='B',\n",
    "        np.logical_not(orders['visitor_id'].isin(abnormalUsers)))]['revenue'])[1]))\n",
    "\n",
    "print(\"Относительный прирост среднего чека группы B {0:.2%}\".format(\n",
    "    orders[np.logical_and(\n",
    "        orders['group']=='B',np.logical_not(orders['visitor_id'].isin(abnormalUsers)))]['revenue'].mean()/\n",
    "    orders[np.logical_and(\n",
    "        orders['group']=='A',\n",
    "        np.logical_not(orders['visitor_id'].isin(abnormalUsers)))]['revenue'].mean() - 1))"
   ]
  },
  {
   "cell_type": "markdown",
   "id": "e9470e85",
   "metadata": {},
   "source": [
    "Средний чек группы А по \"очищенным\" данным:"
   ]
  },
  {
   "cell_type": "code",
   "execution_count": 53,
   "id": "2b734eb6",
   "metadata": {},
   "outputs": [
    {
     "data": {
      "text/plain": [
       "5102.511627906977"
      ]
     },
     "execution_count": 53,
     "metadata": {},
     "output_type": "execute_result"
    }
   ],
   "source": [
    "orders[np.logical_and(orders['group']=='A',np.logical_not(orders['visitor_id'].isin(\n",
    "    abnormalUsers)))]['revenue'].mean()"
   ]
  },
  {
   "cell_type": "markdown",
   "id": "86ef6771",
   "metadata": {},
   "source": [
    "Средний чек группы В по \"очищенным\" данным:"
   ]
  },
  {
   "cell_type": "code",
   "execution_count": 54,
   "id": "2bb4c4a8",
   "metadata": {},
   "outputs": [
    {
     "data": {
      "text/plain": [
       "4855.19298245614"
      ]
     },
     "execution_count": 54,
     "metadata": {},
     "output_type": "execute_result"
    }
   ],
   "source": [
    "orders[np.logical_and(orders['group']=='B',np.logical_not(orders['visitor_id'].isin(\n",
    "    abnormalUsers)))]['revenue'].mean()"
   ]
  },
  {
   "cell_type": "markdown",
   "id": "ff6a0580",
   "metadata": {},
   "source": [
    "<div style=\"border:solid pink 5px; padding: 20px\">\n",
    "В данном случае отвергнуть нулевую гипотезу о равенстве средних чеков группы А и В по \"очищенным\" данным не удалось: p-value>0,05. Относительный прирост среднего чека группы B -4.85%."
   ]
  },
  {
   "cell_type": "markdown",
   "id": "0faf5277",
   "metadata": {},
   "source": [
    "## Вывод"
   ]
  },
  {
   "cell_type": "markdown",
   "id": "3344d18c",
   "metadata": {},
   "source": [
    "<div style=\"border:solid pink 5px; padding: 20px\">\n",
    "    \n",
    "Работали с 3 датафреймами: `hypothesis`, `orders` и `visitors`. Данные в целом никакой тщательной редобработки не требовали.  \n",
    "Провели приоритизацию гипотез: по `ICE приоритетными являются гипотезы 8, 0, 7`, `по RICE - 7, 2, 0`.  \n",
    "Далее `анализировали проведенный А/В тест`, выяснили:\n",
    "- график кумулятивной выручки группы В имеет резкий скачок, в то время как у группы А растет постепенно, кумулятивная выручка В превышает А. \n",
    "- график кумулятивного среднего чека группы В также имеет резкий скачок, после чего идет снижение  \n",
    "- на графике кумулятивной конверсии для обоих групп имеет скачки, далее они выравниваются и конверсия В превосходит конверсию группы А. `Конвесия А - 0,0265`, в то время как `В на уровне 0,03` в среднем, относительный прирост кумулятивной конверсией группы B к группе A составляет 10% \n",
    "Далее провели анализ количества заказов и стоимости: `верхней границей для \"нормального\" количетва заказов установили 2 заказа, по стоимости - верхняя граница составила 26785 условных единиц`.  \n",
    "Полученные значени `p-value` различий в конверсии между группами А и В  данным не позволил отвергнуть нулевую гипотезу о равенстве конверсий ни по «сырым», ни по \"очищенным\" данным.  \n",
    "Полученные значеня `p-value` различий в среднем чеке заказа между группами А и В не позволило отвергнуть нулевую гипотезу о равенстве средних чеков ни по «сырым», ни по \"очищенным\" данным. Средний чек по \"сырым\" данным: \n",
    "- для группы `А - 7189`, для `В - 9249`  \n",
    "Средний чек по \"очищенным\" данным:\n",
    "- для группы `А - 5102`, для `В - 4855`  \n",
    "Видно, что `значения среднего чека выровнялись после очистки данных от выбросов в данных`.  \n",
    "\n",
    "**После проведения исследования А/В теста рекомендовано остановить тест, зафиксировать победу группы В, которая опережает группу А практически по всем исследуемым параметрам (исключая относительный прирост среднего чека по \"очищенным\" данным)**\n",
    "P.S. Стоит обратить внимание на \"недобросовестное\" проведение АА-теста, после проведения которого некоторые пользователи попали сразу в обе группы."
   ]
  }
 ],
 "metadata": {
  "ExecuteTimeLog": [
   {
    "duration": 1316,
    "start_time": "2022-07-15T16:15:44.753Z"
   },
   {
    "duration": 111,
    "start_time": "2022-07-15T16:15:46.071Z"
   },
   {
    "duration": 89,
    "start_time": "2022-07-15T16:15:46.184Z"
   },
   {
    "duration": 45,
    "start_time": "2022-07-15T16:15:46.276Z"
   },
   {
    "duration": 68,
    "start_time": "2022-07-15T16:15:46.322Z"
   },
   {
    "duration": 58,
    "start_time": "2022-07-15T16:15:46.391Z"
   },
   {
    "duration": 15,
    "start_time": "2022-07-15T16:15:46.451Z"
   },
   {
    "duration": 8,
    "start_time": "2022-07-15T16:15:46.468Z"
   },
   {
    "duration": 18,
    "start_time": "2022-07-15T16:15:46.478Z"
   },
   {
    "duration": 48,
    "start_time": "2022-07-15T16:15:46.498Z"
   },
   {
    "duration": 11,
    "start_time": "2022-07-15T16:15:46.548Z"
   },
   {
    "duration": 10,
    "start_time": "2022-07-15T16:15:46.560Z"
   },
   {
    "duration": 25,
    "start_time": "2022-07-15T16:15:46.571Z"
   },
   {
    "duration": 63,
    "start_time": "2022-07-15T16:15:46.597Z"
   },
   {
    "duration": 9,
    "start_time": "2022-07-15T16:15:46.661Z"
   },
   {
    "duration": 8,
    "start_time": "2022-07-15T16:15:46.672Z"
   },
   {
    "duration": 6,
    "start_time": "2022-07-15T16:15:46.681Z"
   },
   {
    "duration": 54,
    "start_time": "2022-07-15T16:15:46.689Z"
   },
   {
    "duration": 8,
    "start_time": "2022-07-15T16:15:46.745Z"
   },
   {
    "duration": 6,
    "start_time": "2022-07-15T16:15:46.754Z"
   },
   {
    "duration": 10,
    "start_time": "2022-07-15T16:15:46.761Z"
   },
   {
    "duration": 13,
    "start_time": "2022-07-15T16:15:46.773Z"
   },
   {
    "duration": 13,
    "start_time": "2022-07-15T16:15:46.787Z"
   },
   {
    "duration": 238,
    "start_time": "2022-07-15T16:15:46.801Z"
   },
   {
    "duration": 141,
    "start_time": "2022-07-15T16:15:47.041Z"
   },
   {
    "duration": 7,
    "start_time": "2022-07-15T16:15:47.183Z"
   },
   {
    "duration": 13,
    "start_time": "2022-07-15T16:15:47.192Z"
   },
   {
    "duration": 482,
    "start_time": "2022-07-15T16:15:47.209Z"
   },
   {
    "duration": 389,
    "start_time": "2022-07-15T16:15:47.694Z"
   },
   {
    "duration": 6,
    "start_time": "2022-07-15T16:15:48.084Z"
   },
   {
    "duration": 461,
    "start_time": "2022-07-15T16:15:48.092Z"
   },
   {
    "duration": 6,
    "start_time": "2022-07-15T16:15:48.555Z"
   },
   {
    "duration": 346,
    "start_time": "2022-07-15T16:15:48.563Z"
   },
   {
    "duration": 12,
    "start_time": "2022-07-15T16:15:48.912Z"
   },
   {
    "duration": 439,
    "start_time": "2022-07-15T16:15:48.925Z"
   },
   {
    "duration": 17,
    "start_time": "2022-07-15T16:15:49.366Z"
   },
   {
    "duration": 302,
    "start_time": "2022-07-15T16:15:49.385Z"
   },
   {
    "duration": 14,
    "start_time": "2022-07-15T16:15:49.689Z"
   },
   {
    "duration": 296,
    "start_time": "2022-07-15T16:15:49.707Z"
   },
   {
    "duration": 17,
    "start_time": "2022-07-15T16:15:50.005Z"
   },
   {
    "duration": 41,
    "start_time": "2022-07-15T16:15:50.024Z"
   },
   {
    "duration": 260,
    "start_time": "2022-07-15T16:15:50.067Z"
   },
   {
    "duration": 16,
    "start_time": "2022-07-15T16:15:50.328Z"
   },
   {
    "duration": 80,
    "start_time": "2022-07-15T16:15:50.346Z"
   },
   {
    "duration": 37,
    "start_time": "2022-07-15T16:15:50.435Z"
   },
   {
    "duration": 6,
    "start_time": "2022-07-15T16:15:50.475Z"
   },
   {
    "duration": 10,
    "start_time": "2022-07-15T16:15:50.483Z"
   },
   {
    "duration": 51,
    "start_time": "2022-07-15T16:15:50.494Z"
   },
   {
    "duration": 23,
    "start_time": "2022-07-15T16:15:50.546Z"
   },
   {
    "duration": 13,
    "start_time": "2022-07-15T16:15:50.571Z"
   },
   {
    "duration": 34,
    "start_time": "2022-07-15T16:15:50.586Z"
   },
   {
    "duration": 23,
    "start_time": "2022-07-15T16:15:50.622Z"
   },
   {
    "duration": 18,
    "start_time": "2022-07-15T16:15:50.646Z"
   },
   {
    "duration": 8,
    "start_time": "2022-07-15T16:15:50.667Z"
   }
  ],
  "kernelspec": {
   "display_name": "Python 3 (ipykernel)",
   "language": "python",
   "name": "python3"
  },
  "language_info": {
   "codemirror_mode": {
    "name": "ipython",
    "version": 3
   },
   "file_extension": ".py",
   "mimetype": "text/x-python",
   "name": "python",
   "nbconvert_exporter": "python",
   "pygments_lexer": "ipython3",
   "version": "3.9.7"
  },
  "toc": {
   "base_numbering": 1,
   "nav_menu": {},
   "number_sections": true,
   "sideBar": true,
   "skip_h1_title": true,
   "title_cell": "Содержание",
   "title_sidebar": "Contents",
   "toc_cell": true,
   "toc_position": {
    "height": "calc(100% - 180px)",
    "left": "10px",
    "top": "150px",
    "width": "256px"
   },
   "toc_section_display": true,
   "toc_window_display": true
  }
 },
 "nbformat": 4,
 "nbformat_minor": 5
}
