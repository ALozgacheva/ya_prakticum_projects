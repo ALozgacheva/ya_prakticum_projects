{
 "cells": [
  {
   "cell_type": "markdown",
   "id": "94f09a20",
   "metadata": {
    "toc": true
   },
   "source": [
    "<h1>Содержание<span class=\"tocSkip\"></span></h1>\n",
    "<div class=\"toc\"><ul class=\"toc-item\"><li><span><a href=\"#Описание-исследования-и-цель-исследования\" data-toc-modified-id=\"Описание-исследования-и-цель-исследования-1\"><span class=\"toc-item-num\">1&nbsp;&nbsp;</span>Описание исследования и цель исследования</a></span></li><li><span><a href=\"#Изучение-данных-из-файлов\" data-toc-modified-id=\"Изучение-данных-из-файлов-2\"><span class=\"toc-item-num\">2&nbsp;&nbsp;</span>Изучение данных из файлов</a></span><ul class=\"toc-item\"><li><span><a href=\"#Вывод\" data-toc-modified-id=\"Вывод-2.1\"><span class=\"toc-item-num\">2.1&nbsp;&nbsp;</span>Вывод</a></span></li></ul></li><li><span><a href=\"#Предобработка-данных\" data-toc-modified-id=\"Предобработка-данных-3\"><span class=\"toc-item-num\">3&nbsp;&nbsp;</span>Предобработка данных</a></span><ul class=\"toc-item\"><li><span><a href=\"#Предобработка-users\" data-toc-modified-id=\"Предобработка-users-3.1\"><span class=\"toc-item-num\">3.1&nbsp;&nbsp;</span>Предобработка users</a></span></li><li><span><a href=\"#Предобработака-calls\" data-toc-modified-id=\"Предобработака-calls-3.2\"><span class=\"toc-item-num\">3.2&nbsp;&nbsp;</span>Предобработака calls</a></span><ul class=\"toc-item\"><li><span><a href=\"#Количество-звонков-и-израсходованные-минуты\" data-toc-modified-id=\"Количество-звонков-и-израсходованные-минуты-3.2.1\"><span class=\"toc-item-num\">3.2.1&nbsp;&nbsp;</span>Количество звонков и израсходованные минуты</a></span></li></ul></li><li><span><a href=\"#Предобработка-messages\" data-toc-modified-id=\"Предобработка-messages-3.3\"><span class=\"toc-item-num\">3.3&nbsp;&nbsp;</span>Предобработка messages</a></span><ul class=\"toc-item\"><li><span><a href=\"#Количество-отправленных-сообщений-по-месяцам\" data-toc-modified-id=\"Количество-отправленных-сообщений-по-месяцам-3.3.1\"><span class=\"toc-item-num\">3.3.1&nbsp;&nbsp;</span>Количество отправленных сообщений по месяцам</a></span></li></ul></li><li><span><a href=\"#Предобработка-internet\" data-toc-modified-id=\"Предобработка-internet-3.4\"><span class=\"toc-item-num\">3.4&nbsp;&nbsp;</span>Предобработка internet</a></span><ul class=\"toc-item\"><li><span><a href=\"#Объем-израсходованного-интернет-трафика-по-месяцам\" data-toc-modified-id=\"Объем-израсходованного-интернет-трафика-по-месяцам-3.4.1\"><span class=\"toc-item-num\">3.4.1&nbsp;&nbsp;</span>Объем израсходованного интернет-трафика по месяцам</a></span></li></ul></li><li><span><a href=\"#Предобработка-tariffs\" data-toc-modified-id=\"Предобработка-tariffs-3.5\"><span class=\"toc-item-num\">3.5&nbsp;&nbsp;</span>Предобработка tariffs</a></span><ul class=\"toc-item\"><li><span><a href=\"#Помесячная-выручка-с-каждого-пользователя\" data-toc-modified-id=\"Помесячная-выручка-с-каждого-пользователя-3.5.1\"><span class=\"toc-item-num\">3.5.1&nbsp;&nbsp;</span>Помесячная выручка с каждого пользователя</a></span></li></ul></li><li><span><a href=\"#Вывод\" data-toc-modified-id=\"Вывод-3.6\"><span class=\"toc-item-num\">3.6&nbsp;&nbsp;</span>Вывод</a></span></li></ul></li><li><span><a href=\"#Анализ-данных\" data-toc-modified-id=\"Анализ-данных-4\"><span class=\"toc-item-num\">4&nbsp;&nbsp;</span>Анализ данных</a></span><ul class=\"toc-item\"><li><span><a href=\"#Анализ-тарифов\" data-toc-modified-id=\"Анализ-тарифов-4.1\"><span class=\"toc-item-num\">4.1&nbsp;&nbsp;</span>Анализ тарифов</a></span></li><li><span><a href=\"#Анализ-клиентов-smart\" data-toc-modified-id=\"Анализ-клиентов-smart-4.2\"><span class=\"toc-item-num\">4.2&nbsp;&nbsp;</span>Анализ клиентов smart</a></span><ul class=\"toc-item\"><li><span><a href=\"#Анализ-минут-smart\" data-toc-modified-id=\"Анализ-минут-smart-4.2.1\"><span class=\"toc-item-num\">4.2.1&nbsp;&nbsp;</span>Анализ минут smart</a></span></li><li><span><a href=\"#Анализ-смс-smart\" data-toc-modified-id=\"Анализ-смс-smart-4.2.2\"><span class=\"toc-item-num\">4.2.2&nbsp;&nbsp;</span>Анализ смс smart</a></span></li><li><span><a href=\"#Анализ-веб-трафика-smart\" data-toc-modified-id=\"Анализ-веб-трафика-smart-4.2.3\"><span class=\"toc-item-num\">4.2.3&nbsp;&nbsp;</span>Анализ веб-трафика smart</a></span></li></ul></li><li><span><a href=\"#Анализ-клиентов-ultra\" data-toc-modified-id=\"Анализ-клиентов-ultra-4.3\"><span class=\"toc-item-num\">4.3&nbsp;&nbsp;</span>Анализ клиентов ultra</a></span><ul class=\"toc-item\"><li><span><a href=\"#Анализ-минут-ultra\" data-toc-modified-id=\"Анализ-минут-ultra-4.3.1\"><span class=\"toc-item-num\">4.3.1&nbsp;&nbsp;</span>Анализ минут ultra</a></span></li><li><span><a href=\"#Анализ-смс-ultra\" data-toc-modified-id=\"Анализ-смс-ultra-4.3.2\"><span class=\"toc-item-num\">4.3.2&nbsp;&nbsp;</span>Анализ смс ultra</a></span></li><li><span><a href=\"#Анализ-веб-трафика-ultra\" data-toc-modified-id=\"Анализ-веб-трафика-ultra-4.3.3\"><span class=\"toc-item-num\">4.3.3&nbsp;&nbsp;</span>Анализ веб-трафика ultra</a></span></li></ul></li><li><span><a href=\"#Анализ-выручки-тарифов\" data-toc-modified-id=\"Анализ-выручки-тарифов-4.4\"><span class=\"toc-item-num\">4.4&nbsp;&nbsp;</span>Анализ выручки тарифов</a></span></li><li><span><a href=\"#Вывод\" data-toc-modified-id=\"Вывод-4.5\"><span class=\"toc-item-num\">4.5&nbsp;&nbsp;</span>Вывод</a></span></li></ul></li><li><span><a href=\"#Проверка-гипотез\" data-toc-modified-id=\"Проверка-гипотез-5\"><span class=\"toc-item-num\">5&nbsp;&nbsp;</span>Проверка гипотез</a></span><ul class=\"toc-item\"><li><span><a href=\"#Гипотеза-1:-средняя-выручка-пользователей-тарифов-«Ультра»-и-«Смарт»-различаются\" data-toc-modified-id=\"Гипотеза-1:-средняя-выручка-пользователей-тарифов-«Ультра»-и-«Смарт»-различаются-5.1\"><span class=\"toc-item-num\">5.1&nbsp;&nbsp;</span>Гипотеза 1: средняя выручка пользователей тарифов «Ультра» и «Смарт» различаются</a></span></li><li><span><a href=\"#Гипотеза-2:-средняя-выручка-пользователей-из-Москвы-отличается-от-выручки-пользователей-из-других-регионов\" data-toc-modified-id=\"Гипотеза-2:-средняя-выручка-пользователей-из-Москвы-отличается-от-выручки-пользователей-из-других-регионов-5.2\"><span class=\"toc-item-num\">5.2&nbsp;&nbsp;</span>Гипотеза 2: средняя выручка пользователей из Москвы отличается от выручки пользователей из других регионов</a></span></li><li><span><a href=\"#Вывод\" data-toc-modified-id=\"Вывод-5.3\"><span class=\"toc-item-num\">5.3&nbsp;&nbsp;</span>Вывод</a></span></li></ul></li><li><span><a href=\"#Общий-вывод\" data-toc-modified-id=\"Общий-вывод-6\"><span class=\"toc-item-num\">6&nbsp;&nbsp;</span>Общий вывод</a></span></li></ul></div>"
   ]
  },
  {
   "cell_type": "markdown",
   "id": "f3bf038f",
   "metadata": {},
   "source": [
    "<h1>Определение перспективного тарифа для телеком-компании<span class=\"tocSkip\"></span></h1>\n",
    "<div class=\"toc\"><ul class=\"toc-item\"></ul></div>"
   ]
  },
  {
   "cell_type": "markdown",
   "id": "69fa52f5",
   "metadata": {},
   "source": [
    "## Описание исследования и цель исследования"
   ]
  },
  {
   "cell_type": "markdown",
   "id": "79116fd9",
   "metadata": {},
   "source": [
    "«Мегалайн» — федеральный оператор сотовой связи. Клиентам предлагают два тарифных плана: «Смарт» и «Ультра». Чтобы скорректировать рекламный бюджет, коммерческий департамент хочет понять, какой тариф приносит больше денег.\n",
    "\n",
    " В нашем распоряжении данные 500 пользователей «Мегалайна»: кто они, откуда, каким тарифом пользуются, сколько звонков и сообщений каждый отправил за 2018 год.\n",
    "\n",
    "Описание тарифных планов:\n",
    "\n",
    "`Тариф «Смарт»`\n",
    "\n",
    "- Ежемесячная плата: 550 рублей\n",
    "- Включено 500 минут разговора, 50 сообщений и 15 Гб интернет-трафика\n",
    "- Стоимость услуг сверх тарифного пакета:\n",
    "минута разговора: 3 рубля,\n",
    "сообщение: 3 рубля,\n",
    "1 Гб интернет-трафика: 200 рублей\n",
    "\n",
    "`Тариф «Ультра»`\n",
    "\n",
    "- Ежемесячная плата: 1950 рублей\n",
    "- Включено 3000 минут разговора, 1000 сообщений и 30 Гб интернет-трафика\n",
    "- Стоимость услуг сверх тарифного пакета:\n",
    "минута разговора: 1 рубль,\n",
    "сообщение: 1 рубль,\n",
    "1 Гб интернет-трафика: 150 рублей\n",
    "\n",
    "`Примечание`\n",
    "«Мегалайн» всегда округляет секунды до минут, а мегабайты — до гигабайт. Каждый звонок округляется отдельно: даже если он длился всего 1 секунду, будет засчитан как 1 минута.\n",
    "Для веб-трафика отдельные сессии не считаются. Вместо этого общая сумма за месяц округляется в бо́льшую сторону. Если абонент использует 1025 мегабайт в этом месяце, с него возьмут плату за 2 гигабайта. Примите, что неиспользованные за предыдущий месяц звонки, смс, интернет на следующий месяц не переносятся.\n",
    "\n",
    "**Цель исследования** - сделать предварительный анализ тарифов на небольшой выборке клиентов и сделать вывод какой тариф лучше. \n",
    "\n",
    "**Ход исследования** - Данные получаем из файлов calls.csv, internet.csv, messages.csv, tariffs.csv, users.csv. О качестве данных ничего не известно. Поэтому для начала понадобится обзор данных."
   ]
  },
  {
   "cell_type": "markdown",
   "id": "0889cdda",
   "metadata": {},
   "source": [
    "## Изучение данных из файлов"
   ]
  },
  {
   "cell_type": "markdown",
   "id": "f865e318",
   "metadata": {},
   "source": [
    "Импортируем библиотеку `Pandas`, `Numpy` и `Scipy` (модуль `stats`):"
   ]
  },
  {
   "cell_type": "code",
   "execution_count": 1,
   "id": "0a213867",
   "metadata": {},
   "outputs": [],
   "source": [
    "import pandas as pd\n",
    "import numpy as np\n",
    "from scipy import stats as st"
   ]
  },
  {
   "cell_type": "markdown",
   "id": "f8971dc1",
   "metadata": {},
   "source": [
    "Читаем файл `users.csv`:"
   ]
  },
  {
   "cell_type": "code",
   "execution_count": 2,
   "id": "2574f490",
   "metadata": {},
   "outputs": [],
   "source": [
    "try:\n",
    "    users = pd.read_csv('/datasets/users.csv') \n",
    "except:\n",
    "    users = pd.read_csv('/Users/i_am_redhead/Downloads/Yandex_Practicum/Projects/mobile_tariff_4/users.csv')"
   ]
  },
  {
   "cell_type": "markdown",
   "id": "39ac8117",
   "metadata": {},
   "source": [
    "Смотрим первые 5 строчек датафрейма и общую информацию:"
   ]
  },
  {
   "cell_type": "code",
   "execution_count": 3,
   "id": "5f3cae30",
   "metadata": {},
   "outputs": [
    {
     "data": {
      "text/html": [
       "<div>\n",
       "<style scoped>\n",
       "    .dataframe tbody tr th:only-of-type {\n",
       "        vertical-align: middle;\n",
       "    }\n",
       "\n",
       "    .dataframe tbody tr th {\n",
       "        vertical-align: top;\n",
       "    }\n",
       "\n",
       "    .dataframe thead th {\n",
       "        text-align: right;\n",
       "    }\n",
       "</style>\n",
       "<table border=\"1\" class=\"dataframe\">\n",
       "  <thead>\n",
       "    <tr style=\"text-align: right;\">\n",
       "      <th></th>\n",
       "      <th>user_id</th>\n",
       "      <th>age</th>\n",
       "      <th>churn_date</th>\n",
       "      <th>city</th>\n",
       "      <th>first_name</th>\n",
       "      <th>last_name</th>\n",
       "      <th>reg_date</th>\n",
       "      <th>tariff</th>\n",
       "    </tr>\n",
       "  </thead>\n",
       "  <tbody>\n",
       "    <tr>\n",
       "      <th>0</th>\n",
       "      <td>1000</td>\n",
       "      <td>52</td>\n",
       "      <td>NaN</td>\n",
       "      <td>Краснодар</td>\n",
       "      <td>Рафаил</td>\n",
       "      <td>Верещагин</td>\n",
       "      <td>2018-05-25</td>\n",
       "      <td>ultra</td>\n",
       "    </tr>\n",
       "    <tr>\n",
       "      <th>1</th>\n",
       "      <td>1001</td>\n",
       "      <td>41</td>\n",
       "      <td>NaN</td>\n",
       "      <td>Москва</td>\n",
       "      <td>Иван</td>\n",
       "      <td>Ежов</td>\n",
       "      <td>2018-11-01</td>\n",
       "      <td>smart</td>\n",
       "    </tr>\n",
       "    <tr>\n",
       "      <th>2</th>\n",
       "      <td>1002</td>\n",
       "      <td>59</td>\n",
       "      <td>NaN</td>\n",
       "      <td>Стерлитамак</td>\n",
       "      <td>Евгений</td>\n",
       "      <td>Абрамович</td>\n",
       "      <td>2018-06-17</td>\n",
       "      <td>smart</td>\n",
       "    </tr>\n",
       "    <tr>\n",
       "      <th>3</th>\n",
       "      <td>1003</td>\n",
       "      <td>23</td>\n",
       "      <td>NaN</td>\n",
       "      <td>Москва</td>\n",
       "      <td>Белла</td>\n",
       "      <td>Белякова</td>\n",
       "      <td>2018-08-17</td>\n",
       "      <td>ultra</td>\n",
       "    </tr>\n",
       "    <tr>\n",
       "      <th>4</th>\n",
       "      <td>1004</td>\n",
       "      <td>68</td>\n",
       "      <td>NaN</td>\n",
       "      <td>Новокузнецк</td>\n",
       "      <td>Татьяна</td>\n",
       "      <td>Авдеенко</td>\n",
       "      <td>2018-05-14</td>\n",
       "      <td>ultra</td>\n",
       "    </tr>\n",
       "  </tbody>\n",
       "</table>\n",
       "</div>"
      ],
      "text/plain": [
       "   user_id  age churn_date         city first_name  last_name    reg_date  \\\n",
       "0     1000   52        NaN    Краснодар     Рафаил  Верещагин  2018-05-25   \n",
       "1     1001   41        NaN       Москва       Иван       Ежов  2018-11-01   \n",
       "2     1002   59        NaN  Стерлитамак    Евгений  Абрамович  2018-06-17   \n",
       "3     1003   23        NaN       Москва      Белла   Белякова  2018-08-17   \n",
       "4     1004   68        NaN  Новокузнецк    Татьяна   Авдеенко  2018-05-14   \n",
       "\n",
       "  tariff  \n",
       "0  ultra  \n",
       "1  smart  \n",
       "2  smart  \n",
       "3  ultra  \n",
       "4  ultra  "
      ]
     },
     "execution_count": 3,
     "metadata": {},
     "output_type": "execute_result"
    }
   ],
   "source": [
    "users.head()"
   ]
  },
  {
   "cell_type": "code",
   "execution_count": 4,
   "id": "2310c2ef",
   "metadata": {},
   "outputs": [
    {
     "name": "stdout",
     "output_type": "stream",
     "text": [
      "<class 'pandas.core.frame.DataFrame'>\n",
      "RangeIndex: 500 entries, 0 to 499\n",
      "Data columns (total 8 columns):\n",
      " #   Column      Non-Null Count  Dtype \n",
      "---  ------      --------------  ----- \n",
      " 0   user_id     500 non-null    int64 \n",
      " 1   age         500 non-null    int64 \n",
      " 2   churn_date  38 non-null     object\n",
      " 3   city        500 non-null    object\n",
      " 4   first_name  500 non-null    object\n",
      " 5   last_name   500 non-null    object\n",
      " 6   reg_date    500 non-null    object\n",
      " 7   tariff      500 non-null    object\n",
      "dtypes: int64(2), object(6)\n",
      "memory usage: 31.4+ KB\n"
     ]
    }
   ],
   "source": [
    "users.info()"
   ]
  },
  {
   "cell_type": "markdown",
   "id": "8e37876c",
   "metadata": {},
   "source": [
    "Первый просмотренный датафрейм (напомним, что всего их будет 5) хранит в себе информацию о клиентах:\n",
    "\n",
    "- `user_id` — уникальный идентификатор пользователя\n",
    "- `first_name` — имя пользователя\n",
    "- `last_name` — фамилия пользователя\n",
    "- `age` — возраст пользователя (годы)\n",
    "- `reg_date` — дата подключения тарифа (день, месяц, год)\n",
    "- `churn_date` — дата прекращения пользования тарифом (если значение пропущено, то тариф ещё действовал на момент выгрузки данных)\n",
    "- `city` — город проживания пользователя\n",
    "- `tariff` — название тарифного плана\n",
    "\n",
    "Пропусков нет. Тип данных столбца `reg_date` необходимо изменить на `datetime`."
   ]
  },
  {
   "cell_type": "markdown",
   "id": "b059a65a",
   "metadata": {},
   "source": [
    "Видим, что в столбце `churn_date` есть `NaN` и их достаточно много, но считать их за пропуски не будем, так этот столбец хранит дату прекращения пользования тарифом, т.е. присутствие `NaN` означает, что клиент всё ещё продолжает пользоваться тарифом. Поэтому можно считать, что пропусков нет. </div>"
   ]
  },
  {
   "cell_type": "markdown",
   "id": "3ac01bab",
   "metadata": {},
   "source": [
    "Читаем файл `calls.csv`:"
   ]
  },
  {
   "cell_type": "code",
   "execution_count": 5,
   "id": "8adf7bd4",
   "metadata": {},
   "outputs": [],
   "source": [
    "try:\n",
    "    calls = pd.read_csv('/datasets/calls.csv') \n",
    "except:\n",
    "    calls = pd.read_csv('/Users/i_am_redhead/Downloads/Yandex_Practicum/Projects/mobile_tariff_4/calls.csv')"
   ]
  },
  {
   "cell_type": "markdown",
   "id": "5bc732ae",
   "metadata": {},
   "source": [
    "Смотрим первые 5 строк датафрейма и общую информацию:"
   ]
  },
  {
   "cell_type": "code",
   "execution_count": 6,
   "id": "327188c1",
   "metadata": {},
   "outputs": [
    {
     "data": {
      "text/html": [
       "<div>\n",
       "<style scoped>\n",
       "    .dataframe tbody tr th:only-of-type {\n",
       "        vertical-align: middle;\n",
       "    }\n",
       "\n",
       "    .dataframe tbody tr th {\n",
       "        vertical-align: top;\n",
       "    }\n",
       "\n",
       "    .dataframe thead th {\n",
       "        text-align: right;\n",
       "    }\n",
       "</style>\n",
       "<table border=\"1\" class=\"dataframe\">\n",
       "  <thead>\n",
       "    <tr style=\"text-align: right;\">\n",
       "      <th></th>\n",
       "      <th>id</th>\n",
       "      <th>call_date</th>\n",
       "      <th>duration</th>\n",
       "      <th>user_id</th>\n",
       "    </tr>\n",
       "  </thead>\n",
       "  <tbody>\n",
       "    <tr>\n",
       "      <th>0</th>\n",
       "      <td>1000_0</td>\n",
       "      <td>2018-07-25</td>\n",
       "      <td>0.00</td>\n",
       "      <td>1000</td>\n",
       "    </tr>\n",
       "    <tr>\n",
       "      <th>1</th>\n",
       "      <td>1000_1</td>\n",
       "      <td>2018-08-17</td>\n",
       "      <td>0.00</td>\n",
       "      <td>1000</td>\n",
       "    </tr>\n",
       "    <tr>\n",
       "      <th>2</th>\n",
       "      <td>1000_2</td>\n",
       "      <td>2018-06-11</td>\n",
       "      <td>2.85</td>\n",
       "      <td>1000</td>\n",
       "    </tr>\n",
       "    <tr>\n",
       "      <th>3</th>\n",
       "      <td>1000_3</td>\n",
       "      <td>2018-09-21</td>\n",
       "      <td>13.80</td>\n",
       "      <td>1000</td>\n",
       "    </tr>\n",
       "    <tr>\n",
       "      <th>4</th>\n",
       "      <td>1000_4</td>\n",
       "      <td>2018-12-15</td>\n",
       "      <td>5.18</td>\n",
       "      <td>1000</td>\n",
       "    </tr>\n",
       "  </tbody>\n",
       "</table>\n",
       "</div>"
      ],
      "text/plain": [
       "       id   call_date  duration  user_id\n",
       "0  1000_0  2018-07-25      0.00     1000\n",
       "1  1000_1  2018-08-17      0.00     1000\n",
       "2  1000_2  2018-06-11      2.85     1000\n",
       "3  1000_3  2018-09-21     13.80     1000\n",
       "4  1000_4  2018-12-15      5.18     1000"
      ]
     },
     "execution_count": 6,
     "metadata": {},
     "output_type": "execute_result"
    }
   ],
   "source": [
    "calls.head()"
   ]
  },
  {
   "cell_type": "code",
   "execution_count": 7,
   "id": "7033e5ca",
   "metadata": {},
   "outputs": [
    {
     "name": "stdout",
     "output_type": "stream",
     "text": [
      "<class 'pandas.core.frame.DataFrame'>\n",
      "RangeIndex: 202607 entries, 0 to 202606\n",
      "Data columns (total 4 columns):\n",
      " #   Column     Non-Null Count   Dtype  \n",
      "---  ------     --------------   -----  \n",
      " 0   id         202607 non-null  object \n",
      " 1   call_date  202607 non-null  object \n",
      " 2   duration   202607 non-null  float64\n",
      " 3   user_id    202607 non-null  int64  \n",
      "dtypes: float64(1), int64(1), object(2)\n",
      "memory usage: 6.2+ MB\n"
     ]
    }
   ],
   "source": [
    "calls.info()"
   ]
  },
  {
   "cell_type": "markdown",
   "id": "41c4fd62",
   "metadata": {},
   "source": [
    " В просмотренном датафрейме хранится такая информация о звонках:\n",
    "- `id` — уникальный номер звонка\n",
    "- `call_date` — дата звонка\n",
    "- `duration` — длительность звонка в минутах\n",
    "- `user_id` — идентификатор пользователя, сделавшего звонок\n",
    " \n",
    "Пропусков в данных нет. Тип данных столбца `call_date` необходимо изменить с `object` на `datetime`."
   ]
  },
  {
   "cell_type": "markdown",
   "id": "e2ec57b3",
   "metadata": {},
   "source": [
    "Читаем датафрейм `messages`, смотрим первые 5 строк и общую информацию:"
   ]
  },
  {
   "cell_type": "code",
   "execution_count": 8,
   "id": "7b892696",
   "metadata": {},
   "outputs": [],
   "source": [
    "try:\n",
    "    messages = pd.read_csv('/datasets/messages.csv') \n",
    "except:\n",
    "    messages = pd.read_csv('/Users/i_am_redhead/Downloads/Yandex_Practicum/Projects/mobile_tariff_4/messages.csv')"
   ]
  },
  {
   "cell_type": "code",
   "execution_count": 9,
   "id": "a7103094",
   "metadata": {},
   "outputs": [
    {
     "data": {
      "text/html": [
       "<div>\n",
       "<style scoped>\n",
       "    .dataframe tbody tr th:only-of-type {\n",
       "        vertical-align: middle;\n",
       "    }\n",
       "\n",
       "    .dataframe tbody tr th {\n",
       "        vertical-align: top;\n",
       "    }\n",
       "\n",
       "    .dataframe thead th {\n",
       "        text-align: right;\n",
       "    }\n",
       "</style>\n",
       "<table border=\"1\" class=\"dataframe\">\n",
       "  <thead>\n",
       "    <tr style=\"text-align: right;\">\n",
       "      <th></th>\n",
       "      <th>id</th>\n",
       "      <th>message_date</th>\n",
       "      <th>user_id</th>\n",
       "    </tr>\n",
       "  </thead>\n",
       "  <tbody>\n",
       "    <tr>\n",
       "      <th>0</th>\n",
       "      <td>1000_0</td>\n",
       "      <td>2018-06-27</td>\n",
       "      <td>1000</td>\n",
       "    </tr>\n",
       "    <tr>\n",
       "      <th>1</th>\n",
       "      <td>1000_1</td>\n",
       "      <td>2018-10-08</td>\n",
       "      <td>1000</td>\n",
       "    </tr>\n",
       "    <tr>\n",
       "      <th>2</th>\n",
       "      <td>1000_2</td>\n",
       "      <td>2018-08-04</td>\n",
       "      <td>1000</td>\n",
       "    </tr>\n",
       "    <tr>\n",
       "      <th>3</th>\n",
       "      <td>1000_3</td>\n",
       "      <td>2018-06-16</td>\n",
       "      <td>1000</td>\n",
       "    </tr>\n",
       "    <tr>\n",
       "      <th>4</th>\n",
       "      <td>1000_4</td>\n",
       "      <td>2018-12-05</td>\n",
       "      <td>1000</td>\n",
       "    </tr>\n",
       "  </tbody>\n",
       "</table>\n",
       "</div>"
      ],
      "text/plain": [
       "       id message_date  user_id\n",
       "0  1000_0   2018-06-27     1000\n",
       "1  1000_1   2018-10-08     1000\n",
       "2  1000_2   2018-08-04     1000\n",
       "3  1000_3   2018-06-16     1000\n",
       "4  1000_4   2018-12-05     1000"
      ]
     },
     "execution_count": 9,
     "metadata": {},
     "output_type": "execute_result"
    }
   ],
   "source": [
    "messages.head()"
   ]
  },
  {
   "cell_type": "code",
   "execution_count": 10,
   "id": "81493187",
   "metadata": {},
   "outputs": [
    {
     "name": "stdout",
     "output_type": "stream",
     "text": [
      "<class 'pandas.core.frame.DataFrame'>\n",
      "RangeIndex: 123036 entries, 0 to 123035\n",
      "Data columns (total 3 columns):\n",
      " #   Column        Non-Null Count   Dtype \n",
      "---  ------        --------------   ----- \n",
      " 0   id            123036 non-null  object\n",
      " 1   message_date  123036 non-null  object\n",
      " 2   user_id       123036 non-null  int64 \n",
      "dtypes: int64(1), object(2)\n",
      "memory usage: 2.8+ MB\n"
     ]
    }
   ],
   "source": [
    "messages.info()"
   ]
  },
  {
   "cell_type": "markdown",
   "id": "059d8686",
   "metadata": {},
   "source": [
    "В датафрейме хранятся данных о сообщениях пользователей:\n",
    "- `id` — уникальный номер сообщения\n",
    "- `message_date` — дата сообщения\n",
    "- `user_id` — идентификатор пользователя, отправившего сообщение\n",
    " \n",
    " Пропусков нет. Тип данных столбца `message_date` необходимо изменить на `datetime`."
   ]
  },
  {
   "cell_type": "markdown",
   "id": "b11a6cef",
   "metadata": {},
   "source": [
    "Смотрим следующий датафрейм `internet`: читаем файл, выводим первые 5 строк и смотрим общую информацию."
   ]
  },
  {
   "cell_type": "code",
   "execution_count": 11,
   "id": "725ae863",
   "metadata": {},
   "outputs": [],
   "source": [
    "try:\n",
    "    internet = pd.read_csv('/datasets/internet.csv') \n",
    "except:\n",
    "    internet = pd.read_csv('/Users/i_am_redhead/Downloads/Yandex_Practicum/Projects/mobile_tariff_4/internet.csv')"
   ]
  },
  {
   "cell_type": "code",
   "execution_count": 12,
   "id": "96c98c3b",
   "metadata": {},
   "outputs": [
    {
     "data": {
      "text/html": [
       "<div>\n",
       "<style scoped>\n",
       "    .dataframe tbody tr th:only-of-type {\n",
       "        vertical-align: middle;\n",
       "    }\n",
       "\n",
       "    .dataframe tbody tr th {\n",
       "        vertical-align: top;\n",
       "    }\n",
       "\n",
       "    .dataframe thead th {\n",
       "        text-align: right;\n",
       "    }\n",
       "</style>\n",
       "<table border=\"1\" class=\"dataframe\">\n",
       "  <thead>\n",
       "    <tr style=\"text-align: right;\">\n",
       "      <th></th>\n",
       "      <th>Unnamed: 0</th>\n",
       "      <th>id</th>\n",
       "      <th>mb_used</th>\n",
       "      <th>session_date</th>\n",
       "      <th>user_id</th>\n",
       "    </tr>\n",
       "  </thead>\n",
       "  <tbody>\n",
       "    <tr>\n",
       "      <th>0</th>\n",
       "      <td>0</td>\n",
       "      <td>1000_0</td>\n",
       "      <td>112.95</td>\n",
       "      <td>2018-11-25</td>\n",
       "      <td>1000</td>\n",
       "    </tr>\n",
       "    <tr>\n",
       "      <th>1</th>\n",
       "      <td>1</td>\n",
       "      <td>1000_1</td>\n",
       "      <td>1052.81</td>\n",
       "      <td>2018-09-07</td>\n",
       "      <td>1000</td>\n",
       "    </tr>\n",
       "    <tr>\n",
       "      <th>2</th>\n",
       "      <td>2</td>\n",
       "      <td>1000_2</td>\n",
       "      <td>1197.26</td>\n",
       "      <td>2018-06-25</td>\n",
       "      <td>1000</td>\n",
       "    </tr>\n",
       "    <tr>\n",
       "      <th>3</th>\n",
       "      <td>3</td>\n",
       "      <td>1000_3</td>\n",
       "      <td>550.27</td>\n",
       "      <td>2018-08-22</td>\n",
       "      <td>1000</td>\n",
       "    </tr>\n",
       "    <tr>\n",
       "      <th>4</th>\n",
       "      <td>4</td>\n",
       "      <td>1000_4</td>\n",
       "      <td>302.56</td>\n",
       "      <td>2018-09-24</td>\n",
       "      <td>1000</td>\n",
       "    </tr>\n",
       "  </tbody>\n",
       "</table>\n",
       "</div>"
      ],
      "text/plain": [
       "   Unnamed: 0      id  mb_used session_date  user_id\n",
       "0           0  1000_0   112.95   2018-11-25     1000\n",
       "1           1  1000_1  1052.81   2018-09-07     1000\n",
       "2           2  1000_2  1197.26   2018-06-25     1000\n",
       "3           3  1000_3   550.27   2018-08-22     1000\n",
       "4           4  1000_4   302.56   2018-09-24     1000"
      ]
     },
     "execution_count": 12,
     "metadata": {},
     "output_type": "execute_result"
    }
   ],
   "source": [
    "internet.head()"
   ]
  },
  {
   "cell_type": "code",
   "execution_count": 13,
   "id": "560c6064",
   "metadata": {},
   "outputs": [
    {
     "name": "stdout",
     "output_type": "stream",
     "text": [
      "<class 'pandas.core.frame.DataFrame'>\n",
      "RangeIndex: 149396 entries, 0 to 149395\n",
      "Data columns (total 5 columns):\n",
      " #   Column        Non-Null Count   Dtype  \n",
      "---  ------        --------------   -----  \n",
      " 0   Unnamed: 0    149396 non-null  int64  \n",
      " 1   id            149396 non-null  object \n",
      " 2   mb_used       149396 non-null  float64\n",
      " 3   session_date  149396 non-null  object \n",
      " 4   user_id       149396 non-null  int64  \n",
      "dtypes: float64(1), int64(2), object(2)\n",
      "memory usage: 5.7+ MB\n"
     ]
    }
   ],
   "source": [
    "internet.info()"
   ]
  },
  {
   "cell_type": "markdown",
   "id": "f6a39471",
   "metadata": {},
   "source": [
    "Таблица хранит в себе данные об интернет-сессиях клиентов:\n",
    "- `id` — уникальный номер сессии\n",
    "- `mb_used` — объём потраченного за сессию интернет-трафика (в мегабайтах)\n",
    "- `session_date` — дата интернет-сессии\n",
    "- `user_id` — идентификатор пользователя\n",
    "Пропусков нет. Тип данных столбца `session_date` необходимо изменить на `datetime`. И удалить столбец  `Unnamed: 0`, который повторяет нумерацию строк."
   ]
  },
  {
   "cell_type": "markdown",
   "id": "267ea82f",
   "metadata": {},
   "source": [
    "Последний датафрейм - `tariffs`: читаем файл, смотрим первые 5 строк, выводим общую информацию."
   ]
  },
  {
   "cell_type": "code",
   "execution_count": 14,
   "id": "24ffa12f",
   "metadata": {},
   "outputs": [],
   "source": [
    "try:\n",
    "    tariffs = pd.read_csv('/datasets/tariffs.csv') \n",
    "except:\n",
    "    tariffs = pd.read_csv('/Users/i_am_redhead/Downloads/Yandex_Practicum/Projects/mobile_tariff_4/tariffs.csv')"
   ]
  },
  {
   "cell_type": "code",
   "execution_count": 15,
   "id": "30c7519f",
   "metadata": {},
   "outputs": [
    {
     "data": {
      "text/html": [
       "<div>\n",
       "<style scoped>\n",
       "    .dataframe tbody tr th:only-of-type {\n",
       "        vertical-align: middle;\n",
       "    }\n",
       "\n",
       "    .dataframe tbody tr th {\n",
       "        vertical-align: top;\n",
       "    }\n",
       "\n",
       "    .dataframe thead th {\n",
       "        text-align: right;\n",
       "    }\n",
       "</style>\n",
       "<table border=\"1\" class=\"dataframe\">\n",
       "  <thead>\n",
       "    <tr style=\"text-align: right;\">\n",
       "      <th></th>\n",
       "      <th>messages_included</th>\n",
       "      <th>mb_per_month_included</th>\n",
       "      <th>minutes_included</th>\n",
       "      <th>rub_monthly_fee</th>\n",
       "      <th>rub_per_gb</th>\n",
       "      <th>rub_per_message</th>\n",
       "      <th>rub_per_minute</th>\n",
       "      <th>tariff_name</th>\n",
       "    </tr>\n",
       "  </thead>\n",
       "  <tbody>\n",
       "    <tr>\n",
       "      <th>0</th>\n",
       "      <td>50</td>\n",
       "      <td>15360</td>\n",
       "      <td>500</td>\n",
       "      <td>550</td>\n",
       "      <td>200</td>\n",
       "      <td>3</td>\n",
       "      <td>3</td>\n",
       "      <td>smart</td>\n",
       "    </tr>\n",
       "    <tr>\n",
       "      <th>1</th>\n",
       "      <td>1000</td>\n",
       "      <td>30720</td>\n",
       "      <td>3000</td>\n",
       "      <td>1950</td>\n",
       "      <td>150</td>\n",
       "      <td>1</td>\n",
       "      <td>1</td>\n",
       "      <td>ultra</td>\n",
       "    </tr>\n",
       "  </tbody>\n",
       "</table>\n",
       "</div>"
      ],
      "text/plain": [
       "   messages_included  mb_per_month_included  minutes_included  \\\n",
       "0                 50                  15360               500   \n",
       "1               1000                  30720              3000   \n",
       "\n",
       "   rub_monthly_fee  rub_per_gb  rub_per_message  rub_per_minute tariff_name  \n",
       "0              550         200                3               3       smart  \n",
       "1             1950         150                1               1       ultra  "
      ]
     },
     "execution_count": 15,
     "metadata": {},
     "output_type": "execute_result"
    }
   ],
   "source": [
    "tariffs.head()"
   ]
  },
  {
   "cell_type": "code",
   "execution_count": 16,
   "id": "b2f3a866",
   "metadata": {},
   "outputs": [
    {
     "name": "stdout",
     "output_type": "stream",
     "text": [
      "<class 'pandas.core.frame.DataFrame'>\n",
      "RangeIndex: 2 entries, 0 to 1\n",
      "Data columns (total 8 columns):\n",
      " #   Column                 Non-Null Count  Dtype \n",
      "---  ------                 --------------  ----- \n",
      " 0   messages_included      2 non-null      int64 \n",
      " 1   mb_per_month_included  2 non-null      int64 \n",
      " 2   minutes_included       2 non-null      int64 \n",
      " 3   rub_monthly_fee        2 non-null      int64 \n",
      " 4   rub_per_gb             2 non-null      int64 \n",
      " 5   rub_per_message        2 non-null      int64 \n",
      " 6   rub_per_minute         2 non-null      int64 \n",
      " 7   tariff_name            2 non-null      object\n",
      "dtypes: int64(7), object(1)\n",
      "memory usage: 256.0+ bytes\n"
     ]
    }
   ],
   "source": [
    "tariffs.info()"
   ]
  },
  {
   "cell_type": "markdown",
   "id": "d51924c6",
   "metadata": {},
   "source": [
    "Какая информация о тарифных планах нам доступна из датафрейма:\n",
    "- `tariff_name` — название тарифа\n",
    "- `rub_monthly_fee` — ежемесячная абонентская плата в рублях\n",
    "- `minutes_included` — количество минут разговора в месяц, включённых в абонентскую плату\n",
    "- `messages_included` — количество сообщений в месяц, включённых в абонентскую плату\n",
    "- `mb_per_month_included` — объём интернет-трафика, включённого в абонентскую плату (в мегабайтах)\n",
    "- `rub_per_minute` — стоимость минуты разговора сверх тарифного пакета (например, если в тарифе 100 минут разговора в месяц, то со 101 минуты будет взиматься плата)\n",
    "- `rub_per_message` — стоимость отправки сообщения сверх тарифного пакета\n",
    "- `rub_per_gb` — стоимость дополнительного гигабайта интернет-трафика сверх тарифного пакета (1 гигабайт = 1024 мегабайта)\n",
    "\n",
    "С типами данных всё в порядке. Так как рассчеты по сессиям в интернет производятся в Гб, то можно перевести значения `mb_per_month_included` в Гб, сохранив результат в новый столбец."
   ]
  },
  {
   "cell_type": "markdown",
   "id": "66a47265",
   "metadata": {},
   "source": [
    "### Вывод"
   ]
  },
  {
   "cell_type": "markdown",
   "id": "34399093",
   "metadata": {},
   "source": [
    "<div style=\"border:solid blue 2px; padding: 20px\">\n",
    "Итак, в наших руках 5 датафреймов, в 4 из которых хранится информация о клиентах компании «Мегалайн» — федерального оператора сотовой связи: имена и фамилии, возраст, каким тарифом пользуются и когда подключились и отключились от тарифного плана (если такое произошло), id клиентов, информация о звонках, сообщениях, о сессиях в интернете. В 5ом датафрейме хранится непосредственно информация о тарифных планах: название, абонентская плата, коичество минут, сообщений и интернета, включенные в тарифный план и стоимость этих опций сверх тарифного плана. \n",
    "    \n",
    "На первый взгляд с данными всё в порядке, кроме необходимости изменить типы данных в столбцах с датами в разных датафреймах, но более подробно поработаем с данными в следующем шаге 3 - `Предобработка данных`."
   ]
  },
  {
   "cell_type": "markdown",
   "id": "157a5ac7",
   "metadata": {},
   "source": [
    "## Предобработка данных"
   ]
  },
  {
   "cell_type": "markdown",
   "id": "0ed05b3b",
   "metadata": {},
   "source": [
    "Как и в предыдущем пункте 2,будем по очереди смотреть на данные датайфеймов и исправлять в них \"ошибки\".\n",
    "\n",
    "В этом же пункте будем произвдить следующие расчеты в соответствующих датафреймах:\n",
    "\n",
    "- посчитаем количество сделанных звонков и израсходованных минут разговора по месяцам - датафрейм `calls`;\n",
    "- посчитаем количество отправленных сообщений по месяцам - датафрейм `messages`;\n",
    "- посчитаем объем израсходованного интернет-трафика по месяцам - датафрейм `internet`;\n",
    "- посчитаем помесячную выручку с каждого пользователя (вычтим бесплатный лимит из суммарного количества звонков, сообщений и интернет-трафика; остаток умножим на значение из тарифного плана; прибавим абонентскую плату, соответствующую тарифному плану) - датафрейм `tariffs`."
   ]
  },
  {
   "cell_type": "markdown",
   "id": "0b94bea8",
   "metadata": {},
   "source": [
    "### Предобработка users"
   ]
  },
  {
   "cell_type": "markdown",
   "id": "7711d62e",
   "metadata": {},
   "source": [
    "Выведем на экран 10 строчек датафрейма:"
   ]
  },
  {
   "cell_type": "code",
   "execution_count": 17,
   "id": "f3ba42b4",
   "metadata": {},
   "outputs": [
    {
     "data": {
      "text/html": [
       "<div>\n",
       "<style scoped>\n",
       "    .dataframe tbody tr th:only-of-type {\n",
       "        vertical-align: middle;\n",
       "    }\n",
       "\n",
       "    .dataframe tbody tr th {\n",
       "        vertical-align: top;\n",
       "    }\n",
       "\n",
       "    .dataframe thead th {\n",
       "        text-align: right;\n",
       "    }\n",
       "</style>\n",
       "<table border=\"1\" class=\"dataframe\">\n",
       "  <thead>\n",
       "    <tr style=\"text-align: right;\">\n",
       "      <th></th>\n",
       "      <th>user_id</th>\n",
       "      <th>age</th>\n",
       "      <th>churn_date</th>\n",
       "      <th>city</th>\n",
       "      <th>first_name</th>\n",
       "      <th>last_name</th>\n",
       "      <th>reg_date</th>\n",
       "      <th>tariff</th>\n",
       "    </tr>\n",
       "  </thead>\n",
       "  <tbody>\n",
       "    <tr>\n",
       "      <th>473</th>\n",
       "      <td>1473</td>\n",
       "      <td>18</td>\n",
       "      <td>NaN</td>\n",
       "      <td>Красноярск</td>\n",
       "      <td>Николай</td>\n",
       "      <td>Лебедев</td>\n",
       "      <td>2018-08-05</td>\n",
       "      <td>ultra</td>\n",
       "    </tr>\n",
       "    <tr>\n",
       "      <th>20</th>\n",
       "      <td>1020</td>\n",
       "      <td>59</td>\n",
       "      <td>2018-12-18</td>\n",
       "      <td>Чита</td>\n",
       "      <td>Тала</td>\n",
       "      <td>Костина</td>\n",
       "      <td>2018-10-22</td>\n",
       "      <td>smart</td>\n",
       "    </tr>\n",
       "    <tr>\n",
       "      <th>378</th>\n",
       "      <td>1378</td>\n",
       "      <td>21</td>\n",
       "      <td>NaN</td>\n",
       "      <td>Иркутск</td>\n",
       "      <td>Евгения</td>\n",
       "      <td>Бычкова</td>\n",
       "      <td>2018-01-19</td>\n",
       "      <td>smart</td>\n",
       "    </tr>\n",
       "    <tr>\n",
       "      <th>307</th>\n",
       "      <td>1307</td>\n",
       "      <td>53</td>\n",
       "      <td>NaN</td>\n",
       "      <td>Самара</td>\n",
       "      <td>Симона</td>\n",
       "      <td>Авсейкина</td>\n",
       "      <td>2018-05-04</td>\n",
       "      <td>smart</td>\n",
       "    </tr>\n",
       "    <tr>\n",
       "      <th>361</th>\n",
       "      <td>1361</td>\n",
       "      <td>38</td>\n",
       "      <td>NaN</td>\n",
       "      <td>Екатеринбург</td>\n",
       "      <td>Рената</td>\n",
       "      <td>Кошелева</td>\n",
       "      <td>2018-09-09</td>\n",
       "      <td>ultra</td>\n",
       "    </tr>\n",
       "    <tr>\n",
       "      <th>402</th>\n",
       "      <td>1402</td>\n",
       "      <td>23</td>\n",
       "      <td>NaN</td>\n",
       "      <td>Пенза</td>\n",
       "      <td>Мариетта</td>\n",
       "      <td>Измайлова</td>\n",
       "      <td>2018-03-09</td>\n",
       "      <td>ultra</td>\n",
       "    </tr>\n",
       "    <tr>\n",
       "      <th>360</th>\n",
       "      <td>1360</td>\n",
       "      <td>46</td>\n",
       "      <td>NaN</td>\n",
       "      <td>Санкт-Петербург</td>\n",
       "      <td>Лаура</td>\n",
       "      <td>Макарова</td>\n",
       "      <td>2018-03-18</td>\n",
       "      <td>ultra</td>\n",
       "    </tr>\n",
       "    <tr>\n",
       "      <th>265</th>\n",
       "      <td>1265</td>\n",
       "      <td>24</td>\n",
       "      <td>2018-10-04</td>\n",
       "      <td>Омск</td>\n",
       "      <td>Радим</td>\n",
       "      <td>Адамов</td>\n",
       "      <td>2018-06-24</td>\n",
       "      <td>ultra</td>\n",
       "    </tr>\n",
       "    <tr>\n",
       "      <th>278</th>\n",
       "      <td>1278</td>\n",
       "      <td>46</td>\n",
       "      <td>NaN</td>\n",
       "      <td>Новокузнецк</td>\n",
       "      <td>Леонид</td>\n",
       "      <td>Троицкий</td>\n",
       "      <td>2018-12-23</td>\n",
       "      <td>smart</td>\n",
       "    </tr>\n",
       "    <tr>\n",
       "      <th>201</th>\n",
       "      <td>1201</td>\n",
       "      <td>32</td>\n",
       "      <td>2018-12-03</td>\n",
       "      <td>Москва</td>\n",
       "      <td>Геннадий</td>\n",
       "      <td>Веселов</td>\n",
       "      <td>2018-08-06</td>\n",
       "      <td>ultra</td>\n",
       "    </tr>\n",
       "  </tbody>\n",
       "</table>\n",
       "</div>"
      ],
      "text/plain": [
       "     user_id  age  churn_date             city first_name  last_name  \\\n",
       "473     1473   18         NaN       Красноярск    Николай    Лебедев   \n",
       "20      1020   59  2018-12-18             Чита       Тала    Костина   \n",
       "378     1378   21         NaN          Иркутск    Евгения    Бычкова   \n",
       "307     1307   53         NaN           Самара     Симона  Авсейкина   \n",
       "361     1361   38         NaN     Екатеринбург     Рената   Кошелева   \n",
       "402     1402   23         NaN            Пенза   Мариетта  Измайлова   \n",
       "360     1360   46         NaN  Санкт-Петербург      Лаура   Макарова   \n",
       "265     1265   24  2018-10-04             Омск      Радим     Адамов   \n",
       "278     1278   46         NaN      Новокузнецк     Леонид   Троицкий   \n",
       "201     1201   32  2018-12-03           Москва   Геннадий    Веселов   \n",
       "\n",
       "       reg_date tariff  \n",
       "473  2018-08-05  ultra  \n",
       "20   2018-10-22  smart  \n",
       "378  2018-01-19  smart  \n",
       "307  2018-05-04  smart  \n",
       "361  2018-09-09  ultra  \n",
       "402  2018-03-09  ultra  \n",
       "360  2018-03-18  ultra  \n",
       "265  2018-06-24  ultra  \n",
       "278  2018-12-23  smart  \n",
       "201  2018-08-06  ultra  "
      ]
     },
     "execution_count": 17,
     "metadata": {},
     "output_type": "execute_result"
    }
   ],
   "source": [
    "users.sample(10)"
   ]
  },
  {
   "cell_type": "markdown",
   "id": "a0a5635f",
   "metadata": {},
   "source": [
    "Помним из предыдущего пункта, что столбцу `reg_date` требуется сменить тип данных на `datetime`. Сделаем это с помощью метода `to_datetime`:"
   ]
  },
  {
   "cell_type": "code",
   "execution_count": 18,
   "id": "aebfd0c6",
   "metadata": {},
   "outputs": [],
   "source": [
    "users['reg_date'] = pd.to_datetime(users['reg_date'], format = '%Y-%m-%d')"
   ]
  },
  {
   "cell_type": "markdown",
   "id": "0758f99a",
   "metadata": {},
   "source": [
    "Посмотрим на явные дубликаты:"
   ]
  },
  {
   "cell_type": "code",
   "execution_count": 19,
   "id": "d962b826",
   "metadata": {},
   "outputs": [
    {
     "data": {
      "text/plain": [
       "0"
      ]
     },
     "execution_count": 19,
     "metadata": {},
     "output_type": "execute_result"
    }
   ],
   "source": [
    "users.duplicated().sum()\n",
    "#вывод количества явных дубликатов датафрейма"
   ]
  },
  {
   "cell_type": "markdown",
   "id": "5f02ba45",
   "metadata": {},
   "source": [
    "В дальнейшем исследовании нам необходимо будет \"склеить\" наши датафреймы в один, поэтому оставим только те, что участвуют в исследовании - `user_id`, `city`и `tariff`: "
   ]
  },
  {
   "cell_type": "code",
   "execution_count": 20,
   "id": "56fb4992",
   "metadata": {},
   "outputs": [
    {
     "data": {
      "text/html": [
       "<div>\n",
       "<style scoped>\n",
       "    .dataframe tbody tr th:only-of-type {\n",
       "        vertical-align: middle;\n",
       "    }\n",
       "\n",
       "    .dataframe tbody tr th {\n",
       "        vertical-align: top;\n",
       "    }\n",
       "\n",
       "    .dataframe thead th {\n",
       "        text-align: right;\n",
       "    }\n",
       "</style>\n",
       "<table border=\"1\" class=\"dataframe\">\n",
       "  <thead>\n",
       "    <tr style=\"text-align: right;\">\n",
       "      <th></th>\n",
       "      <th>user_id</th>\n",
       "      <th>city</th>\n",
       "      <th>tariff</th>\n",
       "    </tr>\n",
       "  </thead>\n",
       "  <tbody>\n",
       "    <tr>\n",
       "      <th>0</th>\n",
       "      <td>1000</td>\n",
       "      <td>Краснодар</td>\n",
       "      <td>ultra</td>\n",
       "    </tr>\n",
       "    <tr>\n",
       "      <th>1</th>\n",
       "      <td>1001</td>\n",
       "      <td>Москва</td>\n",
       "      <td>smart</td>\n",
       "    </tr>\n",
       "    <tr>\n",
       "      <th>2</th>\n",
       "      <td>1002</td>\n",
       "      <td>Стерлитамак</td>\n",
       "      <td>smart</td>\n",
       "    </tr>\n",
       "    <tr>\n",
       "      <th>3</th>\n",
       "      <td>1003</td>\n",
       "      <td>Москва</td>\n",
       "      <td>ultra</td>\n",
       "    </tr>\n",
       "    <tr>\n",
       "      <th>4</th>\n",
       "      <td>1004</td>\n",
       "      <td>Новокузнецк</td>\n",
       "      <td>ultra</td>\n",
       "    </tr>\n",
       "  </tbody>\n",
       "</table>\n",
       "</div>"
      ],
      "text/plain": [
       "   user_id         city tariff\n",
       "0     1000    Краснодар  ultra\n",
       "1     1001       Москва  smart\n",
       "2     1002  Стерлитамак  smart\n",
       "3     1003       Москва  ultra\n",
       "4     1004  Новокузнецк  ultra"
      ]
     },
     "metadata": {},
     "output_type": "display_data"
    }
   ],
   "source": [
    "users = users[['user_id', 'city', 'tariff']]\n",
    "display(users.head())\n",
    "#просмотр первых 5 строчек датафрейма"
   ]
  },
  {
   "cell_type": "markdown",
   "id": "e3c9a524",
   "metadata": {},
   "source": [
    "Итак, закончили с первым датафреймом `users`. "
   ]
  },
  {
   "cell_type": "markdown",
   "id": "bd384a24",
   "metadata": {},
   "source": [
    "### Предобработака calls"
   ]
  },
  {
   "cell_type": "code",
   "execution_count": 21,
   "id": "9149910b",
   "metadata": {},
   "outputs": [
    {
     "data": {
      "text/html": [
       "<div>\n",
       "<style scoped>\n",
       "    .dataframe tbody tr th:only-of-type {\n",
       "        vertical-align: middle;\n",
       "    }\n",
       "\n",
       "    .dataframe tbody tr th {\n",
       "        vertical-align: top;\n",
       "    }\n",
       "\n",
       "    .dataframe thead th {\n",
       "        text-align: right;\n",
       "    }\n",
       "</style>\n",
       "<table border=\"1\" class=\"dataframe\">\n",
       "  <thead>\n",
       "    <tr style=\"text-align: right;\">\n",
       "      <th></th>\n",
       "      <th>id</th>\n",
       "      <th>call_date</th>\n",
       "      <th>duration</th>\n",
       "      <th>user_id</th>\n",
       "    </tr>\n",
       "  </thead>\n",
       "  <tbody>\n",
       "    <tr>\n",
       "      <th>33720</th>\n",
       "      <td>1083_65</td>\n",
       "      <td>2018-06-26</td>\n",
       "      <td>8.33</td>\n",
       "      <td>1083</td>\n",
       "    </tr>\n",
       "    <tr>\n",
       "      <th>66278</th>\n",
       "      <td>1168_1429</td>\n",
       "      <td>2018-03-28</td>\n",
       "      <td>22.25</td>\n",
       "      <td>1168</td>\n",
       "    </tr>\n",
       "    <tr>\n",
       "      <th>190771</th>\n",
       "      <td>1469_390</td>\n",
       "      <td>2018-10-23</td>\n",
       "      <td>10.89</td>\n",
       "      <td>1469</td>\n",
       "    </tr>\n",
       "    <tr>\n",
       "      <th>192403</th>\n",
       "      <td>1472_216</td>\n",
       "      <td>2018-08-19</td>\n",
       "      <td>0.00</td>\n",
       "      <td>1472</td>\n",
       "    </tr>\n",
       "    <tr>\n",
       "      <th>130415</th>\n",
       "      <td>1333_262</td>\n",
       "      <td>2018-11-13</td>\n",
       "      <td>4.01</td>\n",
       "      <td>1333</td>\n",
       "    </tr>\n",
       "    <tr>\n",
       "      <th>147278</th>\n",
       "      <td>1375_109</td>\n",
       "      <td>2018-01-22</td>\n",
       "      <td>0.00</td>\n",
       "      <td>1375</td>\n",
       "    </tr>\n",
       "    <tr>\n",
       "      <th>14521</th>\n",
       "      <td>1038_143</td>\n",
       "      <td>2018-11-23</td>\n",
       "      <td>11.86</td>\n",
       "      <td>1038</td>\n",
       "    </tr>\n",
       "    <tr>\n",
       "      <th>44246</th>\n",
       "      <td>1111_88</td>\n",
       "      <td>2018-12-27</td>\n",
       "      <td>1.53</td>\n",
       "      <td>1111</td>\n",
       "    </tr>\n",
       "    <tr>\n",
       "      <th>184383</th>\n",
       "      <td>1457_355</td>\n",
       "      <td>2018-12-27</td>\n",
       "      <td>5.51</td>\n",
       "      <td>1457</td>\n",
       "    </tr>\n",
       "    <tr>\n",
       "      <th>159786</th>\n",
       "      <td>1394_191</td>\n",
       "      <td>2018-08-26</td>\n",
       "      <td>4.03</td>\n",
       "      <td>1394</td>\n",
       "    </tr>\n",
       "  </tbody>\n",
       "</table>\n",
       "</div>"
      ],
      "text/plain": [
       "               id   call_date  duration  user_id\n",
       "33720     1083_65  2018-06-26      8.33     1083\n",
       "66278   1168_1429  2018-03-28     22.25     1168\n",
       "190771   1469_390  2018-10-23     10.89     1469\n",
       "192403   1472_216  2018-08-19      0.00     1472\n",
       "130415   1333_262  2018-11-13      4.01     1333\n",
       "147278   1375_109  2018-01-22      0.00     1375\n",
       "14521    1038_143  2018-11-23     11.86     1038\n",
       "44246     1111_88  2018-12-27      1.53     1111\n",
       "184383   1457_355  2018-12-27      5.51     1457\n",
       "159786   1394_191  2018-08-26      4.03     1394"
      ]
     },
     "execution_count": 21,
     "metadata": {},
     "output_type": "execute_result"
    }
   ],
   "source": [
    "calls.sample(10)\n",
    "#вывод на экран 10 строчек датафрейма"
   ]
  },
  {
   "cell_type": "markdown",
   "id": "473f0d71",
   "metadata": {},
   "source": [
    "Изменим тип данных в столбце `call_date` на `datetime`:"
   ]
  },
  {
   "cell_type": "code",
   "execution_count": 22,
   "id": "d13dfcfa",
   "metadata": {},
   "outputs": [],
   "source": [
    "calls['call_date'] = pd.to_datetime(calls['call_date'], format = '%Y-%m-%d')"
   ]
  },
  {
   "cell_type": "markdown",
   "id": "748b464f",
   "metadata": {},
   "source": [
    "Проверим на наличие явных дубликаов:"
   ]
  },
  {
   "cell_type": "code",
   "execution_count": 23,
   "id": "a8f60045",
   "metadata": {},
   "outputs": [
    {
     "data": {
      "text/plain": [
       "0"
      ]
     },
     "execution_count": 23,
     "metadata": {},
     "output_type": "execute_result"
    }
   ],
   "source": [
    "calls.duplicated().sum()\n",
    "#вывод количества явных дубликатов датафрейма"
   ]
  },
  {
   "cell_type": "markdown",
   "id": "c34a8272",
   "metadata": {},
   "source": [
    "Посмотрим на столбец `duration` с помощью метода `describe`: "
   ]
  },
  {
   "cell_type": "code",
   "execution_count": 24,
   "id": "f076416f",
   "metadata": {},
   "outputs": [
    {
     "data": {
      "text/html": [
       "<div>\n",
       "<style scoped>\n",
       "    .dataframe tbody tr th:only-of-type {\n",
       "        vertical-align: middle;\n",
       "    }\n",
       "\n",
       "    .dataframe tbody tr th {\n",
       "        vertical-align: top;\n",
       "    }\n",
       "\n",
       "    .dataframe thead th {\n",
       "        text-align: right;\n",
       "    }\n",
       "</style>\n",
       "<table border=\"1\" class=\"dataframe\">\n",
       "  <thead>\n",
       "    <tr style=\"text-align: right;\">\n",
       "      <th></th>\n",
       "      <th>duration</th>\n",
       "      <th>user_id</th>\n",
       "    </tr>\n",
       "  </thead>\n",
       "  <tbody>\n",
       "    <tr>\n",
       "      <th>count</th>\n",
       "      <td>202607.000000</td>\n",
       "      <td>202607.000000</td>\n",
       "    </tr>\n",
       "    <tr>\n",
       "      <th>mean</th>\n",
       "      <td>6.755887</td>\n",
       "      <td>1253.940619</td>\n",
       "    </tr>\n",
       "    <tr>\n",
       "      <th>std</th>\n",
       "      <td>5.843365</td>\n",
       "      <td>144.722751</td>\n",
       "    </tr>\n",
       "    <tr>\n",
       "      <th>min</th>\n",
       "      <td>0.000000</td>\n",
       "      <td>1000.000000</td>\n",
       "    </tr>\n",
       "    <tr>\n",
       "      <th>25%</th>\n",
       "      <td>1.300000</td>\n",
       "      <td>1126.000000</td>\n",
       "    </tr>\n",
       "    <tr>\n",
       "      <th>50%</th>\n",
       "      <td>6.000000</td>\n",
       "      <td>1260.000000</td>\n",
       "    </tr>\n",
       "    <tr>\n",
       "      <th>75%</th>\n",
       "      <td>10.700000</td>\n",
       "      <td>1379.000000</td>\n",
       "    </tr>\n",
       "    <tr>\n",
       "      <th>max</th>\n",
       "      <td>38.000000</td>\n",
       "      <td>1499.000000</td>\n",
       "    </tr>\n",
       "  </tbody>\n",
       "</table>\n",
       "</div>"
      ],
      "text/plain": [
       "            duration        user_id\n",
       "count  202607.000000  202607.000000\n",
       "mean        6.755887    1253.940619\n",
       "std         5.843365     144.722751\n",
       "min         0.000000    1000.000000\n",
       "25%         1.300000    1126.000000\n",
       "50%         6.000000    1260.000000\n",
       "75%        10.700000    1379.000000\n",
       "max        38.000000    1499.000000"
      ]
     },
     "execution_count": 24,
     "metadata": {},
     "output_type": "execute_result"
    }
   ],
   "source": [
    "calls.describe()"
   ]
  },
  {
   "cell_type": "markdown",
   "id": "30149bc2",
   "metadata": {},
   "source": [
    "Продолжительность звонков - от 0 до 38 мин, где 0 - это пропущенные звонки, поэтому эти значения \"неправильными\" считать не будем. По условиям \"Мегалайн\" продолжительность звонков округляется до минут в большую сторону, поэтому приведем значения столбца `duration` к целочисленным, округлив в большую сторону, и сохраним результат в столбец `duration_int` для проверки.\n",
    "\n",
    "Вызовем библиотеку `Numpy`, с помощью метода из этой библиотеки `ceil()` произведем округление:"
   ]
  },
  {
   "cell_type": "code",
   "execution_count": 25,
   "id": "411bacfc",
   "metadata": {},
   "outputs": [],
   "source": [
    "calls['duration_int']=np.ceil(calls['duration'])\n",
    "#импортируем библиотеку numpy и округляем продолжительность вызовов в большую сторону\n",
    "#результат сохраняем в столбец duration_int"
   ]
  },
  {
   "cell_type": "markdown",
   "id": "62b7f56b",
   "metadata": {},
   "source": [
    "Посмотрим, что получилось:"
   ]
  },
  {
   "cell_type": "code",
   "execution_count": 26,
   "id": "12ff4141",
   "metadata": {},
   "outputs": [
    {
     "data": {
      "text/html": [
       "<div>\n",
       "<style scoped>\n",
       "    .dataframe tbody tr th:only-of-type {\n",
       "        vertical-align: middle;\n",
       "    }\n",
       "\n",
       "    .dataframe tbody tr th {\n",
       "        vertical-align: top;\n",
       "    }\n",
       "\n",
       "    .dataframe thead th {\n",
       "        text-align: right;\n",
       "    }\n",
       "</style>\n",
       "<table border=\"1\" class=\"dataframe\">\n",
       "  <thead>\n",
       "    <tr style=\"text-align: right;\">\n",
       "      <th></th>\n",
       "      <th>id</th>\n",
       "      <th>call_date</th>\n",
       "      <th>duration</th>\n",
       "      <th>user_id</th>\n",
       "      <th>duration_int</th>\n",
       "    </tr>\n",
       "  </thead>\n",
       "  <tbody>\n",
       "    <tr>\n",
       "      <th>15375</th>\n",
       "      <td>1041_73</td>\n",
       "      <td>2018-12-24</td>\n",
       "      <td>11.73</td>\n",
       "      <td>1041</td>\n",
       "      <td>12.0</td>\n",
       "    </tr>\n",
       "    <tr>\n",
       "      <th>181122</th>\n",
       "      <td>1453_314</td>\n",
       "      <td>2018-10-03</td>\n",
       "      <td>0.00</td>\n",
       "      <td>1453</td>\n",
       "      <td>0.0</td>\n",
       "    </tr>\n",
       "    <tr>\n",
       "      <th>29755</th>\n",
       "      <td>1076_47</td>\n",
       "      <td>2018-06-29</td>\n",
       "      <td>3.34</td>\n",
       "      <td>1076</td>\n",
       "      <td>4.0</td>\n",
       "    </tr>\n",
       "    <tr>\n",
       "      <th>129525</th>\n",
       "      <td>1331_421</td>\n",
       "      <td>2018-05-11</td>\n",
       "      <td>11.70</td>\n",
       "      <td>1331</td>\n",
       "      <td>12.0</td>\n",
       "    </tr>\n",
       "    <tr>\n",
       "      <th>44567</th>\n",
       "      <td>1112_271</td>\n",
       "      <td>2018-12-03</td>\n",
       "      <td>15.36</td>\n",
       "      <td>1112</td>\n",
       "      <td>16.0</td>\n",
       "    </tr>\n",
       "  </tbody>\n",
       "</table>\n",
       "</div>"
      ],
      "text/plain": [
       "              id  call_date  duration  user_id  duration_int\n",
       "15375    1041_73 2018-12-24     11.73     1041          12.0\n",
       "181122  1453_314 2018-10-03      0.00     1453           0.0\n",
       "29755    1076_47 2018-06-29      3.34     1076           4.0\n",
       "129525  1331_421 2018-05-11     11.70     1331          12.0\n",
       "44567   1112_271 2018-12-03     15.36     1112          16.0"
      ]
     },
     "execution_count": 26,
     "metadata": {},
     "output_type": "execute_result"
    }
   ],
   "source": [
    "calls.sample(5)"
   ]
  },
  {
   "cell_type": "markdown",
   "id": "d54e8e27",
   "metadata": {},
   "source": [
    "Все нули сохранились, а остальные значения длительности вызовов округлились до целочисленного значения в большую сторону. Столбец `duration` можно удалить с помощью метода `drop`:"
   ]
  },
  {
   "cell_type": "code",
   "execution_count": 27,
   "id": "94fcd31b",
   "metadata": {},
   "outputs": [],
   "source": [
    "calls = calls.drop('duration', axis=1)"
   ]
  },
  {
   "cell_type": "markdown",
   "id": "35ecec47",
   "metadata": {},
   "source": [
    "И изменяем тип данных созданного столбца `duration_int` на `int` с помощью `astype`:"
   ]
  },
  {
   "cell_type": "code",
   "execution_count": 28,
   "id": "f0f54711",
   "metadata": {},
   "outputs": [],
   "source": [
    "calls['duration_int'] = calls['duration_int'].astype('int')"
   ]
  },
  {
   "cell_type": "markdown",
   "id": "2a283921",
   "metadata": {},
   "source": [
    "#### Количество звонков и израсходованные минуты"
   ]
  },
  {
   "cell_type": "markdown",
   "id": "b82531b8",
   "metadata": {},
   "source": [
    "Теперь посчитаем количество сделанных звонков и израсходованных минут разговора по месяцам для каждого клиента. Для этого в датафрейме создадим новый столбец `month` с помощью метода `dt.month`, далее на основании этого датафрейма создадим сводную таблицу, которая и будет показывать искомые значения количества звонков и минут по месяцам."
   ]
  },
  {
   "cell_type": "code",
   "execution_count": 29,
   "id": "effb3a9c",
   "metadata": {},
   "outputs": [],
   "source": [
    "calls['month'] = calls['call_date'].dt.month\n",
    "#создание столбца month в датафрейме calls"
   ]
  },
  {
   "cell_type": "code",
   "execution_count": 30,
   "id": "3c85e155",
   "metadata": {},
   "outputs": [
    {
     "data": {
      "text/html": [
       "<div>\n",
       "<style scoped>\n",
       "    .dataframe tbody tr th:only-of-type {\n",
       "        vertical-align: middle;\n",
       "    }\n",
       "\n",
       "    .dataframe tbody tr th {\n",
       "        vertical-align: top;\n",
       "    }\n",
       "\n",
       "    .dataframe thead th {\n",
       "        text-align: right;\n",
       "    }\n",
       "</style>\n",
       "<table border=\"1\" class=\"dataframe\">\n",
       "  <thead>\n",
       "    <tr style=\"text-align: right;\">\n",
       "      <th></th>\n",
       "      <th>id</th>\n",
       "      <th>call_date</th>\n",
       "      <th>user_id</th>\n",
       "      <th>duration_int</th>\n",
       "      <th>month</th>\n",
       "    </tr>\n",
       "  </thead>\n",
       "  <tbody>\n",
       "    <tr>\n",
       "      <th>89400</th>\n",
       "      <td>1224_317</td>\n",
       "      <td>2018-12-16</td>\n",
       "      <td>1224</td>\n",
       "      <td>16</td>\n",
       "      <td>12</td>\n",
       "    </tr>\n",
       "  </tbody>\n",
       "</table>\n",
       "</div>"
      ],
      "text/plain": [
       "             id  call_date  user_id  duration_int  month\n",
       "89400  1224_317 2018-12-16     1224            16     12"
      ]
     },
     "execution_count": 30,
     "metadata": {},
     "output_type": "execute_result"
    }
   ],
   "source": [
    "calls.sample()\n",
    "#вывод на экран любой строки датафрейма"
   ]
  },
  {
   "cell_type": "code",
   "execution_count": 31,
   "id": "4e2b1176",
   "metadata": {},
   "outputs": [
    {
     "data": {
      "text/html": [
       "<div>\n",
       "<style scoped>\n",
       "    .dataframe tbody tr th:only-of-type {\n",
       "        vertical-align: middle;\n",
       "    }\n",
       "\n",
       "    .dataframe tbody tr th {\n",
       "        vertical-align: top;\n",
       "    }\n",
       "\n",
       "    .dataframe thead th {\n",
       "        text-align: right;\n",
       "    }\n",
       "</style>\n",
       "<table border=\"1\" class=\"dataframe\">\n",
       "  <thead>\n",
       "    <tr style=\"text-align: right;\">\n",
       "      <th></th>\n",
       "      <th>user_id</th>\n",
       "      <th>duration_int</th>\n",
       "      <th>month</th>\n",
       "    </tr>\n",
       "  </thead>\n",
       "  <tbody>\n",
       "    <tr>\n",
       "      <th>0</th>\n",
       "      <td>1000</td>\n",
       "      <td>0</td>\n",
       "      <td>7</td>\n",
       "    </tr>\n",
       "    <tr>\n",
       "      <th>1</th>\n",
       "      <td>1000</td>\n",
       "      <td>0</td>\n",
       "      <td>8</td>\n",
       "    </tr>\n",
       "    <tr>\n",
       "      <th>2</th>\n",
       "      <td>1000</td>\n",
       "      <td>3</td>\n",
       "      <td>6</td>\n",
       "    </tr>\n",
       "    <tr>\n",
       "      <th>3</th>\n",
       "      <td>1000</td>\n",
       "      <td>14</td>\n",
       "      <td>9</td>\n",
       "    </tr>\n",
       "    <tr>\n",
       "      <th>4</th>\n",
       "      <td>1000</td>\n",
       "      <td>6</td>\n",
       "      <td>12</td>\n",
       "    </tr>\n",
       "  </tbody>\n",
       "</table>\n",
       "</div>"
      ],
      "text/plain": [
       "   user_id  duration_int  month\n",
       "0     1000             0      7\n",
       "1     1000             0      8\n",
       "2     1000             3      6\n",
       "3     1000            14      9\n",
       "4     1000             6     12"
      ]
     },
     "metadata": {},
     "output_type": "display_data"
    }
   ],
   "source": [
    "calls=calls[['user_id', 'duration_int', 'month']]\n",
    "display(calls.head())\n",
    "#оставляем в датафрейме только необходимые для исследования столбцы"
   ]
  },
  {
   "cell_type": "markdown",
   "id": "2f338356",
   "metadata": {},
   "source": [
    "Теперь на основании датафрейма `calls`создаем сводную таблицу методом `pivot_table` и выводим ее на экран:"
   ]
  },
  {
   "cell_type": "code",
   "execution_count": 32,
   "id": "cd29ca8f",
   "metadata": {},
   "outputs": [
    {
     "data": {
      "text/html": [
       "<div>\n",
       "<style scoped>\n",
       "    .dataframe tbody tr th:only-of-type {\n",
       "        vertical-align: middle;\n",
       "    }\n",
       "\n",
       "    .dataframe tbody tr th {\n",
       "        vertical-align: top;\n",
       "    }\n",
       "\n",
       "    .dataframe thead tr th {\n",
       "        text-align: left;\n",
       "    }\n",
       "\n",
       "    .dataframe thead tr:last-of-type th {\n",
       "        text-align: right;\n",
       "    }\n",
       "</style>\n",
       "<table border=\"1\" class=\"dataframe\">\n",
       "  <thead>\n",
       "    <tr>\n",
       "      <th></th>\n",
       "      <th></th>\n",
       "      <th>count_duration</th>\n",
       "      <th>sum_duration</th>\n",
       "    </tr>\n",
       "    <tr>\n",
       "      <th>user_id</th>\n",
       "      <th>month</th>\n",
       "      <th></th>\n",
       "      <th></th>\n",
       "    </tr>\n",
       "  </thead>\n",
       "  <tbody>\n",
       "    <tr>\n",
       "      <th rowspan=\"5\" valign=\"top\">1000</th>\n",
       "      <th>5</th>\n",
       "      <td>22</td>\n",
       "      <td>159</td>\n",
       "    </tr>\n",
       "    <tr>\n",
       "      <th>6</th>\n",
       "      <td>43</td>\n",
       "      <td>172</td>\n",
       "    </tr>\n",
       "    <tr>\n",
       "      <th>7</th>\n",
       "      <td>47</td>\n",
       "      <td>340</td>\n",
       "    </tr>\n",
       "    <tr>\n",
       "      <th>8</th>\n",
       "      <td>52</td>\n",
       "      <td>408</td>\n",
       "    </tr>\n",
       "    <tr>\n",
       "      <th>9</th>\n",
       "      <td>58</td>\n",
       "      <td>466</td>\n",
       "    </tr>\n",
       "    <tr>\n",
       "      <th>...</th>\n",
       "      <th>...</th>\n",
       "      <td>...</td>\n",
       "      <td>...</td>\n",
       "    </tr>\n",
       "    <tr>\n",
       "      <th>1498</th>\n",
       "      <th>10</th>\n",
       "      <td>41</td>\n",
       "      <td>247</td>\n",
       "    </tr>\n",
       "    <tr>\n",
       "      <th rowspan=\"4\" valign=\"top\">1499</th>\n",
       "      <th>9</th>\n",
       "      <td>9</td>\n",
       "      <td>70</td>\n",
       "    </tr>\n",
       "    <tr>\n",
       "      <th>10</th>\n",
       "      <td>68</td>\n",
       "      <td>449</td>\n",
       "    </tr>\n",
       "    <tr>\n",
       "      <th>11</th>\n",
       "      <td>74</td>\n",
       "      <td>612</td>\n",
       "    </tr>\n",
       "    <tr>\n",
       "      <th>12</th>\n",
       "      <td>69</td>\n",
       "      <td>492</td>\n",
       "    </tr>\n",
       "  </tbody>\n",
       "</table>\n",
       "<p>3174 rows × 2 columns</p>\n",
       "</div>"
      ],
      "text/plain": [
       "              count_duration sum_duration\n",
       "user_id month                            \n",
       "1000    5                 22          159\n",
       "        6                 43          172\n",
       "        7                 47          340\n",
       "        8                 52          408\n",
       "        9                 58          466\n",
       "...                      ...          ...\n",
       "1498    10                41          247\n",
       "1499    9                  9           70\n",
       "        10                68          449\n",
       "        11                74          612\n",
       "        12                69          492\n",
       "\n",
       "[3174 rows x 2 columns]"
      ]
     },
     "metadata": {},
     "output_type": "display_data"
    }
   ],
   "source": [
    "calls_pivot = calls.pivot_table(index=['user_id', 'month'], values='duration_int',aggfunc=['count','sum'])  \n",
    "calls_pivot.columns=[['count_duration', 'sum_duration']]\n",
    "display(calls_pivot)"
   ]
  },
  {
   "cell_type": "markdown",
   "id": "81514edb",
   "metadata": {},
   "source": [
    "Таблица с данными по звонкам готова - звонки каждого клиента разбиты по месяцам, посчитано количетсво звонков по месяцам и продолжительность звонков в месяц."
   ]
  },
  {
   "cell_type": "markdown",
   "id": "573afddb",
   "metadata": {},
   "source": [
    "Предобработка `calls` закончена. "
   ]
  },
  {
   "cell_type": "markdown",
   "id": "e3403880",
   "metadata": {},
   "source": [
    "### Предобработка messages"
   ]
  },
  {
   "cell_type": "code",
   "execution_count": 33,
   "id": "6c29eb5e",
   "metadata": {},
   "outputs": [
    {
     "data": {
      "text/html": [
       "<div>\n",
       "<style scoped>\n",
       "    .dataframe tbody tr th:only-of-type {\n",
       "        vertical-align: middle;\n",
       "    }\n",
       "\n",
       "    .dataframe tbody tr th {\n",
       "        vertical-align: top;\n",
       "    }\n",
       "\n",
       "    .dataframe thead th {\n",
       "        text-align: right;\n",
       "    }\n",
       "</style>\n",
       "<table border=\"1\" class=\"dataframe\">\n",
       "  <thead>\n",
       "    <tr style=\"text-align: right;\">\n",
       "      <th></th>\n",
       "      <th>id</th>\n",
       "      <th>message_date</th>\n",
       "      <th>user_id</th>\n",
       "    </tr>\n",
       "  </thead>\n",
       "  <tbody>\n",
       "    <tr>\n",
       "      <th>31367</th>\n",
       "      <td>1139_2</td>\n",
       "      <td>2018-11-29</td>\n",
       "      <td>1139</td>\n",
       "    </tr>\n",
       "    <tr>\n",
       "      <th>7988</th>\n",
       "      <td>1032_159</td>\n",
       "      <td>2018-11-12</td>\n",
       "      <td>1032</td>\n",
       "    </tr>\n",
       "    <tr>\n",
       "      <th>25845</th>\n",
       "      <td>1105_234</td>\n",
       "      <td>2018-10-07</td>\n",
       "      <td>1105</td>\n",
       "    </tr>\n",
       "    <tr>\n",
       "      <th>16973</th>\n",
       "      <td>1076_122</td>\n",
       "      <td>2018-07-26</td>\n",
       "      <td>1076</td>\n",
       "    </tr>\n",
       "    <tr>\n",
       "      <th>121764</th>\n",
       "      <td>1493_33</td>\n",
       "      <td>2018-12-12</td>\n",
       "      <td>1493</td>\n",
       "    </tr>\n",
       "  </tbody>\n",
       "</table>\n",
       "</div>"
      ],
      "text/plain": [
       "              id message_date  user_id\n",
       "31367     1139_2   2018-11-29     1139\n",
       "7988    1032_159   2018-11-12     1032\n",
       "25845   1105_234   2018-10-07     1105\n",
       "16973   1076_122   2018-07-26     1076\n",
       "121764   1493_33   2018-12-12     1493"
      ]
     },
     "execution_count": 33,
     "metadata": {},
     "output_type": "execute_result"
    }
   ],
   "source": [
    "messages.sample(5)\n",
    "#смотрим 5 строчек датафрейма"
   ]
  },
  {
   "cell_type": "code",
   "execution_count": 34,
   "id": "82b5de70",
   "metadata": {},
   "outputs": [
    {
     "data": {
      "text/plain": [
       "0"
      ]
     },
     "execution_count": 34,
     "metadata": {},
     "output_type": "execute_result"
    }
   ],
   "source": [
    "messages.duplicated().sum()\n",
    "#вывод количества явных дубликатов датафрейма"
   ]
  },
  {
   "cell_type": "markdown",
   "id": "f4cb55b0",
   "metadata": {},
   "source": [
    "Изменим тип данных столбца `message_date` на `datetime`:"
   ]
  },
  {
   "cell_type": "code",
   "execution_count": 35,
   "id": "970db1ef",
   "metadata": {},
   "outputs": [],
   "source": [
    "messages['message_date'] = pd.to_datetime(messages['message_date'], format = '%Y-%m-%d')"
   ]
  },
  {
   "cell_type": "markdown",
   "id": "29e5264c",
   "metadata": {},
   "source": [
    "Проверим на наличие явных дубликатов:"
   ]
  },
  {
   "cell_type": "code",
   "execution_count": 36,
   "id": "303f3ac9",
   "metadata": {},
   "outputs": [
    {
     "data": {
      "text/plain": [
       "0"
      ]
     },
     "execution_count": 36,
     "metadata": {},
     "output_type": "execute_result"
    }
   ],
   "source": [
    "messages.duplicated().sum()\n",
    "#вывод количества явных дубликатов датафрейма"
   ]
  },
  {
   "cell_type": "markdown",
   "id": "d0b7c883",
   "metadata": {},
   "source": [
    "#### Количество отправленных сообщений по месяцам"
   ]
  },
  {
   "cell_type": "markdown",
   "id": "ee94c091",
   "metadata": {},
   "source": [
    "Считаем количество отправленных сообщений по месяцам: в датафрейме `messages` создаем новый столбец `month`, далее создаем сводную таблицу, в которой будут отображены искомые данные."
   ]
  },
  {
   "cell_type": "code",
   "execution_count": 37,
   "id": "92a87cb0",
   "metadata": {},
   "outputs": [],
   "source": [
    "messages['month'] = messages['message_date'].dt.month\n",
    "#создание столбца month в датафрейме calls"
   ]
  },
  {
   "cell_type": "code",
   "execution_count": 38,
   "id": "c3cedf30",
   "metadata": {},
   "outputs": [
    {
     "data": {
      "text/html": [
       "<div>\n",
       "<style scoped>\n",
       "    .dataframe tbody tr th:only-of-type {\n",
       "        vertical-align: middle;\n",
       "    }\n",
       "\n",
       "    .dataframe tbody tr th {\n",
       "        vertical-align: top;\n",
       "    }\n",
       "\n",
       "    .dataframe thead th {\n",
       "        text-align: right;\n",
       "    }\n",
       "</style>\n",
       "<table border=\"1\" class=\"dataframe\">\n",
       "  <thead>\n",
       "    <tr style=\"text-align: right;\">\n",
       "      <th></th>\n",
       "      <th>id</th>\n",
       "      <th>message_date</th>\n",
       "      <th>user_id</th>\n",
       "      <th>month</th>\n",
       "    </tr>\n",
       "  </thead>\n",
       "  <tbody>\n",
       "    <tr>\n",
       "      <th>62316</th>\n",
       "      <td>1273_174</td>\n",
       "      <td>2018-09-29</td>\n",
       "      <td>1273</td>\n",
       "      <td>9</td>\n",
       "    </tr>\n",
       "  </tbody>\n",
       "</table>\n",
       "</div>"
      ],
      "text/plain": [
       "             id message_date  user_id  month\n",
       "62316  1273_174   2018-09-29     1273      9"
      ]
     },
     "execution_count": 38,
     "metadata": {},
     "output_type": "execute_result"
    }
   ],
   "source": [
    "messages.sample()"
   ]
  },
  {
   "cell_type": "markdown",
   "id": "dd929679",
   "metadata": {},
   "source": [
    "Теперь на основании датафрейма `messages`создаем сводную таблицу методом `pivot_table` и выводим ее на экран:"
   ]
  },
  {
   "cell_type": "code",
   "execution_count": 39,
   "id": "1462d653",
   "metadata": {},
   "outputs": [
    {
     "data": {
      "text/html": [
       "<div>\n",
       "<style scoped>\n",
       "    .dataframe tbody tr th:only-of-type {\n",
       "        vertical-align: middle;\n",
       "    }\n",
       "\n",
       "    .dataframe tbody tr th {\n",
       "        vertical-align: top;\n",
       "    }\n",
       "\n",
       "    .dataframe thead th {\n",
       "        text-align: right;\n",
       "    }\n",
       "</style>\n",
       "<table border=\"1\" class=\"dataframe\">\n",
       "  <thead>\n",
       "    <tr style=\"text-align: right;\">\n",
       "      <th></th>\n",
       "      <th></th>\n",
       "      <th>message_date</th>\n",
       "    </tr>\n",
       "    <tr>\n",
       "      <th>user_id</th>\n",
       "      <th>month</th>\n",
       "      <th></th>\n",
       "    </tr>\n",
       "  </thead>\n",
       "  <tbody>\n",
       "    <tr>\n",
       "      <th rowspan=\"5\" valign=\"top\">1000</th>\n",
       "      <th>5</th>\n",
       "      <td>22</td>\n",
       "    </tr>\n",
       "    <tr>\n",
       "      <th>6</th>\n",
       "      <td>60</td>\n",
       "    </tr>\n",
       "    <tr>\n",
       "      <th>7</th>\n",
       "      <td>75</td>\n",
       "    </tr>\n",
       "    <tr>\n",
       "      <th>8</th>\n",
       "      <td>81</td>\n",
       "    </tr>\n",
       "    <tr>\n",
       "      <th>9</th>\n",
       "      <td>57</td>\n",
       "    </tr>\n",
       "    <tr>\n",
       "      <th>...</th>\n",
       "      <th>...</th>\n",
       "      <td>...</td>\n",
       "    </tr>\n",
       "    <tr>\n",
       "      <th>1498</th>\n",
       "      <th>10</th>\n",
       "      <td>42</td>\n",
       "    </tr>\n",
       "    <tr>\n",
       "      <th rowspan=\"4\" valign=\"top\">1499</th>\n",
       "      <th>9</th>\n",
       "      <td>11</td>\n",
       "    </tr>\n",
       "    <tr>\n",
       "      <th>10</th>\n",
       "      <td>48</td>\n",
       "    </tr>\n",
       "    <tr>\n",
       "      <th>11</th>\n",
       "      <td>59</td>\n",
       "    </tr>\n",
       "    <tr>\n",
       "      <th>12</th>\n",
       "      <td>66</td>\n",
       "    </tr>\n",
       "  </tbody>\n",
       "</table>\n",
       "<p>2717 rows × 1 columns</p>\n",
       "</div>"
      ],
      "text/plain": [
       "               message_date\n",
       "user_id month              \n",
       "1000    5                22\n",
       "        6                60\n",
       "        7                75\n",
       "        8                81\n",
       "        9                57\n",
       "...                     ...\n",
       "1498    10               42\n",
       "1499    9                11\n",
       "        10               48\n",
       "        11               59\n",
       "        12               66\n",
       "\n",
       "[2717 rows x 1 columns]"
      ]
     },
     "metadata": {},
     "output_type": "display_data"
    }
   ],
   "source": [
    "messages_pivot = messages.pivot_table(index=['user_id','month'], values='message_date',aggfunc='count')\n",
    "display(messages_pivot)"
   ]
  },
  {
   "cell_type": "markdown",
   "id": "39f7b471",
   "metadata": {},
   "source": [
    "Таблица, которая отражает сколько каждый пользователь отправил сообщений в месяц готова.\n",
    "\n",
    "Предобработка датафрейма `messages` закончена."
   ]
  },
  {
   "cell_type": "markdown",
   "id": "8e78bb84",
   "metadata": {},
   "source": [
    "### Предобработка internet"
   ]
  },
  {
   "cell_type": "markdown",
   "id": "5e2ea870",
   "metadata": {},
   "source": [
    "Смотрим 5 строчек таблицы."
   ]
  },
  {
   "cell_type": "code",
   "execution_count": 40,
   "id": "f18b7036",
   "metadata": {},
   "outputs": [
    {
     "data": {
      "text/html": [
       "<div>\n",
       "<style scoped>\n",
       "    .dataframe tbody tr th:only-of-type {\n",
       "        vertical-align: middle;\n",
       "    }\n",
       "\n",
       "    .dataframe tbody tr th {\n",
       "        vertical-align: top;\n",
       "    }\n",
       "\n",
       "    .dataframe thead th {\n",
       "        text-align: right;\n",
       "    }\n",
       "</style>\n",
       "<table border=\"1\" class=\"dataframe\">\n",
       "  <thead>\n",
       "    <tr style=\"text-align: right;\">\n",
       "      <th></th>\n",
       "      <th>Unnamed: 0</th>\n",
       "      <th>id</th>\n",
       "      <th>mb_used</th>\n",
       "      <th>session_date</th>\n",
       "      <th>user_id</th>\n",
       "    </tr>\n",
       "  </thead>\n",
       "  <tbody>\n",
       "    <tr>\n",
       "      <th>27289</th>\n",
       "      <td>27289</td>\n",
       "      <td>1094_151</td>\n",
       "      <td>709.08</td>\n",
       "      <td>2018-10-31</td>\n",
       "      <td>1094</td>\n",
       "    </tr>\n",
       "    <tr>\n",
       "      <th>38859</th>\n",
       "      <td>38859</td>\n",
       "      <td>1135_339</td>\n",
       "      <td>519.37</td>\n",
       "      <td>2018-02-06</td>\n",
       "      <td>1135</td>\n",
       "    </tr>\n",
       "    <tr>\n",
       "      <th>65683</th>\n",
       "      <td>65683</td>\n",
       "      <td>1224_329</td>\n",
       "      <td>729.20</td>\n",
       "      <td>2018-09-24</td>\n",
       "      <td>1224</td>\n",
       "    </tr>\n",
       "    <tr>\n",
       "      <th>51357</th>\n",
       "      <td>51357</td>\n",
       "      <td>1175_10</td>\n",
       "      <td>44.56</td>\n",
       "      <td>2018-06-25</td>\n",
       "      <td>1175</td>\n",
       "    </tr>\n",
       "    <tr>\n",
       "      <th>35320</th>\n",
       "      <td>35320</td>\n",
       "      <td>1123_284</td>\n",
       "      <td>118.38</td>\n",
       "      <td>2018-06-16</td>\n",
       "      <td>1123</td>\n",
       "    </tr>\n",
       "  </tbody>\n",
       "</table>\n",
       "</div>"
      ],
      "text/plain": [
       "       Unnamed: 0        id  mb_used session_date  user_id\n",
       "27289       27289  1094_151   709.08   2018-10-31     1094\n",
       "38859       38859  1135_339   519.37   2018-02-06     1135\n",
       "65683       65683  1224_329   729.20   2018-09-24     1224\n",
       "51357       51357   1175_10    44.56   2018-06-25     1175\n",
       "35320       35320  1123_284   118.38   2018-06-16     1123"
      ]
     },
     "execution_count": 40,
     "metadata": {},
     "output_type": "execute_result"
    }
   ],
   "source": [
    "internet.sample(5)"
   ]
  },
  {
   "cell_type": "code",
   "execution_count": 41,
   "id": "ce90463e",
   "metadata": {},
   "outputs": [
    {
     "data": {
      "text/plain": [
       "0"
      ]
     },
     "execution_count": 41,
     "metadata": {},
     "output_type": "execute_result"
    }
   ],
   "source": [
    "internet.duplicated().sum()\n",
    "#вывод количества явных дубликатов датафрейма"
   ]
  },
  {
   "cell_type": "markdown",
   "id": "a63cde83",
   "metadata": {},
   "source": [
    "Удаляем столбец `Unnamed: 0` методом `drop` и меняем тип данных столбца `session_date` на `datetime`:"
   ]
  },
  {
   "cell_type": "code",
   "execution_count": 42,
   "id": "64c3b49d",
   "metadata": {},
   "outputs": [],
   "source": [
    "internet = internet.drop('Unnamed: 0', axis=1)\n",
    "internet['session_date'] = pd.to_datetime(internet['session_date'], format = '%Y-%m-%d')"
   ]
  },
  {
   "cell_type": "markdown",
   "id": "e88451b9",
   "metadata": {},
   "source": [
    "#### Объем израсходованного интернет-трафика по месяцам"
   ]
  },
  {
   "cell_type": "markdown",
   "id": "2d738e9b",
   "metadata": {},
   "source": [
    "В датафрейме `internet` создаем новый столбец `month`, далее на основании датафрейма создаем сводную таблицу, в которой будет отображен интернет-трафик каждого клиента по месяцам."
   ]
  },
  {
   "cell_type": "code",
   "execution_count": 43,
   "id": "39c51945",
   "metadata": {},
   "outputs": [],
   "source": [
    "internet['month'] = internet['session_date'].dt.month\n",
    "#создание столбца month в датафрейме calls"
   ]
  },
  {
   "cell_type": "code",
   "execution_count": 44,
   "id": "fc1b1580",
   "metadata": {},
   "outputs": [
    {
     "data": {
      "text/html": [
       "<div>\n",
       "<style scoped>\n",
       "    .dataframe tbody tr th:only-of-type {\n",
       "        vertical-align: middle;\n",
       "    }\n",
       "\n",
       "    .dataframe tbody tr th {\n",
       "        vertical-align: top;\n",
       "    }\n",
       "\n",
       "    .dataframe thead th {\n",
       "        text-align: right;\n",
       "    }\n",
       "</style>\n",
       "<table border=\"1\" class=\"dataframe\">\n",
       "  <thead>\n",
       "    <tr style=\"text-align: right;\">\n",
       "      <th></th>\n",
       "      <th>id</th>\n",
       "      <th>mb_used</th>\n",
       "      <th>session_date</th>\n",
       "      <th>user_id</th>\n",
       "      <th>month</th>\n",
       "    </tr>\n",
       "  </thead>\n",
       "  <tbody>\n",
       "    <tr>\n",
       "      <th>74452</th>\n",
       "      <td>1251_14</td>\n",
       "      <td>38.29</td>\n",
       "      <td>2018-09-05</td>\n",
       "      <td>1251</td>\n",
       "      <td>9</td>\n",
       "    </tr>\n",
       "  </tbody>\n",
       "</table>\n",
       "</div>"
      ],
      "text/plain": [
       "            id  mb_used session_date  user_id  month\n",
       "74452  1251_14    38.29   2018-09-05     1251      9"
      ]
     },
     "execution_count": 44,
     "metadata": {},
     "output_type": "execute_result"
    }
   ],
   "source": [
    "internet.sample()"
   ]
  },
  {
   "cell_type": "markdown",
   "id": "9946acb5",
   "metadata": {},
   "source": [
    "Переведем столбец `mb_used` из мегабайтов в гигабайты, оставим в датафрейме все столбцы, кроме `mb_used` и округлим значения гигабайтов до 2 знаков после запятой с помощью метода `round()`:"
   ]
  },
  {
   "cell_type": "code",
   "execution_count": 45,
   "id": "71090fc8",
   "metadata": {},
   "outputs": [
    {
     "data": {
      "text/html": [
       "<div>\n",
       "<style scoped>\n",
       "    .dataframe tbody tr th:only-of-type {\n",
       "        vertical-align: middle;\n",
       "    }\n",
       "\n",
       "    .dataframe tbody tr th {\n",
       "        vertical-align: top;\n",
       "    }\n",
       "\n",
       "    .dataframe thead th {\n",
       "        text-align: right;\n",
       "    }\n",
       "</style>\n",
       "<table border=\"1\" class=\"dataframe\">\n",
       "  <thead>\n",
       "    <tr style=\"text-align: right;\">\n",
       "      <th></th>\n",
       "      <th>id</th>\n",
       "      <th>gb_used</th>\n",
       "      <th>session_date</th>\n",
       "      <th>user_id</th>\n",
       "      <th>month</th>\n",
       "    </tr>\n",
       "  </thead>\n",
       "  <tbody>\n",
       "    <tr>\n",
       "      <th>0</th>\n",
       "      <td>1000_0</td>\n",
       "      <td>0.11</td>\n",
       "      <td>2018-11-25</td>\n",
       "      <td>1000</td>\n",
       "      <td>11</td>\n",
       "    </tr>\n",
       "    <tr>\n",
       "      <th>1</th>\n",
       "      <td>1000_1</td>\n",
       "      <td>1.03</td>\n",
       "      <td>2018-09-07</td>\n",
       "      <td>1000</td>\n",
       "      <td>9</td>\n",
       "    </tr>\n",
       "    <tr>\n",
       "      <th>2</th>\n",
       "      <td>1000_2</td>\n",
       "      <td>1.17</td>\n",
       "      <td>2018-06-25</td>\n",
       "      <td>1000</td>\n",
       "      <td>6</td>\n",
       "    </tr>\n",
       "    <tr>\n",
       "      <th>3</th>\n",
       "      <td>1000_3</td>\n",
       "      <td>0.54</td>\n",
       "      <td>2018-08-22</td>\n",
       "      <td>1000</td>\n",
       "      <td>8</td>\n",
       "    </tr>\n",
       "    <tr>\n",
       "      <th>4</th>\n",
       "      <td>1000_4</td>\n",
       "      <td>0.30</td>\n",
       "      <td>2018-09-24</td>\n",
       "      <td>1000</td>\n",
       "      <td>9</td>\n",
       "    </tr>\n",
       "  </tbody>\n",
       "</table>\n",
       "</div>"
      ],
      "text/plain": [
       "       id  gb_used session_date  user_id  month\n",
       "0  1000_0     0.11   2018-11-25     1000     11\n",
       "1  1000_1     1.03   2018-09-07     1000      9\n",
       "2  1000_2     1.17   2018-06-25     1000      6\n",
       "3  1000_3     0.54   2018-08-22     1000      8\n",
       "4  1000_4     0.30   2018-09-24     1000      9"
      ]
     },
     "metadata": {},
     "output_type": "display_data"
    }
   ],
   "source": [
    "internet['gb_used']=internet['mb_used']/1024\n",
    "internet = internet[['id', 'gb_used','session_date', 'user_id', 'month']]\n",
    "internet['gb_used'] = internet['gb_used'].round(2)\n",
    "display(internet.head())"
   ]
  },
  {
   "cell_type": "markdown",
   "id": "db5dcfb7",
   "metadata": {},
   "source": [
    "На основании датафрейма создаем сводную таблицу с помощью `pivot_table`. Выводим сводную таблицу на экран."
   ]
  },
  {
   "cell_type": "code",
   "execution_count": 46,
   "id": "156a8325",
   "metadata": {},
   "outputs": [
    {
     "data": {
      "text/html": [
       "<div>\n",
       "<style scoped>\n",
       "    .dataframe tbody tr th:only-of-type {\n",
       "        vertical-align: middle;\n",
       "    }\n",
       "\n",
       "    .dataframe tbody tr th {\n",
       "        vertical-align: top;\n",
       "    }\n",
       "\n",
       "    .dataframe thead tr th {\n",
       "        text-align: left;\n",
       "    }\n",
       "\n",
       "    .dataframe thead tr:last-of-type th {\n",
       "        text-align: right;\n",
       "    }\n",
       "</style>\n",
       "<table border=\"1\" class=\"dataframe\">\n",
       "  <thead>\n",
       "    <tr>\n",
       "      <th></th>\n",
       "      <th></th>\n",
       "      <th>sum_gb_used</th>\n",
       "    </tr>\n",
       "    <tr>\n",
       "      <th>user_id</th>\n",
       "      <th>month</th>\n",
       "      <th></th>\n",
       "    </tr>\n",
       "  </thead>\n",
       "  <tbody>\n",
       "    <tr>\n",
       "      <th rowspan=\"5\" valign=\"top\">1000</th>\n",
       "      <th>5</th>\n",
       "      <td>2.19</td>\n",
       "    </tr>\n",
       "    <tr>\n",
       "      <th>6</th>\n",
       "      <td>22.68</td>\n",
       "    </tr>\n",
       "    <tr>\n",
       "      <th>7</th>\n",
       "      <td>13.71</td>\n",
       "    </tr>\n",
       "    <tr>\n",
       "      <th>8</th>\n",
       "      <td>13.74</td>\n",
       "    </tr>\n",
       "    <tr>\n",
       "      <th>9</th>\n",
       "      <td>14.25</td>\n",
       "    </tr>\n",
       "    <tr>\n",
       "      <th>...</th>\n",
       "      <th>...</th>\n",
       "      <td>...</td>\n",
       "    </tr>\n",
       "    <tr>\n",
       "      <th>1498</th>\n",
       "      <th>10</th>\n",
       "      <td>20.12</td>\n",
       "    </tr>\n",
       "    <tr>\n",
       "      <th rowspan=\"4\" valign=\"top\">1499</th>\n",
       "      <th>9</th>\n",
       "      <td>1.80</td>\n",
       "    </tr>\n",
       "    <tr>\n",
       "      <th>10</th>\n",
       "      <td>17.39</td>\n",
       "    </tr>\n",
       "    <tr>\n",
       "      <th>11</th>\n",
       "      <td>17.55</td>\n",
       "    </tr>\n",
       "    <tr>\n",
       "      <th>12</th>\n",
       "      <td>12.74</td>\n",
       "    </tr>\n",
       "  </tbody>\n",
       "</table>\n",
       "<p>3203 rows × 1 columns</p>\n",
       "</div>"
      ],
      "text/plain": [
       "              sum_gb_used\n",
       "user_id month            \n",
       "1000    5            2.19\n",
       "        6           22.68\n",
       "        7           13.71\n",
       "        8           13.74\n",
       "        9           14.25\n",
       "...                   ...\n",
       "1498    10          20.12\n",
       "1499    9            1.80\n",
       "        10          17.39\n",
       "        11          17.55\n",
       "        12          12.74\n",
       "\n",
       "[3203 rows x 1 columns]"
      ]
     },
     "metadata": {},
     "output_type": "display_data"
    }
   ],
   "source": [
    "internet_pivot = internet.pivot_table(index=['user_id', 'month'], values='gb_used',aggfunc=['sum'])\n",
    "internet_pivot.columns=[['sum_gb_used']]\n",
    "display(internet_pivot)"
   ]
  },
  {
   "cell_type": "markdown",
   "id": "8e655bf4",
   "metadata": {},
   "source": [
    "Сводная таблица готова. В ней хранятся данные по израсходованному интернет-трафику в Гб каждого клиента по месяцам.\n",
    "\n",
    "\n",
    "Предобработка `internet` закончена."
   ]
  },
  {
   "cell_type": "markdown",
   "id": "9416d712",
   "metadata": {},
   "source": [
    "### Предобработка tariffs"
   ]
  },
  {
   "cell_type": "markdown",
   "id": "ec1807a9",
   "metadata": {},
   "source": [
    "Датафрейм с описанием тарифов `tariffs`:"
   ]
  },
  {
   "cell_type": "code",
   "execution_count": 47,
   "id": "5bb6e478",
   "metadata": {},
   "outputs": [
    {
     "data": {
      "text/html": [
       "<div>\n",
       "<style scoped>\n",
       "    .dataframe tbody tr th:only-of-type {\n",
       "        vertical-align: middle;\n",
       "    }\n",
       "\n",
       "    .dataframe tbody tr th {\n",
       "        vertical-align: top;\n",
       "    }\n",
       "\n",
       "    .dataframe thead th {\n",
       "        text-align: right;\n",
       "    }\n",
       "</style>\n",
       "<table border=\"1\" class=\"dataframe\">\n",
       "  <thead>\n",
       "    <tr style=\"text-align: right;\">\n",
       "      <th></th>\n",
       "      <th>messages_included</th>\n",
       "      <th>mb_per_month_included</th>\n",
       "      <th>minutes_included</th>\n",
       "      <th>rub_monthly_fee</th>\n",
       "      <th>rub_per_gb</th>\n",
       "      <th>rub_per_message</th>\n",
       "      <th>rub_per_minute</th>\n",
       "      <th>tariff_name</th>\n",
       "    </tr>\n",
       "  </thead>\n",
       "  <tbody>\n",
       "    <tr>\n",
       "      <th>0</th>\n",
       "      <td>50</td>\n",
       "      <td>15360</td>\n",
       "      <td>500</td>\n",
       "      <td>550</td>\n",
       "      <td>200</td>\n",
       "      <td>3</td>\n",
       "      <td>3</td>\n",
       "      <td>smart</td>\n",
       "    </tr>\n",
       "    <tr>\n",
       "      <th>1</th>\n",
       "      <td>1000</td>\n",
       "      <td>30720</td>\n",
       "      <td>3000</td>\n",
       "      <td>1950</td>\n",
       "      <td>150</td>\n",
       "      <td>1</td>\n",
       "      <td>1</td>\n",
       "      <td>ultra</td>\n",
       "    </tr>\n",
       "  </tbody>\n",
       "</table>\n",
       "</div>"
      ],
      "text/plain": [
       "   messages_included  mb_per_month_included  minutes_included  \\\n",
       "0                 50                  15360               500   \n",
       "1               1000                  30720              3000   \n",
       "\n",
       "   rub_monthly_fee  rub_per_gb  rub_per_message  rub_per_minute tariff_name  \n",
       "0              550         200                3               3       smart  \n",
       "1             1950         150                1               1       ultra  "
      ]
     },
     "execution_count": 47,
     "metadata": {},
     "output_type": "execute_result"
    }
   ],
   "source": [
    "tariffs.head()"
   ]
  },
  {
   "cell_type": "markdown",
   "id": "a22a0a91",
   "metadata": {},
   "source": [
    "Переведем мегабайты столбца `mb_per_month_included` в гигабайты для упрощения работы, результат сохраним в столбец `gb_per_month_included`, изменим тип данных созданного столбца на `int`, столбец с мегабайтами удалим и далее изменим порядок столбцов (так как добавленный столбец окажется в самом конце):"
   ]
  },
  {
   "cell_type": "code",
   "execution_count": 48,
   "id": "23242e06",
   "metadata": {},
   "outputs": [],
   "source": [
    "tariffs['gb_per_month_included'] = (tariffs['mb_per_month_included']/1024).astype('int')\n",
    "tariffs = tariffs.drop('mb_per_month_included', axis=1)\n",
    "#перевод мегабайтов в гигабайты и сохранение результата в столбец gb_per_month_included, перевод значений в тип  int\n",
    "#удаление столбца mb_per_month_included"
   ]
  },
  {
   "cell_type": "code",
   "execution_count": 49,
   "id": "ea297d75",
   "metadata": {},
   "outputs": [],
   "source": [
    "tariffs = tariffs[['messages_included', 'minutes_included', 'gb_per_month_included','rub_monthly_fee', 'rub_per_message', 'rub_per_minute','rub_per_gb', 'tariff_name']]\n",
    "#изменяем порядок столбцов в датафрейме"
   ]
  },
  {
   "cell_type": "code",
   "execution_count": 50,
   "id": "381541d8",
   "metadata": {},
   "outputs": [
    {
     "data": {
      "text/html": [
       "<div>\n",
       "<style scoped>\n",
       "    .dataframe tbody tr th:only-of-type {\n",
       "        vertical-align: middle;\n",
       "    }\n",
       "\n",
       "    .dataframe tbody tr th {\n",
       "        vertical-align: top;\n",
       "    }\n",
       "\n",
       "    .dataframe thead th {\n",
       "        text-align: right;\n",
       "    }\n",
       "</style>\n",
       "<table border=\"1\" class=\"dataframe\">\n",
       "  <thead>\n",
       "    <tr style=\"text-align: right;\">\n",
       "      <th></th>\n",
       "      <th>messages_included</th>\n",
       "      <th>minutes_included</th>\n",
       "      <th>gb_per_month_included</th>\n",
       "      <th>rub_monthly_fee</th>\n",
       "      <th>rub_per_message</th>\n",
       "      <th>rub_per_minute</th>\n",
       "      <th>rub_per_gb</th>\n",
       "      <th>tariff_name</th>\n",
       "    </tr>\n",
       "  </thead>\n",
       "  <tbody>\n",
       "    <tr>\n",
       "      <th>0</th>\n",
       "      <td>50</td>\n",
       "      <td>500</td>\n",
       "      <td>15</td>\n",
       "      <td>550</td>\n",
       "      <td>3</td>\n",
       "      <td>3</td>\n",
       "      <td>200</td>\n",
       "      <td>smart</td>\n",
       "    </tr>\n",
       "    <tr>\n",
       "      <th>1</th>\n",
       "      <td>1000</td>\n",
       "      <td>3000</td>\n",
       "      <td>30</td>\n",
       "      <td>1950</td>\n",
       "      <td>1</td>\n",
       "      <td>1</td>\n",
       "      <td>150</td>\n",
       "      <td>ultra</td>\n",
       "    </tr>\n",
       "  </tbody>\n",
       "</table>\n",
       "</div>"
      ],
      "text/plain": [
       "   messages_included  minutes_included  gb_per_month_included  \\\n",
       "0                 50               500                     15   \n",
       "1               1000              3000                     30   \n",
       "\n",
       "   rub_monthly_fee  rub_per_message  rub_per_minute  rub_per_gb tariff_name  \n",
       "0              550                3               3         200       smart  \n",
       "1             1950                1               1         150       ultra  "
      ]
     },
     "execution_count": 50,
     "metadata": {},
     "output_type": "execute_result"
    }
   ],
   "source": [
    "tariffs.head()"
   ]
  },
  {
   "cell_type": "markdown",
   "id": "6cc95793",
   "metadata": {},
   "source": [
    "#### Помесячная выручка с каждого пользователя"
   ]
  },
  {
   "cell_type": "markdown",
   "id": "b443ccc5",
   "metadata": {},
   "source": [
    "Посчитаем помесячную выручку с каждого пользователя:\n",
    "\n",
    "- вычтим бесплатный лимит из суммарного количества звонков, сообщений и интернет-трафика; \n",
    "- остаток умножим на значение из тарифного плана; \n",
    "- прибавим абонентскую плату, соответствующую тарифному плану"
   ]
  },
  {
   "cell_type": "markdown",
   "id": "de14861b",
   "metadata": {},
   "source": [
    "Чтобы выполнить описанные действия, необходимо соединить все полученные сводные таблицы и датафрейм `users`. \n",
    "\n",
    "Объединим в один датафрейм сводные таблицы `calls_pivot` и `messages_pivot` по столбцам `user_id` и `month` методом `merge`:"
   ]
  },
  {
   "cell_type": "code",
   "execution_count": 51,
   "id": "ed113315",
   "metadata": {},
   "outputs": [
    {
     "data": {
      "text/html": [
       "<div>\n",
       "<style scoped>\n",
       "    .dataframe tbody tr th:only-of-type {\n",
       "        vertical-align: middle;\n",
       "    }\n",
       "\n",
       "    .dataframe tbody tr th {\n",
       "        vertical-align: top;\n",
       "    }\n",
       "\n",
       "    .dataframe thead th {\n",
       "        text-align: right;\n",
       "    }\n",
       "</style>\n",
       "<table border=\"1\" class=\"dataframe\">\n",
       "  <thead>\n",
       "    <tr style=\"text-align: right;\">\n",
       "      <th></th>\n",
       "      <th></th>\n",
       "      <th>(count_duration,)</th>\n",
       "      <th>(sum_duration,)</th>\n",
       "      <th>message_date</th>\n",
       "    </tr>\n",
       "    <tr>\n",
       "      <th>user_id</th>\n",
       "      <th>month</th>\n",
       "      <th></th>\n",
       "      <th></th>\n",
       "      <th></th>\n",
       "    </tr>\n",
       "  </thead>\n",
       "  <tbody>\n",
       "    <tr>\n",
       "      <th rowspan=\"5\" valign=\"top\">1000</th>\n",
       "      <th>5</th>\n",
       "      <td>22.0</td>\n",
       "      <td>159.0</td>\n",
       "      <td>22.0</td>\n",
       "    </tr>\n",
       "    <tr>\n",
       "      <th>6</th>\n",
       "      <td>43.0</td>\n",
       "      <td>172.0</td>\n",
       "      <td>60.0</td>\n",
       "    </tr>\n",
       "    <tr>\n",
       "      <th>7</th>\n",
       "      <td>47.0</td>\n",
       "      <td>340.0</td>\n",
       "      <td>75.0</td>\n",
       "    </tr>\n",
       "    <tr>\n",
       "      <th>8</th>\n",
       "      <td>52.0</td>\n",
       "      <td>408.0</td>\n",
       "      <td>81.0</td>\n",
       "    </tr>\n",
       "    <tr>\n",
       "      <th>9</th>\n",
       "      <td>58.0</td>\n",
       "      <td>466.0</td>\n",
       "      <td>57.0</td>\n",
       "    </tr>\n",
       "  </tbody>\n",
       "</table>\n",
       "</div>"
      ],
      "text/plain": [
       "               (count_duration,)  (sum_duration,)  message_date\n",
       "user_id month                                                  \n",
       "1000    5                   22.0            159.0          22.0\n",
       "        6                   43.0            172.0          60.0\n",
       "        7                   47.0            340.0          75.0\n",
       "        8                   52.0            408.0          81.0\n",
       "        9                   58.0            466.0          57.0"
      ]
     },
     "metadata": {},
     "output_type": "display_data"
    }
   ],
   "source": [
    "calls_messages = calls_pivot.merge(messages_pivot, on=['user_id', 'month'], how='outer')\n",
    "display(calls_messages.head())\n",
    "#объединение сводных таблиц и вывод на экран первых 5 строчек нового датафрейма calls_messages"
   ]
  },
  {
   "cell_type": "markdown",
   "id": "b90535e8",
   "metadata": {},
   "source": [
    "Теперь к датафрейму `calls_messages` \"клеим\" сводную таблицу `internet_pivot` опять же методом `merge`:"
   ]
  },
  {
   "cell_type": "code",
   "execution_count": 52,
   "id": "d497e52f",
   "metadata": {},
   "outputs": [
    {
     "data": {
      "text/html": [
       "<div>\n",
       "<style scoped>\n",
       "    .dataframe tbody tr th:only-of-type {\n",
       "        vertical-align: middle;\n",
       "    }\n",
       "\n",
       "    .dataframe tbody tr th {\n",
       "        vertical-align: top;\n",
       "    }\n",
       "\n",
       "    .dataframe thead th {\n",
       "        text-align: right;\n",
       "    }\n",
       "</style>\n",
       "<table border=\"1\" class=\"dataframe\">\n",
       "  <thead>\n",
       "    <tr style=\"text-align: right;\">\n",
       "      <th></th>\n",
       "      <th>user_id</th>\n",
       "      <th>month</th>\n",
       "      <th>(count_duration,)</th>\n",
       "      <th>(sum_duration,)</th>\n",
       "      <th>message_date</th>\n",
       "      <th>(sum_gb_used,)</th>\n",
       "    </tr>\n",
       "  </thead>\n",
       "  <tbody>\n",
       "    <tr>\n",
       "      <th>0</th>\n",
       "      <td>1000</td>\n",
       "      <td>5</td>\n",
       "      <td>22.0</td>\n",
       "      <td>159.0</td>\n",
       "      <td>22.0</td>\n",
       "      <td>2.19</td>\n",
       "    </tr>\n",
       "    <tr>\n",
       "      <th>1</th>\n",
       "      <td>1000</td>\n",
       "      <td>6</td>\n",
       "      <td>43.0</td>\n",
       "      <td>172.0</td>\n",
       "      <td>60.0</td>\n",
       "      <td>22.68</td>\n",
       "    </tr>\n",
       "    <tr>\n",
       "      <th>2</th>\n",
       "      <td>1000</td>\n",
       "      <td>7</td>\n",
       "      <td>47.0</td>\n",
       "      <td>340.0</td>\n",
       "      <td>75.0</td>\n",
       "      <td>13.71</td>\n",
       "    </tr>\n",
       "    <tr>\n",
       "      <th>3</th>\n",
       "      <td>1000</td>\n",
       "      <td>8</td>\n",
       "      <td>52.0</td>\n",
       "      <td>408.0</td>\n",
       "      <td>81.0</td>\n",
       "      <td>13.74</td>\n",
       "    </tr>\n",
       "    <tr>\n",
       "      <th>4</th>\n",
       "      <td>1000</td>\n",
       "      <td>9</td>\n",
       "      <td>58.0</td>\n",
       "      <td>466.0</td>\n",
       "      <td>57.0</td>\n",
       "      <td>14.25</td>\n",
       "    </tr>\n",
       "    <tr>\n",
       "      <th>...</th>\n",
       "      <td>...</td>\n",
       "      <td>...</td>\n",
       "      <td>...</td>\n",
       "      <td>...</td>\n",
       "      <td>...</td>\n",
       "      <td>...</td>\n",
       "    </tr>\n",
       "    <tr>\n",
       "      <th>3209</th>\n",
       "      <td>1489</td>\n",
       "      <td>9</td>\n",
       "      <td>NaN</td>\n",
       "      <td>NaN</td>\n",
       "      <td>32.0</td>\n",
       "      <td>16.82</td>\n",
       "    </tr>\n",
       "    <tr>\n",
       "      <th>3210</th>\n",
       "      <td>1489</td>\n",
       "      <td>10</td>\n",
       "      <td>NaN</td>\n",
       "      <td>NaN</td>\n",
       "      <td>21.0</td>\n",
       "      <td>19.11</td>\n",
       "    </tr>\n",
       "    <tr>\n",
       "      <th>3211</th>\n",
       "      <td>1489</td>\n",
       "      <td>11</td>\n",
       "      <td>NaN</td>\n",
       "      <td>NaN</td>\n",
       "      <td>20.0</td>\n",
       "      <td>17.08</td>\n",
       "    </tr>\n",
       "    <tr>\n",
       "      <th>3212</th>\n",
       "      <td>1489</td>\n",
       "      <td>12</td>\n",
       "      <td>NaN</td>\n",
       "      <td>NaN</td>\n",
       "      <td>35.0</td>\n",
       "      <td>16.93</td>\n",
       "    </tr>\n",
       "    <tr>\n",
       "      <th>3213</th>\n",
       "      <td>1476</td>\n",
       "      <td>4</td>\n",
       "      <td>NaN</td>\n",
       "      <td>NaN</td>\n",
       "      <td>NaN</td>\n",
       "      <td>0.52</td>\n",
       "    </tr>\n",
       "  </tbody>\n",
       "</table>\n",
       "<p>3214 rows × 6 columns</p>\n",
       "</div>"
      ],
      "text/plain": [
       "      user_id  month  (count_duration,)  (sum_duration,)  message_date  \\\n",
       "0        1000      5               22.0            159.0          22.0   \n",
       "1        1000      6               43.0            172.0          60.0   \n",
       "2        1000      7               47.0            340.0          75.0   \n",
       "3        1000      8               52.0            408.0          81.0   \n",
       "4        1000      9               58.0            466.0          57.0   \n",
       "...       ...    ...                ...              ...           ...   \n",
       "3209     1489      9                NaN              NaN          32.0   \n",
       "3210     1489     10                NaN              NaN          21.0   \n",
       "3211     1489     11                NaN              NaN          20.0   \n",
       "3212     1489     12                NaN              NaN          35.0   \n",
       "3213     1476      4                NaN              NaN           NaN   \n",
       "\n",
       "      (sum_gb_used,)  \n",
       "0               2.19  \n",
       "1              22.68  \n",
       "2              13.71  \n",
       "3              13.74  \n",
       "4              14.25  \n",
       "...              ...  \n",
       "3209           16.82  \n",
       "3210           19.11  \n",
       "3211           17.08  \n",
       "3212           16.93  \n",
       "3213            0.52  \n",
       "\n",
       "[3214 rows x 6 columns]"
      ]
     },
     "metadata": {},
     "output_type": "display_data"
    }
   ],
   "source": [
    "calls_messages_internet=calls_messages.merge(internet_pivot, on=['user_id', 'month'], how='outer').reset_index()\n",
    "display(calls_messages_internet)"
   ]
  },
  {
   "cell_type": "markdown",
   "id": "5dd1f08a",
   "metadata": {},
   "source": [
    "Переименуем столбцы сводной таблицы, чтобы избавиться от двухэтажных названий и чтобы стало удобнее читать:"
   ]
  },
  {
   "cell_type": "code",
   "execution_count": 53,
   "id": "63a3a375",
   "metadata": {},
   "outputs": [
    {
     "data": {
      "text/html": [
       "<div>\n",
       "<style scoped>\n",
       "    .dataframe tbody tr th:only-of-type {\n",
       "        vertical-align: middle;\n",
       "    }\n",
       "\n",
       "    .dataframe tbody tr th {\n",
       "        vertical-align: top;\n",
       "    }\n",
       "\n",
       "    .dataframe thead th {\n",
       "        text-align: right;\n",
       "    }\n",
       "</style>\n",
       "<table border=\"1\" class=\"dataframe\">\n",
       "  <thead>\n",
       "    <tr style=\"text-align: right;\">\n",
       "      <th></th>\n",
       "      <th>user_id</th>\n",
       "      <th>month</th>\n",
       "      <th>count_duration</th>\n",
       "      <th>sum_duration</th>\n",
       "      <th>count_message</th>\n",
       "      <th>sum_gb</th>\n",
       "    </tr>\n",
       "  </thead>\n",
       "  <tbody>\n",
       "    <tr>\n",
       "      <th>0</th>\n",
       "      <td>1000</td>\n",
       "      <td>5</td>\n",
       "      <td>22.0</td>\n",
       "      <td>159.0</td>\n",
       "      <td>22.0</td>\n",
       "      <td>2.19</td>\n",
       "    </tr>\n",
       "    <tr>\n",
       "      <th>1</th>\n",
       "      <td>1000</td>\n",
       "      <td>6</td>\n",
       "      <td>43.0</td>\n",
       "      <td>172.0</td>\n",
       "      <td>60.0</td>\n",
       "      <td>22.68</td>\n",
       "    </tr>\n",
       "    <tr>\n",
       "      <th>2</th>\n",
       "      <td>1000</td>\n",
       "      <td>7</td>\n",
       "      <td>47.0</td>\n",
       "      <td>340.0</td>\n",
       "      <td>75.0</td>\n",
       "      <td>13.71</td>\n",
       "    </tr>\n",
       "    <tr>\n",
       "      <th>3</th>\n",
       "      <td>1000</td>\n",
       "      <td>8</td>\n",
       "      <td>52.0</td>\n",
       "      <td>408.0</td>\n",
       "      <td>81.0</td>\n",
       "      <td>13.74</td>\n",
       "    </tr>\n",
       "    <tr>\n",
       "      <th>4</th>\n",
       "      <td>1000</td>\n",
       "      <td>9</td>\n",
       "      <td>58.0</td>\n",
       "      <td>466.0</td>\n",
       "      <td>57.0</td>\n",
       "      <td>14.25</td>\n",
       "    </tr>\n",
       "  </tbody>\n",
       "</table>\n",
       "</div>"
      ],
      "text/plain": [
       "   user_id  month  count_duration  sum_duration  count_message  sum_gb\n",
       "0     1000      5            22.0         159.0           22.0    2.19\n",
       "1     1000      6            43.0         172.0           60.0   22.68\n",
       "2     1000      7            47.0         340.0           75.0   13.71\n",
       "3     1000      8            52.0         408.0           81.0   13.74\n",
       "4     1000      9            58.0         466.0           57.0   14.25"
      ]
     },
     "metadata": {},
     "output_type": "display_data"
    }
   ],
   "source": [
    "calls_messages_internet.columns=['user_id', 'month', 'count_duration', 'sum_duration', 'count_message', 'sum_gb']\n",
    "display(calls_messages_internet.head())"
   ]
  },
  {
   "cell_type": "markdown",
   "id": "7f460989",
   "metadata": {},
   "source": [
    "Ну и наконец для приступления к рассчету помесячной выручки с каждого клиента, необходимо к датафрейму `calls_messages_internet` присоединить датафрейм `users`.Снова используем метод `merge` и выводим 10 строчек таблицы на экран:"
   ]
  },
  {
   "cell_type": "code",
   "execution_count": 54,
   "id": "7da7c768",
   "metadata": {},
   "outputs": [
    {
     "data": {
      "text/html": [
       "<div>\n",
       "<style scoped>\n",
       "    .dataframe tbody tr th:only-of-type {\n",
       "        vertical-align: middle;\n",
       "    }\n",
       "\n",
       "    .dataframe tbody tr th {\n",
       "        vertical-align: top;\n",
       "    }\n",
       "\n",
       "    .dataframe thead th {\n",
       "        text-align: right;\n",
       "    }\n",
       "</style>\n",
       "<table border=\"1\" class=\"dataframe\">\n",
       "  <thead>\n",
       "    <tr style=\"text-align: right;\">\n",
       "      <th></th>\n",
       "      <th>user_id</th>\n",
       "      <th>month</th>\n",
       "      <th>count_duration</th>\n",
       "      <th>sum_duration</th>\n",
       "      <th>count_message</th>\n",
       "      <th>sum_gb</th>\n",
       "      <th>city</th>\n",
       "      <th>tariff</th>\n",
       "    </tr>\n",
       "  </thead>\n",
       "  <tbody>\n",
       "    <tr>\n",
       "      <th>0</th>\n",
       "      <td>1000</td>\n",
       "      <td>5.0</td>\n",
       "      <td>22.0</td>\n",
       "      <td>159.0</td>\n",
       "      <td>22.0</td>\n",
       "      <td>2.19</td>\n",
       "      <td>Краснодар</td>\n",
       "      <td>ultra</td>\n",
       "    </tr>\n",
       "    <tr>\n",
       "      <th>1</th>\n",
       "      <td>1000</td>\n",
       "      <td>6.0</td>\n",
       "      <td>43.0</td>\n",
       "      <td>172.0</td>\n",
       "      <td>60.0</td>\n",
       "      <td>22.68</td>\n",
       "      <td>Краснодар</td>\n",
       "      <td>ultra</td>\n",
       "    </tr>\n",
       "    <tr>\n",
       "      <th>2</th>\n",
       "      <td>1000</td>\n",
       "      <td>7.0</td>\n",
       "      <td>47.0</td>\n",
       "      <td>340.0</td>\n",
       "      <td>75.0</td>\n",
       "      <td>13.71</td>\n",
       "      <td>Краснодар</td>\n",
       "      <td>ultra</td>\n",
       "    </tr>\n",
       "    <tr>\n",
       "      <th>3</th>\n",
       "      <td>1000</td>\n",
       "      <td>8.0</td>\n",
       "      <td>52.0</td>\n",
       "      <td>408.0</td>\n",
       "      <td>81.0</td>\n",
       "      <td>13.74</td>\n",
       "      <td>Краснодар</td>\n",
       "      <td>ultra</td>\n",
       "    </tr>\n",
       "    <tr>\n",
       "      <th>4</th>\n",
       "      <td>1000</td>\n",
       "      <td>9.0</td>\n",
       "      <td>58.0</td>\n",
       "      <td>466.0</td>\n",
       "      <td>57.0</td>\n",
       "      <td>14.25</td>\n",
       "      <td>Краснодар</td>\n",
       "      <td>ultra</td>\n",
       "    </tr>\n",
       "    <tr>\n",
       "      <th>5</th>\n",
       "      <td>1000</td>\n",
       "      <td>10.0</td>\n",
       "      <td>57.0</td>\n",
       "      <td>350.0</td>\n",
       "      <td>73.0</td>\n",
       "      <td>14.36</td>\n",
       "      <td>Краснодар</td>\n",
       "      <td>ultra</td>\n",
       "    </tr>\n",
       "    <tr>\n",
       "      <th>6</th>\n",
       "      <td>1000</td>\n",
       "      <td>11.0</td>\n",
       "      <td>43.0</td>\n",
       "      <td>338.0</td>\n",
       "      <td>58.0</td>\n",
       "      <td>14.39</td>\n",
       "      <td>Краснодар</td>\n",
       "      <td>ultra</td>\n",
       "    </tr>\n",
       "    <tr>\n",
       "      <th>7</th>\n",
       "      <td>1000</td>\n",
       "      <td>12.0</td>\n",
       "      <td>46.0</td>\n",
       "      <td>333.0</td>\n",
       "      <td>70.0</td>\n",
       "      <td>9.56</td>\n",
       "      <td>Краснодар</td>\n",
       "      <td>ultra</td>\n",
       "    </tr>\n",
       "    <tr>\n",
       "      <th>8</th>\n",
       "      <td>1001</td>\n",
       "      <td>11.0</td>\n",
       "      <td>59.0</td>\n",
       "      <td>430.0</td>\n",
       "      <td>NaN</td>\n",
       "      <td>17.98</td>\n",
       "      <td>Москва</td>\n",
       "      <td>smart</td>\n",
       "    </tr>\n",
       "    <tr>\n",
       "      <th>9</th>\n",
       "      <td>1001</td>\n",
       "      <td>12.0</td>\n",
       "      <td>63.0</td>\n",
       "      <td>414.0</td>\n",
       "      <td>NaN</td>\n",
       "      <td>13.71</td>\n",
       "      <td>Москва</td>\n",
       "      <td>smart</td>\n",
       "    </tr>\n",
       "  </tbody>\n",
       "</table>\n",
       "</div>"
      ],
      "text/plain": [
       "   user_id  month  count_duration  sum_duration  count_message  sum_gb  \\\n",
       "0     1000    5.0            22.0         159.0           22.0    2.19   \n",
       "1     1000    6.0            43.0         172.0           60.0   22.68   \n",
       "2     1000    7.0            47.0         340.0           75.0   13.71   \n",
       "3     1000    8.0            52.0         408.0           81.0   13.74   \n",
       "4     1000    9.0            58.0         466.0           57.0   14.25   \n",
       "5     1000   10.0            57.0         350.0           73.0   14.36   \n",
       "6     1000   11.0            43.0         338.0           58.0   14.39   \n",
       "7     1000   12.0            46.0         333.0           70.0    9.56   \n",
       "8     1001   11.0            59.0         430.0            NaN   17.98   \n",
       "9     1001   12.0            63.0         414.0            NaN   13.71   \n",
       "\n",
       "        city tariff  \n",
       "0  Краснодар  ultra  \n",
       "1  Краснодар  ultra  \n",
       "2  Краснодар  ultra  \n",
       "3  Краснодар  ultra  \n",
       "4  Краснодар  ultra  \n",
       "5  Краснодар  ultra  \n",
       "6  Краснодар  ultra  \n",
       "7  Краснодар  ultra  \n",
       "8     Москва  smart  \n",
       "9     Москва  smart  "
      ]
     },
     "metadata": {},
     "output_type": "display_data"
    }
   ],
   "source": [
    "df = calls_messages_internet.merge(users, on=['user_id'], how='outer')\n",
    "display(df.head(10))"
   ]
  },
  {
   "cell_type": "markdown",
   "id": "2e958ae3",
   "metadata": {},
   "source": [
    "После объединения в датафрейме `df` появляются `NaN`. Смотрим общую информацию:"
   ]
  },
  {
   "cell_type": "code",
   "execution_count": 55,
   "id": "ad18e32a",
   "metadata": {},
   "outputs": [
    {
     "name": "stdout",
     "output_type": "stream",
     "text": [
      "<class 'pandas.core.frame.DataFrame'>\n",
      "Int64Index: 3216 entries, 0 to 3215\n",
      "Data columns (total 8 columns):\n",
      " #   Column          Non-Null Count  Dtype  \n",
      "---  ------          --------------  -----  \n",
      " 0   user_id         3216 non-null   int64  \n",
      " 1   month           3214 non-null   float64\n",
      " 2   count_duration  3174 non-null   float64\n",
      " 3   sum_duration    3174 non-null   float64\n",
      " 4   count_message   2717 non-null   float64\n",
      " 5   sum_gb          3203 non-null   float64\n",
      " 6   city            3216 non-null   object \n",
      " 7   tariff          3216 non-null   object \n",
      "dtypes: float64(5), int64(1), object(2)\n",
      "memory usage: 226.1+ KB\n"
     ]
    }
   ],
   "source": [
    "df.info()"
   ]
  },
  {
   "cell_type": "markdown",
   "id": "9efbcca3",
   "metadata": {},
   "source": [
    "Пропуски в 5 столбцах - `month`, `count_duration`, `sum_duration`, `count_message`, `sum_gb`. \n",
    "\n",
    "Посмотрим на строчки с `NaN` в столбце `month`:"
   ]
  },
  {
   "cell_type": "code",
   "execution_count": 56,
   "id": "396e0c23",
   "metadata": {},
   "outputs": [
    {
     "data": {
      "text/html": [
       "<div>\n",
       "<style scoped>\n",
       "    .dataframe tbody tr th:only-of-type {\n",
       "        vertical-align: middle;\n",
       "    }\n",
       "\n",
       "    .dataframe tbody tr th {\n",
       "        vertical-align: top;\n",
       "    }\n",
       "\n",
       "    .dataframe thead th {\n",
       "        text-align: right;\n",
       "    }\n",
       "</style>\n",
       "<table border=\"1\" class=\"dataframe\">\n",
       "  <thead>\n",
       "    <tr style=\"text-align: right;\">\n",
       "      <th></th>\n",
       "      <th>user_id</th>\n",
       "      <th>month</th>\n",
       "      <th>count_duration</th>\n",
       "      <th>sum_duration</th>\n",
       "      <th>count_message</th>\n",
       "      <th>sum_gb</th>\n",
       "      <th>city</th>\n",
       "      <th>tariff</th>\n",
       "    </tr>\n",
       "  </thead>\n",
       "  <tbody>\n",
       "    <tr>\n",
       "      <th>3214</th>\n",
       "      <td>1128</td>\n",
       "      <td>NaN</td>\n",
       "      <td>NaN</td>\n",
       "      <td>NaN</td>\n",
       "      <td>NaN</td>\n",
       "      <td>NaN</td>\n",
       "      <td>Волжский</td>\n",
       "      <td>ultra</td>\n",
       "    </tr>\n",
       "    <tr>\n",
       "      <th>3215</th>\n",
       "      <td>1371</td>\n",
       "      <td>NaN</td>\n",
       "      <td>NaN</td>\n",
       "      <td>NaN</td>\n",
       "      <td>NaN</td>\n",
       "      <td>NaN</td>\n",
       "      <td>Омск</td>\n",
       "      <td>smart</td>\n",
       "    </tr>\n",
       "  </tbody>\n",
       "</table>\n",
       "</div>"
      ],
      "text/plain": [
       "      user_id  month  count_duration  sum_duration  count_message  sum_gb  \\\n",
       "3214     1128    NaN             NaN           NaN            NaN     NaN   \n",
       "3215     1371    NaN             NaN           NaN            NaN     NaN   \n",
       "\n",
       "          city tariff  \n",
       "3214  Волжский  ultra  \n",
       "3215      Омск  smart  "
      ]
     },
     "execution_count": 56,
     "metadata": {},
     "output_type": "execute_result"
    }
   ],
   "source": [
    "df[df['month'].isna()]"
   ]
  },
  {
   "cell_type": "markdown",
   "id": "3ccee0b8",
   "metadata": {},
   "source": [
    "Удалим эти строки и изменим тип данных столбца `month` на `int`:"
   ]
  },
  {
   "cell_type": "code",
   "execution_count": 57,
   "id": "391a1b8a",
   "metadata": {},
   "outputs": [],
   "source": [
    "df.dropna(subset=['month'], inplace=True)\n",
    "df['month']=df['month'].astype('int')\n",
    "#удаление строк с пропущенными значениями в столбце month"
   ]
  },
  {
   "cell_type": "code",
   "execution_count": 58,
   "id": "d169b2f8",
   "metadata": {},
   "outputs": [
    {
     "data": {
      "text/plain": [
       "0"
      ]
     },
     "execution_count": 58,
     "metadata": {},
     "output_type": "execute_result"
    }
   ],
   "source": [
    "len(df[df['month'].isna()])\n",
    "#проверка, что в столбце month не осталось строк с пропусками"
   ]
  },
  {
   "cell_type": "markdown",
   "id": "f75d2eda",
   "metadata": {},
   "source": [
    "В остальных столбцах пропуски можно заменить на \"0\" (пропуски означают, что в этом месяце человек не звонил или не отправлял смс, или не пользовался интернетом) и изменить тип данных столбцов (кроме столбца `sum_gb`) на `int`:"
   ]
  },
  {
   "cell_type": "code",
   "execution_count": 59,
   "id": "a35aa903",
   "metadata": {},
   "outputs": [],
   "source": [
    "df['count_duration']=df['count_duration'].fillna(0).astype('int')\n",
    "df['sum_duration']=df['sum_duration'].fillna(0).astype('int')\n",
    "df['count_message']=df['count_message'].fillna(0).astype('int')\n",
    "df['sum_gb']=df['sum_gb'].fillna(0)\n",
    "#заполнение пропусков нулями и перевод в int "
   ]
  },
  {
   "cell_type": "markdown",
   "id": "ae4dce1b",
   "metadata": {},
   "source": [
    "Столбец `sum_gb` не перевели в `int`, т.к. необходимо учесть правило оператора «Мегалайн»: \"Для веб-трафика отдельные сессии не считаются. Вместо этого общая сумма за месяц округляется в бо́льшую сторону.\" То есть, как с длительностью вызовов за месяц, вызываем библиотеку `numpy`, округляем значения столбца до большего гигабайта с помощью `np.ceil()` и потом переводим в `int`:"
   ]
  },
  {
   "cell_type": "code",
   "execution_count": 60,
   "id": "9d9ca863",
   "metadata": {},
   "outputs": [],
   "source": [
    "df['sum_gb']=np.ceil(df['sum_gb'])\n",
    "df['sum_gb'] = df['sum_gb'].astype('int')\n",
    "#округляем продолжительность интернет-сессий в большую сторону\n",
    "#изменяем тип данных столбца на int"
   ]
  },
  {
   "cell_type": "markdown",
   "id": "b184ba27",
   "metadata": {},
   "source": [
    "Посмотрим на общую информацию о датафрейме `df`:"
   ]
  },
  {
   "cell_type": "code",
   "execution_count": 61,
   "id": "a1f1c28d",
   "metadata": {},
   "outputs": [
    {
     "name": "stdout",
     "output_type": "stream",
     "text": [
      "<class 'pandas.core.frame.DataFrame'>\n",
      "Int64Index: 3214 entries, 0 to 3213\n",
      "Data columns (total 8 columns):\n",
      " #   Column          Non-Null Count  Dtype \n",
      "---  ------          --------------  ----- \n",
      " 0   user_id         3214 non-null   int64 \n",
      " 1   month           3214 non-null   int64 \n",
      " 2   count_duration  3214 non-null   int64 \n",
      " 3   sum_duration    3214 non-null   int64 \n",
      " 4   count_message   3214 non-null   int64 \n",
      " 5   sum_gb          3214 non-null   int64 \n",
      " 6   city            3214 non-null   object\n",
      " 7   tariff          3214 non-null   object\n",
      "dtypes: int64(6), object(2)\n",
      "memory usage: 226.0+ KB\n"
     ]
    }
   ],
   "source": [
    "df.info()"
   ]
  },
  {
   "cell_type": "code",
   "execution_count": 62,
   "id": "fd17c779",
   "metadata": {},
   "outputs": [
    {
     "data": {
      "text/html": [
       "<div>\n",
       "<style scoped>\n",
       "    .dataframe tbody tr th:only-of-type {\n",
       "        vertical-align: middle;\n",
       "    }\n",
       "\n",
       "    .dataframe tbody tr th {\n",
       "        vertical-align: top;\n",
       "    }\n",
       "\n",
       "    .dataframe thead th {\n",
       "        text-align: right;\n",
       "    }\n",
       "</style>\n",
       "<table border=\"1\" class=\"dataframe\">\n",
       "  <thead>\n",
       "    <tr style=\"text-align: right;\">\n",
       "      <th></th>\n",
       "      <th>user_id</th>\n",
       "      <th>month</th>\n",
       "      <th>count_duration</th>\n",
       "      <th>sum_duration</th>\n",
       "      <th>count_message</th>\n",
       "      <th>sum_gb</th>\n",
       "      <th>city</th>\n",
       "      <th>tariff</th>\n",
       "    </tr>\n",
       "  </thead>\n",
       "  <tbody>\n",
       "    <tr>\n",
       "      <th>0</th>\n",
       "      <td>1000</td>\n",
       "      <td>5</td>\n",
       "      <td>22</td>\n",
       "      <td>159</td>\n",
       "      <td>22</td>\n",
       "      <td>3</td>\n",
       "      <td>Краснодар</td>\n",
       "      <td>ultra</td>\n",
       "    </tr>\n",
       "    <tr>\n",
       "      <th>1</th>\n",
       "      <td>1000</td>\n",
       "      <td>6</td>\n",
       "      <td>43</td>\n",
       "      <td>172</td>\n",
       "      <td>60</td>\n",
       "      <td>23</td>\n",
       "      <td>Краснодар</td>\n",
       "      <td>ultra</td>\n",
       "    </tr>\n",
       "    <tr>\n",
       "      <th>2</th>\n",
       "      <td>1000</td>\n",
       "      <td>7</td>\n",
       "      <td>47</td>\n",
       "      <td>340</td>\n",
       "      <td>75</td>\n",
       "      <td>14</td>\n",
       "      <td>Краснодар</td>\n",
       "      <td>ultra</td>\n",
       "    </tr>\n",
       "    <tr>\n",
       "      <th>3</th>\n",
       "      <td>1000</td>\n",
       "      <td>8</td>\n",
       "      <td>52</td>\n",
       "      <td>408</td>\n",
       "      <td>81</td>\n",
       "      <td>14</td>\n",
       "      <td>Краснодар</td>\n",
       "      <td>ultra</td>\n",
       "    </tr>\n",
       "    <tr>\n",
       "      <th>4</th>\n",
       "      <td>1000</td>\n",
       "      <td>9</td>\n",
       "      <td>58</td>\n",
       "      <td>466</td>\n",
       "      <td>57</td>\n",
       "      <td>15</td>\n",
       "      <td>Краснодар</td>\n",
       "      <td>ultra</td>\n",
       "    </tr>\n",
       "  </tbody>\n",
       "</table>\n",
       "</div>"
      ],
      "text/plain": [
       "   user_id  month  count_duration  sum_duration  count_message  sum_gb  \\\n",
       "0     1000      5              22           159             22       3   \n",
       "1     1000      6              43           172             60      23   \n",
       "2     1000      7              47           340             75      14   \n",
       "3     1000      8              52           408             81      14   \n",
       "4     1000      9              58           466             57      15   \n",
       "\n",
       "        city tariff  \n",
       "0  Краснодар  ultra  \n",
       "1  Краснодар  ultra  \n",
       "2  Краснодар  ultra  \n",
       "3  Краснодар  ultra  \n",
       "4  Краснодар  ultra  "
      ]
     },
     "execution_count": 62,
     "metadata": {},
     "output_type": "execute_result"
    }
   ],
   "source": [
    "df.head()\n",
    "#смотрим на первые 5 строчек полученного датафрейма"
   ]
  },
  {
   "cell_type": "markdown",
   "id": "31ee07b1",
   "metadata": {},
   "source": [
    "Теперь можем приступить к расчету помесячной выручки с каждого клиента. Для этого напишем функцию `income`, которая принимает в качестве агрумента весь датафрейм `df`. Зададим глобальные переменные:\n",
    "- `price`, `income` - выручка по клиентам тарифов `smart` и `ultra` соответственно;  \n",
    "- `revenue_minutes` - выручка за минуты, потраченные сверх тарифов\n",
    "- `revenue_messages` - выручка за сообщения вне тарифа\n",
    "- `revenue_internet` - выручка за интернет вне тарифа\n",
    "\n",
    "Функция будет проверять несколько условий для каждого тарифа отдельно:\n",
    "- если количество минут разговоров больше, чем бесплатный лимит, то разницу необходимо умножить на стоимость одной минуты сверх тарифа (для `smart` - 3 руб/мин, для `ultra` - 1 руб/мин)\n",
    "- если количество отправленных сообщений больше, чем бесплатный лимит, то разницу необходимо умножить на стоимость сообщения вне тарифа (для `smart` - 3 руб/смс, для `ultra` - 1 руб/смс)\n",
    "- если количество потраченных гигабайт превосходит бесплатный лимит, то разницу умножаем на стоимость одного Гб сверх тарифа (для `smart` - 200 руб/Гб, для `ultra` - 150 руб/Гб)\n",
    "\n",
    "Выручка по тарифам складывается из выручки по звонкам, смс и интернет-трафика сверх тарифа плюс ежемесячная плата за тариф (для `smart` - 550 руб/мес, для `ultra` - 1950 руб/мес)\n"
   ]
  },
  {
   "cell_type": "code",
   "execution_count": 63,
   "id": "abb3e42a",
   "metadata": {},
   "outputs": [],
   "source": [
    "#создание глобальных переменных\n",
    "price=0\n",
    "income=0\n",
    "revenue_minutes=0\n",
    "revenue_messages=0\n",
    "revenue_internet=0\n",
    "\n",
    "#создаем функцию income\n",
    "def income(df):\n",
    "    #добавляем в функцию глобальные переменные\n",
    "    global price, revenue_minutes, revenue_messages, revenue_internet, income\n",
    "    \n",
    "    #проверяем условие, что тариф `smart`\n",
    "    if df['tariff']=='smart':\n",
    "        #далее проверяем превысил ли пользователь лимит по звонкам, смс и интеренету:\n",
    "        #если превысил, то умножаем соответствующую услугу на стоимсоть единицы сверх тарифа\n",
    "        #функция возвращает выручку price по каждому клиенту\n",
    "        if df['sum_duration']>500:\n",
    "            revenue_minutes = (df['sum_duration']-500)*3\n",
    "        else:\n",
    "            revenue_minutes = 0\n",
    "        if df['count_message']>50:\n",
    "            revenue_messages = (df['count_message']-50)*3\n",
    "        else:\n",
    "            revenue_messages = 0\n",
    "        if df['sum_gb']> 15:\n",
    "            revenue_internet = (df['sum_gb']-15)*200\n",
    "        else:\n",
    "            revenue_internet = 0\n",
    "            \n",
    "        #выручка по каждому клиенту складывается из выручке по превышению лимита минут, \n",
    "        #смс и интеренета, и абонентской платы   \n",
    "        price = revenue_minutes+revenue_messages+revenue_internet+550\n",
    "        \n",
    "        return price\n",
    "\n",
    "    #проверяем условие, что тариф `ultra`\n",
    "    if df['tariff']=='ultra':\n",
    "        \n",
    "        #далее проверяем превысил ли пользователь лимит по звонкам, смс и интеренету:\n",
    "        #если превысил, то умножаем соответствующую услугу на стоимсоть единицы сверх тарифа\n",
    "        #функция возвращает выручку income по каждому клиенту\n",
    "        if df['sum_duration']>3000:\n",
    "            revenue_minutes = df['sum_duration']-3000\n",
    "        else:\n",
    "            revenue_minutes = 0\n",
    "        if df['count_message']>1000:\n",
    "            revenue_messages = df['count_message']-1000\n",
    "        else:\n",
    "            revenue_messages = 0\n",
    "        if df['sum_gb']> 30:\n",
    "            revenue_internet = (df['sum_gb']-30)*150\n",
    "        else:\n",
    "            revenue_internet = 0\n",
    "        \n",
    "        #выручка по каждому клиенту складывается из выручке по превышению лимита минут, \n",
    "        #смс и интеренета, и абонентской платы  \n",
    "        income = revenue_minutes+revenue_messages+revenue_internet+1950\n",
    "        \n",
    "        return income\n",
    "        \n",
    "   \n",
    "\n",
    "df['income']=df.apply(income, axis=1)"
   ]
  },
  {
   "cell_type": "markdown",
   "id": "486964ee",
   "metadata": {},
   "source": [
    "Проверяем работу функции - выведем 5 строчек датафрейма на экран:"
   ]
  },
  {
   "cell_type": "code",
   "execution_count": 64,
   "id": "7decb3c5",
   "metadata": {},
   "outputs": [
    {
     "data": {
      "text/html": [
       "<div>\n",
       "<style scoped>\n",
       "    .dataframe tbody tr th:only-of-type {\n",
       "        vertical-align: middle;\n",
       "    }\n",
       "\n",
       "    .dataframe tbody tr th {\n",
       "        vertical-align: top;\n",
       "    }\n",
       "\n",
       "    .dataframe thead th {\n",
       "        text-align: right;\n",
       "    }\n",
       "</style>\n",
       "<table border=\"1\" class=\"dataframe\">\n",
       "  <thead>\n",
       "    <tr style=\"text-align: right;\">\n",
       "      <th></th>\n",
       "      <th>user_id</th>\n",
       "      <th>month</th>\n",
       "      <th>count_duration</th>\n",
       "      <th>sum_duration</th>\n",
       "      <th>count_message</th>\n",
       "      <th>sum_gb</th>\n",
       "      <th>city</th>\n",
       "      <th>tariff</th>\n",
       "      <th>income</th>\n",
       "    </tr>\n",
       "  </thead>\n",
       "  <tbody>\n",
       "    <tr>\n",
       "      <th>3068</th>\n",
       "      <td>1480</td>\n",
       "      <td>9</td>\n",
       "      <td>58</td>\n",
       "      <td>305</td>\n",
       "      <td>19</td>\n",
       "      <td>14</td>\n",
       "      <td>Новокузнецк</td>\n",
       "      <td>smart</td>\n",
       "      <td>550</td>\n",
       "    </tr>\n",
       "    <tr>\n",
       "      <th>1474</th>\n",
       "      <td>1238</td>\n",
       "      <td>1</td>\n",
       "      <td>8</td>\n",
       "      <td>55</td>\n",
       "      <td>34</td>\n",
       "      <td>11</td>\n",
       "      <td>Ростов-на-Дону</td>\n",
       "      <td>smart</td>\n",
       "      <td>550</td>\n",
       "    </tr>\n",
       "    <tr>\n",
       "      <th>2936</th>\n",
       "      <td>1462</td>\n",
       "      <td>10</td>\n",
       "      <td>14</td>\n",
       "      <td>94</td>\n",
       "      <td>0</td>\n",
       "      <td>3</td>\n",
       "      <td>Тольятти</td>\n",
       "      <td>smart</td>\n",
       "      <td>550</td>\n",
       "    </tr>\n",
       "    <tr>\n",
       "      <th>2347</th>\n",
       "      <td>1375</td>\n",
       "      <td>9</td>\n",
       "      <td>118</td>\n",
       "      <td>885</td>\n",
       "      <td>64</td>\n",
       "      <td>20</td>\n",
       "      <td>Пенза</td>\n",
       "      <td>ultra</td>\n",
       "      <td>1950</td>\n",
       "    </tr>\n",
       "    <tr>\n",
       "      <th>12</th>\n",
       "      <td>1002</td>\n",
       "      <td>8</td>\n",
       "      <td>42</td>\n",
       "      <td>289</td>\n",
       "      <td>13</td>\n",
       "      <td>20</td>\n",
       "      <td>Стерлитамак</td>\n",
       "      <td>smart</td>\n",
       "      <td>1550</td>\n",
       "    </tr>\n",
       "  </tbody>\n",
       "</table>\n",
       "</div>"
      ],
      "text/plain": [
       "      user_id  month  count_duration  sum_duration  count_message  sum_gb  \\\n",
       "3068     1480      9              58           305             19      14   \n",
       "1474     1238      1               8            55             34      11   \n",
       "2936     1462     10              14            94              0       3   \n",
       "2347     1375      9             118           885             64      20   \n",
       "12       1002      8              42           289             13      20   \n",
       "\n",
       "                city tariff  income  \n",
       "3068     Новокузнецк  smart     550  \n",
       "1474  Ростов-на-Дону  smart     550  \n",
       "2936        Тольятти  smart     550  \n",
       "2347           Пенза  ultra    1950  \n",
       "12       Стерлитамак  smart    1550  "
      ]
     },
     "execution_count": 64,
     "metadata": {},
     "output_type": "execute_result"
    }
   ],
   "source": [
    "df.sample(5)"
   ]
  },
  {
   "cell_type": "code",
   "execution_count": 65,
   "id": "ce6904e4",
   "metadata": {},
   "outputs": [
    {
     "name": "stdout",
     "output_type": "stream",
     "text": [
      "<class 'pandas.core.frame.DataFrame'>\n",
      "Int64Index: 3214 entries, 0 to 3213\n",
      "Data columns (total 9 columns):\n",
      " #   Column          Non-Null Count  Dtype \n",
      "---  ------          --------------  ----- \n",
      " 0   user_id         3214 non-null   int64 \n",
      " 1   month           3214 non-null   int64 \n",
      " 2   count_duration  3214 non-null   int64 \n",
      " 3   sum_duration    3214 non-null   int64 \n",
      " 4   count_message   3214 non-null   int64 \n",
      " 5   sum_gb          3214 non-null   int64 \n",
      " 6   city            3214 non-null   object\n",
      " 7   tariff          3214 non-null   object\n",
      " 8   income          3214 non-null   int64 \n",
      "dtypes: int64(7), object(2)\n",
      "memory usage: 251.1+ KB\n"
     ]
    }
   ],
   "source": [
    "df.info()"
   ]
  },
  {
   "cell_type": "markdown",
   "id": "21ac458d",
   "metadata": {},
   "source": [
    "Функция работает верно. \n",
    "\n",
    "Работа с `tariffs` закончена. "
   ]
  },
  {
   "cell_type": "markdown",
   "id": "e8dd6f1d",
   "metadata": {},
   "source": [
    "### Вывод"
   ]
  },
  {
   "cell_type": "markdown",
   "id": "3af97042",
   "metadata": {},
   "source": [
    "<div style=\"border:solid blue 2px; padding: 20px\">\n",
    "В третьем пункте производили предобработку данных: изменили все типы данных, где это было необходимо, посчитали количество минут, смс и интернет-трафика для каждого клиента по каждому месяцу, посчитали какую прибыль принес каждый клиент в конкретный месяц, а также подготовили таблицу `df`, которая пригодится нам для дальнейшего анализа."
   ]
  },
  {
   "cell_type": "markdown",
   "id": "cf3286cd",
   "metadata": {},
   "source": [
    "## Анализ данных"
   ]
  },
  {
   "cell_type": "markdown",
   "id": "c9157463",
   "metadata": {},
   "source": [
    "### Анализ тарифов"
   ]
  },
  {
   "cell_type": "markdown",
   "id": "7d300643",
   "metadata": {},
   "source": [
    "Поделим датафркйм `df` на датафрейм с клиентами тарифа `smart` и `ultra` с помощью `query`:"
   ]
  },
  {
   "cell_type": "code",
   "execution_count": 66,
   "id": "8978a249",
   "metadata": {},
   "outputs": [],
   "source": [
    "df_smart = df.query('tariff == \"smart\"')\n",
    "df_ultra = df.query('tariff == \"ultra\"')"
   ]
  },
  {
   "cell_type": "markdown",
   "id": "e799607a",
   "metadata": {},
   "source": [
    "Посчитаем доход, который приносит оператору связи каждый из тарифов - суммируем значения в столбце `income` для каждого тарифа:"
   ]
  },
  {
   "cell_type": "code",
   "execution_count": 67,
   "id": "759807d2",
   "metadata": {},
   "outputs": [
    {
     "name": "stdout",
     "output_type": "stream",
     "text": [
      "Выручка по тарифу smart -  2875751\n",
      "Выручка по тарифу ultra -  2039250\n"
     ]
    }
   ],
   "source": [
    "print(\"Выручка по тарифу smart - \", df_smart['income'].sum())\n",
    "print(\"Выручка по тарифу ultra - \", df_ultra['income'].sum())"
   ]
  },
  {
   "cell_type": "markdown",
   "id": "fc894bc0",
   "metadata": {},
   "source": [
    "Получаем, что тариф `smart` выгоднее для оператора, чем `ultra`. "
   ]
  },
  {
   "cell_type": "markdown",
   "id": "be506994",
   "metadata": {},
   "source": [
    "### Анализ клиентов smart "
   ]
  },
  {
   "cell_type": "markdown",
   "id": "fa4d6875",
   "metadata": {},
   "source": [
    "Сначала проанализируем клиентов с тариформ `smart`: узнаем сколько минут разговора, сколько сообщений и какой объём интернет-трафика требуется пользователям каждый месяц. "
   ]
  },
  {
   "cell_type": "code",
   "execution_count": 68,
   "id": "0de83241",
   "metadata": {},
   "outputs": [
    {
     "data": {
      "text/html": [
       "<div>\n",
       "<style scoped>\n",
       "    .dataframe tbody tr th:only-of-type {\n",
       "        vertical-align: middle;\n",
       "    }\n",
       "\n",
       "    .dataframe tbody tr th {\n",
       "        vertical-align: top;\n",
       "    }\n",
       "\n",
       "    .dataframe thead th {\n",
       "        text-align: right;\n",
       "    }\n",
       "</style>\n",
       "<table border=\"1\" class=\"dataframe\">\n",
       "  <thead>\n",
       "    <tr style=\"text-align: right;\">\n",
       "      <th></th>\n",
       "      <th>user_id</th>\n",
       "      <th>month</th>\n",
       "      <th>count_duration</th>\n",
       "      <th>sum_duration</th>\n",
       "      <th>count_message</th>\n",
       "      <th>sum_gb</th>\n",
       "      <th>city</th>\n",
       "      <th>tariff</th>\n",
       "      <th>income</th>\n",
       "    </tr>\n",
       "  </thead>\n",
       "  <tbody>\n",
       "    <tr>\n",
       "      <th>8</th>\n",
       "      <td>1001</td>\n",
       "      <td>11</td>\n",
       "      <td>59</td>\n",
       "      <td>430</td>\n",
       "      <td>0</td>\n",
       "      <td>18</td>\n",
       "      <td>Москва</td>\n",
       "      <td>smart</td>\n",
       "      <td>1150</td>\n",
       "    </tr>\n",
       "    <tr>\n",
       "      <th>9</th>\n",
       "      <td>1001</td>\n",
       "      <td>12</td>\n",
       "      <td>63</td>\n",
       "      <td>414</td>\n",
       "      <td>0</td>\n",
       "      <td>14</td>\n",
       "      <td>Москва</td>\n",
       "      <td>smart</td>\n",
       "      <td>550</td>\n",
       "    </tr>\n",
       "    <tr>\n",
       "      <th>10</th>\n",
       "      <td>1002</td>\n",
       "      <td>6</td>\n",
       "      <td>15</td>\n",
       "      <td>117</td>\n",
       "      <td>4</td>\n",
       "      <td>11</td>\n",
       "      <td>Стерлитамак</td>\n",
       "      <td>smart</td>\n",
       "      <td>550</td>\n",
       "    </tr>\n",
       "    <tr>\n",
       "      <th>11</th>\n",
       "      <td>1002</td>\n",
       "      <td>7</td>\n",
       "      <td>26</td>\n",
       "      <td>214</td>\n",
       "      <td>11</td>\n",
       "      <td>18</td>\n",
       "      <td>Стерлитамак</td>\n",
       "      <td>smart</td>\n",
       "      <td>1150</td>\n",
       "    </tr>\n",
       "    <tr>\n",
       "      <th>12</th>\n",
       "      <td>1002</td>\n",
       "      <td>8</td>\n",
       "      <td>42</td>\n",
       "      <td>289</td>\n",
       "      <td>13</td>\n",
       "      <td>20</td>\n",
       "      <td>Стерлитамак</td>\n",
       "      <td>smart</td>\n",
       "      <td>1550</td>\n",
       "    </tr>\n",
       "    <tr>\n",
       "      <th>13</th>\n",
       "      <td>1002</td>\n",
       "      <td>9</td>\n",
       "      <td>36</td>\n",
       "      <td>206</td>\n",
       "      <td>4</td>\n",
       "      <td>17</td>\n",
       "      <td>Стерлитамак</td>\n",
       "      <td>smart</td>\n",
       "      <td>950</td>\n",
       "    </tr>\n",
       "    <tr>\n",
       "      <th>14</th>\n",
       "      <td>1002</td>\n",
       "      <td>10</td>\n",
       "      <td>33</td>\n",
       "      <td>212</td>\n",
       "      <td>10</td>\n",
       "      <td>14</td>\n",
       "      <td>Стерлитамак</td>\n",
       "      <td>smart</td>\n",
       "      <td>550</td>\n",
       "    </tr>\n",
       "    <tr>\n",
       "      <th>15</th>\n",
       "      <td>1002</td>\n",
       "      <td>11</td>\n",
       "      <td>32</td>\n",
       "      <td>243</td>\n",
       "      <td>16</td>\n",
       "      <td>19</td>\n",
       "      <td>Стерлитамак</td>\n",
       "      <td>smart</td>\n",
       "      <td>1350</td>\n",
       "    </tr>\n",
       "    <tr>\n",
       "      <th>16</th>\n",
       "      <td>1002</td>\n",
       "      <td>12</td>\n",
       "      <td>33</td>\n",
       "      <td>236</td>\n",
       "      <td>12</td>\n",
       "      <td>18</td>\n",
       "      <td>Стерлитамак</td>\n",
       "      <td>smart</td>\n",
       "      <td>1150</td>\n",
       "    </tr>\n",
       "    <tr>\n",
       "      <th>30</th>\n",
       "      <td>1005</td>\n",
       "      <td>1</td>\n",
       "      <td>15</td>\n",
       "      <td>95</td>\n",
       "      <td>7</td>\n",
       "      <td>3</td>\n",
       "      <td>Набережные Челны</td>\n",
       "      <td>smart</td>\n",
       "      <td>550</td>\n",
       "    </tr>\n",
       "  </tbody>\n",
       "</table>\n",
       "</div>"
      ],
      "text/plain": [
       "    user_id  month  count_duration  sum_duration  count_message  sum_gb  \\\n",
       "8      1001     11              59           430              0      18   \n",
       "9      1001     12              63           414              0      14   \n",
       "10     1002      6              15           117              4      11   \n",
       "11     1002      7              26           214             11      18   \n",
       "12     1002      8              42           289             13      20   \n",
       "13     1002      9              36           206              4      17   \n",
       "14     1002     10              33           212             10      14   \n",
       "15     1002     11              32           243             16      19   \n",
       "16     1002     12              33           236             12      18   \n",
       "30     1005      1              15            95              7       3   \n",
       "\n",
       "                city tariff  income  \n",
       "8             Москва  smart    1150  \n",
       "9             Москва  smart     550  \n",
       "10       Стерлитамак  smart     550  \n",
       "11       Стерлитамак  smart    1150  \n",
       "12       Стерлитамак  smart    1550  \n",
       "13       Стерлитамак  smart     950  \n",
       "14       Стерлитамак  smart     550  \n",
       "15       Стерлитамак  smart    1350  \n",
       "16       Стерлитамак  smart    1150  \n",
       "30  Набережные Челны  smart     550  "
      ]
     },
     "execution_count": 68,
     "metadata": {},
     "output_type": "execute_result"
    }
   ],
   "source": [
    "df_smart.head(10)\n",
    "#просмотр 10 первых строк df_smart"
   ]
  },
  {
   "cell_type": "code",
   "execution_count": 69,
   "id": "281bb64a",
   "metadata": {},
   "outputs": [
    {
     "data": {
      "text/html": [
       "<div>\n",
       "<style scoped>\n",
       "    .dataframe tbody tr th:only-of-type {\n",
       "        vertical-align: middle;\n",
       "    }\n",
       "\n",
       "    .dataframe tbody tr th {\n",
       "        vertical-align: top;\n",
       "    }\n",
       "\n",
       "    .dataframe thead th {\n",
       "        text-align: right;\n",
       "    }\n",
       "</style>\n",
       "<table border=\"1\" class=\"dataframe\">\n",
       "  <thead>\n",
       "    <tr style=\"text-align: right;\">\n",
       "      <th></th>\n",
       "      <th>user_id</th>\n",
       "      <th>month</th>\n",
       "      <th>count_duration</th>\n",
       "      <th>sum_duration</th>\n",
       "      <th>count_message</th>\n",
       "      <th>sum_gb</th>\n",
       "      <th>income</th>\n",
       "    </tr>\n",
       "  </thead>\n",
       "  <tbody>\n",
       "    <tr>\n",
       "      <th>count</th>\n",
       "      <td>2229.000000</td>\n",
       "      <td>2229.000000</td>\n",
       "      <td>2229.000000</td>\n",
       "      <td>2229.000000</td>\n",
       "      <td>2229.000000</td>\n",
       "      <td>2229.000000</td>\n",
       "      <td>2229.000000</td>\n",
       "    </tr>\n",
       "    <tr>\n",
       "      <th>mean</th>\n",
       "      <td>1246.506505</td>\n",
       "      <td>8.346792</td>\n",
       "      <td>58.463437</td>\n",
       "      <td>417.934948</td>\n",
       "      <td>33.384029</td>\n",
       "      <td>16.329296</td>\n",
       "      <td>1290.152983</td>\n",
       "    </tr>\n",
       "    <tr>\n",
       "      <th>std</th>\n",
       "      <td>146.119496</td>\n",
       "      <td>2.920316</td>\n",
       "      <td>25.939858</td>\n",
       "      <td>190.313730</td>\n",
       "      <td>28.227876</td>\n",
       "      <td>5.749416</td>\n",
       "      <td>818.672708</td>\n",
       "    </tr>\n",
       "    <tr>\n",
       "      <th>min</th>\n",
       "      <td>1001.000000</td>\n",
       "      <td>1.000000</td>\n",
       "      <td>0.000000</td>\n",
       "      <td>0.000000</td>\n",
       "      <td>0.000000</td>\n",
       "      <td>0.000000</td>\n",
       "      <td>550.000000</td>\n",
       "    </tr>\n",
       "    <tr>\n",
       "      <th>25%</th>\n",
       "      <td>1121.000000</td>\n",
       "      <td>6.000000</td>\n",
       "      <td>40.000000</td>\n",
       "      <td>282.000000</td>\n",
       "      <td>10.000000</td>\n",
       "      <td>13.000000</td>\n",
       "      <td>550.000000</td>\n",
       "    </tr>\n",
       "    <tr>\n",
       "      <th>50%</th>\n",
       "      <td>1239.000000</td>\n",
       "      <td>9.000000</td>\n",
       "      <td>60.000000</td>\n",
       "      <td>422.000000</td>\n",
       "      <td>28.000000</td>\n",
       "      <td>17.000000</td>\n",
       "      <td>1019.000000</td>\n",
       "    </tr>\n",
       "    <tr>\n",
       "      <th>75%</th>\n",
       "      <td>1376.000000</td>\n",
       "      <td>11.000000</td>\n",
       "      <td>76.000000</td>\n",
       "      <td>545.000000</td>\n",
       "      <td>51.000000</td>\n",
       "      <td>20.000000</td>\n",
       "      <td>1750.000000</td>\n",
       "    </tr>\n",
       "    <tr>\n",
       "      <th>max</th>\n",
       "      <td>1499.000000</td>\n",
       "      <td>12.000000</td>\n",
       "      <td>198.000000</td>\n",
       "      <td>1435.000000</td>\n",
       "      <td>143.000000</td>\n",
       "      <td>38.000000</td>\n",
       "      <td>6770.000000</td>\n",
       "    </tr>\n",
       "  </tbody>\n",
       "</table>\n",
       "</div>"
      ],
      "text/plain": [
       "           user_id        month  count_duration  sum_duration  count_message  \\\n",
       "count  2229.000000  2229.000000     2229.000000   2229.000000    2229.000000   \n",
       "mean   1246.506505     8.346792       58.463437    417.934948      33.384029   \n",
       "std     146.119496     2.920316       25.939858    190.313730      28.227876   \n",
       "min    1001.000000     1.000000        0.000000      0.000000       0.000000   \n",
       "25%    1121.000000     6.000000       40.000000    282.000000      10.000000   \n",
       "50%    1239.000000     9.000000       60.000000    422.000000      28.000000   \n",
       "75%    1376.000000    11.000000       76.000000    545.000000      51.000000   \n",
       "max    1499.000000    12.000000      198.000000   1435.000000     143.000000   \n",
       "\n",
       "            sum_gb       income  \n",
       "count  2229.000000  2229.000000  \n",
       "mean     16.329296  1290.152983  \n",
       "std       5.749416   818.672708  \n",
       "min       0.000000   550.000000  \n",
       "25%      13.000000   550.000000  \n",
       "50%      17.000000  1019.000000  \n",
       "75%      20.000000  1750.000000  \n",
       "max      38.000000  6770.000000  "
      ]
     },
     "execution_count": 69,
     "metadata": {},
     "output_type": "execute_result"
    }
   ],
   "source": [
    "df_smart.describe()\n",
    "#просмотр основных статистических характеристик данных "
   ]
  },
  {
   "cell_type": "markdown",
   "id": "79873bec",
   "metadata": {},
   "source": [
    "Из таблицы основных статистических характеристик данных видим следующее:\n",
    "\n",
    "- `минуты разговора`: max - 1435 (это в 2,87 раза превышает бесплатный лимит), среднее значение - 417 минут (медиана - 422). Далее посмотрим какое количество пользователей укладывается в бесплатный лимит по минутам, а какое - превышает.\n",
    "- `смс-сообщения`: в среднем клиенты укладываются в бесплатный лимит и отправляют по 33 сообщения в месяц, но есть и те, кто превышает в 2,86 раза (max - 143 сообщения в месяц) этот лимит. Далее будет смотреть какое количество пользователей относится к группе тех, кто превышает и тех, кто укладывается. \n",
    "- `интернет`: в среднем пользователям не хватает отведенных 15 Гб интернета в меясяц и приходится доплачивать за дополнительные гигабайты, максимальное превышение в 2,53 раза. Опять же будем смотреть сколько таких клиентов. \n"
   ]
  },
  {
   "cell_type": "markdown",
   "id": "6fcd74ab",
   "metadata": {},
   "source": [
    "#### Анализ минут smart"
   ]
  },
  {
   "cell_type": "markdown",
   "id": "fdb44b32",
   "metadata": {},
   "source": [
    "Анализируем минуты разговора, которые тратят клиенты тарифа `smart`:\n",
    "Посмотрим, какое количество абонентов превышает бесплатный лимит."
   ]
  },
  {
   "cell_type": "code",
   "execution_count": 70,
   "id": "16e2c6ad",
   "metadata": {},
   "outputs": [
    {
     "name": "stdout",
     "output_type": "stream",
     "text": [
      "Превышают лимит по минутам 754\n",
      "Это составляет 33.82682817406909 % от общего количества клиентов тарифа \n"
     ]
    }
   ],
   "source": [
    "x=df_smart.query('sum_duration > 500')['sum_duration'].count()\n",
    "print(\"Превышают лимит по минутам\",x)\n",
    "#подсчет количества пользователей, превышающих лимит по минутам в тарифе smart\n",
    "print(\"Это составляет\", (x/2229*100), \"% от общего количества клиентов тарифа \")\n",
    "#вывод количества процентов таких клиентов от общего числа пользователей smart"
   ]
  },
  {
   "cell_type": "markdown",
   "id": "bf13c89d",
   "metadata": {},
   "source": [
    "Теперь посчитаем дисперсию методом `np.var()` библиотеки `Numpy` и стандартное отклонение - `np.std()`, далее построим гистограмму для оценки распределения."
   ]
  },
  {
   "cell_type": "code",
   "execution_count": 71,
   "id": "55f14e75",
   "metadata": {},
   "outputs": [
    {
     "name": "stdout",
     "output_type": "stream",
     "text": [
      "Дисперсия -  36219.31578434428\n",
      "Стандартное отклонение -  190.31372988921288\n"
     ]
    }
   ],
   "source": [
    "variance=np.var(df_smart['sum_duration'], ddof=1)\n",
    "standard_deviation=np.std(df_smart['sum_duration'], ddof=1)\n",
    "print(\"Дисперсия - \",variance)\n",
    "print(\"Стандартное отклонение - \",standard_deviation)"
   ]
  },
  {
   "cell_type": "markdown",
   "id": "08d4a03b",
   "metadata": {},
   "source": [
    "Строим гистограмму для просмотра распределения значений столбца `sum_duration`:"
   ]
  },
  {
   "cell_type": "code",
   "execution_count": 72,
   "id": "401f2d31",
   "metadata": {},
   "outputs": [
    {
     "data": {
      "image/png": "[encoded data removed]",
      "text/plain": [
       "<Figure size 432x288 with 1 Axes>"
      ]
     },
     "metadata": {
      "needs_background": "light"
     },
     "output_type": "display_data"
    }
   ],
   "source": [
    "import matplotlib.pyplot as plt\n",
    "df_smart['sum_duration'].hist(bins=30, grid=True)\n",
    "plt.xlabel(\"Минуты\")\n",
    "plt.ylabel(\"Частота\")\n",
    "plt.title(\"Анализ минут тарифа smart\");"
   ]
  },
  {
   "cell_type": "markdown",
   "id": "0c35d139",
   "metadata": {},
   "source": [
    "Итак, по израсходованным минутам тарифа `smart`:\n",
    "- дисперсия - 36219, стандартное отклонение (корень квадратный из дисперсии) - 190\n",
    "- среднее - 418 минут\n",
    "- на гистограмме видим нормальное распределение: большая часть абонентов действительно укладывается в лимит по минутам, 34% пользователей не укладываются и докупают минуты."
   ]
  },
  {
   "cell_type": "markdown",
   "id": "23a9a535",
   "metadata": {},
   "source": [
    "Посмотрим сколько всего дополнительных минут использовали клиенты и какую выручку от этого имел оператор:"
   ]
  },
  {
   "cell_type": "code",
   "execution_count": 73,
   "id": "f69d0983",
   "metadata": {},
   "outputs": [
    {
     "name": "stdout",
     "output_type": "stream",
     "text": [
      "Выручка по дополнительным минутам 278217\n"
     ]
    }
   ],
   "source": [
    "sum_min = df_smart.query('sum_duration>500')['sum_duration'].sum()\n",
    "#общее число минут \n",
    "tariff_min = df_smart.query('sum_duration>500')['sum_duration'].count()*500\n",
    "#минуты, входящие в ежемесячную плату по тарифу smart\n",
    "revenue_min = (sum_min - tariff_min)*3 \n",
    "print(\"Выручка по дополнительным минутам\", revenue_min)"
   ]
  },
  {
   "cell_type": "code",
   "execution_count": 74,
   "id": "11ee2545",
   "metadata": {},
   "outputs": [
    {
     "data": {
      "text/plain": [
       "9.674585873394463"
      ]
     },
     "execution_count": 74,
     "metadata": {},
     "output_type": "execute_result"
    }
   ],
   "source": [
    "(revenue_min/df_smart['income'].sum())*100\n",
    "#расчет отношения дохода по выручке от дополнительных минут к общему доходу от тарифа"
   ]
  },
  {
   "cell_type": "markdown",
   "id": "dc932e2c",
   "metadata": {},
   "source": [
    "Получается, что доход откупленных пользователями дополнительных минут - это почти 10% от общей выручки от тарифа smart"
   ]
  },
  {
   "cell_type": "markdown",
   "id": "2b147779",
   "metadata": {},
   "source": [
    "#### Анализ смс smart"
   ]
  },
  {
   "cell_type": "markdown",
   "id": "52bd4ea4",
   "metadata": {},
   "source": [
    "Теперь посмотрим хватает ли пользователям бесплатного количества сообщений. В начале пункта 4.1 в основных статистических характеристиках мы отметили, что в среднем 50 сообщений в месяц клиентам хватает, но все же есть и те, кто превышает этот лимит. Посмотрим на количество таких клиентов и их долю от всех пользователей тарифа `smart`:"
   ]
  },
  {
   "cell_type": "code",
   "execution_count": 75,
   "id": "9b287b07",
   "metadata": {},
   "outputs": [
    {
     "name": "stdout",
     "output_type": "stream",
     "text": [
      "Превышают лимит по минутам 564\n",
      "Это составляет 25.3028263795424 % от общего количества клиентов тарифа \n"
     ]
    }
   ],
   "source": [
    "a=df_smart.query('count_message > 50')['count_message'].count()\n",
    "print(\"Превышают лимит по минутам\", a )\n",
    "#подсчет количества пользователей, превышающих лимит по смс в тарифе smart\n",
    "print(\"Это составляет\", (a/2229*100), \"% от общего количества клиентов тарифа \")\n",
    "#вывод количества процентов таких клиентов от общего числа пользователей smart"
   ]
  },
  {
   "cell_type": "markdown",
   "id": "67b3df88",
   "metadata": {},
   "source": [
    "Считаем дисперсию и стандартное отклонение:"
   ]
  },
  {
   "cell_type": "code",
   "execution_count": 76,
   "id": "ae8ca728",
   "metadata": {},
   "outputs": [
    {
     "name": "stdout",
     "output_type": "stream",
     "text": [
      "Дисперсия -  796.8129584480083\n",
      "Стандартное отклонение -  28.22787555676141\n"
     ]
    }
   ],
   "source": [
    "variance=np.var(df_smart['count_message'], ddof=1)\n",
    "standard_deviation=np.std(df_smart['count_message'], ddof=1)\n",
    "print(\"Дисперсия - \",variance)\n",
    "print(\"Стандартное отклонение - \",standard_deviation)"
   ]
  },
  {
   "cell_type": "markdown",
   "id": "473724b1",
   "metadata": {},
   "source": [
    "Строим гистограмму для просмотра распределения значений столбца смс"
   ]
  },
  {
   "cell_type": "code",
   "execution_count": 77,
   "id": "18b6115c",
   "metadata": {},
   "outputs": [
    {
     "data": {
      "image/png": "[encoded data removed]",
      "text/plain": [
       "<Figure size 432x288 with 1 Axes>"
      ]
     },
     "metadata": {
      "needs_background": "light"
     },
     "output_type": "display_data"
    }
   ],
   "source": [
    "df_smart['count_message'].hist(bins=30, grid=True, legend=True)\n",
    "plt.xlabel(\"Количество смс\")\n",
    "plt.ylabel(\"Частота\")\n",
    "plt.title(\"Анализ смс тарифа smart\");"
   ]
  },
  {
   "cell_type": "code",
   "execution_count": 78,
   "id": "2a4865a5",
   "metadata": {},
   "outputs": [
    {
     "data": {
      "text/plain": [
       "count    2229.000000\n",
       "mean       33.384029\n",
       "std        28.227876\n",
       "min         0.000000\n",
       "25%        10.000000\n",
       "50%        28.000000\n",
       "75%        51.000000\n",
       "max       143.000000\n",
       "Name: count_message, dtype: float64"
      ]
     },
     "execution_count": 78,
     "metadata": {},
     "output_type": "execute_result"
    }
   ],
   "source": [
    "df_smart['count_message'].describe()\n",
    "#смотрим на основные статистические характеристика столбца"
   ]
  },
  {
   "cell_type": "markdown",
   "id": "25043dbe",
   "metadata": {},
   "source": [
    "Итак, как говорилось ранее, в среднем люди укладываюся в 50 смс в месяц, которые входят в абоненстскую плату. Выходят за рамки этого значения 25% пользователей тарифа. Некоторые пользователи вообще в какие-то месяца не отправляют смс или отправляют менее 10 штук в месяц (25%). График распределения скошен влево. \n",
    "\n",
    "Картина с смс - реальность. Всё чаще люди пользуются мессенджерами, онлайн-созвонами через интернет."
   ]
  },
  {
   "cell_type": "markdown",
   "id": "6db6edb8",
   "metadata": {},
   "source": [
    "Узнаем какой доход приносят дополнительно отправленные смс-сообщения (то есть вне тарифа):"
   ]
  },
  {
   "cell_type": "code",
   "execution_count": 79,
   "id": "3c19e2a0",
   "metadata": {},
   "outputs": [
    {
     "name": "stdout",
     "output_type": "stream",
     "text": [
      "Выручка от дополнительных смс 38784\n"
     ]
    }
   ],
   "source": [
    "revenue_sms = (df_smart.query('count_message>50')['count_message'].sum() \n",
    "               - (df_smart.query('count_message>50')['count_message'].count())*50)*3\n",
    "print(\"Выручка от дополнительных смс\", revenue_sms  )"
   ]
  },
  {
   "cell_type": "code",
   "execution_count": 80,
   "id": "8989d061",
   "metadata": {},
   "outputs": [
    {
     "data": {
      "text/plain": [
       "1.3486564031447785"
      ]
     },
     "execution_count": 80,
     "metadata": {},
     "output_type": "execute_result"
    }
   ],
   "source": [
    "(revenue_sms/df_smart['income'].sum())*100\n",
    "#расчет отношения дохода по выручке от дополнительных смс к общему доходу от тарифа"
   ]
  },
  {
   "cell_type": "markdown",
   "id": "fa9cd224",
   "metadata": {},
   "source": [
    "1,35 % от общего дохода от тарифа smart составил доход от дополнительных смс"
   ]
  },
  {
   "cell_type": "markdown",
   "id": "77de4126",
   "metadata": {},
   "source": [
    "####  Анализ веб-трафика smart"
   ]
  },
  {
   "cell_type": "markdown",
   "id": "ba0cc4b6",
   "metadata": {},
   "source": [
    "Теперь анализируем сколько клиенты тарифа smart используют Гб интернета.\n",
    "\n",
    "Смотрим методом `describe()` основные статистические характеристика столбца:"
   ]
  },
  {
   "cell_type": "code",
   "execution_count": 81,
   "id": "e0dafb03",
   "metadata": {},
   "outputs": [
    {
     "data": {
      "text/plain": [
       "count    2229.000000\n",
       "mean       16.329296\n",
       "std         5.749416\n",
       "min         0.000000\n",
       "25%        13.000000\n",
       "50%        17.000000\n",
       "75%        20.000000\n",
       "max        38.000000\n",
       "Name: sum_gb, dtype: float64"
      ]
     },
     "execution_count": 81,
     "metadata": {},
     "output_type": "execute_result"
    }
   ],
   "source": [
    "df_smart['sum_gb'].describe()"
   ]
  },
  {
   "cell_type": "markdown",
   "id": "4111361d",
   "metadata": {},
   "source": [
    "Как и отмечалось ранее - клиентам в среднем не хватает 15 Гб, входящих в абонентскую плату. Всего лишь 25% пользователей укладывается в этот лимит. \n",
    "Посмотрим число тех, кто не укладывается:"
   ]
  },
  {
   "cell_type": "code",
   "execution_count": 82,
   "id": "284837c9",
   "metadata": {},
   "outputs": [
    {
     "name": "stdout",
     "output_type": "stream",
     "text": [
      "Превышают лимит по Гб 1302\n",
      "Это составляет 58.41184387617766 % от общего количества клиентов тарифа \n"
     ]
    }
   ],
   "source": [
    "b=df_smart.query('sum_gb > 15')['sum_gb'].count()\n",
    "print(\"Превышают лимит по Гб\", b )\n",
    "#подсчет количества пользователей, превышающих лимит по Гб в тарифе smart\n",
    "print(\"Это составляет\", (b/2229*100), \"% от общего количества клиентов тарифа \")\n",
    "#вывод количества процентов таких клиентов от общего числа пользователей smart"
   ]
  },
  {
   "cell_type": "markdown",
   "id": "6fd4033d",
   "metadata": {},
   "source": [
    "Смотрим дисперсию и стандартное отклонение:"
   ]
  },
  {
   "cell_type": "code",
   "execution_count": 83,
   "id": "43792fab",
   "metadata": {},
   "outputs": [
    {
     "name": "stdout",
     "output_type": "stream",
     "text": [
      "Дисперсия -  33.055788597023245\n",
      "Стандартное отклонение -  5.749416370121688\n"
     ]
    }
   ],
   "source": [
    "variance=np.var(df_smart['sum_gb'], ddof=1)\n",
    "standard_deviation=np.std(df_smart['sum_gb'], ddof=1)\n",
    "print(\"Дисперсия - \",variance)\n",
    "print(\"Стандартное отклонение - \",standard_deviation)"
   ]
  },
  {
   "cell_type": "code",
   "execution_count": 84,
   "id": "160552ce",
   "metadata": {},
   "outputs": [
    {
     "data": {
      "image/png": "[encoded data removed]",
      "text/plain": [
       "<Figure size 432x288 with 1 Axes>"
      ]
     },
     "metadata": {
      "needs_background": "light"
     },
     "output_type": "display_data"
    }
   ],
   "source": [
    "df_smart['sum_gb'].hist(bins=20, grid=True)\n",
    "plt.xlabel(\"Количество Гб\")\n",
    "plt.ylabel(\"Частота\")\n",
    "plt.title(\"Анализ интернет-трафика тарифа smart\");"
   ]
  },
  {
   "cell_type": "markdown",
   "id": "4d8d7870",
   "metadata": {},
   "source": [
    "В целом оператор выгодно для себя установил порог в 15Гб, большинству пользователей приходится доплачивать за дополнительные Гб каждый месяц. \n",
    "\n",
    "Узнаем сколько дохода приносят оператору дополнительно купленные Гигибайты интернета:"
   ]
  },
  {
   "cell_type": "code",
   "execution_count": 85,
   "id": "71cfd66f",
   "metadata": {},
   "outputs": [
    {
     "name": "stdout",
     "output_type": "stream",
     "text": [
      "Выручка от дополнительных Гб 1332800\n"
     ]
    }
   ],
   "source": [
    "revenue_gb = (df_smart.query('sum_gb>15')['sum_gb'].sum() \n",
    "               - (df_smart.query('sum_gb>15')['sum_gb'].count())*15)*200\n",
    "print(\"Выручка от дополнительных Гб\", revenue_gb  )"
   ]
  },
  {
   "cell_type": "code",
   "execution_count": 86,
   "id": "00221955",
   "metadata": {},
   "outputs": [
    {
     "data": {
      "text/plain": [
       "46.346154448003325"
      ]
     },
     "execution_count": 86,
     "metadata": {},
     "output_type": "execute_result"
    }
   ],
   "source": [
    "(revenue_gb/df_smart['income'].sum())*100\n",
    "#расчет отношения дохода по выручке от дополнительных Гб к общему доходу от тарифа"
   ]
  },
  {
   "cell_type": "markdown",
   "id": "ac928c73",
   "metadata": {},
   "source": [
    "**46%** (почти половина!) всего дохода от тарифа приходится на дополнительно купленные пользователями гигабайты!"
   ]
  },
  {
   "cell_type": "markdown",
   "id": "46667705",
   "metadata": {},
   "source": [
    "### Анализ клиентов ultra"
   ]
  },
  {
   "cell_type": "code",
   "execution_count": 87,
   "id": "791eb449",
   "metadata": {},
   "outputs": [
    {
     "data": {
      "text/html": [
       "<div>\n",
       "<style scoped>\n",
       "    .dataframe tbody tr th:only-of-type {\n",
       "        vertical-align: middle;\n",
       "    }\n",
       "\n",
       "    .dataframe tbody tr th {\n",
       "        vertical-align: top;\n",
       "    }\n",
       "\n",
       "    .dataframe thead th {\n",
       "        text-align: right;\n",
       "    }\n",
       "</style>\n",
       "<table border=\"1\" class=\"dataframe\">\n",
       "  <thead>\n",
       "    <tr style=\"text-align: right;\">\n",
       "      <th></th>\n",
       "      <th>user_id</th>\n",
       "      <th>month</th>\n",
       "      <th>count_duration</th>\n",
       "      <th>sum_duration</th>\n",
       "      <th>count_message</th>\n",
       "      <th>sum_gb</th>\n",
       "      <th>city</th>\n",
       "      <th>tariff</th>\n",
       "      <th>income</th>\n",
       "    </tr>\n",
       "  </thead>\n",
       "  <tbody>\n",
       "    <tr>\n",
       "      <th>0</th>\n",
       "      <td>1000</td>\n",
       "      <td>5</td>\n",
       "      <td>22</td>\n",
       "      <td>159</td>\n",
       "      <td>22</td>\n",
       "      <td>3</td>\n",
       "      <td>Краснодар</td>\n",
       "      <td>ultra</td>\n",
       "      <td>1950</td>\n",
       "    </tr>\n",
       "    <tr>\n",
       "      <th>1</th>\n",
       "      <td>1000</td>\n",
       "      <td>6</td>\n",
       "      <td>43</td>\n",
       "      <td>172</td>\n",
       "      <td>60</td>\n",
       "      <td>23</td>\n",
       "      <td>Краснодар</td>\n",
       "      <td>ultra</td>\n",
       "      <td>1950</td>\n",
       "    </tr>\n",
       "    <tr>\n",
       "      <th>2</th>\n",
       "      <td>1000</td>\n",
       "      <td>7</td>\n",
       "      <td>47</td>\n",
       "      <td>340</td>\n",
       "      <td>75</td>\n",
       "      <td>14</td>\n",
       "      <td>Краснодар</td>\n",
       "      <td>ultra</td>\n",
       "      <td>1950</td>\n",
       "    </tr>\n",
       "    <tr>\n",
       "      <th>3</th>\n",
       "      <td>1000</td>\n",
       "      <td>8</td>\n",
       "      <td>52</td>\n",
       "      <td>408</td>\n",
       "      <td>81</td>\n",
       "      <td>14</td>\n",
       "      <td>Краснодар</td>\n",
       "      <td>ultra</td>\n",
       "      <td>1950</td>\n",
       "    </tr>\n",
       "    <tr>\n",
       "      <th>4</th>\n",
       "      <td>1000</td>\n",
       "      <td>9</td>\n",
       "      <td>58</td>\n",
       "      <td>466</td>\n",
       "      <td>57</td>\n",
       "      <td>15</td>\n",
       "      <td>Краснодар</td>\n",
       "      <td>ultra</td>\n",
       "      <td>1950</td>\n",
       "    </tr>\n",
       "    <tr>\n",
       "      <th>...</th>\n",
       "      <td>...</td>\n",
       "      <td>...</td>\n",
       "      <td>...</td>\n",
       "      <td>...</td>\n",
       "      <td>...</td>\n",
       "      <td>...</td>\n",
       "      <td>...</td>\n",
       "      <td>...</td>\n",
       "      <td>...</td>\n",
       "    </tr>\n",
       "    <tr>\n",
       "      <th>3204</th>\n",
       "      <td>1473</td>\n",
       "      <td>8</td>\n",
       "      <td>0</td>\n",
       "      <td>0</td>\n",
       "      <td>17</td>\n",
       "      <td>13</td>\n",
       "      <td>Красноярск</td>\n",
       "      <td>ultra</td>\n",
       "      <td>1950</td>\n",
       "    </tr>\n",
       "    <tr>\n",
       "      <th>3205</th>\n",
       "      <td>1473</td>\n",
       "      <td>9</td>\n",
       "      <td>0</td>\n",
       "      <td>0</td>\n",
       "      <td>19</td>\n",
       "      <td>17</td>\n",
       "      <td>Красноярск</td>\n",
       "      <td>ultra</td>\n",
       "      <td>1950</td>\n",
       "    </tr>\n",
       "    <tr>\n",
       "      <th>3206</th>\n",
       "      <td>1473</td>\n",
       "      <td>10</td>\n",
       "      <td>0</td>\n",
       "      <td>0</td>\n",
       "      <td>20</td>\n",
       "      <td>14</td>\n",
       "      <td>Красноярск</td>\n",
       "      <td>ultra</td>\n",
       "      <td>1950</td>\n",
       "    </tr>\n",
       "    <tr>\n",
       "      <th>3207</th>\n",
       "      <td>1473</td>\n",
       "      <td>11</td>\n",
       "      <td>0</td>\n",
       "      <td>0</td>\n",
       "      <td>14</td>\n",
       "      <td>22</td>\n",
       "      <td>Красноярск</td>\n",
       "      <td>ultra</td>\n",
       "      <td>1950</td>\n",
       "    </tr>\n",
       "    <tr>\n",
       "      <th>3208</th>\n",
       "      <td>1473</td>\n",
       "      <td>12</td>\n",
       "      <td>0</td>\n",
       "      <td>0</td>\n",
       "      <td>20</td>\n",
       "      <td>18</td>\n",
       "      <td>Красноярск</td>\n",
       "      <td>ultra</td>\n",
       "      <td>1950</td>\n",
       "    </tr>\n",
       "  </tbody>\n",
       "</table>\n",
       "<p>985 rows × 9 columns</p>\n",
       "</div>"
      ],
      "text/plain": [
       "      user_id  month  count_duration  sum_duration  count_message  sum_gb  \\\n",
       "0        1000      5              22           159             22       3   \n",
       "1        1000      6              43           172             60      23   \n",
       "2        1000      7              47           340             75      14   \n",
       "3        1000      8              52           408             81      14   \n",
       "4        1000      9              58           466             57      15   \n",
       "...       ...    ...             ...           ...            ...     ...   \n",
       "3204     1473      8               0             0             17      13   \n",
       "3205     1473      9               0             0             19      17   \n",
       "3206     1473     10               0             0             20      14   \n",
       "3207     1473     11               0             0             14      22   \n",
       "3208     1473     12               0             0             20      18   \n",
       "\n",
       "            city tariff  income  \n",
       "0      Краснодар  ultra    1950  \n",
       "1      Краснодар  ultra    1950  \n",
       "2      Краснодар  ultra    1950  \n",
       "3      Краснодар  ultra    1950  \n",
       "4      Краснодар  ultra    1950  \n",
       "...          ...    ...     ...  \n",
       "3204  Красноярск  ultra    1950  \n",
       "3205  Красноярск  ultra    1950  \n",
       "3206  Красноярск  ultra    1950  \n",
       "3207  Красноярск  ultra    1950  \n",
       "3208  Красноярск  ultra    1950  \n",
       "\n",
       "[985 rows x 9 columns]"
      ]
     },
     "execution_count": 87,
     "metadata": {},
     "output_type": "execute_result"
    }
   ],
   "source": [
    "df_ultra\n",
    "#просмотр датафрейма"
   ]
  },
  {
   "cell_type": "code",
   "execution_count": 88,
   "id": "824c7ca3",
   "metadata": {},
   "outputs": [
    {
     "data": {
      "text/html": [
       "<div>\n",
       "<style scoped>\n",
       "    .dataframe tbody tr th:only-of-type {\n",
       "        vertical-align: middle;\n",
       "    }\n",
       "\n",
       "    .dataframe tbody tr th {\n",
       "        vertical-align: top;\n",
       "    }\n",
       "\n",
       "    .dataframe thead th {\n",
       "        text-align: right;\n",
       "    }\n",
       "</style>\n",
       "<table border=\"1\" class=\"dataframe\">\n",
       "  <thead>\n",
       "    <tr style=\"text-align: right;\">\n",
       "      <th></th>\n",
       "      <th>user_id</th>\n",
       "      <th>month</th>\n",
       "      <th>count_duration</th>\n",
       "      <th>sum_duration</th>\n",
       "      <th>count_message</th>\n",
       "      <th>sum_gb</th>\n",
       "      <th>income</th>\n",
       "    </tr>\n",
       "  </thead>\n",
       "  <tbody>\n",
       "    <tr>\n",
       "      <th>count</th>\n",
       "      <td>985.000000</td>\n",
       "      <td>985.000000</td>\n",
       "      <td>985.000000</td>\n",
       "      <td>985.000000</td>\n",
       "      <td>985.000000</td>\n",
       "      <td>985.000000</td>\n",
       "      <td>985.000000</td>\n",
       "    </tr>\n",
       "    <tr>\n",
       "      <th>mean</th>\n",
       "      <td>1263.094416</td>\n",
       "      <td>8.250761</td>\n",
       "      <td>73.392893</td>\n",
       "      <td>526.623350</td>\n",
       "      <td>49.363452</td>\n",
       "      <td>19.497462</td>\n",
       "      <td>2070.304569</td>\n",
       "    </tr>\n",
       "    <tr>\n",
       "      <th>std</th>\n",
       "      <td>140.694908</td>\n",
       "      <td>2.871762</td>\n",
       "      <td>43.916853</td>\n",
       "      <td>317.606098</td>\n",
       "      <td>47.804457</td>\n",
       "      <td>9.855884</td>\n",
       "      <td>376.654762</td>\n",
       "    </tr>\n",
       "    <tr>\n",
       "      <th>min</th>\n",
       "      <td>1000.000000</td>\n",
       "      <td>1.000000</td>\n",
       "      <td>0.000000</td>\n",
       "      <td>0.000000</td>\n",
       "      <td>0.000000</td>\n",
       "      <td>0.000000</td>\n",
       "      <td>1950.000000</td>\n",
       "    </tr>\n",
       "    <tr>\n",
       "      <th>25%</th>\n",
       "      <td>1143.000000</td>\n",
       "      <td>6.000000</td>\n",
       "      <td>41.000000</td>\n",
       "      <td>284.000000</td>\n",
       "      <td>6.000000</td>\n",
       "      <td>12.000000</td>\n",
       "      <td>1950.000000</td>\n",
       "    </tr>\n",
       "    <tr>\n",
       "      <th>50%</th>\n",
       "      <td>1277.000000</td>\n",
       "      <td>9.000000</td>\n",
       "      <td>74.000000</td>\n",
       "      <td>518.000000</td>\n",
       "      <td>38.000000</td>\n",
       "      <td>19.000000</td>\n",
       "      <td>1950.000000</td>\n",
       "    </tr>\n",
       "    <tr>\n",
       "      <th>75%</th>\n",
       "      <td>1381.000000</td>\n",
       "      <td>11.000000</td>\n",
       "      <td>104.000000</td>\n",
       "      <td>752.000000</td>\n",
       "      <td>79.000000</td>\n",
       "      <td>27.000000</td>\n",
       "      <td>1950.000000</td>\n",
       "    </tr>\n",
       "    <tr>\n",
       "      <th>max</th>\n",
       "      <td>1495.000000</td>\n",
       "      <td>12.000000</td>\n",
       "      <td>244.000000</td>\n",
       "      <td>1673.000000</td>\n",
       "      <td>224.000000</td>\n",
       "      <td>49.000000</td>\n",
       "      <td>4800.000000</td>\n",
       "    </tr>\n",
       "  </tbody>\n",
       "</table>\n",
       "</div>"
      ],
      "text/plain": [
       "           user_id       month  count_duration  sum_duration  count_message  \\\n",
       "count   985.000000  985.000000      985.000000    985.000000     985.000000   \n",
       "mean   1263.094416    8.250761       73.392893    526.623350      49.363452   \n",
       "std     140.694908    2.871762       43.916853    317.606098      47.804457   \n",
       "min    1000.000000    1.000000        0.000000      0.000000       0.000000   \n",
       "25%    1143.000000    6.000000       41.000000    284.000000       6.000000   \n",
       "50%    1277.000000    9.000000       74.000000    518.000000      38.000000   \n",
       "75%    1381.000000   11.000000      104.000000    752.000000      79.000000   \n",
       "max    1495.000000   12.000000      244.000000   1673.000000     224.000000   \n",
       "\n",
       "           sum_gb       income  \n",
       "count  985.000000   985.000000  \n",
       "mean    19.497462  2070.304569  \n",
       "std      9.855884   376.654762  \n",
       "min      0.000000  1950.000000  \n",
       "25%     12.000000  1950.000000  \n",
       "50%     19.000000  1950.000000  \n",
       "75%     27.000000  1950.000000  \n",
       "max     49.000000  4800.000000  "
      ]
     },
     "execution_count": 88,
     "metadata": {},
     "output_type": "execute_result"
    }
   ],
   "source": [
    "df_ultra.describe()"
   ]
  },
  {
   "cell_type": "markdown",
   "id": "90d58ea4",
   "metadata": {},
   "source": [
    "#### Анализ минут ultra"
   ]
  },
  {
   "cell_type": "code",
   "execution_count": 89,
   "id": "105777e5",
   "metadata": {},
   "outputs": [
    {
     "data": {
      "text/plain": [
       "count     985.000000\n",
       "mean      526.623350\n",
       "std       317.606098\n",
       "min         0.000000\n",
       "25%       284.000000\n",
       "50%       518.000000\n",
       "75%       752.000000\n",
       "max      1673.000000\n",
       "Name: sum_duration, dtype: float64"
      ]
     },
     "execution_count": 89,
     "metadata": {},
     "output_type": "execute_result"
    }
   ],
   "source": [
    "df_ultra['sum_duration'].describe()"
   ]
  },
  {
   "cell_type": "markdown",
   "id": "240374fd",
   "metadata": {},
   "source": [
    "Видим, что никто из пользователей не выходит за границу в 3000 мин, которые заложены в тариф.\n",
    "В среднем - 526 мин в месяц расходуют клиенты.\n",
    "Посчитаем дисперсию и стандартное отклонение:"
   ]
  },
  {
   "cell_type": "code",
   "execution_count": 90,
   "id": "c33ff12e",
   "metadata": {},
   "outputs": [
    {
     "name": "stdout",
     "output_type": "stream",
     "text": [
      "Дисперсия -  100873.63339730098\n",
      "Стандартное отклонение -  317.6060978591264\n"
     ]
    }
   ],
   "source": [
    "variance=np.var(df_ultra['sum_duration'], ddof=1)\n",
    "standard_deviation=np.std(df_ultra['sum_duration'], ddof=1)\n",
    "print(\"Дисперсия - \",variance)\n",
    "print(\"Стандартное отклонение - \",standard_deviation)"
   ]
  },
  {
   "cell_type": "code",
   "execution_count": 91,
   "id": "bf57db47",
   "metadata": {},
   "outputs": [
    {
     "data": {
      "image/png": "[encoded data removed]",
      "text/plain": [
       "<Figure size 432x288 with 1 Axes>"
      ]
     },
     "metadata": {
      "needs_background": "light"
     },
     "output_type": "display_data"
    }
   ],
   "source": [
    "df_ultra['sum_duration'].hist(bins=40, grid=True)\n",
    "plt.xlabel(\"Минуты\")\n",
    "plt.ylabel(\"Частота\")\n",
    "plt.title(\"Анализ минут тарифа ultra\");"
   ]
  },
  {
   "cell_type": "markdown",
   "id": "17b26821",
   "metadata": {},
   "source": [
    "Распределение скошено влево.\n",
    "\n",
    "25% пользователей тарифа используют до 284 (это 9,5% от входящих в абонентсткую плату) минут из 3000 в месяц. Все минуты израсходовать не удалось никому. Это снова объясняет реальность - интернет заменяет мобильную связь, а также у многих операторов минуты при звонке на тот же оператор не списываются."
   ]
  },
  {
   "cell_type": "markdown",
   "id": "630ad1f9",
   "metadata": {},
   "source": [
    "#### Анализ смс ultra"
   ]
  },
  {
   "cell_type": "code",
   "execution_count": 92,
   "id": "2fbf6b0a",
   "metadata": {},
   "outputs": [
    {
     "data": {
      "text/plain": [
       "count    985.000000\n",
       "mean      49.363452\n",
       "std       47.804457\n",
       "min        0.000000\n",
       "25%        6.000000\n",
       "50%       38.000000\n",
       "75%       79.000000\n",
       "max      224.000000\n",
       "Name: count_message, dtype: float64"
      ]
     },
     "execution_count": 92,
     "metadata": {},
     "output_type": "execute_result"
    }
   ],
   "source": [
    "df_ultra['count_message'].describe()"
   ]
  },
  {
   "cell_type": "markdown",
   "id": "cffd28ab",
   "metadata": {},
   "source": [
    "По тарифу предоставляется 1000 смс в месяц. Этот лимит не преодолел никто из пользователей."
   ]
  },
  {
   "cell_type": "code",
   "execution_count": 93,
   "id": "78a8dd06",
   "metadata": {},
   "outputs": [
    {
     "name": "stdout",
     "output_type": "stream",
     "text": [
      "Дисперсия -  2285.2661425446736\n",
      "Стандартное отклонение -  47.804457350174715\n"
     ]
    }
   ],
   "source": [
    "variance=np.var(df_ultra['count_message'], ddof=1)\n",
    "standard_deviation=np.std(df_ultra['count_message'], ddof=1)\n",
    "print(\"Дисперсия - \",variance)\n",
    "print(\"Стандартное отклонение - \",standard_deviation)"
   ]
  },
  {
   "cell_type": "code",
   "execution_count": 94,
   "id": "ca490ee9",
   "metadata": {},
   "outputs": [
    {
     "data": {
      "image/png": "[encoded data removed]",
      "text/plain": [
       "<Figure size 432x288 with 1 Axes>"
      ]
     },
     "metadata": {
      "needs_background": "light"
     },
     "output_type": "display_data"
    }
   ],
   "source": [
    "df_ultra['count_message'].hist(bins=30, grid=True)\n",
    "plt.xlabel(\"Количество смс\")\n",
    "plt.ylabel(\"Частота\")\n",
    "plt.title(\"Анализ смс тарифа ultra\");"
   ]
  },
  {
   "cell_type": "markdown",
   "id": "8bb00f5a",
   "metadata": {},
   "source": [
    "В тарифе ultra картина схожа с тариформ smart в общем плане: клиенты пишут мало смс, что объясняется наличием интернета, мессенджеров и тд. Максимальное количество отправленных сообщений - 224. "
   ]
  },
  {
   "cell_type": "markdown",
   "id": "a62895d4",
   "metadata": {},
   "source": [
    "#### Анализ веб-трафика ultra"
   ]
  },
  {
   "cell_type": "code",
   "execution_count": 95,
   "id": "872538e3",
   "metadata": {},
   "outputs": [
    {
     "data": {
      "text/plain": [
       "count    985.000000\n",
       "mean      19.497462\n",
       "std        9.855884\n",
       "min        0.000000\n",
       "25%       12.000000\n",
       "50%       19.000000\n",
       "75%       27.000000\n",
       "max       49.000000\n",
       "Name: sum_gb, dtype: float64"
      ]
     },
     "execution_count": 95,
     "metadata": {},
     "output_type": "execute_result"
    }
   ],
   "source": [
    "df_ultra['sum_gb'].describe()\n",
    "#смотрим основные статистические характеристики"
   ]
  },
  {
   "cell_type": "markdown",
   "id": "22e08ffa",
   "metadata": {},
   "source": [
    "В среднем клиенты укладываются в 30 Гб в месяц: среднее количество потраченного интернета - 19,5 Гб. Есть пользователи, которые превысили лимит. Посмотрим, сколько их:"
   ]
  },
  {
   "cell_type": "code",
   "execution_count": 96,
   "id": "329fa850",
   "metadata": {},
   "outputs": [
    {
     "name": "stdout",
     "output_type": "stream",
     "text": [
      "Превышают лимит по Гб 134\n",
      "Это составляет 13.604060913705585 % от общего количества клиентов тарифа \n"
     ]
    }
   ],
   "source": [
    "s=df_ultra.query('sum_gb > 30')['sum_gb'].count()\n",
    "print(\"Превышают лимит по Гб\", s )\n",
    "#подсчет количества пользователей, превышающих лимит по Гб в тарифе smart\n",
    "print(\"Это составляет\", (s/985*100), \"% от общего количества клиентов тарифа \")\n",
    "#вывод количества процентов таких клиентов от общего числа пользователей smart"
   ]
  },
  {
   "cell_type": "markdown",
   "id": "761381ab",
   "metadata": {},
   "source": [
    "Смотрим дисперсию и стандартное отклонение:"
   ]
  },
  {
   "cell_type": "code",
   "execution_count": 97,
   "id": "99bc1a7b",
   "metadata": {},
   "outputs": [
    {
     "name": "stdout",
     "output_type": "stream",
     "text": [
      "Дисперсия -  97.1384589988032\n",
      "Стандартное отклонение -  9.855884485869506\n"
     ]
    }
   ],
   "source": [
    "variance=np.var(df_ultra['sum_gb'], ddof=1)\n",
    "standard_deviation=np.std(df_ultra['sum_gb'], ddof=1)\n",
    "print(\"Дисперсия - \",variance)\n",
    "print(\"Стандартное отклонение - \",standard_deviation)"
   ]
  },
  {
   "cell_type": "markdown",
   "id": "7bc7f2f2",
   "metadata": {},
   "source": [
    "Строим гистограмму - смотрим распределение значений"
   ]
  },
  {
   "cell_type": "code",
   "execution_count": 98,
   "id": "617682fc",
   "metadata": {},
   "outputs": [
    {
     "data": {
      "image/png": "[encoded data removed]",
      "text/plain": [
       "<Figure size 432x288 with 1 Axes>"
      ]
     },
     "metadata": {
      "needs_background": "light"
     },
     "output_type": "display_data"
    }
   ],
   "source": [
    "df_ultra['sum_gb'].hist(bins=20, grid=True)\n",
    "plt.xlabel(\"Количество Гб\")\n",
    "plt.ylabel(\"Частота\")\n",
    "plt.title(\"Анализ интернет-трафика тарифа ultra\");"
   ]
  },
  {
   "cell_type": "markdown",
   "id": "bd83644c",
   "metadata": {},
   "source": [
    "Считаем выручку от дополнительно купленных Гб:"
   ]
  },
  {
   "cell_type": "code",
   "execution_count": 99,
   "id": "e6652499",
   "metadata": {},
   "outputs": [
    {
     "name": "stdout",
     "output_type": "stream",
     "text": [
      "Выручка от дополнительных Гб 118500\n"
     ]
    }
   ],
   "source": [
    "revenue_gb = (df_ultra.query('sum_gb>30')['sum_gb'].sum() \n",
    "               - (df_ultra.query('sum_gb>30')['sum_gb'].count())*30)*150\n",
    "print(\"Выручка от дополнительных Гб\", revenue_gb  )"
   ]
  },
  {
   "cell_type": "code",
   "execution_count": 100,
   "id": "7cfeb6a7",
   "metadata": {},
   "outputs": [
    {
     "data": {
      "text/plain": [
       "5.810959911732255"
      ]
     },
     "execution_count": 100,
     "metadata": {},
     "output_type": "execute_result"
    }
   ],
   "source": [
    "(revenue_gb/df_ultra['income'].sum())*100\n",
    "#расчет отношения дохода по выручке от дополнительных Гб к общему доходу от тарифа"
   ]
  },
  {
   "cell_type": "markdown",
   "id": "7f79619e",
   "metadata": {},
   "source": [
    "Итак, получается, что в основном пользователям хватает 30 Гб в месяц, но некоторым клиентам всё же приходится докупать дополнительные Гб."
   ]
  },
  {
   "cell_type": "markdown",
   "id": "ca9a956b",
   "metadata": {},
   "source": [
    "### Анализ выручки тарифов"
   ]
  },
  {
   "cell_type": "markdown",
   "id": "959a1621",
   "metadata": {},
   "source": [
    "В начале пункта 4.1 рассчитали выручку по каждому из тарифов. \n",
    "Результаты:\n",
    "выручка по тарифу smart равна 2874351, по тарифу ultra -  2039100. Посмотрим на графики распределения выручек. Для наглядности построим гистограммы на одном графике."
   ]
  },
  {
   "cell_type": "code",
   "execution_count": 101,
   "id": "ef8bedb0",
   "metadata": {},
   "outputs": [
    {
     "data": {
      "image/png": "[encoded data removed]",
      "text/plain": [
       "<Figure size 432x288 with 1 Axes>"
      ]
     },
     "metadata": {
      "needs_background": "light"
     },
     "output_type": "display_data"
    }
   ],
   "source": [
    "df_ultra['income'].hist(bins=20, grid=True, alpha=0.9, legend=True)\n",
    "df_smart['income'].hist(bins=50, grid=True, alpha=0.4, legend=True)\n",
    "plt.xlabel(\"Выручка в руб\")\n",
    "plt.ylabel(\"Частота\")\n",
    "plt.title(\"Анализ выручки тарифов\")\n",
    "plt.show()"
   ]
  },
  {
   "cell_type": "markdown",
   "id": "17161fbc",
   "metadata": {},
   "source": [
    "Гистограмма показывает, что в тарифе `ultra` основная часть пользователей не превышает ежемесячную плату по тарифу, а вот в `smart` - наоборот, пользователи чаще прибегают к дополнительным пакетам услуг и плата за месяц превышает абонентскую. \n",
    "Посмотрим на цифровые значения переплат и отношение дополнительной выручке от тарифов к общей выручке по тарифам:"
   ]
  },
  {
   "cell_type": "markdown",
   "id": "bca99b25",
   "metadata": {},
   "source": [
    "Посчитаем выручку, которую получает оператор от покупки клиентами дополнительных Гб, минут и сообщений:"
   ]
  },
  {
   "cell_type": "code",
   "execution_count": 102,
   "id": "d019d6d4",
   "metadata": {},
   "outputs": [
    {
     "name": "stdout",
     "output_type": "stream",
     "text": [
      "Выручка от превышения лимитов пользователями по smart 1649801\n",
      "Выручка от превышения лимитов пользователями по ultra 118500\n"
     ]
    }
   ],
   "source": [
    "additional_income_smart = df_smart['income'].sum() - df_smart['tariff'].count()*550\n",
    "additional_income_ultra = df_ultra['income'].sum() - df_ultra['tariff'].count()*1950\n",
    "print(\"Выручка от превышения лимитов пользователями по smart\", additional_income_smart)\n",
    "print(\"Выручка от превышения лимитов пользователями по ultra\", additional_income_ultra)"
   ]
  },
  {
   "cell_type": "markdown",
   "id": "89c42877",
   "metadata": {},
   "source": [
    "Посчитаем какой процент от общей выручки приходится на дополнительный доход от докупаемых опций:"
   ]
  },
  {
   "cell_type": "code",
   "execution_count": 103,
   "id": "4e93cd9b",
   "metadata": {},
   "outputs": [
    {
     "name": "stdout",
     "output_type": "stream",
     "text": [
      "Дополнительный доход smart 0.5736939672454257\n",
      "Дополнительный доход ultra 0.058109599117322545\n"
     ]
    }
   ],
   "source": [
    "print(\"Дополнительный доход smart\", additional_income_smart/df_smart['income'].sum())\n",
    "print(\"Дополнительный доход ultra\", additional_income_ultra/df_ultra['income'].sum())"
   ]
  },
  {
   "cell_type": "markdown",
   "id": "4de1b864",
   "metadata": {},
   "source": [
    "### Вывод"
   ]
  },
  {
   "cell_type": "markdown",
   "id": "fa3957cb",
   "metadata": {},
   "source": [
    "<div style=\"border:solid blue 2px; padding: 20px\">\n",
    "Мы провели анализ тарифов smart и ultra. В итоге исследований можно сказать следующее:\n",
    "\n",
    "`Тариф smart`:\n",
    "- пользователям не хватает 500 минут, входящих в ежемесячную абонентскую плату, приходится докупать дополнительные минуты, что конечно выгодно для оператора. Дополнительно приобретенные минуты приносят оператору почти 10% от всего дохода по тарифу smart;   \n",
    "- смс сообщений в основном хватает. Некоторые превышают лимит, но таких не много. На дополнительно приобретенные смс приходится 1.35% от общего дохода по тарифу;\n",
    "- интернет ограничен 15 Гб, этого количества не хватает клиентам, они вынуждены докупать гигабайты интернета, тем самым обеспечивая оператору 46% от общего дохода по тарифу!\n",
    "\n",
    "`Тариф ultra`:\n",
    "- 3000 минут и 1000 смс сообщений в месяц, входящие в абонентскую плату, хватает пользователям. Тут они не превышают эти цифры и, соответственно, не прибегают к покупке дополнительных смс и минут;\n",
    "- интернета предоставляется достаточно - 30Гб в месяц, что в основном удовлетворяет потребностям пользователей, но все же около 6% от всей выручки по тарифу приходится как раз на дополнительно купленные Гб.\n",
    "    \n",
    "`Анализ выручки тарифов` показал, что дополнительных доход оператора по `smart` составляет 57% от всей выручки по тарифу, а по `ultra` всего 5,8. То есть можно сделать вывод, что продавать `smart` оператору выгоднее."
   ]
  },
  {
   "cell_type": "markdown",
   "id": "99833ab5",
   "metadata": {},
   "source": [
    "## Проверка гипотез"
   ]
  },
  {
   "cell_type": "markdown",
   "id": "208a5db1",
   "metadata": {},
   "source": [
    "### Гипотеза 1: средняя выручка пользователей тарифов «Ультра» и «Смарт» различаются"
   ]
  },
  {
   "cell_type": "markdown",
   "id": "4edf8c92",
   "metadata": {},
   "source": [
    "Средние выручки в тарифах:"
   ]
  },
  {
   "cell_type": "code",
   "execution_count": 104,
   "id": "176a8547",
   "metadata": {},
   "outputs": [
    {
     "name": "stdout",
     "output_type": "stream",
     "text": [
      "Средняя выручка тарифа smart = 1290.152983400628\n",
      "Средняя выручка тарифа ultra = 2070.304568527919\n"
     ]
    }
   ],
   "source": [
    "print('Средняя выручка тарифа smart =', df_smart['income'].mean())\n",
    "print('Средняя выручка тарифа ultra =', df_ultra['income'].mean())"
   ]
  },
  {
   "cell_type": "markdown",
   "id": "90c74c63",
   "metadata": {},
   "source": [
    "Пусть нулевая гипотеза `H0 = средняя выручка пользователей тарифов «Ультра» и «Смарт» равны`\n",
    "Тогда альтернативная гипотеза `H1 = средняя выручка пользователей тарифов «Ультра» и «Смарт» различаются`\n",
    "`Проверим гипотезу c помощью гипотезы о равенстве средних двух генеральных совокупностей`:"
   ]
  },
  {
   "cell_type": "code",
   "execution_count": 105,
   "id": "a5ac76b9",
   "metadata": {},
   "outputs": [
    {
     "name": "stdout",
     "output_type": "stream",
     "text": [
      "p-значение: 8.068011257193515e-250\n",
      "Отвергаем нулевую гипотезу\n"
     ]
    }
   ],
   "source": [
    "# критический уровень статистической значимости\n",
    "# если p-value окажется меньше него - отвергнем гипотезу\n",
    "alpha = 0.05\n",
    "\n",
    "results = st.ttest_ind(df_ultra['income'], df_smart['income'], equal_var = False)\n",
    "\n",
    "print('p-значение:', results.pvalue)\n",
    "\n",
    "if results.pvalue < alpha:\n",
    "    print('Отвергаем нулевую гипотезу')\n",
    "else:\n",
    "    print('Не получилось отвергнуть нулевую гипотезу') "
   ]
  },
  {
   "cell_type": "markdown",
   "id": "972b612e",
   "metadata": {},
   "source": [
    " Получившееся `p-value` очень мало. Это говорит о том, что вероятность получить случайно равенство средних выручек очень мала, поэтому нулевая гипотеза отвергнута."
   ]
  },
  {
   "cell_type": "markdown",
   "id": "1647c48f",
   "metadata": {},
   "source": [
    "### Гипотеза 2: средняя выручка пользователей из Москвы отличается от выручки пользователей из других регионов"
   ]
  },
  {
   "cell_type": "markdown",
   "id": "39e2539f",
   "metadata": {},
   "source": [
    "Определимся с нулевой и альтернативной гипотезами:\n",
    "\n",
    "Пусть `H0 = средняя выручка пользователей из Москвы НЕ отличается от выручки пользователей из других регионов (то есть выручки равны)`\n",
    "\n",
    "Тогда альтернативная гипотеза будет звучать так: `H1 = средняя выручка пользователей из Москвы отличается от выручки пользователей из других регионов (то есть выручки не равны)`"
   ]
  },
  {
   "cell_type": "markdown",
   "id": "010775ba",
   "metadata": {},
   "source": [
    "Перед тем, как приступить к проверке гипотез, отфильтруем наш датафрейм `df` по столбцу `city`: создадим 2 новых датафрейма с пользователями из Москвы - `df_moscow` и с пользователями из других городов - `df_other_city`:"
   ]
  },
  {
   "cell_type": "code",
   "execution_count": 106,
   "id": "ff0ffbfb",
   "metadata": {},
   "outputs": [],
   "source": [
    "df_moscow = df.query('city == \"Москва\"')\n",
    "df_other_city = df.query('city != \"Москва\"')"
   ]
  },
  {
   "cell_type": "markdown",
   "id": "24cd99db",
   "metadata": {},
   "source": [
    "Посмотрим на средние выручки этих датафреймов:"
   ]
  },
  {
   "cell_type": "code",
   "execution_count": 107,
   "id": "72f52b9c",
   "metadata": {},
   "outputs": [
    {
     "data": {
      "text/plain": [
       "1546.0589198036007"
      ]
     },
     "execution_count": 107,
     "metadata": {},
     "output_type": "execute_result"
    }
   ],
   "source": [
    "df_moscow['income'].mean()\n",
    "#средняя выручка пользователей из Москвы"
   ]
  },
  {
   "cell_type": "code",
   "execution_count": 108,
   "id": "eb213167",
   "metadata": {},
   "outputs": [
    {
     "data": {
      "text/plain": [
       "1525.3011909335382"
      ]
     },
     "execution_count": 108,
     "metadata": {},
     "output_type": "execute_result"
    }
   ],
   "source": [
    "df_other_city['income'].mean()\n",
    "#средняя выручка пользователей не из Москвы"
   ]
  },
  {
   "cell_type": "markdown",
   "id": "2def9d6e",
   "metadata": {},
   "source": [
    "Проверка гипотезы:"
   ]
  },
  {
   "cell_type": "code",
   "execution_count": 109,
   "id": "8bfbb36c",
   "metadata": {},
   "outputs": [
    {
     "name": "stdout",
     "output_type": "stream",
     "text": [
      "p-значение: 0.5631565584408312\n",
      "Не получилось отвергнуть нулевую гипотезу\n"
     ]
    }
   ],
   "source": [
    "# критический уровень статистической значимости\n",
    "# если p-value окажется меньше него - отвергнем гипотезу\n",
    "alpha = 0.05\n",
    "\n",
    "results = st.ttest_ind(df_moscow['income'], df_other_city['income'])\n",
    "\n",
    "print('p-значение:', results.pvalue)\n",
    "\n",
    "if results.pvalue < alpha:\n",
    "    print('Отвергаем нулевую гипотезу')\n",
    "else:\n",
    "    print('Не получилось отвергнуть нулевую гипотезу') "
   ]
  },
  {
   "cell_type": "markdown",
   "id": "4de1fc7f",
   "metadata": {},
   "source": [
    "Полученное значение p-value говорит о том, что вероятность получить одинаковое среднее случайно почти 55%. Это явно слишком большая вероятность, чтобы делать вывод о значимом различии между средними выручками."
   ]
  },
  {
   "cell_type": "markdown",
   "id": "b205cd4b",
   "metadata": {},
   "source": [
    "### Вывод"
   ]
  },
  {
   "cell_type": "markdown",
   "id": "796eec68",
   "metadata": {},
   "source": [
    "<div style=\"border:solid blue 2px; padding: 20px\">\n",
    "В 5 пункте проверили 2 гипотезы:\n",
    "\n",
    "- о различии средней выручки пользователей тарифов «Ультра» и «Смарт» (получили очень маленькую вероятность равенства средних выручек);\n",
    "- о различии средней выручки пользователей из Москвы и пользователей из других регионов (получили высокое значение вероятности равенства выручек)."
   ]
  },
  {
   "cell_type": "markdown",
   "id": "620e7d90",
   "metadata": {},
   "source": [
    "## Общий вывод"
   ]
  },
  {
   "cell_type": "markdown",
   "id": "803d6460",
   "metadata": {},
   "source": [
    "<div style=\"border:solid blue 2px; padding: 20px\">\n",
    "В исследовании изучали данные о 2 тарифах «Мегалайн» — федерального оператора сотовой связи. \n",
    "\n",
    "`Тариф ultra`: абонентская плата в месяц - 1950 руб, в тариф входит 3000 мин, 1000 смс, 30 Гб интернета. В основном пользователи не выходят за рамки установленных лимитов, за исключением интернет-трафика: здесь 13% пользователей докупают дополнительные гигабайты. Средняя выручка в месяц по клиенту тарифа - 2070 руб, что не сильно превышает ежемесячную абонентскую плату.\n",
    "    \n",
    "`Тариф smart`: абонентская плата в месяц - 550 руб, в тариф входит 500 мин, 50 смс, 15 Гб интернета. Здесь картина отличается от тарифа ultra: в среднем абонентам приходится докупать дополнительно и минуты, и смс, и Гб интернета. Почти половина (46%) всего дохода от тарифа приходится на дополнительно купленные пользователями гигабайты. Средняя выручка в месяц по клиенту тарифа - 1289 руб, что в 2,34 раза больше ежемесячной платы.\n",
    "    \n",
    "Для оператора выгоднее подключать клиентов к тарифу `smart`, ведь он приносит больше дохода, поскольку пользователям не хватает входящих в тариф лимитов."
   ]
  }
 ],
 "metadata": {
  "ExecuteTimeLog": [
   {
    "duration": 482,
    "start_time": "2022-05-23T13:26:42.195Z"
   },
   {
    "duration": 50,
    "start_time": "2022-05-23T13:26:42.679Z"
   },
   {
    "duration": 18,
    "start_time": "2022-05-23T13:26:42.734Z"
   },
   {
    "duration": 23,
    "start_time": "2022-05-23T13:26:42.757Z"
   },
   {
    "duration": 193,
    "start_time": "2022-05-23T13:26:42.782Z"
   },
   {
    "duration": 8,
    "start_time": "2022-05-23T13:26:42.977Z"
   },
   {
    "duration": 45,
    "start_time": "2022-05-23T13:26:42.986Z"
   },
   {
    "duration": 100,
    "start_time": "2022-05-23T13:26:43.033Z"
   },
   {
    "duration": 7,
    "start_time": "2022-05-23T13:26:43.135Z"
   },
   {
    "duration": 19,
    "start_time": "2022-05-23T13:26:43.144Z"
   },
   {
    "duration": 166,
    "start_time": "2022-05-23T13:26:43.165Z"
   },
   {
    "duration": 8,
    "start_time": "2022-05-23T13:26:43.333Z"
   },
   {
    "duration": 51,
    "start_time": "2022-05-23T13:26:43.344Z"
   },
   {
    "duration": 35,
    "start_time": "2022-05-23T13:26:43.396Z"
   },
   {
    "duration": 11,
    "start_time": "2022-05-23T13:26:43.433Z"
   },
   {
    "duration": 47,
    "start_time": "2022-05-23T13:26:43.445Z"
   },
   {
    "duration": 42,
    "start_time": "2022-05-23T13:26:43.493Z"
   },
   {
    "duration": 28,
    "start_time": "2022-05-23T13:26:43.537Z"
   },
   {
    "duration": 28,
    "start_time": "2022-05-23T13:26:43.567Z"
   },
   {
    "duration": 46,
    "start_time": "2022-05-23T13:26:43.596Z"
   },
   {
    "duration": 24,
    "start_time": "2022-05-23T13:26:43.644Z"
   },
   {
    "duration": 34,
    "start_time": "2022-05-23T13:26:43.669Z"
   },
   {
    "duration": 125,
    "start_time": "2022-05-23T13:26:43.705Z"
   },
   {
    "duration": 37,
    "start_time": "2022-05-23T13:26:43.832Z"
   },
   {
    "duration": 3,
    "start_time": "2022-05-23T13:26:43.870Z"
   },
   {
    "duration": 45,
    "start_time": "2022-05-23T13:26:43.875Z"
   },
   {
    "duration": 10,
    "start_time": "2022-05-23T13:26:43.923Z"
   },
   {
    "duration": 11,
    "start_time": "2022-05-23T13:26:43.935Z"
   },
   {
    "duration": 28,
    "start_time": "2022-05-23T13:26:43.947Z"
   },
   {
    "duration": 16,
    "start_time": "2022-05-23T13:26:43.977Z"
   },
   {
    "duration": 16,
    "start_time": "2022-05-23T13:26:44.003Z"
   },
   {
    "duration": 58,
    "start_time": "2022-05-23T13:26:44.021Z"
   },
   {
    "duration": 37,
    "start_time": "2022-05-23T13:26:44.080Z"
   },
   {
    "duration": 50,
    "start_time": "2022-05-23T13:26:44.124Z"
   },
   {
    "duration": 18,
    "start_time": "2022-05-23T13:26:44.175Z"
   },
   {
    "duration": 59,
    "start_time": "2022-05-23T13:26:44.195Z"
   },
   {
    "duration": 16,
    "start_time": "2022-05-23T13:26:44.256Z"
   },
   {
    "duration": 21,
    "start_time": "2022-05-23T13:26:44.274Z"
   },
   {
    "duration": 50,
    "start_time": "2022-05-23T13:26:44.297Z"
   },
   {
    "duration": 12,
    "start_time": "2022-05-23T13:26:44.352Z"
   },
   {
    "duration": 103,
    "start_time": "2022-05-23T13:26:44.365Z"
   },
   {
    "duration": 28,
    "start_time": "2022-05-23T13:26:44.469Z"
   },
   {
    "duration": 22,
    "start_time": "2022-05-23T13:26:44.505Z"
   },
   {
    "duration": 22,
    "start_time": "2022-05-23T13:26:44.532Z"
   },
   {
    "duration": 20,
    "start_time": "2022-05-23T13:26:44.556Z"
   },
   {
    "duration": 57,
    "start_time": "2022-05-23T13:26:44.577Z"
   },
   {
    "duration": 8,
    "start_time": "2022-05-23T13:26:44.636Z"
   },
   {
    "duration": 27,
    "start_time": "2022-05-23T13:26:44.646Z"
   },
   {
    "duration": 19,
    "start_time": "2022-05-23T13:26:44.675Z"
   },
   {
    "duration": 33,
    "start_time": "2022-05-23T13:26:44.696Z"
   },
   {
    "duration": 26,
    "start_time": "2022-05-23T13:26:44.731Z"
   },
   {
    "duration": 22,
    "start_time": "2022-05-23T13:26:44.759Z"
   },
   {
    "duration": 15,
    "start_time": "2022-05-23T13:26:44.782Z"
   },
   {
    "duration": 57,
    "start_time": "2022-05-23T13:26:44.799Z"
   },
   {
    "duration": 12,
    "start_time": "2022-05-23T13:26:44.858Z"
   },
   {
    "duration": 25,
    "start_time": "2022-05-23T13:26:44.872Z"
   },
   {
    "duration": 37,
    "start_time": "2022-05-23T13:26:44.899Z"
   },
   {
    "duration": 26,
    "start_time": "2022-05-23T13:26:44.938Z"
   },
   {
    "duration": 27,
    "start_time": "2022-05-23T13:26:44.966Z"
   },
   {
    "duration": 44,
    "start_time": "2022-05-23T13:26:44.995Z"
   },
   {
    "duration": 24,
    "start_time": "2022-05-23T13:26:45.040Z"
   },
   {
    "duration": 22,
    "start_time": "2022-05-23T13:26:45.066Z"
   },
   {
    "duration": 74,
    "start_time": "2022-05-23T13:26:45.090Z"
   },
   {
    "duration": 9,
    "start_time": "2022-05-23T13:26:45.166Z"
   },
   {
    "duration": 24,
    "start_time": "2022-05-23T13:26:45.176Z"
   },
   {
    "duration": 45,
    "start_time": "2022-05-23T13:26:45.201Z"
   },
   {
    "duration": 15,
    "start_time": "2022-05-23T13:26:45.248Z"
   },
   {
    "duration": 19,
    "start_time": "2022-05-23T13:26:45.265Z"
   },
   {
    "duration": 39,
    "start_time": "2022-05-23T13:26:45.286Z"
   },
   {
    "duration": 16,
    "start_time": "2022-05-23T13:26:45.327Z"
   },
   {
    "duration": 12,
    "start_time": "2022-05-23T13:26:45.345Z"
   },
   {
    "duration": 506,
    "start_time": "2022-05-23T13:26:45.358Z"
   },
   {
    "duration": 8,
    "start_time": "2022-05-23T13:26:45.865Z"
   },
   {
    "duration": 17,
    "start_time": "2022-05-23T13:26:45.874Z"
   },
   {
    "duration": 22,
    "start_time": "2022-05-23T13:26:45.893Z"
   },
   {
    "duration": 30,
    "start_time": "2022-05-23T13:26:45.922Z"
   },
   {
    "duration": 167,
    "start_time": "2022-05-23T13:26:45.953Z"
   },
   {
    "duration": 16,
    "start_time": "2022-05-23T13:26:46.121Z"
   },
   {
    "duration": 26,
    "start_time": "2022-05-23T13:26:46.139Z"
   },
   {
    "duration": 11,
    "start_time": "2022-05-23T13:26:46.166Z"
   },
   {
    "duration": 53,
    "start_time": "2022-05-23T13:26:46.179Z"
   },
   {
    "duration": 14,
    "start_time": "2022-05-23T13:26:46.233Z"
   },
   {
    "duration": 23,
    "start_time": "2022-05-23T13:26:46.249Z"
   },
   {
    "duration": 200,
    "start_time": "2022-05-23T13:26:46.274Z"
   },
   {
    "duration": 8,
    "start_time": "2022-05-23T13:26:46.475Z"
   },
   {
    "duration": 46,
    "start_time": "2022-05-23T13:26:46.485Z"
   },
   {
    "duration": 19,
    "start_time": "2022-05-23T13:26:46.532Z"
   },
   {
    "duration": 47,
    "start_time": "2022-05-23T13:26:46.552Z"
   },
   {
    "duration": 18,
    "start_time": "2022-05-23T13:26:46.600Z"
   },
   {
    "duration": 28,
    "start_time": "2022-05-23T13:26:46.620Z"
   },
   {
    "duration": 220,
    "start_time": "2022-05-23T13:26:46.650Z"
   },
   {
    "duration": 9,
    "start_time": "2022-05-23T13:26:46.871Z"
   },
   {
    "duration": 30,
    "start_time": "2022-05-23T13:26:46.882Z"
   },
   {
    "duration": 175,
    "start_time": "2022-05-23T13:26:46.914Z"
   },
   {
    "duration": 21,
    "start_time": "2022-05-23T13:26:47.091Z"
   },
   {
    "duration": 26,
    "start_time": "2022-05-23T13:26:47.113Z"
   },
   {
    "duration": 6,
    "start_time": "2022-05-23T13:26:47.141Z"
   },
   {
    "duration": 218,
    "start_time": "2022-05-23T13:26:47.148Z"
   },
   {
    "duration": 8,
    "start_time": "2022-05-23T13:26:47.367Z"
   },
   {
    "duration": 12,
    "start_time": "2022-05-23T13:26:47.376Z"
   },
   {
    "duration": 14,
    "start_time": "2022-05-23T13:26:47.389Z"
   },
   {
    "duration": 486,
    "start_time": "2022-05-23T13:26:47.404Z"
   },
   {
    "duration": 21,
    "start_time": "2022-05-23T13:26:47.892Z"
   },
   {
    "duration": 14,
    "start_time": "2022-05-23T13:26:47.923Z"
   },
   {
    "duration": 5,
    "start_time": "2022-05-23T13:26:47.938Z"
   },
   {
    "duration": 10,
    "start_time": "2022-05-23T13:26:47.944Z"
   },
   {
    "duration": 9,
    "start_time": "2022-05-23T13:59:22.451Z"
   },
   {
    "duration": 10,
    "start_time": "2022-05-23T13:59:27.386Z"
   },
   {
    "duration": 144,
    "start_time": "2022-05-23T14:09:32.229Z"
   },
   {
    "duration": 144,
    "start_time": "2022-05-23T14:09:36.871Z"
   }
  ],
  "kernelspec": {
   "display_name": "Python 3 (ipykernel)",
   "language": "python",
   "name": "python3"
  },
  "language_info": {
   "codemirror_mode": {
    "name": "ipython",
    "version": 3
   },
   "file_extension": ".py",
   "mimetype": "text/x-python",
   "name": "python",
   "nbconvert_exporter": "python",
   "pygments_lexer": "ipython3",
   "version": "3.9.7"
  },
  "toc": {
   "base_numbering": 1,
   "nav_menu": {},
   "number_sections": true,
   "sideBar": true,
   "skip_h1_title": true,
   "title_cell": "Содержание",
   "title_sidebar": "Contents",
   "toc_cell": true,
   "toc_position": {
    "height": "calc(100% - 180px)",
    "left": "10px",
    "top": "150px",
    "width": "256px"
   },
   "toc_section_display": true,
   "toc_window_display": true
  }
 },
 "nbformat": 4,
 "nbformat_minor": 5
}
